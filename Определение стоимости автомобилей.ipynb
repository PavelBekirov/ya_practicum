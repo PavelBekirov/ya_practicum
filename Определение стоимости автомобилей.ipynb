{
 "cells": [
  {
   "cell_type": "markdown",
   "metadata": {},
   "source": [
    "<font color='blue' size=5><b>Комментарий ревьюера</b></font>\n",
    "\n",
    "<font color='blue'>Привет, Павел! Меня зовут Павел Григорьев, и я буду проверять этот проект.<br>Моя основная цель - не указать на совершённые тобой ошибки, а поделиться своим опытом и помочь тебе совершенствоваться как профессионалу.<br>Спасибо за проделанную работу! Предлагаю общаться на «ты».</font>\n",
    "<details>\n",
    "\t<summary><u>Инструкция по организационным мометнам (кликабельно)</u></summary>\n",
    "<font color='blue'>Я буду использовать различные цвета, чтобы было удобнее воспринимать мои комментарии:</font>\n",
    "\n",
    "\n",
    "---\n",
    "\n",
    "\n",
    "<font color='blue'>синий текст - просто текст комментария</font>\n",
    "\n",
    "<font color='green'>✔️ и зеленый текст - все отлично</font>\n",
    "\n",
    "<font color='orange'>⚠️ и оранжевый текст - сделано все правильно, однако есть рекомендации, на что стоит обратить внимание</font>\n",
    "\n",
    "<font color='red'>❌ и красный текст - есть недочеты</font>\n",
    "\n",
    "\n",
    "</details>    \n",
    "    </br>\n",
    "<font color='blue'>Пожалуйста, не удаляй мои комментарии в случае возврата работы, так будет проще разобраться, какие были недочеты, а также сразу увидеть исправленное. </font>\n",
    "\n",
    "Ответы на мои комментарии лучше тоже помечать.\n",
    "Например: <font color='purple'><b>Комментарий студента</b></font>\n",
    "\n",
    "<font color='blue'><b>Давай смотреть, что получилось!</b></font>\n"
   ]
  },
  {
   "cell_type": "markdown",
   "metadata": {},
   "source": [
    "<font color='blue' size=3><b>Комментарий ревьюера 2</b></font>\n",
    "\n",
    "<font color='blue'>Привет еще раз. Спасибо, за исправления. Оформление комментариев по работе сохраняется. Только обозначим, что это вторая итерация.</font>"
   ]
  },
  {
   "cell_type": "markdown",
   "metadata": {},
   "source": [
    "# Определение стоимости автомобилей"
   ]
  },
  {
   "cell_type": "markdown",
   "metadata": {},
   "source": [
    "Сервис по продаже автомобилей с пробегом «Не бит, не крашен» разрабатывает приложение для привлечения новых клиентов. В нём можно быстро узнать рыночную стоимость своего автомобиля. В вашем распоряжении исторические данные: технические характеристики, комплектации и цены автомобилей. Вам нужно построить модель для определения стоимости.\n",
    "\n",
    "Заказчику важны:\n",
    "\n",
    "- качество предсказания;\n",
    "- скорость предсказания;\n",
    "- время обучения."
   ]
  },
  {
   "cell_type": "markdown",
   "metadata": {},
   "source": [
    "Иморт библиотек:"
   ]
  },
  {
   "cell_type": "code",
   "execution_count": 1,
   "metadata": {},
   "outputs": [],
   "source": [
    "import matplotlib.pyplot as plt\n",
    "import seaborn as sns\n",
    "import pandas as pd\n",
    "import numpy as np\n",
    "import lightgbm as lgb\n",
    "import time\n",
    "from sklearn.model_selection import (\n",
    "    GridSearchCV,\n",
    "    RandomizedSearchCV\n",
    ")\n",
    "from catboost import CatBoostRegressor\n",
    "from sklearn.model_selection import train_test_split\n",
    "from sklearn.preprocessing import OneHotEncoder\n",
    "from sklearn.preprocessing import OrdinalEncoder\n",
    "from sklearn.model_selection import RepeatedStratifiedKFold\n",
    "from sklearn.metrics import mean_squared_error\n",
    "RANDOM_STATE = 12345\n",
    "import warnings\n",
    "warnings.filterwarnings('ignore')\n",
    "from sklearn.ensemble import RandomForestRegressor\n",
    "from sklearn.model_selection import GridSearchCV\n",
    "from sklearn.preprocessing import StandardScaler\n",
    "from sklearn.metrics import mean_squared_error"
   ]
  },
  {
   "cell_type": "markdown",
   "metadata": {},
   "source": [
    "<font color='blue'><b>Комментарий ревьюера: </b></font> ✔️\\\n",
    "<font color='green'> Хорошее оформление импортов! \\\n",
    "Импорты собраны в одной ячейке, разделены на функциональные группы пустой строкой.</font>"
   ]
  },
  {
   "cell_type": "markdown",
   "metadata": {},
   "source": [
    "Напишем класс для оценки таймингов"
   ]
  },
  {
   "cell_type": "code",
   "execution_count": 2,
   "metadata": {},
   "outputs": [],
   "source": [
    "class TimerError(Exception):  #5\n",
    "    \"\"\"Пользовательское исключение, используемое для сообщения об ошибках при использовании класса Timer\"\"\"\n",
    "\n",
    "\n",
    "class Timer: #9\n",
    "\n",
    "    def __init__(self):\n",
    "        self._start_time = None\n",
    "\n",
    "\n",
    "    def start(self):\n",
    "        \"\"\"Запуск нового таймера\"\"\"\n",
    "\n",
    "        if self._start_time is not None:\n",
    "            raise TimerError(f\"Таймер уже работает. Используйте .stop() чтобы его остановить\")\n",
    "\n",
    "        self._start_time = time.perf_counter()\n",
    "\n",
    "\n",
    "    def stop(self):\n",
    "        \"\"\"Отстановить таймер и сообщить о времени вычисления\"\"\"\n",
    "\n",
    "        if self._start_time is None:\n",
    "            raise TimerError(f\"Таймер не работает. Используйте .start() для его запуска\")\n",
    "\n",
    "        elapsed_time = time.perf_counter() - self._start_time\n",
    "        self._start_time = None\n",
    "        print(f\"Вычисление заняло {elapsed_time:0.4f} секунд\")"
   ]
  },
  {
   "cell_type": "markdown",
   "metadata": {},
   "source": [
    "Импорт датасета"
   ]
  },
  {
   "cell_type": "code",
   "execution_count": 3,
   "metadata": {},
   "outputs": [
    {
     "name": "stdout",
     "output_type": "stream",
     "text": [
      "датасет загружен с сервера\n"
     ]
    }
   ],
   "source": [
    "try:\n",
    "    df = pd.read_csv('autos.csv')\n",
    "    print('датасет загружен локально')\n",
    "except:\n",
    "    df = pd.read_csv('/datasets/autos.csv')\n",
    "    print('датасет загружен с сервера')"
   ]
  },
  {
   "cell_type": "markdown",
   "metadata": {},
   "source": [
    "## Подготовка данных"
   ]
  },
  {
   "cell_type": "markdown",
   "metadata": {},
   "source": [
    "### Посмотрим на данные"
   ]
  },
  {
   "cell_type": "code",
   "execution_count": 4,
   "metadata": {},
   "outputs": [
    {
     "data": {
      "text/html": [
       "<div>\n",
       "<style scoped>\n",
       "    .dataframe tbody tr th:only-of-type {\n",
       "        vertical-align: middle;\n",
       "    }\n",
       "\n",
       "    .dataframe tbody tr th {\n",
       "        vertical-align: top;\n",
       "    }\n",
       "\n",
       "    .dataframe thead th {\n",
       "        text-align: right;\n",
       "    }\n",
       "</style>\n",
       "<table border=\"1\" class=\"dataframe\">\n",
       "  <thead>\n",
       "    <tr style=\"text-align: right;\">\n",
       "      <th></th>\n",
       "      <th>DateCrawled</th>\n",
       "      <th>Price</th>\n",
       "      <th>VehicleType</th>\n",
       "      <th>RegistrationYear</th>\n",
       "      <th>Gearbox</th>\n",
       "      <th>Power</th>\n",
       "      <th>Model</th>\n",
       "      <th>Kilometer</th>\n",
       "      <th>RegistrationMonth</th>\n",
       "      <th>FuelType</th>\n",
       "      <th>Brand</th>\n",
       "      <th>Repaired</th>\n",
       "      <th>DateCreated</th>\n",
       "      <th>NumberOfPictures</th>\n",
       "      <th>PostalCode</th>\n",
       "      <th>LastSeen</th>\n",
       "    </tr>\n",
       "  </thead>\n",
       "  <tbody>\n",
       "    <tr>\n",
       "      <th>0</th>\n",
       "      <td>2016-03-24 11:52:17</td>\n",
       "      <td>480</td>\n",
       "      <td>NaN</td>\n",
       "      <td>1993</td>\n",
       "      <td>manual</td>\n",
       "      <td>0</td>\n",
       "      <td>golf</td>\n",
       "      <td>150000</td>\n",
       "      <td>0</td>\n",
       "      <td>petrol</td>\n",
       "      <td>volkswagen</td>\n",
       "      <td>NaN</td>\n",
       "      <td>2016-03-24 00:00:00</td>\n",
       "      <td>0</td>\n",
       "      <td>70435</td>\n",
       "      <td>2016-04-07 03:16:57</td>\n",
       "    </tr>\n",
       "    <tr>\n",
       "      <th>1</th>\n",
       "      <td>2016-03-24 10:58:45</td>\n",
       "      <td>18300</td>\n",
       "      <td>coupe</td>\n",
       "      <td>2011</td>\n",
       "      <td>manual</td>\n",
       "      <td>190</td>\n",
       "      <td>NaN</td>\n",
       "      <td>125000</td>\n",
       "      <td>5</td>\n",
       "      <td>gasoline</td>\n",
       "      <td>audi</td>\n",
       "      <td>yes</td>\n",
       "      <td>2016-03-24 00:00:00</td>\n",
       "      <td>0</td>\n",
       "      <td>66954</td>\n",
       "      <td>2016-04-07 01:46:50</td>\n",
       "    </tr>\n",
       "    <tr>\n",
       "      <th>2</th>\n",
       "      <td>2016-03-14 12:52:21</td>\n",
       "      <td>9800</td>\n",
       "      <td>suv</td>\n",
       "      <td>2004</td>\n",
       "      <td>auto</td>\n",
       "      <td>163</td>\n",
       "      <td>grand</td>\n",
       "      <td>125000</td>\n",
       "      <td>8</td>\n",
       "      <td>gasoline</td>\n",
       "      <td>jeep</td>\n",
       "      <td>NaN</td>\n",
       "      <td>2016-03-14 00:00:00</td>\n",
       "      <td>0</td>\n",
       "      <td>90480</td>\n",
       "      <td>2016-04-05 12:47:46</td>\n",
       "    </tr>\n",
       "    <tr>\n",
       "      <th>3</th>\n",
       "      <td>2016-03-17 16:54:04</td>\n",
       "      <td>1500</td>\n",
       "      <td>small</td>\n",
       "      <td>2001</td>\n",
       "      <td>manual</td>\n",
       "      <td>75</td>\n",
       "      <td>golf</td>\n",
       "      <td>150000</td>\n",
       "      <td>6</td>\n",
       "      <td>petrol</td>\n",
       "      <td>volkswagen</td>\n",
       "      <td>no</td>\n",
       "      <td>2016-03-17 00:00:00</td>\n",
       "      <td>0</td>\n",
       "      <td>91074</td>\n",
       "      <td>2016-03-17 17:40:17</td>\n",
       "    </tr>\n",
       "    <tr>\n",
       "      <th>4</th>\n",
       "      <td>2016-03-31 17:25:20</td>\n",
       "      <td>3600</td>\n",
       "      <td>small</td>\n",
       "      <td>2008</td>\n",
       "      <td>manual</td>\n",
       "      <td>69</td>\n",
       "      <td>fabia</td>\n",
       "      <td>90000</td>\n",
       "      <td>7</td>\n",
       "      <td>gasoline</td>\n",
       "      <td>skoda</td>\n",
       "      <td>no</td>\n",
       "      <td>2016-03-31 00:00:00</td>\n",
       "      <td>0</td>\n",
       "      <td>60437</td>\n",
       "      <td>2016-04-06 10:17:21</td>\n",
       "    </tr>\n",
       "  </tbody>\n",
       "</table>\n",
       "</div>"
      ],
      "text/plain": [
       "           DateCrawled  Price VehicleType  RegistrationYear Gearbox  Power  \\\n",
       "0  2016-03-24 11:52:17    480         NaN              1993  manual      0   \n",
       "1  2016-03-24 10:58:45  18300       coupe              2011  manual    190   \n",
       "2  2016-03-14 12:52:21   9800         suv              2004    auto    163   \n",
       "3  2016-03-17 16:54:04   1500       small              2001  manual     75   \n",
       "4  2016-03-31 17:25:20   3600       small              2008  manual     69   \n",
       "\n",
       "   Model  Kilometer  RegistrationMonth  FuelType       Brand Repaired  \\\n",
       "0   golf     150000                  0    petrol  volkswagen      NaN   \n",
       "1    NaN     125000                  5  gasoline        audi      yes   \n",
       "2  grand     125000                  8  gasoline        jeep      NaN   \n",
       "3   golf     150000                  6    petrol  volkswagen       no   \n",
       "4  fabia      90000                  7  gasoline       skoda       no   \n",
       "\n",
       "           DateCreated  NumberOfPictures  PostalCode             LastSeen  \n",
       "0  2016-03-24 00:00:00                 0       70435  2016-04-07 03:16:57  \n",
       "1  2016-03-24 00:00:00                 0       66954  2016-04-07 01:46:50  \n",
       "2  2016-03-14 00:00:00                 0       90480  2016-04-05 12:47:46  \n",
       "3  2016-03-17 00:00:00                 0       91074  2016-03-17 17:40:17  \n",
       "4  2016-03-31 00:00:00                 0       60437  2016-04-06 10:17:21  "
      ]
     },
     "execution_count": 4,
     "metadata": {},
     "output_type": "execute_result"
    }
   ],
   "source": [
    "df[:5]"
   ]
  },
  {
   "cell_type": "markdown",
   "metadata": {},
   "source": [
    "<font color='blue'><b>Комментарий ревьюера: </b></font> ✔️\\\n",
    "<font color='green'>Данные загружены корректно, первичный осмотр проведен.</font>"
   ]
  },
  {
   "cell_type": "markdown",
   "metadata": {},
   "source": [
    "Распишем столбцы и поймем какие в них данные и нужны ли они нам для модели:\n",
    "\n",
    "DateCrawled - этот признак не несет никакой пользы для модели\n",
    "Price - это нужный количественный признак\n",
    "VehicleType - это нужный категориальный признак\n",
    "RegistrationYear - это нужный категориальный признак\n",
    "Gearbox - это нужный категориальный признак\n",
    "Power - это нужный количественный признак\n",
    "Model - это нужный категориальный признак\n",
    "Kilometer - это нужный количественный признак\n",
    "RegistrationMonth - это нужный категориальный признак\n",
    "FuelType - нужный категориальный признак\n",
    "Brand - нужный категориальный признак\n",
    "Repaired - нужный категориальный признак\n",
    "DateCreated - этот признак не несет никакой пользы для модели\n",
    "NumberOfPictures - это столбец с нулями - лишний признак\n",
    "PostalCode - этот признак не несет никакой пользы для модели\n",
    "LastSeen - этот признак не несет никакой пользы для модели\n",
    "\n",
    "В итоге можем сразу дропнуть столбцы DateCrawled, DateCreated, PostalCode и LastSeen"
   ]
  },
  {
   "cell_type": "code",
   "execution_count": 5,
   "metadata": {},
   "outputs": [],
   "source": [
    "df = df.drop(['DateCreated', 'DateCrawled', 'PostalCode', 'LastSeen', 'NumberOfPictures'], axis=1)"
   ]
  },
  {
   "cell_type": "markdown",
   "metadata": {},
   "source": [
    "Посмотрим на типы оставшихся столбцов"
   ]
  },
  {
   "cell_type": "code",
   "execution_count": 6,
   "metadata": {},
   "outputs": [
    {
     "name": "stdout",
     "output_type": "stream",
     "text": [
      "<class 'pandas.core.frame.DataFrame'>\n",
      "RangeIndex: 354369 entries, 0 to 354368\n",
      "Data columns (total 11 columns):\n",
      " #   Column             Non-Null Count   Dtype \n",
      "---  ------             --------------   ----- \n",
      " 0   Price              354369 non-null  int64 \n",
      " 1   VehicleType        316879 non-null  object\n",
      " 2   RegistrationYear   354369 non-null  int64 \n",
      " 3   Gearbox            334536 non-null  object\n",
      " 4   Power              354369 non-null  int64 \n",
      " 5   Model              334664 non-null  object\n",
      " 6   Kilometer          354369 non-null  int64 \n",
      " 7   RegistrationMonth  354369 non-null  int64 \n",
      " 8   FuelType           321474 non-null  object\n",
      " 9   Brand              354369 non-null  object\n",
      " 10  Repaired           283215 non-null  object\n",
      "dtypes: int64(5), object(6)\n",
      "memory usage: 29.7+ MB\n"
     ]
    }
   ],
   "source": [
    "df.info()"
   ]
  },
  {
   "cell_type": "markdown",
   "metadata": {},
   "source": [
    "Создадим 2 списка с названиями столбцов количественных и категориальных данных для построения нужных графиков.\n",
    "предварительно приведем названия столбцов в нормальный вид"
   ]
  },
  {
   "cell_type": "code",
   "execution_count": 7,
   "metadata": {},
   "outputs": [
    {
     "data": {
      "text/html": [
       "<div>\n",
       "<style scoped>\n",
       "    .dataframe tbody tr th:only-of-type {\n",
       "        vertical-align: middle;\n",
       "    }\n",
       "\n",
       "    .dataframe tbody tr th {\n",
       "        vertical-align: top;\n",
       "    }\n",
       "\n",
       "    .dataframe thead th {\n",
       "        text-align: right;\n",
       "    }\n",
       "</style>\n",
       "<table border=\"1\" class=\"dataframe\">\n",
       "  <thead>\n",
       "    <tr style=\"text-align: right;\">\n",
       "      <th></th>\n",
       "      <th>Price</th>\n",
       "      <th>VehicleType</th>\n",
       "      <th>RegistrationYear</th>\n",
       "      <th>Gearbox</th>\n",
       "      <th>Power</th>\n",
       "      <th>Model</th>\n",
       "      <th>Kilometer</th>\n",
       "      <th>RegistrationMonth</th>\n",
       "      <th>FuelType</th>\n",
       "      <th>Brand</th>\n",
       "      <th>Repaired</th>\n",
       "    </tr>\n",
       "  </thead>\n",
       "  <tbody>\n",
       "  </tbody>\n",
       "</table>\n",
       "</div>"
      ],
      "text/plain": [
       "Empty DataFrame\n",
       "Columns: [Price, VehicleType, RegistrationYear, Gearbox, Power, Model, Kilometer, RegistrationMonth, FuelType, Brand, Repaired]\n",
       "Index: []"
      ]
     },
     "execution_count": 7,
     "metadata": {},
     "output_type": "execute_result"
    }
   ],
   "source": [
    "df[:0]"
   ]
  },
  {
   "cell_type": "code",
   "execution_count": 8,
   "metadata": {},
   "outputs": [],
   "source": [
    "# для начала приведем столбцы к нормальной записи:\n",
    "df.columns = df.columns.str.lower()\n",
    "df = df.rename(columns = {'vehicletype':'vehicle_type','registrationyear':'registration_year', 'registrationmonth': 'registration_month', 'numberofpictures': 'number_of_pictures'})\n",
    "\n",
    "# список категориальных признаков\n",
    "cat_signs_list = ['vehicle_type', 'registration_year', 'registration_month', 'gearbox', 'model', 'fueltype', 'brand', 'repaired']\n",
    "cat_signs = df[cat_signs_list]\n",
    "# список количественных признаков\n",
    "quant_signs_list = ['price', 'power', 'kilometer']\n",
    "quant_signs = df[quant_signs_list]"
   ]
  },
  {
   "cell_type": "code",
   "execution_count": 9,
   "metadata": {},
   "outputs": [],
   "source": [
    "# Напишем функию для анализа количественных данных\n",
    "def df_info(data):\n",
    "    data.info()\n",
    "    display(data.describe())\n",
    "    print('Процент пропусков')\n",
    "    display(pd.DataFrame(round(data.isna().mean()*100,)))\n",
    "    #plt.figure(figsize = (20,20))\n",
    "    #plt.subplot(3, 3, 1)\n",
    "    for i in data.columns:\n",
    "        sns.set(rc={'figure.figsize':(16,5)})\n",
    "        sns.histplot(data=data, x=i)\n",
    "        plt.show()\n",
    "        sns.set(rc={'figure.figsize':(16,2)})\n",
    "        sns.boxplot(data=data, x=i)\n",
    "        plt.show()\n",
    "    sns.set(rc={'figure.figsize':(4,4)})\n",
    "    display(sns.heatmap((data).corr(), annot = True, vmin=-1, vmax=1, center= 0)) # значения корреляции через хитмэп"
   ]
  },
  {
   "cell_type": "code",
   "execution_count": 10,
   "metadata": {},
   "outputs": [
    {
     "name": "stdout",
     "output_type": "stream",
     "text": [
      "<class 'pandas.core.frame.DataFrame'>\n",
      "RangeIndex: 354369 entries, 0 to 354368\n",
      "Data columns (total 3 columns):\n",
      " #   Column     Non-Null Count   Dtype\n",
      "---  ------     --------------   -----\n",
      " 0   price      354369 non-null  int64\n",
      " 1   power      354369 non-null  int64\n",
      " 2   kilometer  354369 non-null  int64\n",
      "dtypes: int64(3)\n",
      "memory usage: 8.1 MB\n"
     ]
    },
    {
     "data": {
      "text/html": [
       "<div>\n",
       "<style scoped>\n",
       "    .dataframe tbody tr th:only-of-type {\n",
       "        vertical-align: middle;\n",
       "    }\n",
       "\n",
       "    .dataframe tbody tr th {\n",
       "        vertical-align: top;\n",
       "    }\n",
       "\n",
       "    .dataframe thead th {\n",
       "        text-align: right;\n",
       "    }\n",
       "</style>\n",
       "<table border=\"1\" class=\"dataframe\">\n",
       "  <thead>\n",
       "    <tr style=\"text-align: right;\">\n",
       "      <th></th>\n",
       "      <th>price</th>\n",
       "      <th>power</th>\n",
       "      <th>kilometer</th>\n",
       "    </tr>\n",
       "  </thead>\n",
       "  <tbody>\n",
       "    <tr>\n",
       "      <th>count</th>\n",
       "      <td>354369.000000</td>\n",
       "      <td>354369.000000</td>\n",
       "      <td>354369.000000</td>\n",
       "    </tr>\n",
       "    <tr>\n",
       "      <th>mean</th>\n",
       "      <td>4416.656776</td>\n",
       "      <td>110.094337</td>\n",
       "      <td>128211.172535</td>\n",
       "    </tr>\n",
       "    <tr>\n",
       "      <th>std</th>\n",
       "      <td>4514.158514</td>\n",
       "      <td>189.850405</td>\n",
       "      <td>37905.341530</td>\n",
       "    </tr>\n",
       "    <tr>\n",
       "      <th>min</th>\n",
       "      <td>0.000000</td>\n",
       "      <td>0.000000</td>\n",
       "      <td>5000.000000</td>\n",
       "    </tr>\n",
       "    <tr>\n",
       "      <th>25%</th>\n",
       "      <td>1050.000000</td>\n",
       "      <td>69.000000</td>\n",
       "      <td>125000.000000</td>\n",
       "    </tr>\n",
       "    <tr>\n",
       "      <th>50%</th>\n",
       "      <td>2700.000000</td>\n",
       "      <td>105.000000</td>\n",
       "      <td>150000.000000</td>\n",
       "    </tr>\n",
       "    <tr>\n",
       "      <th>75%</th>\n",
       "      <td>6400.000000</td>\n",
       "      <td>143.000000</td>\n",
       "      <td>150000.000000</td>\n",
       "    </tr>\n",
       "    <tr>\n",
       "      <th>max</th>\n",
       "      <td>20000.000000</td>\n",
       "      <td>20000.000000</td>\n",
       "      <td>150000.000000</td>\n",
       "    </tr>\n",
       "  </tbody>\n",
       "</table>\n",
       "</div>"
      ],
      "text/plain": [
       "               price          power      kilometer\n",
       "count  354369.000000  354369.000000  354369.000000\n",
       "mean     4416.656776     110.094337  128211.172535\n",
       "std      4514.158514     189.850405   37905.341530\n",
       "min         0.000000       0.000000    5000.000000\n",
       "25%      1050.000000      69.000000  125000.000000\n",
       "50%      2700.000000     105.000000  150000.000000\n",
       "75%      6400.000000     143.000000  150000.000000\n",
       "max     20000.000000   20000.000000  150000.000000"
      ]
     },
     "metadata": {},
     "output_type": "display_data"
    },
    {
     "name": "stdout",
     "output_type": "stream",
     "text": [
      "Процент пропусков\n"
     ]
    },
    {
     "data": {
      "text/html": [
       "<div>\n",
       "<style scoped>\n",
       "    .dataframe tbody tr th:only-of-type {\n",
       "        vertical-align: middle;\n",
       "    }\n",
       "\n",
       "    .dataframe tbody tr th {\n",
       "        vertical-align: top;\n",
       "    }\n",
       "\n",
       "    .dataframe thead th {\n",
       "        text-align: right;\n",
       "    }\n",
       "</style>\n",
       "<table border=\"1\" class=\"dataframe\">\n",
       "  <thead>\n",
       "    <tr style=\"text-align: right;\">\n",
       "      <th></th>\n",
       "      <th>0</th>\n",
       "    </tr>\n",
       "  </thead>\n",
       "  <tbody>\n",
       "    <tr>\n",
       "      <th>price</th>\n",
       "      <td>0.0</td>\n",
       "    </tr>\n",
       "    <tr>\n",
       "      <th>power</th>\n",
       "      <td>0.0</td>\n",
       "    </tr>\n",
       "    <tr>\n",
       "      <th>kilometer</th>\n",
       "      <td>0.0</td>\n",
       "    </tr>\n",
       "  </tbody>\n",
       "</table>\n",
       "</div>"
      ],
      "text/plain": [
       "             0\n",
       "price      0.0\n",
       "power      0.0\n",
       "kilometer  0.0"
      ]
     },
     "metadata": {},
     "output_type": "display_data"
    },
    {
     "data": {
      "image/png": "[encoded data removed]",
      "text/plain": [
       "<Figure size 1152x360 with 1 Axes>"
      ]
     },
     "metadata": {},
     "output_type": "display_data"
    },
    {
     "data": {
      "image/png": "[encoded data removed]",
      "text/plain": [
       "<Figure size 1152x144 with 1 Axes>"
      ]
     },
     "metadata": {},
     "output_type": "display_data"
    },
    {
     "data": {
      "image/png": "[encoded data removed]",
      "text/plain": [
       "<Figure size 1152x360 with 1 Axes>"
      ]
     },
     "metadata": {},
     "output_type": "display_data"
    },
    {
     "data": {
      "image/png": "[encoded data removed]",
      "text/plain": [
       "<Figure size 1152x144 with 1 Axes>"
      ]
     },
     "metadata": {},
     "output_type": "display_data"
    },
    {
     "data": {
      "image/png": "[encoded data removed]",
      "text/plain": [
       "<Figure size 1152x360 with 1 Axes>"
      ]
     },
     "metadata": {},
     "output_type": "display_data"
    },
    {
     "data": {
      "image/png": "[encoded data removed]",
      "text/plain": [
       "<Figure size 1152x144 with 1 Axes>"
      ]
     },
     "metadata": {},
     "output_type": "display_data"
    },
    {
     "data": {
      "text/plain": [
       "<AxesSubplot:>"
      ]
     },
     "metadata": {},
     "output_type": "display_data"
    },
    {
     "data": {
      "image/png": "[encoded data removed]",
      "text/plain": [
       "<Figure size 288x288 with 2 Axes>"
      ]
     },
     "metadata": {},
     "output_type": "display_data"
    }
   ],
   "source": [
    "df_info(quant_signs)"
   ]
  },
  {
   "cell_type": "markdown",
   "metadata": {},
   "source": [
    "Оценим увиденное:\n",
    "Price - Нормально распределен, пропусков нет. но нужно ограничить нижний предел.\n",
    "Power - тут есть аномалии до 45 л.c. и после 234 л.c. недобходимо удалить данные вне этого диапазона"
   ]
  },
  {
   "cell_type": "code",
   "execution_count": 11,
   "metadata": {},
   "outputs": [],
   "source": [
    "df = df.query('price > 300').reset_index(drop=True)\n",
    "df = df[(df['power'] > 45) & (df['power'] < 234)].reset_index(drop=True)"
   ]
  },
  {
   "cell_type": "markdown",
   "metadata": {},
   "source": [
    "<font color='blue'><b>Комментарий ревьюера: </b></font> ✔️\\\n",
    "<font color='green'>👍</font>"
   ]
  },
  {
   "cell_type": "markdown",
   "metadata": {},
   "source": [
    "Kilometer - Большинство машин с пробегом более 150к но в этом ничего удивительного в принципе нет.\n",
    "По корреляции в количественных столбцах все в порядке."
   ]
  },
  {
   "cell_type": "markdown",
   "metadata": {},
   "source": [
    "Проанализируем категориальные данные"
   ]
  },
  {
   "cell_type": "code",
   "execution_count": 12,
   "metadata": {},
   "outputs": [],
   "source": [
    "# Напишем функию для анализа количественных данных\n",
    "def df_info_cat(data):\n",
    "    data.info()\n",
    "    display(data.describe())\n",
    "    print('Процент пропусков')\n",
    "    display(pd.DataFrame(round(data.isna().mean()*100,)))\n",
    "    for i in data.columns:\n",
    "        sns.set(rc={'figure.figsize':(16,5)})\n",
    "        sns.histplot(data=data, x=i)\n",
    "        plt.show()"
   ]
  },
  {
   "cell_type": "code",
   "execution_count": 13,
   "metadata": {},
   "outputs": [
    {
     "name": "stdout",
     "output_type": "stream",
     "text": [
      "<class 'pandas.core.frame.DataFrame'>\n",
      "RangeIndex: 354369 entries, 0 to 354368\n",
      "Data columns (total 8 columns):\n",
      " #   Column              Non-Null Count   Dtype \n",
      "---  ------              --------------   ----- \n",
      " 0   vehicle_type        316879 non-null  object\n",
      " 1   registration_year   354369 non-null  int64 \n",
      " 2   registration_month  354369 non-null  int64 \n",
      " 3   gearbox             334536 non-null  object\n",
      " 4   model               334664 non-null  object\n",
      " 5   fueltype            321474 non-null  object\n",
      " 6   brand               354369 non-null  object\n",
      " 7   repaired            283215 non-null  object\n",
      "dtypes: int64(2), object(6)\n",
      "memory usage: 21.6+ MB\n"
     ]
    },
    {
     "data": {
      "text/html": [
       "<div>\n",
       "<style scoped>\n",
       "    .dataframe tbody tr th:only-of-type {\n",
       "        vertical-align: middle;\n",
       "    }\n",
       "\n",
       "    .dataframe tbody tr th {\n",
       "        vertical-align: top;\n",
       "    }\n",
       "\n",
       "    .dataframe thead th {\n",
       "        text-align: right;\n",
       "    }\n",
       "</style>\n",
       "<table border=\"1\" class=\"dataframe\">\n",
       "  <thead>\n",
       "    <tr style=\"text-align: right;\">\n",
       "      <th></th>\n",
       "      <th>registration_year</th>\n",
       "      <th>registration_month</th>\n",
       "    </tr>\n",
       "  </thead>\n",
       "  <tbody>\n",
       "    <tr>\n",
       "      <th>count</th>\n",
       "      <td>354369.000000</td>\n",
       "      <td>354369.000000</td>\n",
       "    </tr>\n",
       "    <tr>\n",
       "      <th>mean</th>\n",
       "      <td>2004.234448</td>\n",
       "      <td>5.714645</td>\n",
       "    </tr>\n",
       "    <tr>\n",
       "      <th>std</th>\n",
       "      <td>90.227958</td>\n",
       "      <td>3.726421</td>\n",
       "    </tr>\n",
       "    <tr>\n",
       "      <th>min</th>\n",
       "      <td>1000.000000</td>\n",
       "      <td>0.000000</td>\n",
       "    </tr>\n",
       "    <tr>\n",
       "      <th>25%</th>\n",
       "      <td>1999.000000</td>\n",
       "      <td>3.000000</td>\n",
       "    </tr>\n",
       "    <tr>\n",
       "      <th>50%</th>\n",
       "      <td>2003.000000</td>\n",
       "      <td>6.000000</td>\n",
       "    </tr>\n",
       "    <tr>\n",
       "      <th>75%</th>\n",
       "      <td>2008.000000</td>\n",
       "      <td>9.000000</td>\n",
       "    </tr>\n",
       "    <tr>\n",
       "      <th>max</th>\n",
       "      <td>9999.000000</td>\n",
       "      <td>12.000000</td>\n",
       "    </tr>\n",
       "  </tbody>\n",
       "</table>\n",
       "</div>"
      ],
      "text/plain": [
       "       registration_year  registration_month\n",
       "count      354369.000000       354369.000000\n",
       "mean         2004.234448            5.714645\n",
       "std            90.227958            3.726421\n",
       "min          1000.000000            0.000000\n",
       "25%          1999.000000            3.000000\n",
       "50%          2003.000000            6.000000\n",
       "75%          2008.000000            9.000000\n",
       "max          9999.000000           12.000000"
      ]
     },
     "metadata": {},
     "output_type": "display_data"
    },
    {
     "name": "stdout",
     "output_type": "stream",
     "text": [
      "Процент пропусков\n"
     ]
    },
    {
     "data": {
      "text/html": [
       "<div>\n",
       "<style scoped>\n",
       "    .dataframe tbody tr th:only-of-type {\n",
       "        vertical-align: middle;\n",
       "    }\n",
       "\n",
       "    .dataframe tbody tr th {\n",
       "        vertical-align: top;\n",
       "    }\n",
       "\n",
       "    .dataframe thead th {\n",
       "        text-align: right;\n",
       "    }\n",
       "</style>\n",
       "<table border=\"1\" class=\"dataframe\">\n",
       "  <thead>\n",
       "    <tr style=\"text-align: right;\">\n",
       "      <th></th>\n",
       "      <th>0</th>\n",
       "    </tr>\n",
       "  </thead>\n",
       "  <tbody>\n",
       "    <tr>\n",
       "      <th>vehicle_type</th>\n",
       "      <td>11.0</td>\n",
       "    </tr>\n",
       "    <tr>\n",
       "      <th>registration_year</th>\n",
       "      <td>0.0</td>\n",
       "    </tr>\n",
       "    <tr>\n",
       "      <th>registration_month</th>\n",
       "      <td>0.0</td>\n",
       "    </tr>\n",
       "    <tr>\n",
       "      <th>gearbox</th>\n",
       "      <td>6.0</td>\n",
       "    </tr>\n",
       "    <tr>\n",
       "      <th>model</th>\n",
       "      <td>6.0</td>\n",
       "    </tr>\n",
       "    <tr>\n",
       "      <th>fueltype</th>\n",
       "      <td>9.0</td>\n",
       "    </tr>\n",
       "    <tr>\n",
       "      <th>brand</th>\n",
       "      <td>0.0</td>\n",
       "    </tr>\n",
       "    <tr>\n",
       "      <th>repaired</th>\n",
       "      <td>20.0</td>\n",
       "    </tr>\n",
       "  </tbody>\n",
       "</table>\n",
       "</div>"
      ],
      "text/plain": [
       "                       0\n",
       "vehicle_type        11.0\n",
       "registration_year    0.0\n",
       "registration_month   0.0\n",
       "gearbox              6.0\n",
       "model                6.0\n",
       "fueltype             9.0\n",
       "brand                0.0\n",
       "repaired            20.0"
      ]
     },
     "metadata": {},
     "output_type": "display_data"
    },
    {
     "ename": "TypeError",
     "evalue": "unsupported operand type(s) for -: 'str' and 'float'",
     "output_type": "error",
     "traceback": [
      "\u001B[0;31m---------------------------------------------------------------------------\u001B[0m",
      "\u001B[0;31mTypeError\u001B[0m                                 Traceback (most recent call last)",
      "\u001B[0;32m/tmp/ipykernel_272/3815674313.py\u001B[0m in \u001B[0;36m<module>\u001B[0;34m\u001B[0m\n\u001B[0;32m----> 1\u001B[0;31m \u001B[0mdf_info_cat\u001B[0m\u001B[0;34m(\u001B[0m\u001B[0mcat_signs\u001B[0m\u001B[0;34m)\u001B[0m\u001B[0;34m\u001B[0m\u001B[0;34m\u001B[0m\u001B[0m\n\u001B[0m",
      "\u001B[0;32m/tmp/ipykernel_272/1676745787.py\u001B[0m in \u001B[0;36mdf_info_cat\u001B[0;34m(data)\u001B[0m\n\u001B[1;32m      7\u001B[0m     \u001B[0;32mfor\u001B[0m \u001B[0mi\u001B[0m \u001B[0;32min\u001B[0m \u001B[0mdata\u001B[0m\u001B[0;34m.\u001B[0m\u001B[0mcolumns\u001B[0m\u001B[0;34m:\u001B[0m\u001B[0;34m\u001B[0m\u001B[0;34m\u001B[0m\u001B[0m\n\u001B[1;32m      8\u001B[0m         \u001B[0msns\u001B[0m\u001B[0;34m.\u001B[0m\u001B[0mset\u001B[0m\u001B[0;34m(\u001B[0m\u001B[0mrc\u001B[0m\u001B[0;34m=\u001B[0m\u001B[0;34m{\u001B[0m\u001B[0;34m'figure.figsize'\u001B[0m\u001B[0;34m:\u001B[0m\u001B[0;34m(\u001B[0m\u001B[0;36m16\u001B[0m\u001B[0;34m,\u001B[0m\u001B[0;36m5\u001B[0m\u001B[0;34m)\u001B[0m\u001B[0;34m}\u001B[0m\u001B[0;34m)\u001B[0m\u001B[0;34m\u001B[0m\u001B[0;34m\u001B[0m\u001B[0m\n\u001B[0;32m----> 9\u001B[0;31m         \u001B[0msns\u001B[0m\u001B[0;34m.\u001B[0m\u001B[0mhistplot\u001B[0m\u001B[0;34m(\u001B[0m\u001B[0mdata\u001B[0m\u001B[0;34m=\u001B[0m\u001B[0mdata\u001B[0m\u001B[0;34m,\u001B[0m \u001B[0mx\u001B[0m\u001B[0;34m=\u001B[0m\u001B[0mi\u001B[0m\u001B[0;34m)\u001B[0m\u001B[0;34m\u001B[0m\u001B[0;34m\u001B[0m\u001B[0m\n\u001B[0m\u001B[1;32m     10\u001B[0m         \u001B[0mplt\u001B[0m\u001B[0;34m.\u001B[0m\u001B[0mshow\u001B[0m\u001B[0;34m(\u001B[0m\u001B[0;34m)\u001B[0m\u001B[0;34m\u001B[0m\u001B[0;34m\u001B[0m\u001B[0m\n",
      "\u001B[0;32m/opt/conda/lib/python3.9/site-packages/seaborn/distributions.py\u001B[0m in \u001B[0;36mhistplot\u001B[0;34m(data, x, y, hue, weights, stat, bins, binwidth, binrange, discrete, cumulative, common_bins, common_norm, multiple, element, fill, shrink, kde, kde_kws, line_kws, thresh, pthresh, pmax, cbar, cbar_ax, cbar_kws, palette, hue_order, hue_norm, color, log_scale, legend, ax, **kwargs)\u001B[0m\n\u001B[1;32m   1421\u001B[0m     \u001B[0;32mif\u001B[0m \u001B[0mp\u001B[0m\u001B[0;34m.\u001B[0m\u001B[0munivariate\u001B[0m\u001B[0;34m:\u001B[0m\u001B[0;34m\u001B[0m\u001B[0;34m\u001B[0m\u001B[0m\n\u001B[1;32m   1422\u001B[0m \u001B[0;34m\u001B[0m\u001B[0m\n\u001B[0;32m-> 1423\u001B[0;31m         p.plot_univariate_histogram(\n\u001B[0m\u001B[1;32m   1424\u001B[0m             \u001B[0mmultiple\u001B[0m\u001B[0;34m=\u001B[0m\u001B[0mmultiple\u001B[0m\u001B[0;34m,\u001B[0m\u001B[0;34m\u001B[0m\u001B[0;34m\u001B[0m\u001B[0m\n\u001B[1;32m   1425\u001B[0m             \u001B[0melement\u001B[0m\u001B[0;34m=\u001B[0m\u001B[0melement\u001B[0m\u001B[0;34m,\u001B[0m\u001B[0;34m\u001B[0m\u001B[0;34m\u001B[0m\u001B[0m\n",
      "\u001B[0;32m/opt/conda/lib/python3.9/site-packages/seaborn/distributions.py\u001B[0m in \u001B[0;36mplot_univariate_histogram\u001B[0;34m(self, multiple, element, fill, common_norm, common_bins, shrink, kde, kde_kws, color, legend, line_kws, estimate_kws, **plot_kws)\u001B[0m\n\u001B[1;32m    435\u001B[0m \u001B[0;34m\u001B[0m\u001B[0m\n\u001B[1;32m    436\u001B[0m             \u001B[0;31m# Do the histogram computation\u001B[0m\u001B[0;34m\u001B[0m\u001B[0;34m\u001B[0m\u001B[0;34m\u001B[0m\u001B[0m\n\u001B[0;32m--> 437\u001B[0;31m             \u001B[0mheights\u001B[0m\u001B[0;34m,\u001B[0m \u001B[0medges\u001B[0m \u001B[0;34m=\u001B[0m \u001B[0mestimator\u001B[0m\u001B[0;34m(\u001B[0m\u001B[0mobservations\u001B[0m\u001B[0;34m,\u001B[0m \u001B[0mweights\u001B[0m\u001B[0;34m=\u001B[0m\u001B[0mweights\u001B[0m\u001B[0;34m)\u001B[0m\u001B[0;34m\u001B[0m\u001B[0;34m\u001B[0m\u001B[0m\n\u001B[0m\u001B[1;32m    438\u001B[0m \u001B[0;34m\u001B[0m\u001B[0m\n\u001B[1;32m    439\u001B[0m             \u001B[0;31m# Rescale the smoothed curve to match the histogram\u001B[0m\u001B[0;34m\u001B[0m\u001B[0;34m\u001B[0m\u001B[0;34m\u001B[0m\u001B[0m\n",
      "\u001B[0;32m/opt/conda/lib/python3.9/site-packages/seaborn/_statistics.py\u001B[0m in \u001B[0;36m__call__\u001B[0;34m(self, x1, x2, weights)\u001B[0m\n\u001B[1;32m    369\u001B[0m         \u001B[0;34m\"\"\"Count the occurrances in each bin, maybe normalize.\"\"\"\u001B[0m\u001B[0;34m\u001B[0m\u001B[0;34m\u001B[0m\u001B[0m\n\u001B[1;32m    370\u001B[0m         \u001B[0;32mif\u001B[0m \u001B[0mx2\u001B[0m \u001B[0;32mis\u001B[0m \u001B[0;32mNone\u001B[0m\u001B[0;34m:\u001B[0m\u001B[0;34m\u001B[0m\u001B[0;34m\u001B[0m\u001B[0m\n\u001B[0;32m--> 371\u001B[0;31m             \u001B[0;32mreturn\u001B[0m \u001B[0mself\u001B[0m\u001B[0;34m.\u001B[0m\u001B[0m_eval_univariate\u001B[0m\u001B[0;34m(\u001B[0m\u001B[0mx1\u001B[0m\u001B[0;34m,\u001B[0m \u001B[0mweights\u001B[0m\u001B[0;34m)\u001B[0m\u001B[0;34m\u001B[0m\u001B[0;34m\u001B[0m\u001B[0m\n\u001B[0m\u001B[1;32m    372\u001B[0m         \u001B[0;32melse\u001B[0m\u001B[0;34m:\u001B[0m\u001B[0;34m\u001B[0m\u001B[0;34m\u001B[0m\u001B[0m\n\u001B[1;32m    373\u001B[0m             \u001B[0;32mreturn\u001B[0m \u001B[0mself\u001B[0m\u001B[0;34m.\u001B[0m\u001B[0m_eval_bivariate\u001B[0m\u001B[0;34m(\u001B[0m\u001B[0mx1\u001B[0m\u001B[0;34m,\u001B[0m \u001B[0mx2\u001B[0m\u001B[0;34m,\u001B[0m \u001B[0mweights\u001B[0m\u001B[0;34m)\u001B[0m\u001B[0;34m\u001B[0m\u001B[0;34m\u001B[0m\u001B[0m\n",
      "\u001B[0;32m/opt/conda/lib/python3.9/site-packages/seaborn/_statistics.py\u001B[0m in \u001B[0;36m_eval_univariate\u001B[0;34m(self, x, weights)\u001B[0m\n\u001B[1;32m    346\u001B[0m         \u001B[0mbin_edges\u001B[0m \u001B[0;34m=\u001B[0m \u001B[0mself\u001B[0m\u001B[0;34m.\u001B[0m\u001B[0mbin_edges\u001B[0m\u001B[0;34m\u001B[0m\u001B[0;34m\u001B[0m\u001B[0m\n\u001B[1;32m    347\u001B[0m         \u001B[0;32mif\u001B[0m \u001B[0mbin_edges\u001B[0m \u001B[0;32mis\u001B[0m \u001B[0;32mNone\u001B[0m\u001B[0;34m:\u001B[0m\u001B[0;34m\u001B[0m\u001B[0;34m\u001B[0m\u001B[0m\n\u001B[0;32m--> 348\u001B[0;31m             \u001B[0mbin_edges\u001B[0m \u001B[0;34m=\u001B[0m \u001B[0mself\u001B[0m\u001B[0;34m.\u001B[0m\u001B[0mdefine_bin_edges\u001B[0m\u001B[0;34m(\u001B[0m\u001B[0mx\u001B[0m\u001B[0;34m,\u001B[0m \u001B[0mweights\u001B[0m\u001B[0;34m=\u001B[0m\u001B[0mweights\u001B[0m\u001B[0;34m,\u001B[0m \u001B[0mcache\u001B[0m\u001B[0;34m=\u001B[0m\u001B[0;32mFalse\u001B[0m\u001B[0;34m)\u001B[0m\u001B[0;34m\u001B[0m\u001B[0;34m\u001B[0m\u001B[0m\n\u001B[0m\u001B[1;32m    349\u001B[0m \u001B[0;34m\u001B[0m\u001B[0m\n\u001B[1;32m    350\u001B[0m         \u001B[0mdensity\u001B[0m \u001B[0;34m=\u001B[0m \u001B[0mself\u001B[0m\u001B[0;34m.\u001B[0m\u001B[0mstat\u001B[0m \u001B[0;34m==\u001B[0m \u001B[0;34m\"density\"\u001B[0m\u001B[0;34m\u001B[0m\u001B[0;34m\u001B[0m\u001B[0m\n",
      "\u001B[0;32m/opt/conda/lib/python3.9/site-packages/seaborn/_statistics.py\u001B[0m in \u001B[0;36mdefine_bin_edges\u001B[0;34m(self, x1, x2, weights, cache)\u001B[0m\n\u001B[1;32m    263\u001B[0m         \u001B[0;32mif\u001B[0m \u001B[0mx2\u001B[0m \u001B[0;32mis\u001B[0m \u001B[0;32mNone\u001B[0m\u001B[0;34m:\u001B[0m\u001B[0;34m\u001B[0m\u001B[0;34m\u001B[0m\u001B[0m\n\u001B[1;32m    264\u001B[0m \u001B[0;34m\u001B[0m\u001B[0m\n\u001B[0;32m--> 265\u001B[0;31m             bin_edges = self._define_bin_edges(\n\u001B[0m\u001B[1;32m    266\u001B[0m                 \u001B[0mx1\u001B[0m\u001B[0;34m,\u001B[0m \u001B[0mweights\u001B[0m\u001B[0;34m,\u001B[0m \u001B[0mself\u001B[0m\u001B[0;34m.\u001B[0m\u001B[0mbins\u001B[0m\u001B[0;34m,\u001B[0m \u001B[0mself\u001B[0m\u001B[0;34m.\u001B[0m\u001B[0mbinwidth\u001B[0m\u001B[0;34m,\u001B[0m \u001B[0mself\u001B[0m\u001B[0;34m.\u001B[0m\u001B[0mbinrange\u001B[0m\u001B[0;34m,\u001B[0m \u001B[0mself\u001B[0m\u001B[0;34m.\u001B[0m\u001B[0mdiscrete\u001B[0m\u001B[0;34m,\u001B[0m\u001B[0;34m\u001B[0m\u001B[0;34m\u001B[0m\u001B[0m\n\u001B[1;32m    267\u001B[0m             )\n",
      "\u001B[0;32m/opt/conda/lib/python3.9/site-packages/seaborn/_statistics.py\u001B[0m in \u001B[0;36m_define_bin_edges\u001B[0;34m(self, x, weights, bins, binwidth, binrange, discrete)\u001B[0m\n\u001B[1;32m    249\u001B[0m \u001B[0;34m\u001B[0m\u001B[0m\n\u001B[1;32m    250\u001B[0m         \u001B[0;32mif\u001B[0m \u001B[0mdiscrete\u001B[0m\u001B[0;34m:\u001B[0m\u001B[0;34m\u001B[0m\u001B[0;34m\u001B[0m\u001B[0m\n\u001B[0;32m--> 251\u001B[0;31m             \u001B[0mbin_edges\u001B[0m \u001B[0;34m=\u001B[0m \u001B[0mnp\u001B[0m\u001B[0;34m.\u001B[0m\u001B[0marange\u001B[0m\u001B[0;34m(\u001B[0m\u001B[0mstart\u001B[0m \u001B[0;34m-\u001B[0m \u001B[0;36m.5\u001B[0m\u001B[0;34m,\u001B[0m \u001B[0mstop\u001B[0m \u001B[0;34m+\u001B[0m \u001B[0;36m1.5\u001B[0m\u001B[0;34m)\u001B[0m\u001B[0;34m\u001B[0m\u001B[0;34m\u001B[0m\u001B[0m\n\u001B[0m\u001B[1;32m    252\u001B[0m         \u001B[0;32melif\u001B[0m \u001B[0mbinwidth\u001B[0m \u001B[0;32mis\u001B[0m \u001B[0;32mnot\u001B[0m \u001B[0;32mNone\u001B[0m\u001B[0;34m:\u001B[0m\u001B[0;34m\u001B[0m\u001B[0;34m\u001B[0m\u001B[0m\n\u001B[1;32m    253\u001B[0m             \u001B[0mstep\u001B[0m \u001B[0;34m=\u001B[0m \u001B[0mbinwidth\u001B[0m\u001B[0;34m\u001B[0m\u001B[0;34m\u001B[0m\u001B[0m\n",
      "\u001B[0;31mTypeError\u001B[0m: unsupported operand type(s) for -: 'str' and 'float'"
     ]
    },
    {
     "data": {
      "image/png": "[encoded data removed]",
      "text/plain": [
       "<Figure size 1152x360 with 1 Axes>"
      ]
     },
     "metadata": {},
     "output_type": "display_data"
    }
   ],
   "source": [
    "df_info_cat(cat_signs)"
   ]
  },
  {
   "cell_type": "code",
   "execution_count": 14,
   "metadata": {},
   "outputs": [
    {
     "data": {
      "text/plain": [
       "3     29224\n",
       "6     26357\n",
       "4     24680\n",
       "5     24539\n",
       "7     22615\n",
       "10    21956\n",
       "12    20258\n",
       "11    20159\n",
       "9     19995\n",
       "1     19045\n",
       "8     18965\n",
       "2     18021\n",
       "0     16753\n",
       "Name: registration_month, dtype: int64"
      ]
     },
     "execution_count": 14,
     "metadata": {},
     "output_type": "execute_result"
    }
   ],
   "source": [
    "df.registration_month.value_counts()"
   ]
  },
  {
   "cell_type": "code",
   "execution_count": 15,
   "metadata": {},
   "outputs": [],
   "source": [
    "# Необходимо удалить 0-е значения в 0-м месяце так как это явная ошибка\n",
    "df = df[df['registration_month'] > 0]"
   ]
  },
  {
   "cell_type": "markdown",
   "metadata": {},
   "source": [
    "<font color='blue'><b>Комментарий ревьюера: </b></font> ⚠️\\\n",
    "<font color='darkorange'>  Обрати внимание на уникальные значения в \"registration_month\"</font>"
   ]
  },
  {
   "cell_type": "markdown",
   "metadata": {},
   "source": [
    "<font color='purple'><b>поправил</b></font>"
   ]
  },
  {
   "cell_type": "markdown",
   "metadata": {},
   "source": [
    "<font color='blue'><b>Комментарий ревьюера 2: </b></font> ✔️\\\n",
    "<font color='green'>👍</font>"
   ]
  },
  {
   "cell_type": "markdown",
   "metadata": {},
   "source": [
    "Видим, что есть аномалии в поле year, а также анкеты были скачаны в марте и апреле 2016 года, а значит есть смысл удалить все строки с регистрацией после 2016 года"
   ]
  },
  {
   "cell_type": "code",
   "execution_count": 16,
   "metadata": {},
   "outputs": [],
   "source": [
    "df = df[(df['registration_year'] > 1949) & (df['registration_year'] < 2017)]"
   ]
  },
  {
   "cell_type": "markdown",
   "metadata": {},
   "source": [
    "<font color='blue'><b>Комментарий ревьюера: </b></font> ⚠️\\\n",
    "<font color='darkorange'> Обрати внимание на даты в DateCrawled в сравнении с RegistrationYear</font>"
   ]
  },
  {
   "cell_type": "markdown",
   "metadata": {},
   "source": [
    "<font color='purple'><b>поправил</b></font>"
   ]
  },
  {
   "cell_type": "markdown",
   "metadata": {},
   "source": [
    "<font color='blue'><b>Комментарий ревьюера 2: </b></font> ✔️\\\n",
    "<font color='green'> Отлично! </font>"
   ]
  },
  {
   "cell_type": "markdown",
   "metadata": {},
   "source": [
    "Осталось обработать пропуски и удалить явные дубликаты.\n",
    "Заменим пропуски в категориальных данных значением other."
   ]
  },
  {
   "cell_type": "code",
   "execution_count": 17,
   "metadata": {},
   "outputs": [],
   "source": [
    "df = df.fillna('other')"
   ]
  },
  {
   "cell_type": "markdown",
   "metadata": {},
   "source": [
    "<font color='blue'><b>Комментарий ревьюера: </b></font> ✔️\\\n",
    "<font color='green'> Пропуски заполнены достаточно безопасно.\n",
    "</font>"
   ]
  },
  {
   "cell_type": "code",
   "execution_count": 18,
   "metadata": {},
   "outputs": [],
   "source": [
    "df = df.reset_index(drop=True)"
   ]
  },
  {
   "cell_type": "code",
   "execution_count": 19,
   "metadata": {},
   "outputs": [
    {
     "data": {
      "text/html": [
       "<div>\n",
       "<style scoped>\n",
       "    .dataframe tbody tr th:only-of-type {\n",
       "        vertical-align: middle;\n",
       "    }\n",
       "\n",
       "    .dataframe tbody tr th {\n",
       "        vertical-align: top;\n",
       "    }\n",
       "\n",
       "    .dataframe thead th {\n",
       "        text-align: right;\n",
       "    }\n",
       "</style>\n",
       "<table border=\"1\" class=\"dataframe\">\n",
       "  <thead>\n",
       "    <tr style=\"text-align: right;\">\n",
       "      <th></th>\n",
       "      <th>price</th>\n",
       "      <th>vehicle_type</th>\n",
       "      <th>registration_year</th>\n",
       "      <th>gearbox</th>\n",
       "      <th>power</th>\n",
       "      <th>model</th>\n",
       "      <th>kilometer</th>\n",
       "      <th>registration_month</th>\n",
       "      <th>fueltype</th>\n",
       "      <th>brand</th>\n",
       "      <th>repaired</th>\n",
       "    </tr>\n",
       "  </thead>\n",
       "  <tbody>\n",
       "    <tr>\n",
       "      <th>0</th>\n",
       "      <td>18300</td>\n",
       "      <td>coupe</td>\n",
       "      <td>2011</td>\n",
       "      <td>manual</td>\n",
       "      <td>190</td>\n",
       "      <td>other</td>\n",
       "      <td>125000</td>\n",
       "      <td>5</td>\n",
       "      <td>gasoline</td>\n",
       "      <td>audi</td>\n",
       "      <td>yes</td>\n",
       "    </tr>\n",
       "  </tbody>\n",
       "</table>\n",
       "</div>"
      ],
      "text/plain": [
       "   price vehicle_type  registration_year gearbox  power  model  kilometer  \\\n",
       "0  18300        coupe               2011  manual    190  other     125000   \n",
       "\n",
       "   registration_month  fueltype brand repaired  \n",
       "0                   5  gasoline  audi      yes  "
      ]
     },
     "execution_count": 19,
     "metadata": {},
     "output_type": "execute_result"
    }
   ],
   "source": [
    "df[:1]"
   ]
  },
  {
   "cell_type": "code",
   "execution_count": 20,
   "metadata": {},
   "outputs": [],
   "source": [
    "df = df.drop_duplicates()\n",
    "df = df.reset_index(drop=True)"
   ]
  },
  {
   "cell_type": "markdown",
   "metadata": {},
   "source": [
    "### ВЫВОД\n",
    "Проведена подготовка данных: аномалии выявлены и удалены, заменены пропуски, удалены дубликаты и неинформативные признаки"
   ]
  },
  {
   "cell_type": "markdown",
   "metadata": {},
   "source": [
    "## Обучение моделей"
   ]
  },
  {
   "cell_type": "markdown",
   "metadata": {},
   "source": [
    "### Разделим выборки"
   ]
  },
  {
   "cell_type": "code",
   "execution_count": 21,
   "metadata": {},
   "outputs": [],
   "source": [
    "features_train, features_valid, target_train, target_valid = train_test_split(\n",
    "    df.drop('price', axis=1), df.price, test_size=0.4, random_state = RANDOM_STATE)"
   ]
  },
  {
   "cell_type": "code",
   "execution_count": 22,
   "metadata": {},
   "outputs": [],
   "source": [
    "features_valid, features_test, target_valid, target_test = train_test_split(features_valid, target_valid,\n",
    "                                                                            test_size=0.5,\n",
    "                                                                            random_state = RANDOM_STATE)"
   ]
  },
  {
   "cell_type": "markdown",
   "metadata": {},
   "source": [
    "<font color='blue'><b>Комментарий ревьюера : </b></font> ✔️\\\n",
    "<font color='green'> Здорово , что у нас есть три выборки!</font>"
   ]
  },
  {
   "cell_type": "markdown",
   "metadata": {},
   "source": [
    "### Обучим скейлры ORDINAL и SCALER"
   ]
  },
  {
   "cell_type": "code",
   "execution_count": 23,
   "metadata": {},
   "outputs": [
    {
     "data": {
      "text/html": [
       "<div>\n",
       "<style scoped>\n",
       "    .dataframe tbody tr th:only-of-type {\n",
       "        vertical-align: middle;\n",
       "    }\n",
       "\n",
       "    .dataframe tbody tr th {\n",
       "        vertical-align: top;\n",
       "    }\n",
       "\n",
       "    .dataframe thead th {\n",
       "        text-align: right;\n",
       "    }\n",
       "</style>\n",
       "<table border=\"1\" class=\"dataframe\">\n",
       "  <thead>\n",
       "    <tr style=\"text-align: right;\">\n",
       "      <th></th>\n",
       "      <th>vehicle_type</th>\n",
       "      <th>registration_year</th>\n",
       "      <th>gearbox</th>\n",
       "      <th>power</th>\n",
       "      <th>model</th>\n",
       "      <th>kilometer</th>\n",
       "      <th>registration_month</th>\n",
       "      <th>fueltype</th>\n",
       "      <th>brand</th>\n",
       "      <th>repaired</th>\n",
       "    </tr>\n",
       "  </thead>\n",
       "  <tbody>\n",
       "    <tr>\n",
       "      <th>84105</th>\n",
       "      <td>bus</td>\n",
       "      <td>2004</td>\n",
       "      <td>manual</td>\n",
       "      <td>114</td>\n",
       "      <td>other</td>\n",
       "      <td>150000</td>\n",
       "      <td>10</td>\n",
       "      <td>gasoline</td>\n",
       "      <td>opel</td>\n",
       "      <td>other</td>\n",
       "    </tr>\n",
       "    <tr>\n",
       "      <th>32700</th>\n",
       "      <td>bus</td>\n",
       "      <td>2007</td>\n",
       "      <td>auto</td>\n",
       "      <td>109</td>\n",
       "      <td>b_klasse</td>\n",
       "      <td>125000</td>\n",
       "      <td>9</td>\n",
       "      <td>gasoline</td>\n",
       "      <td>mercedes_benz</td>\n",
       "      <td>no</td>\n",
       "    </tr>\n",
       "    <tr>\n",
       "      <th>159106</th>\n",
       "      <td>small</td>\n",
       "      <td>2002</td>\n",
       "      <td>manual</td>\n",
       "      <td>75</td>\n",
       "      <td>golf</td>\n",
       "      <td>150000</td>\n",
       "      <td>11</td>\n",
       "      <td>petrol</td>\n",
       "      <td>volkswagen</td>\n",
       "      <td>no</td>\n",
       "    </tr>\n",
       "    <tr>\n",
       "      <th>29813</th>\n",
       "      <td>wagon</td>\n",
       "      <td>2008</td>\n",
       "      <td>manual</td>\n",
       "      <td>116</td>\n",
       "      <td>vito</td>\n",
       "      <td>150000</td>\n",
       "      <td>3</td>\n",
       "      <td>gasoline</td>\n",
       "      <td>mercedes_benz</td>\n",
       "      <td>no</td>\n",
       "    </tr>\n",
       "    <tr>\n",
       "      <th>173648</th>\n",
       "      <td>small</td>\n",
       "      <td>2005</td>\n",
       "      <td>manual</td>\n",
       "      <td>68</td>\n",
       "      <td>fiesta</td>\n",
       "      <td>150000</td>\n",
       "      <td>11</td>\n",
       "      <td>gasoline</td>\n",
       "      <td>ford</td>\n",
       "      <td>yes</td>\n",
       "    </tr>\n",
       "    <tr>\n",
       "      <th>...</th>\n",
       "      <td>...</td>\n",
       "      <td>...</td>\n",
       "      <td>...</td>\n",
       "      <td>...</td>\n",
       "      <td>...</td>\n",
       "      <td>...</td>\n",
       "      <td>...</td>\n",
       "      <td>...</td>\n",
       "      <td>...</td>\n",
       "      <td>...</td>\n",
       "    </tr>\n",
       "    <tr>\n",
       "      <th>85412</th>\n",
       "      <td>small</td>\n",
       "      <td>2010</td>\n",
       "      <td>manual</td>\n",
       "      <td>73</td>\n",
       "      <td>c3</td>\n",
       "      <td>50000</td>\n",
       "      <td>10</td>\n",
       "      <td>petrol</td>\n",
       "      <td>citroen</td>\n",
       "      <td>no</td>\n",
       "    </tr>\n",
       "    <tr>\n",
       "      <th>133249</th>\n",
       "      <td>coupe</td>\n",
       "      <td>1993</td>\n",
       "      <td>auto</td>\n",
       "      <td>150</td>\n",
       "      <td>other</td>\n",
       "      <td>150000</td>\n",
       "      <td>4</td>\n",
       "      <td>lpg</td>\n",
       "      <td>mercedes_benz</td>\n",
       "      <td>no</td>\n",
       "    </tr>\n",
       "    <tr>\n",
       "      <th>130333</th>\n",
       "      <td>small</td>\n",
       "      <td>1999</td>\n",
       "      <td>manual</td>\n",
       "      <td>75</td>\n",
       "      <td>2_reihe</td>\n",
       "      <td>150000</td>\n",
       "      <td>6</td>\n",
       "      <td>petrol</td>\n",
       "      <td>peugeot</td>\n",
       "      <td>no</td>\n",
       "    </tr>\n",
       "    <tr>\n",
       "      <th>77285</th>\n",
       "      <td>suv</td>\n",
       "      <td>2009</td>\n",
       "      <td>auto</td>\n",
       "      <td>205</td>\n",
       "      <td>other</td>\n",
       "      <td>50000</td>\n",
       "      <td>7</td>\n",
       "      <td>petrol</td>\n",
       "      <td>sonstige_autos</td>\n",
       "      <td>no</td>\n",
       "    </tr>\n",
       "    <tr>\n",
       "      <th>217570</th>\n",
       "      <td>convertible</td>\n",
       "      <td>2004</td>\n",
       "      <td>manual</td>\n",
       "      <td>90</td>\n",
       "      <td>tigra</td>\n",
       "      <td>70000</td>\n",
       "      <td>12</td>\n",
       "      <td>petrol</td>\n",
       "      <td>opel</td>\n",
       "      <td>no</td>\n",
       "    </tr>\n",
       "  </tbody>\n",
       "</table>\n",
       "<p>142169 rows × 10 columns</p>\n",
       "</div>"
      ],
      "text/plain": [
       "       vehicle_type  registration_year gearbox  power     model  kilometer  \\\n",
       "84105           bus               2004  manual    114     other     150000   \n",
       "32700           bus               2007    auto    109  b_klasse     125000   \n",
       "159106        small               2002  manual     75      golf     150000   \n",
       "29813         wagon               2008  manual    116      vito     150000   \n",
       "173648        small               2005  manual     68    fiesta     150000   \n",
       "...             ...                ...     ...    ...       ...        ...   \n",
       "85412         small               2010  manual     73        c3      50000   \n",
       "133249        coupe               1993    auto    150     other     150000   \n",
       "130333        small               1999  manual     75   2_reihe     150000   \n",
       "77285           suv               2009    auto    205     other      50000   \n",
       "217570  convertible               2004  manual     90     tigra      70000   \n",
       "\n",
       "        registration_month  fueltype           brand repaired  \n",
       "84105                   10  gasoline            opel    other  \n",
       "32700                    9  gasoline   mercedes_benz       no  \n",
       "159106                  11    petrol      volkswagen       no  \n",
       "29813                    3  gasoline   mercedes_benz       no  \n",
       "173648                  11  gasoline            ford      yes  \n",
       "...                    ...       ...             ...      ...  \n",
       "85412                   10    petrol         citroen       no  \n",
       "133249                   4       lpg   mercedes_benz       no  \n",
       "130333                   6    petrol         peugeot       no  \n",
       "77285                    7    petrol  sonstige_autos       no  \n",
       "217570                  12    petrol            opel       no  \n",
       "\n",
       "[142169 rows x 10 columns]"
      ]
     },
     "execution_count": 23,
     "metadata": {},
     "output_type": "execute_result"
    }
   ],
   "source": [
    "features_train"
   ]
  },
  {
   "cell_type": "code",
   "execution_count": 24,
   "metadata": {},
   "outputs": [
    {
     "data": {
      "text/plain": [
       "OrdinalEncoder(handle_unknown='use_encoded_value', unknown_value=-1)"
      ]
     },
     "execution_count": 24,
     "metadata": {},
     "output_type": "execute_result"
    }
   ],
   "source": [
    "# Ordinal Encoder and Sacler\n",
    "obj_list = ['vehicle_type', 'gearbox', 'model', 'fueltype', 'brand', 'repaired']\n",
    "num_list = ['registration_year', 'power', 'kilometer', 'registration_month']\n",
    "\n",
    "encoder = OrdinalEncoder(handle_unknown='use_encoded_value', unknown_value=-1)\n",
    "encoder.fit(features_train[obj_list])"
   ]
  },
  {
   "cell_type": "markdown",
   "metadata": {},
   "source": [
    "### Напишем функцию трансформации для выборок"
   ]
  },
  {
   "cell_type": "code",
   "execution_count": 25,
   "metadata": {},
   "outputs": [],
   "source": [
    "def ordinal(dt):\n",
    "    dt = dt.reset_index(drop=True)\n",
    "    encoder_data = pd.DataFrame(encoder.transform(dt[obj_list]))\n",
    "    dt_ordinal = dt[num_list].join(encoder_data)\n",
    "    return dt_ordinal"
   ]
  },
  {
   "cell_type": "markdown",
   "metadata": {},
   "source": [
    "### Применем трансформацию"
   ]
  },
  {
   "cell_type": "code",
   "execution_count": 26,
   "metadata": {},
   "outputs": [
    {
     "data": {
      "text/plain": [
       "((142169, 10), (47390, 10), (47390, 10))"
      ]
     },
     "execution_count": 26,
     "metadata": {},
     "output_type": "execute_result"
    }
   ],
   "source": [
    "features_train = ordinal(features_train)\n",
    "\n",
    "scaler = StandardScaler()\n",
    "scaler.fit(features_train)\n",
    "\n",
    "features_train = scaler.transform(features_train)\n",
    "\n",
    "features_valid = ordinal(features_valid)\n",
    "features_valid = scaler.transform(features_valid)\n",
    "\n",
    "features_test = ordinal(features_test)\n",
    "features_test = scaler.transform(features_test)\n",
    "\n",
    "features_train.shape, features_valid.shape, features_test.shape"
   ]
  },
  {
   "cell_type": "code",
   "execution_count": 29,
   "metadata": {},
   "outputs": [
    {
     "data": {
      "text/html": [
       "<div>\n",
       "<style scoped>\n",
       "    .dataframe tbody tr th:only-of-type {\n",
       "        vertical-align: middle;\n",
       "    }\n",
       "\n",
       "    .dataframe tbody tr th {\n",
       "        vertical-align: top;\n",
       "    }\n",
       "\n",
       "    .dataframe thead th {\n",
       "        text-align: right;\n",
       "    }\n",
       "</style>\n",
       "<table border=\"1\" class=\"dataframe\">\n",
       "  <thead>\n",
       "    <tr style=\"text-align: right;\">\n",
       "      <th></th>\n",
       "      <th>vehicle_type</th>\n",
       "      <th>registration_year</th>\n",
       "      <th>gearbox</th>\n",
       "      <th>power</th>\n",
       "      <th>model</th>\n",
       "      <th>kilometer</th>\n",
       "      <th>registration_month</th>\n",
       "      <th>fueltype</th>\n",
       "      <th>brand</th>\n",
       "      <th>repaired</th>\n",
       "    </tr>\n",
       "  </thead>\n",
       "  <tbody>\n",
       "    <tr>\n",
       "      <th>0</th>\n",
       "      <td>0.127682</td>\n",
       "      <td>-0.086357</td>\n",
       "      <td>0.610196</td>\n",
       "      <td>1.085640</td>\n",
       "      <td>-1.966984</td>\n",
       "      <td>0.424833</td>\n",
       "      <td>0.805749</td>\n",
       "      <td>-1.435913</td>\n",
       "      <td>0.244468</td>\n",
       "      <td>1.120703</td>\n",
       "    </tr>\n",
       "    <tr>\n",
       "      <th>1</th>\n",
       "      <td>0.608796</td>\n",
       "      <td>-0.201761</td>\n",
       "      <td>-0.064492</td>\n",
       "      <td>0.786116</td>\n",
       "      <td>-1.966984</td>\n",
       "      <td>-1.993025</td>\n",
       "      <td>-0.888458</td>\n",
       "      <td>-1.435913</td>\n",
       "      <td>-0.055461</td>\n",
       "      <td>-0.481063</td>\n",
       "    </tr>\n",
       "    <tr>\n",
       "      <th>2</th>\n",
       "      <td>-0.193061</td>\n",
       "      <td>-0.986506</td>\n",
       "      <td>0.610196</td>\n",
       "      <td>1.385163</td>\n",
       "      <td>0.373463</td>\n",
       "      <td>0.424833</td>\n",
       "      <td>0.087865</td>\n",
       "      <td>0.728658</td>\n",
       "      <td>1.294221</td>\n",
       "      <td>-0.481063</td>\n",
       "    </tr>\n",
       "    <tr>\n",
       "      <th>3</th>\n",
       "      <td>0.769168</td>\n",
       "      <td>-0.040196</td>\n",
       "      <td>0.610196</td>\n",
       "      <td>-1.011027</td>\n",
       "      <td>1.309643</td>\n",
       "      <td>0.424833</td>\n",
       "      <td>1.796430</td>\n",
       "      <td>-1.435913</td>\n",
       "      <td>-0.055461</td>\n",
       "      <td>-0.481063</td>\n",
       "    </tr>\n",
       "    <tr>\n",
       "      <th>4</th>\n",
       "      <td>0.288054</td>\n",
       "      <td>-1.148071</td>\n",
       "      <td>0.610196</td>\n",
       "      <td>1.385163</td>\n",
       "      <td>0.373463</td>\n",
       "      <td>0.424833</td>\n",
       "      <td>-0.113143</td>\n",
       "      <td>-1.435913</td>\n",
       "      <td>-0.805284</td>\n",
       "      <td>2.722469</td>\n",
       "    </tr>\n",
       "    <tr>\n",
       "      <th>...</th>\n",
       "      <td>...</td>\n",
       "      <td>...</td>\n",
       "      <td>...</td>\n",
       "      <td>...</td>\n",
       "      <td>...</td>\n",
       "      <td>...</td>\n",
       "      <td>...</td>\n",
       "      <td>...</td>\n",
       "      <td>...</td>\n",
       "      <td>...</td>\n",
       "    </tr>\n",
       "    <tr>\n",
       "      <th>142164</th>\n",
       "      <td>1.089911</td>\n",
       "      <td>-1.032667</td>\n",
       "      <td>-2.088555</td>\n",
       "      <td>1.085640</td>\n",
       "      <td>0.373463</td>\n",
       "      <td>0.424833</td>\n",
       "      <td>-0.759239</td>\n",
       "      <td>0.728658</td>\n",
       "      <td>-1.180196</td>\n",
       "      <td>-0.481063</td>\n",
       "    </tr>\n",
       "    <tr>\n",
       "      <th>142165</th>\n",
       "      <td>-1.636403</td>\n",
       "      <td>0.744549</td>\n",
       "      <td>0.610196</td>\n",
       "      <td>-0.711503</td>\n",
       "      <td>-1.030805</td>\n",
       "      <td>-1.993025</td>\n",
       "      <td>0.805749</td>\n",
       "      <td>-0.353627</td>\n",
       "      <td>-0.055461</td>\n",
       "      <td>-0.481063</td>\n",
       "    </tr>\n",
       "    <tr>\n",
       "      <th>142166</th>\n",
       "      <td>-0.674175</td>\n",
       "      <td>-0.986506</td>\n",
       "      <td>0.610196</td>\n",
       "      <td>-0.112455</td>\n",
       "      <td>0.373463</td>\n",
       "      <td>0.424833</td>\n",
       "      <td>-1.434050</td>\n",
       "      <td>0.728658</td>\n",
       "      <td>0.319451</td>\n",
       "      <td>-0.481063</td>\n",
       "    </tr>\n",
       "    <tr>\n",
       "      <th>142167</th>\n",
       "      <td>0.929539</td>\n",
       "      <td>2.013989</td>\n",
       "      <td>-2.088555</td>\n",
       "      <td>0.187068</td>\n",
       "      <td>0.841553</td>\n",
       "      <td>-1.993025</td>\n",
       "      <td>0.805749</td>\n",
       "      <td>0.728658</td>\n",
       "      <td>0.919309</td>\n",
       "      <td>-0.481063</td>\n",
       "    </tr>\n",
       "    <tr>\n",
       "      <th>142168</th>\n",
       "      <td>0.127682</td>\n",
       "      <td>-0.640295</td>\n",
       "      <td>-1.548805</td>\n",
       "      <td>1.684687</td>\n",
       "      <td>-1.498895</td>\n",
       "      <td>0.424833</td>\n",
       "      <td>1.523634</td>\n",
       "      <td>0.728658</td>\n",
       "      <td>0.244468</td>\n",
       "      <td>-0.481063</td>\n",
       "    </tr>\n",
       "  </tbody>\n",
       "</table>\n",
       "<p>142169 rows × 10 columns</p>\n",
       "</div>"
      ],
      "text/plain": [
       "        vehicle_type  registration_year   gearbox     power     model  \\\n",
       "0           0.127682          -0.086357  0.610196  1.085640 -1.966984   \n",
       "1           0.608796          -0.201761 -0.064492  0.786116 -1.966984   \n",
       "2          -0.193061          -0.986506  0.610196  1.385163  0.373463   \n",
       "3           0.769168          -0.040196  0.610196 -1.011027  1.309643   \n",
       "4           0.288054          -1.148071  0.610196  1.385163  0.373463   \n",
       "...              ...                ...       ...       ...       ...   \n",
       "142164      1.089911          -1.032667 -2.088555  1.085640  0.373463   \n",
       "142165     -1.636403           0.744549  0.610196 -0.711503 -1.030805   \n",
       "142166     -0.674175          -0.986506  0.610196 -0.112455  0.373463   \n",
       "142167      0.929539           2.013989 -2.088555  0.187068  0.841553   \n",
       "142168      0.127682          -0.640295 -1.548805  1.684687 -1.498895   \n",
       "\n",
       "        kilometer  registration_month  fueltype     brand  repaired  \n",
       "0        0.424833            0.805749 -1.435913  0.244468  1.120703  \n",
       "1       -1.993025           -0.888458 -1.435913 -0.055461 -0.481063  \n",
       "2        0.424833            0.087865  0.728658  1.294221 -0.481063  \n",
       "3        0.424833            1.796430 -1.435913 -0.055461 -0.481063  \n",
       "4        0.424833           -0.113143 -1.435913 -0.805284  2.722469  \n",
       "...           ...                 ...       ...       ...       ...  \n",
       "142164   0.424833           -0.759239  0.728658 -1.180196 -0.481063  \n",
       "142165  -1.993025            0.805749 -0.353627 -0.055461 -0.481063  \n",
       "142166   0.424833           -1.434050  0.728658  0.319451 -0.481063  \n",
       "142167  -1.993025            0.805749  0.728658  0.919309 -0.481063  \n",
       "142168   0.424833            1.523634  0.728658  0.244468 -0.481063  \n",
       "\n",
       "[142169 rows x 10 columns]"
      ]
     },
     "execution_count": 29,
     "metadata": {},
     "output_type": "execute_result"
    }
   ],
   "source": [
    "pd.DataFrame(features_train, columns = df.drop('price', axis=1).columns)"
   ]
  },
  {
   "cell_type": "markdown",
   "metadata": {},
   "source": [
    "<font color='blue'><b>Комментарий ревьюера 2: </b></font> ⚠️\\\n",
    "<font color='darkorange'> Обрати внимание, категории тоже отмасштабированы. Категориальные данные должны быть дискретной выличиной (int).</font>"
   ]
  },
  {
   "cell_type": "markdown",
   "metadata": {},
   "source": [
    "### Напишем функцию рандомного Greedsearch для быстрого подбора гиперпараметров"
   ]
  },
  {
   "cell_type": "code",
   "execution_count": 70,
   "metadata": {},
   "outputs": [],
   "source": [
    "# gridsearch с таймингом с вариантом рандомного или точного поиска\n",
    "def gs_model(model, param_grid, model_data_name, X, y):\n",
    "    gs = RandomizedSearchCV(\n",
    "        model,\n",
    "        param_distributions=param_grid,\n",
    "        scoring='neg_root_mean_squared_error',\n",
    "        n_jobs=14,\n",
    "        random_state=RANDOM_STATE\n",
    "    )\n",
    "    gs.fit(X, y)\n",
    "    # лучшее значение RMSE на кросс-валидации\n",
    "    print(f'best_score: {gs.best_score_ * -1}')\n",
    "    globals()[f\"rmse_{model_data_name}\"]= gs.best_score_* -1\n",
    "    globals()[f\"time_{model_data_name}\"]= gs.refit_time_\n",
    "    # лучшие гиперпараметры\n",
    "    print(f'best_params: {gs.best_params_}')\n",
    "    print(f'best_time: {gs.refit_time_}')\n",
    "    return"
   ]
  },
  {
   "cell_type": "markdown",
   "metadata": {},
   "source": [
    "<font color='blue'><b>Комментарий ревьюера: </b></font> ❌\\\n",
    "<font color='red'><s> Время обучения модели нужно измерить без подбора гиперпараметров. Сетка параметров у моделей разная и сравнивать время их перебора некорректно.</s></font>"
   ]
  },
  {
   "cell_type": "markdown",
   "metadata": {},
   "source": [
    "<font color='purple'><b>поправил</b></font>"
   ]
  },
  {
   "cell_type": "markdown",
   "metadata": {},
   "source": [
    "<font color='blue'><b>Комментарий ревьюера : </b></font>\\\n",
    "<font color='blue'>Время обучения модели с лучшими параметрами на всех данных (в конце подбора) можно вытащить как  `gs.refit_time_`</font>"
   ]
  },
  {
   "cell_type": "markdown",
   "metadata": {},
   "source": [
    "### Обучим модель LGBRegressor на обучающей выборке"
   ]
  },
  {
   "cell_type": "code",
   "execution_count": 71,
   "metadata": {},
   "outputs": [],
   "source": [
    "model_lgb = lgb.LGBMRegressor()"
   ]
  },
  {
   "cell_type": "code",
   "execution_count": 72,
   "metadata": {},
   "outputs": [],
   "source": [
    "# словарь с гиперпараметрами и значениями, которые хотим перебрать\n",
    "parameters = {\n",
    "    'n_estimators': np.arange(1, 1000, 10),\n",
    "    'max_depth': np.arange(1, 10, 1),\n",
    "    'learning_rate': np.arange(0.01, 1, 0.01)}"
   ]
  },
  {
   "cell_type": "markdown",
   "metadata": {},
   "source": [
    "#### Найдем примерные лучшие гиперпараметры для LGBRegressor"
   ]
  },
  {
   "cell_type": "code",
   "execution_count": 73,
   "metadata": {},
   "outputs": [],
   "source": [
    "gs_model(model_lgb, parameters, 'lgb_train', features_train, target_train)"
   ]
  },
  {
   "cell_type": "markdown",
   "metadata": {},
   "source": [
    "<font color='blue'><b>Комментарий ревьюера: </b></font> ❌\\\n",
    "<font color='red'> Модели основанные на деревьях (все модели в этом проекте) , могут работать с порядковым кодированием категорий (OrdinalEncoding). OHE сильно раздувает размерность данных, что сказывается на вычислительной нагрузке (времени).</font>"
   ]
  },
  {
   "cell_type": "markdown",
   "metadata": {},
   "source": [
    "#### поправил"
   ]
  },
  {
   "cell_type": "markdown",
   "metadata": {},
   "source": [
    "<font color='blue'><b>Комментарий ревьюера: </b></font> ⚠️\\\n",
    "<font color='darkorange'>LGBM может сам кодировать категории, если их перевести в тип данных 'category', но эта кодровка занимает дополнительное время. Если кодировать OE, то получатся быстрее.</font>"
   ]
  },
  {
   "cell_type": "code",
   "execution_count": 74,
   "metadata": {},
   "outputs": [
    {
     "data": {
      "text/plain": [
       "(1509.680042921857, 16.390661001205444)"
      ]
     },
     "execution_count": 32,
     "metadata": {},
     "output_type": "execute_result"
    },
    {
     "data": {
      "text/plain": [
       "(1509.680042921857, 16.410186052322388)"
      ]
     },
     "execution_count": 74,
     "metadata": {},
     "output_type": "execute_result"
    }
   ],
   "source": [
    "rmse_lgb_train, time_lgb_train"
   ]
  },
  {
   "cell_type": "code",
   "execution_count": 75,
   "metadata": {},
   "outputs": [
    {
     "data": {
      "text/plain": [
       "1491.8726305132707"
      ]
     },
     "execution_count": 33,
     "metadata": {},
     "output_type": "execute_result"
    },
    {
     "data": {
      "text/plain": [
       "1491.8726305132707"
      ]
     },
     "execution_count": 75,
     "metadata": {},
     "output_type": "execute_result"
    }
   ],
   "source": [
    "%%time\n",
    "# Проверим модель на валидационной выборке\n",
    "model_lgb_true = lgb.LGBMRegressor(learning_rate=0.31, max_depth=8, n_estimators=661)\n",
    "model_lgb_true.fit(features_train, target_train)\n",
    "probs_lgb = model_lgb_true.predict(features_valid)\n",
    "rmse_lgb_valid = mean_squared_error(probs_lgb, target_valid, squared=False)\n",
    "rmse_lgb_valid"
   ]
  },
  {
   "cell_type": "markdown",
   "metadata": {},
   "source": [
    "<font color='blue'><b>Комментарий ревьюера: </b></font> ⚠️\\\n",
    "<font color='darkorange'> RMSE можно получить передав параметр `squared= False` в `mean_squared_error`</font>"
   ]
  },
  {
   "cell_type": "markdown",
   "metadata": {},
   "source": [
    "#### поправил"
   ]
  },
  {
   "cell_type": "markdown",
   "metadata": {},
   "source": [
    "#### Вывод по бустингу LGBM Regressor\n",
    "Для экономии времени мы использовали рандомный гридсерч и подбирали гиперпараметры для бустинга\n",
    "В итоге подбор и обучение модели заняли 16.39 sec. RMSE - 1509\n",
    "На валидационной выборке результат тоже хороший - 1491"
   ]
  },
  {
   "cell_type": "markdown",
   "metadata": {},
   "source": [
    "### Обучим модель Random Forest Regression на обучающей выборке"
   ]
  },
  {
   "cell_type": "code",
   "execution_count": 76,
   "metadata": {},
   "outputs": [],
   "source": [
    "# попробуем не очень большое кол-во деревьев и рандом, так как эта модель будет слишком долгой если будем крутить до 1000 с шагом 10\n",
    "model_rndforest = RandomForestRegressor()\n",
    "# словарь с гиперпараметрами и значениями, которые хотим перебрать\n",
    "parameters_rdf = {\n",
    "    'n_estimators': np.arange(1, 300, 20),\n",
    "    'max_depth': np.arange(1, 10, 2)}"
   ]
  },
  {
   "cell_type": "code",
   "execution_count": 77,
   "metadata": {},
   "outputs": [],
   "source": [
    "gs_model(model_rndforest, parameters_rdf, 'rf_train', features_train, target_train)"
   ]
  },
  {
   "cell_type": "code",
   "execution_count": 78,
   "metadata": {},
   "outputs": [
    {
     "data": {
      "text/plain": [
       "1852.381385583899"
      ]
     },
     "execution_count": 36,
     "metadata": {},
     "output_type": "execute_result"
    },
    {
     "data": {
      "text/plain": [
       "1860.1713460316537"
      ]
     },
     "execution_count": 78,
     "metadata": {},
     "output_type": "execute_result"
    }
   ],
   "source": [
    "%%time\n",
    "# Проверим модель на валидационной выборке\n",
    "model_rndforest_true = RandomForestRegressor(n_estimators=21, max_depth=9)\n",
    "model_rndforest_true.fit(features_train, target_train)\n",
    "probs_rnd_val = model_rndforest_true.predict(features_valid)\n",
    "mean_squared_error(probs_rnd_val, target_valid, squared=False)"
   ]
  },
  {
   "cell_type": "markdown",
   "metadata": {},
   "source": [
    "<font color='blue'><b>Комментарий ревьюера: </b></font> ⚠️\\\n",
    "<font color='darkorange'> CatBoost может сам кодировать категории из типа данных 'object' и 'category', но эта кодровка занимает дополнительное время. Если кодировать OE, то получатся быстрее.</font>"
   ]
  },
  {
   "cell_type": "markdown",
   "metadata": {},
   "source": [
    "#### поправил"
   ]
  },
  {
   "cell_type": "markdown",
   "metadata": {},
   "source": [
    "#### Вывод\n",
    "С лесом в этой задаче мы будем очень долго искать минимальную метрику, так как даже на 100 деревьев тайминг 166 секунды даже с рандомным гридсерчем.\n",
    "а результат слишком низкий по сравнению с бустингм от Майкрософт - 1892\n",
    "Обучение и предсказание на валидационной модели заняло 16.9 секунд. показатель 1894"
   ]
  },
  {
   "cell_type": "markdown",
   "metadata": {},
   "source": [
    "### Обучим модель Catboost на обучающей выборке (заценим бустинг от Яда)"
   ]
  },
  {
   "cell_type": "code",
   "execution_count": 79,
   "metadata": {},
   "outputs": [],
   "source": [
    "modelcat = CatBoostRegressor()\n",
    "parameters_cat = {\n",
    "    'iterations': np.arange(1, 1000, 10),\n",
    "    'depth': np.arange(1, 10, 1),\n",
    "    'learning_rate': np.arange(0.01, 1, 0.01)}\n",
    "gs_model(modelcat, parameters_cat, 'catboost_train', features_train, target_train)"
   ]
  },
  {
   "cell_type": "code",
   "execution_count": 80,
   "metadata": {},
   "outputs": [
    {
     "data": {
      "text/plain": [
       "(1518.3578587774405, 5.018740892410278)"
      ]
     },
     "execution_count": 38,
     "metadata": {},
     "output_type": "execute_result"
    },
    {
     "data": {
      "text/plain": [
       "(1518.3578587774405, 4.839421987533569)"
      ]
     },
     "execution_count": 80,
     "metadata": {},
     "output_type": "execute_result"
    }
   ],
   "source": [
    "rmse_catboost_train, time_catboost_train"
   ]
  },
  {
   "cell_type": "code",
   "execution_count": 81,
   "metadata": {},
   "outputs": [
    {
     "data": {
      "text/plain": [
       "1504.9103721690535"
      ]
     },
     "execution_count": 39,
     "metadata": {},
     "output_type": "execute_result"
    },
    {
     "data": {
      "text/plain": [
       "1504.9103721690535"
      ]
     },
     "execution_count": 81,
     "metadata": {},
     "output_type": "execute_result"
    }
   ],
   "source": [
    "%%time\n",
    "# Проверим модель на валидационной выборке\n",
    "model_cat_true = CatBoostRegressor(learning_rate=0.57, iterations=831, depth=5)\n",
    "model_cat_true.fit(features_train, target_train)\n",
    "probs_cat = model_cat_true.predict(features_valid)\n",
    "rmse_catboost_valid = mean_squared_error(probs_cat, target_valid, squared=False)\n",
    "rmse_catboost_valid"
   ]
  },
  {
   "cell_type": "markdown",
   "metadata": {},
   "source": [
    "#### Вывод по бустингу CatBoost\n",
    "Для экономии времени мы использовали рандомный гридсерч и подбирали гиперпараметры для бустинга\n",
    "В итоге подбор и обучение модели заняли всего 5 секунд!. Это отличный результат с показателем RMSE: 1518. (всего на 9 меньше чем у LGB)\n",
    "На валидационной выборке результат тоже хороший - 1504"
   ]
  },
  {
   "cell_type": "markdown",
   "metadata": {},
   "source": [
    "## Анализ моделей"
   ]
  },
  {
   "cell_type": "markdown",
   "metadata": {},
   "source": [
    "Посмотрим как ведут себя обе модели бустинга на тестовой выборке:"
   ]
  },
  {
   "cell_type": "code",
   "execution_count": 82,
   "metadata": {},
   "outputs": [
    {
     "data": {
      "text/plain": [
       "1494.9559332730075"
      ]
     },
     "execution_count": 40,
     "metadata": {},
     "output_type": "execute_result"
    },
    {
     "data": {
      "text/plain": [
       "1494.9559332730075"
      ]
     },
     "execution_count": 82,
     "metadata": {},
     "output_type": "execute_result"
    }
   ],
   "source": [
    "%%time\n",
    "probs_lgb_test = model_lgb_true.predict(features_test)\n",
    "rmse_lgb_test = mean_squared_error(probs_lgb_test, target_test, squared=False)\n",
    "rmse_lgb_test"
   ]
  },
  {
   "cell_type": "code",
   "execution_count": 83,
   "metadata": {},
   "outputs": [
    {
     "data": {
      "text/plain": [
       "1499.5132588538925"
      ]
     },
     "execution_count": 41,
     "metadata": {},
     "output_type": "execute_result"
    },
    {
     "data": {
      "text/plain": [
       "1499.5132588538925"
      ]
     },
     "execution_count": 83,
     "metadata": {},
     "output_type": "execute_result"
    }
   ],
   "source": [
    "%%time\n",
    "probs_cat_test = model_cat_true.predict(features_test)\n",
    "rmse_catboost_test = mean_squared_error(probs_cat_test, target_test, squared=False)\n",
    "rmse_catboost_test"
   ]
  },
  {
   "cell_type": "code",
   "execution_count": 85,
   "metadata": {},
   "outputs": [
    {
     "data": {
      "text/html": [
       "<div>\n",
       "<style scoped>\n",
       "    .dataframe tbody tr th:only-of-type {\n",
       "        vertical-align: middle;\n",
       "    }\n",
       "\n",
       "    .dataframe tbody tr th {\n",
       "        vertical-align: top;\n",
       "    }\n",
       "\n",
       "    .dataframe thead th {\n",
       "        text-align: right;\n",
       "    }\n",
       "</style>\n",
       "<table border=\"1\" class=\"dataframe\">\n",
       "  <thead>\n",
       "    <tr style=\"text-align: right;\">\n",
       "      <th></th>\n",
       "      <th>Model</th>\n",
       "      <th>RMSE train</th>\n",
       "      <th>RMSE valid</th>\n",
       "      <th>RMSE test</th>\n",
       "      <th>gs_cv_time</th>\n",
       "    </tr>\n",
       "  </thead>\n",
       "  <tbody>\n",
       "    <tr>\n",
       "      <th>0</th>\n",
       "      <td>LightGBM</td>\n",
       "      <td>1509.680043</td>\n",
       "      <td>1491.872631</td>\n",
       "      <td>1494.955933</td>\n",
       "      <td>16.410186</td>\n",
       "    </tr>\n",
       "    <tr>\n",
       "      <th>1</th>\n",
       "      <td>CatBoost</td>\n",
       "      <td>1518.357859</td>\n",
       "      <td>1504.910372</td>\n",
       "      <td>1499.513259</td>\n",
       "      <td>4.839422</td>\n",
       "    </tr>\n",
       "  </tbody>\n",
       "</table>\n",
       "</div>"
      ],
      "text/plain": [
       "      Model   RMSE train   RMSE valid    RMSE test  gs_cv_time\n",
       "0  LightGBM  1509.680043  1491.872631  1494.955933   16.410186\n",
       "1  CatBoost  1518.357859  1504.910372  1499.513259    4.839422"
      ]
     },
     "execution_count": 85,
     "metadata": {},
     "output_type": "execute_result"
    }
   ],
   "source": [
    "# создадим таблицу с результатами\n",
    "d = {\n",
    "    'Model': ['LightGBM', 'CatBoost'],\n",
    "    'RMSE train': [rmse_lgb_train, rmse_catboost_train],\n",
    "    'RMSE valid': [rmse_lgb_valid, rmse_catboost_valid],\n",
    "    'RMSE test': [rmse_lgb_test, rmse_catboost_test],\n",
    "    'gs_cv_time': [time_lgb_train, time_catboost_train]}\n",
    "data = pd.DataFrame(data=d)\n",
    "data"
   ]
  },
  {
   "cell_type": "markdown",
   "metadata": {},
   "source": [
    "<font color='blue'><b>Комментарий ревьюера: </b></font> ✔️\\\n",
    "<font color='green'> Отлично, что есть табличка результатов для сравнения.</font>"
   ]
  },
  {
   "cell_type": "markdown",
   "metadata": {},
   "source": [
    "## Общий вывод:\n",
    "- Проведена обрботка данных, d которой были удалены неинформативные признаки\n",
    "- Выявлены аномалии, проведена работа с ними\n",
    "- Заполнены пропуски\n",
    "- Обучено 3 модели - 2 бустинга и 1 ансамбль леса\n",
    "- В итоге модель lightGBM показала лучший результат по метрике RMSE\n",
    "- Однако CatBoost  показала отличный результат в соотношении качество + скорость (на тестовой выборке RMSE gочти как и в\n",
    "LGB однако Catboost сработал в 3 раза быстрее!\n",
    "- учитывая все факторы, готов предложить модель бустинга CatBoost с подобранными гиперпараметрыми."
   ]
  },
  {
   "cell_type": "markdown",
   "metadata": {},
   "source": [
    "<font color='blue'><b>Комментарий ревьюера: </b></font> ✔️\\\n",
    "<font color='green'>Очень приятно видеть вывод в конце проекта! Приведены ответы на главные вопросы проекта.</font>"
   ]
  },
  {
   "cell_type": "markdown",
   "metadata": {},
   "source": [
    "# Все исправил!"
   ]
  },
  {
   "cell_type": "markdown",
   "metadata": {},
   "source": [
    "<font color='blue'><b>Итоговый комментарий ревьюера 2</b></font>\\\n",
    "<font color='green'> Павел, проект принят! \\\n",
    "Все этапы пройдены. Все критичные рекомендации учтены.\\\n",
    "Надеюсь, тебе понравился процесс выполнения и результат.</font> \\\n",
    "<font color='blue'><b>Спасибо, удачи в освоении профессии!</b></font>"
   ]
  },
  {
   "cell_type": "raw",
   "metadata": {},
   "source": []
  },
  {
   "cell_type": "raw",
   "metadata": {},
   "source": []
  },
  {
   "cell_type": "raw",
   "metadata": {},
   "source": []
  },
  {
   "cell_type": "markdown",
   "metadata": {},
   "source": [
    "<font color='blue'><b>Итоговый комментарий ревьюера</b></font>\\\n",
    "<font color='green'>Павел, хороший проект получился!\n",
    "Большое спасибо за проделанную работу. Видно, что приложено много усилий.\n",
    "</font>\n",
    "\n",
    "<font color='blue'>Что нужно исправить:</font>\n",
    "<ul><font color='red'>Используй кодирование категорий адекватное моделям.</font></ul>\n",
    "<ul><font color='red'>Время обучения нужно измерить без подбора гиперпараметров.</font></ul>\n",
    "\n",
    "<font color='blue'>Что можно сделать лучше:</font>\n",
    "<font color='orange'>В работе я оставил несколько советов. Буду рад, если ты учтешь их.</font></ul>\n",
    "\n",
    "<font color='blue'><b>Жду новую версию проекта :)</b></font>"
   ]
  },
  {
   "cell_type": "markdown",
   "metadata": {},
   "source": [
    "<font color='blue'><b>Комментарий ревьюера : </b></font> ✔️\\\n",
    "<font color='green'> Мы, с коллегами, решили сделать небольшое дополнение к курсу по этому спринту.  https://colab.research.google.com/drive/1_gAMXcQKoCShB_l8FNtYEejMnosm9mvt?usp=sharing с примерами кодировки признаков разного уровня сложности. Посмотри, пожалуйста. Это может сильно помочь с предобработкой данных для моделей.</font>"
   ]
  },
  {
   "cell_type": "markdown",
   "metadata": {},
   "source": [
    "## Чек-лист проверки"
   ]
  },
  {
   "cell_type": "markdown",
   "metadata": {},
   "source": [
    "Поставьте 'x' в выполненных пунктах. Далее нажмите Shift+Enter."
   ]
  },
  {
   "cell_type": "markdown",
   "metadata": {},
   "source": [
    "- [x]  Jupyter Notebook открыт\n",
    "- [x]  Весь код выполняется без ошибок\n",
    "- [x]  Ячейки с кодом расположены в порядке исполнения\n",
    "- [x]  Выполнена загрузка и подготовка данных\n",
    "- [x]  Выполнено обучение моделей\n",
    "- [x]  Есть анализ скорости работы и качества моделей"
   ]
  }
 ],
 "metadata": {
  "ExecuteTimeLog": [
   {
    "duration": 3790,
    "start_time": "2023-02-26T14:11:28.639Z"
   },
   {
    "duration": 0,
    "start_time": "2023-02-26T14:11:32.431Z"
   },
   {
    "duration": 0,
    "start_time": "2023-02-26T14:11:32.433Z"
   },
   {
    "duration": 0,
    "start_time": "2023-02-26T14:11:32.434Z"
   },
   {
    "duration": 0,
    "start_time": "2023-02-26T14:11:32.435Z"
   },
   {
    "duration": 0,
    "start_time": "2023-02-26T14:11:32.436Z"
   },
   {
    "duration": 0,
    "start_time": "2023-02-26T14:11:32.437Z"
   },
   {
    "duration": 0,
    "start_time": "2023-02-26T14:11:32.438Z"
   },
   {
    "duration": 0,
    "start_time": "2023-02-26T14:11:32.439Z"
   },
   {
    "duration": 0,
    "start_time": "2023-02-26T14:11:32.440Z"
   },
   {
    "duration": 0,
    "start_time": "2023-02-26T14:11:32.441Z"
   },
   {
    "duration": 0,
    "start_time": "2023-02-26T14:11:32.442Z"
   },
   {
    "duration": 0,
    "start_time": "2023-02-26T14:11:32.443Z"
   },
   {
    "duration": 0,
    "start_time": "2023-02-26T14:11:32.444Z"
   },
   {
    "duration": 0,
    "start_time": "2023-02-26T14:11:32.445Z"
   },
   {
    "duration": 0,
    "start_time": "2023-02-26T14:11:32.446Z"
   },
   {
    "duration": 0,
    "start_time": "2023-02-26T14:11:32.447Z"
   },
   {
    "duration": 0,
    "start_time": "2023-02-26T14:11:32.448Z"
   },
   {
    "duration": 0,
    "start_time": "2023-02-26T14:11:32.449Z"
   },
   {
    "duration": 0,
    "start_time": "2023-02-26T14:11:32.450Z"
   },
   {
    "duration": 0,
    "start_time": "2023-02-26T14:11:32.451Z"
   },
   {
    "duration": 0,
    "start_time": "2023-02-26T14:11:32.451Z"
   },
   {
    "duration": 0,
    "start_time": "2023-02-26T14:11:32.452Z"
   },
   {
    "duration": 0,
    "start_time": "2023-02-26T14:11:32.453Z"
   },
   {
    "duration": 2498,
    "start_time": "2023-02-26T14:19:33.170Z"
   },
   {
    "duration": 1654,
    "start_time": "2023-02-26T15:11:43.611Z"
   },
   {
    "duration": 48,
    "start_time": "2023-02-26T15:11:54.698Z"
   },
   {
    "duration": 5,
    "start_time": "2023-02-26T15:11:58.228Z"
   },
   {
    "duration": 1151,
    "start_time": "2023-02-26T15:12:01.601Z"
   },
   {
    "duration": 39,
    "start_time": "2023-02-26T15:12:08.220Z"
   },
   {
    "duration": 86,
    "start_time": "2023-02-26T15:12:09.974Z"
   },
   {
    "duration": 6,
    "start_time": "2023-02-26T15:12:54.678Z"
   },
   {
    "duration": 20,
    "start_time": "2023-02-26T15:21:27.144Z"
   },
   {
    "duration": 5,
    "start_time": "2023-02-26T15:21:30.272Z"
   },
   {
    "duration": 784,
    "start_time": "2023-02-26T15:21:31.087Z"
   },
   {
    "duration": 17,
    "start_time": "2023-02-26T15:21:33.519Z"
   },
   {
    "duration": 18,
    "start_time": "2023-02-26T15:21:38.000Z"
   },
   {
    "duration": 68,
    "start_time": "2023-02-26T15:21:41.105Z"
   },
   {
    "duration": 7,
    "start_time": "2023-02-26T15:21:49.314Z"
   },
   {
    "duration": 53,
    "start_time": "2023-02-26T15:22:00.962Z"
   },
   {
    "duration": 133,
    "start_time": "2023-02-26T15:22:12.114Z"
   },
   {
    "duration": 10,
    "start_time": "2023-02-26T15:22:21.381Z"
   },
   {
    "duration": 24,
    "start_time": "2023-02-26T15:22:37.627Z"
   },
   {
    "duration": 77,
    "start_time": "2023-02-26T15:22:43.325Z"
   },
   {
    "duration": 12,
    "start_time": "2023-02-26T15:22:45.834Z"
   },
   {
    "duration": 8,
    "start_time": "2023-02-26T15:22:46.178Z"
   },
   {
    "duration": 166,
    "start_time": "2023-02-26T15:22:47.749Z"
   },
   {
    "duration": 69,
    "start_time": "2023-02-26T15:22:51.913Z"
   },
   {
    "duration": 24,
    "start_time": "2023-02-26T15:22:52.266Z"
   },
   {
    "duration": 65,
    "start_time": "2023-02-26T15:23:28.399Z"
   },
   {
    "duration": 4,
    "start_time": "2023-02-26T15:23:44.723Z"
   },
   {
    "duration": 208,
    "start_time": "2023-02-26T15:23:47.087Z"
   },
   {
    "duration": 69,
    "start_time": "2023-02-26T15:31:58.867Z"
   },
   {
    "duration": 74,
    "start_time": "2023-02-26T15:40:40.959Z"
   },
   {
    "duration": 71,
    "start_time": "2023-02-26T15:40:56.217Z"
   },
   {
    "duration": 74,
    "start_time": "2023-02-26T15:41:24.022Z"
   },
   {
    "duration": 93,
    "start_time": "2023-02-26T15:43:52.584Z"
   },
   {
    "duration": 332,
    "start_time": "2023-02-26T15:44:29.847Z"
   },
   {
    "duration": 11,
    "start_time": "2023-02-26T15:47:00.074Z"
   },
   {
    "duration": 72,
    "start_time": "2023-02-26T15:50:11.055Z"
   },
   {
    "duration": 285,
    "start_time": "2023-02-26T15:50:15.093Z"
   },
   {
    "duration": 22,
    "start_time": "2023-02-26T15:51:21.367Z"
   },
   {
    "duration": 113,
    "start_time": "2023-02-26T15:53:05.031Z"
   },
   {
    "duration": 103,
    "start_time": "2023-02-26T15:53:39.504Z"
   },
   {
    "duration": 101,
    "start_time": "2023-02-26T15:53:45.175Z"
   },
   {
    "duration": 263,
    "start_time": "2023-02-26T15:54:06.847Z"
   },
   {
    "duration": 235,
    "start_time": "2023-02-26T15:54:37.933Z"
   },
   {
    "duration": 274,
    "start_time": "2023-02-26T15:56:29.030Z"
   },
   {
    "duration": 348,
    "start_time": "2023-02-26T15:57:17.190Z"
   },
   {
    "duration": 4,
    "start_time": "2023-02-26T15:59:37.856Z"
   },
   {
    "duration": 441,
    "start_time": "2023-02-26T15:59:40.694Z"
   },
   {
    "duration": 13,
    "start_time": "2023-02-26T15:59:47.640Z"
   },
   {
    "duration": 5,
    "start_time": "2023-02-26T16:00:21.249Z"
   },
   {
    "duration": 3,
    "start_time": "2023-02-26T16:00:29.293Z"
   },
   {
    "duration": 3,
    "start_time": "2023-02-26T16:00:30.574Z"
   },
   {
    "duration": 174799,
    "start_time": "2023-02-26T16:00:47.380Z"
   },
   {
    "duration": 0,
    "start_time": "2023-02-26T16:03:42.181Z"
   },
   {
    "duration": 0,
    "start_time": "2023-02-26T16:03:42.185Z"
   },
   {
    "duration": 6731,
    "start_time": "2023-02-27T14:55:53.886Z"
   },
   {
    "duration": 8,
    "start_time": "2023-02-27T14:56:00.685Z"
   },
   {
    "duration": 4689,
    "start_time": "2023-02-27T14:56:00.699Z"
   },
   {
    "duration": 101,
    "start_time": "2023-02-27T14:56:05.390Z"
   },
   {
    "duration": 222,
    "start_time": "2023-02-27T14:56:05.494Z"
   },
   {
    "duration": 587,
    "start_time": "2023-02-27T14:56:05.718Z"
   },
   {
    "duration": 15,
    "start_time": "2023-02-27T14:56:06.308Z"
   },
   {
    "duration": 304,
    "start_time": "2023-02-27T14:56:06.325Z"
   },
   {
    "duration": 19,
    "start_time": "2023-02-27T14:56:06.688Z"
   },
   {
    "duration": 87301,
    "start_time": "2023-02-27T14:56:06.717Z"
   },
   {
    "duration": 407,
    "start_time": "2023-02-27T14:57:34.088Z"
   },
   {
    "duration": 6,
    "start_time": "2023-02-27T14:57:34.497Z"
   },
   {
    "duration": 3381,
    "start_time": "2023-02-27T14:57:34.506Z"
   },
   {
    "duration": 0,
    "start_time": "2023-02-27T14:57:37.897Z"
   },
   {
    "duration": 0,
    "start_time": "2023-02-27T14:57:37.902Z"
   },
   {
    "duration": 0,
    "start_time": "2023-02-27T14:57:37.908Z"
   },
   {
    "duration": 0,
    "start_time": "2023-02-27T14:57:37.914Z"
   },
   {
    "duration": 0,
    "start_time": "2023-02-27T14:57:37.919Z"
   },
   {
    "duration": 0,
    "start_time": "2023-02-27T14:57:37.921Z"
   },
   {
    "duration": 0,
    "start_time": "2023-02-27T14:57:37.986Z"
   },
   {
    "duration": 0,
    "start_time": "2023-02-27T14:57:37.987Z"
   },
   {
    "duration": 0,
    "start_time": "2023-02-27T14:57:37.989Z"
   },
   {
    "duration": 0,
    "start_time": "2023-02-27T14:57:37.992Z"
   },
   {
    "duration": 0,
    "start_time": "2023-02-27T14:57:37.998Z"
   },
   {
    "duration": 0,
    "start_time": "2023-02-27T14:57:38.000Z"
   },
   {
    "duration": 0,
    "start_time": "2023-02-27T14:57:38.002Z"
   },
   {
    "duration": 1,
    "start_time": "2023-02-27T14:57:38.008Z"
   },
   {
    "duration": 14,
    "start_time": "2023-02-27T14:57:50.187Z"
   },
   {
    "duration": 100,
    "start_time": "2023-02-27T14:57:51.486Z"
   },
   {
    "duration": 98,
    "start_time": "2023-02-27T14:57:53.217Z"
   },
   {
    "duration": 384,
    "start_time": "2023-02-27T14:57:54.902Z"
   },
   {
    "duration": 86,
    "start_time": "2023-02-27T14:57:55.804Z"
   },
   {
    "duration": 22,
    "start_time": "2023-02-27T14:57:56.086Z"
   },
   {
    "duration": 919,
    "start_time": "2023-02-27T14:57:56.287Z"
   },
   {
    "duration": 485,
    "start_time": "2023-02-27T14:57:58.202Z"
   },
   {
    "duration": 103,
    "start_time": "2023-02-27T14:57:59.292Z"
   },
   {
    "duration": 99,
    "start_time": "2023-02-27T14:58:00.794Z"
   },
   {
    "duration": 304,
    "start_time": "2023-02-27T14:58:01.798Z"
   },
   {
    "duration": 6,
    "start_time": "2023-02-27T14:58:02.686Z"
   },
   {
    "duration": 8711,
    "start_time": "2023-02-27T14:58:03.692Z"
   },
   {
    "duration": 2724,
    "start_time": "2023-02-27T14:58:12.487Z"
   },
   {
    "duration": 128,
    "start_time": "2023-02-27T14:59:24.585Z"
   },
   {
    "duration": 211,
    "start_time": "2023-02-27T14:59:52.187Z"
   }
  ],
  "kernelspec": {
   "display_name": "Python 3 (ipykernel)",
   "language": "python",
   "name": "python3"
  },
  "language_info": {
   "codemirror_mode": {
    "name": "ipython",
    "version": 3
   },
   "file_extension": ".py",
   "mimetype": "text/x-python",
   "name": "python",
   "nbconvert_exporter": "python",
   "pygments_lexer": "ipython3",
   "version": "3.9.5"
  },
  "toc": {
   "base_numbering": 1,
   "nav_menu": {},
   "number_sections": true,
   "sideBar": true,
   "skip_h1_title": true,
   "title_cell": "Table of Contents",
   "title_sidebar": "Contents",
   "toc_cell": false,
   "toc_position": {},
   "toc_section_display": true,
   "toc_window_display": false
  }
 },
 "nbformat": 4,
 "nbformat_minor": 2
}
