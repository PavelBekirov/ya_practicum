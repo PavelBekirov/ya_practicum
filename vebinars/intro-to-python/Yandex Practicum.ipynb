{
 "cells": [
  {
   "cell_type": "markdown",
   "metadata": {},
   "source": [
    "Даны два list.\n",
    "\n",
    "```python\n",
    "list1 = [1, 2, 6, 10, 'string1', 56, 'string2']\n",
    "list2 = [10, 20, 6, 100, 'string10', 5, 'string2']\n",
    "```\n",
    "\n",
    "Найти и вывести в виде list одинаковые елементы в list1 и list2 \n",
    "Если элементы в list1 и/или list2 повторяются, то в результирующем list он должен встречаться один раз."
   ]
  },
  {
   "cell_type": "code",
   "execution_count": null,
   "metadata": {},
   "outputs": [],
   "source": []
  },
  {
   "cell_type": "code",
   "execution_count": null,
   "metadata": {},
   "outputs": [],
   "source": []
  },
  {
   "cell_type": "code",
   "execution_count": null,
   "metadata": {},
   "outputs": [],
   "source": []
  },
  {
   "cell_type": "code",
   "execution_count": null,
   "metadata": {},
   "outputs": [],
   "source": []
  },
  {
   "cell_type": "code",
   "execution_count": null,
   "metadata": {},
   "outputs": [],
   "source": []
  },
  {
   "cell_type": "code",
   "execution_count": null,
   "metadata": {},
   "outputs": [],
   "source": []
  },
  {
   "cell_type": "code",
   "execution_count": null,
   "metadata": {},
   "outputs": [],
   "source": []
  },
  {
   "cell_type": "code",
   "execution_count": null,
   "metadata": {},
   "outputs": [],
   "source": []
  },
  {
   "cell_type": "code",
   "execution_count": null,
   "metadata": {},
   "outputs": [],
   "source": []
  },
  {
   "cell_type": "code",
   "execution_count": null,
   "metadata": {},
   "outputs": [],
   "source": []
  },
  {
   "cell_type": "code",
   "execution_count": null,
   "metadata": {},
   "outputs": [],
   "source": []
  },
  {
   "cell_type": "code",
   "execution_count": null,
   "metadata": {},
   "outputs": [],
   "source": []
  },
  {
   "cell_type": "markdown",
   "metadata": {},
   "source": [
    "# Функции (return, yield)"
   ]
  },
  {
   "cell_type": "code",
   "execution_count": 2,
   "metadata": {},
   "outputs": [
    {
     "name": "stdout",
     "output_type": "stream",
     "text": [
      "Result: [10, 'string2', 6]\n"
     ]
    }
   ],
   "source": [
    "list1 = [1, 2, 6, 10, 'string1', 56, 'string2']\n",
    "list2 = [10, 20, 6, 100, 'string10', 5, 'string2']\n",
    "\n",
    "result = []\n",
    "for e1 in list1:\n",
    "    for e2 in list2:\n",
    "        if e1 == e2:\n",
    "            result.append(e1)\n",
    "print(\"Result:\", f\"{list(set(result))}\")"
   ]
  },
  {
   "cell_type": "markdown",
   "metadata": {},
   "source": [
    "## Функция"
   ]
  },
  {
   "cell_type": "code",
   "execution_count": 3,
   "metadata": {},
   "outputs": [],
   "source": [
    "def find_same_elements(l1, l2, n=10):\n",
    "    result = []\n",
    "    for e1 in l1:\n",
    "        for e2 in l2:\n",
    "            if e1 == e2:\n",
    "                result.append(e1)\n",
    "    return list(set(result))"
   ]
  },
  {
   "cell_type": "code",
   "execution_count": 4,
   "metadata": {},
   "outputs": [
    {
     "name": "stdout",
     "output_type": "stream",
     "text": [
      "Result: [10, 'string2', 6]\n",
      "CPU times: user 385 µs, sys: 339 µs, total: 724 µs\n",
      "Wall time: 1.87 ms\n"
     ]
    }
   ],
   "source": [
    "%%time\n",
    "list1 = [1, 2, 6, 10, \"string1\", 56, \"string2\"]\n",
    "list2 = [10, 20, 6, 100, \"string10\", 5, \"string2\"]\n",
    "\n",
    "print(\"Result:\", f\"{find_same_elements(list1, list2)}\")"
   ]
  },
  {
   "cell_type": "code",
   "execution_count": 14,
   "metadata": {},
   "outputs": [
    {
     "name": "stdout",
     "output_type": "stream",
     "text": [
      "Length of list1: 10000\n",
      "Length of list2: 10000\n"
     ]
    }
   ],
   "source": [
    "import random\n",
    "\n",
    "total = 100_001\n",
    "size = 10_000\n",
    "list1 = random.sample(range(1, total), size)\n",
    "list2 = random.sample(range(1, total), size)\n",
    "\n",
    "print(\"Length of list1:\", f\"{len(list1)}\")\n",
    "print(\"Length of list2:\", f\"{len(list2)}\")"
   ]
  },
  {
   "cell_type": "code",
   "execution_count": 15,
   "metadata": {},
   "outputs": [
    {
     "name": "stdout",
     "output_type": "stream",
     "text": [
      "CPU times: user 3.39 s, sys: 68.2 ms, total: 3.46 s\n",
      "Wall time: 4.15 s\n"
     ]
    }
   ],
   "source": [
    "%%time\n",
    "res = find_same_elements(list1, list2)"
   ]
  },
  {
   "cell_type": "code",
   "execution_count": 16,
   "metadata": {},
   "outputs": [
    {
     "data": {
      "text/plain": [
       "(995, [51201, 34818, 51203, 55301, 30726, 61446, 43015, 38921, 24584, 79883])"
      ]
     },
     "execution_count": 16,
     "metadata": {},
     "output_type": "execute_result"
    }
   ],
   "source": [
    "len(res), res[:10]"
   ]
  },
  {
   "cell_type": "code",
   "execution_count": 19,
   "metadata": {},
   "outputs": [
    {
     "name": "stdout",
     "output_type": "stream",
     "text": [
      "4.86 s ± 1.19 s per loop (mean ± std. dev. of 7 runs, 1 loop each)\n"
     ]
    }
   ],
   "source": [
    "%%timeit\n",
    "find_same_elements(list1, list2)"
   ]
  },
  {
   "cell_type": "markdown",
   "metadata": {},
   "source": [
    "# tqdm - индикатор выполнения в Python"
   ]
  },
  {
   "cell_type": "code",
   "execution_count": 23,
   "metadata": {},
   "outputs": [
    {
     "name": "stderr",
     "output_type": "stream",
     "text": [
      "100%|██████████| 10/10 [00:10<00:00,  1.01s/it]\n"
     ]
    }
   ],
   "source": [
    "from tqdm import tqdm\n",
    "import time\n",
    "\n",
    "for i in tqdm(range(10)):\n",
    "    time.sleep(1)\n",
    "    pass"
   ]
  },
  {
   "cell_type": "markdown",
   "metadata": {},
   "source": [
    "Многослойный индикатор выполнения"
   ]
  },
  {
   "cell_type": "code",
   "execution_count": 24,
   "metadata": {},
   "outputs": [
    {
     "name": "stderr",
     "output_type": "stream",
     "text": [
      "1st loop:   0%|          | 0/3 [00:00<?, ?it/s]\n",
      "2nd loop:   0%|          | 0/10 [00:00<?, ?it/s]\u001b[A\n",
      "2nd loop:  10%|#         | 1/10 [00:00<00:00,  9.51it/s]\u001b[A\n",
      "2nd loop:  20%|##        | 2/10 [00:00<00:00,  8.43it/s]\u001b[A\n",
      "2nd loop:  30%|###       | 3/10 [00:00<00:00,  8.69it/s]\u001b[A\n",
      "2nd loop:  40%|####      | 4/10 [00:00<00:00,  8.88it/s]\u001b[A\n",
      "2nd loop:  50%|#####     | 5/10 [00:00<00:00,  9.02it/s]\u001b[A\n",
      "2nd loop:  60%|######    | 6/10 [00:00<00:00,  9.10it/s]\u001b[A\n",
      "2nd loop:  70%|#######   | 7/10 [00:00<00:00,  9.21it/s]\u001b[A\n",
      "2nd loop:  80%|########  | 8/10 [00:00<00:00,  9.28it/s]\u001b[A\n",
      "2nd loop:  90%|######### | 9/10 [00:01<00:00,  9.33it/s]\u001b[A\n",
      "2nd loop: 100%|##########| 10/10 [00:01<00:00,  8.99it/s]\u001b[A\n",
      "1st loop:  33%|###3      | 1/3 [00:01<00:02,  1.15s/it]\n",
      "2nd loop:   0%|          | 0/10 [00:00<?, ?it/s]\u001b[A\n",
      "2nd loop:  10%|#         | 1/10 [00:00<00:00,  9.57it/s]\u001b[A\n",
      "2nd loop:  20%|##        | 2/10 [00:00<00:00,  9.03it/s]\u001b[A\n",
      "2nd loop:  30%|###       | 3/10 [00:00<00:00,  9.01it/s]\u001b[A\n",
      "2nd loop:  40%|####      | 4/10 [00:00<00:00,  9.10it/s]\u001b[A\n",
      "2nd loop:  50%|#####     | 5/10 [00:00<00:00,  8.90it/s]\u001b[A\n",
      "2nd loop:  60%|######    | 6/10 [00:00<00:00,  9.05it/s]\u001b[A\n",
      "2nd loop:  70%|#######   | 7/10 [00:00<00:00,  8.55it/s]\u001b[A\n",
      "2nd loop:  80%|########  | 8/10 [00:00<00:00,  8.77it/s]\u001b[A\n",
      "2nd loop:  90%|######### | 9/10 [00:01<00:00,  8.92it/s]\u001b[A\n",
      "2nd loop: 100%|##########| 10/10 [00:01<00:00,  8.80it/s]\u001b[A\n",
      "1st loop:  67%|######6   | 2/3 [00:02<00:01,  1.15s/it]\n",
      "2nd loop:   0%|          | 0/10 [00:00<?, ?it/s]\u001b[A\n",
      "2nd loop:  10%|#         | 1/10 [00:00<00:00,  9.98it/s]\u001b[A\n",
      "2nd loop:  20%|##        | 2/10 [00:00<00:00,  9.76it/s]\u001b[A\n",
      "2nd loop:  30%|###       | 3/10 [00:00<00:00,  9.52it/s]\u001b[A\n",
      "2nd loop:  40%|####      | 4/10 [00:00<00:00,  9.16it/s]\u001b[A\n",
      "2nd loop:  50%|#####     | 5/10 [00:00<00:00,  9.29it/s]\u001b[A\n",
      "2nd loop:  60%|######    | 6/10 [00:00<00:00,  9.34it/s]\u001b[A\n",
      "2nd loop:  70%|#######   | 7/10 [00:00<00:00,  9.16it/s]\u001b[A\n",
      "2nd loop:  80%|########  | 8/10 [00:00<00:00,  9.20it/s]\u001b[A\n",
      "2nd loop:  90%|######### | 9/10 [00:00<00:00,  9.25it/s]\u001b[A\n",
      "2nd loop: 100%|##########| 10/10 [00:01<00:00,  9.07it/s]\u001b[A\n",
      "1st loop: 100%|##########| 3/3 [00:03<00:00,  1.14s/it]\n"
     ]
    }
   ],
   "source": [
    "for i in tqdm(range(3), ascii=True, desc=\"1st loop\"):\n",
    "    for j in tqdm(range(10), ascii=True, desc=\"2nd loop\"):\n",
    "        time.sleep(0.1)"
   ]
  },
  {
   "cell_type": "markdown",
   "metadata": {},
   "source": [
    "## Генератор"
   ]
  },
  {
   "cell_type": "code",
   "execution_count": null,
   "metadata": {},
   "outputs": [],
   "source": [
    "def find_same_elements(l1, l2, n=10):\n",
    "    result = []\n",
    "    for e1 in l1:\n",
    "        for e2 in l2:\n",
    "            if e1 == e2:\n",
    "                result.append(e1)\n",
    "    return list(set(result))"
   ]
  },
  {
   "cell_type": "code",
   "execution_count": 29,
   "metadata": {},
   "outputs": [],
   "source": [
    "def find_same_elements_gen(l1, l2):\n",
    "    for e1 in l1:\n",
    "        for e2 in l2:\n",
    "            if e1 == e2:\n",
    "                yield e1"
   ]
  },
  {
   "cell_type": "code",
   "execution_count": 30,
   "metadata": {},
   "outputs": [],
   "source": [
    "generator = find_same_elements_gen(list1, list2)"
   ]
  },
  {
   "cell_type": "code",
   "execution_count": 31,
   "metadata": {},
   "outputs": [
    {
     "data": {
      "text/plain": [
       "<generator object find_same_elements_gen at 0x7fa7a843bdd0>"
      ]
     },
     "execution_count": 31,
     "metadata": {},
     "output_type": "execute_result"
    }
   ],
   "source": [
    "generator"
   ]
  },
  {
   "cell_type": "code",
   "execution_count": 32,
   "metadata": {},
   "outputs": [
    {
     "data": {
      "text/plain": [
       "generator"
      ]
     },
     "execution_count": 32,
     "metadata": {},
     "output_type": "execute_result"
    }
   ],
   "source": [
    "type(generator)"
   ]
  },
  {
   "cell_type": "code",
   "execution_count": 36,
   "metadata": {},
   "outputs": [
    {
     "data": {
      "text/plain": [
       "27692"
      ]
     },
     "execution_count": 36,
     "metadata": {},
     "output_type": "execute_result"
    }
   ],
   "source": [
    "next(generator)"
   ]
  },
  {
   "cell_type": "code",
   "execution_count": 37,
   "metadata": {},
   "outputs": [
    {
     "data": {
      "text/plain": [
       "74886"
      ]
     },
     "execution_count": 37,
     "metadata": {},
     "output_type": "execute_result"
    }
   ],
   "source": [
    "next(generator)"
   ]
  },
  {
   "cell_type": "code",
   "execution_count": 38,
   "metadata": {},
   "outputs": [
    {
     "data": {
      "text/plain": [
       "39354"
      ]
     },
     "execution_count": 38,
     "metadata": {},
     "output_type": "execute_result"
    }
   ],
   "source": [
    "next(generator)"
   ]
  },
  {
   "cell_type": "code",
   "execution_count": 39,
   "metadata": {},
   "outputs": [],
   "source": [
    "import itertools as it"
   ]
  },
  {
   "cell_type": "code",
   "execution_count": 40,
   "metadata": {},
   "outputs": [
    {
     "name": "stdout",
     "output_type": "stream",
     "text": [
      "59589\n",
      "71358\n",
      "51539\n",
      "81893\n",
      "44728\n",
      "59442\n"
     ]
    }
   ],
   "source": [
    "for el in it.islice(generator, 0, 11, 2):\n",
    "    print(f\"{el}\")"
   ]
  },
  {
   "cell_type": "code",
   "execution_count": 41,
   "metadata": {},
   "outputs": [
    {
     "name": "stdout",
     "output_type": "stream",
     "text": [
      "CPU times: user 3.7 s, sys: 87.5 ms, total: 3.78 s\n",
      "Wall time: 6.78 s\n"
     ]
    }
   ],
   "source": [
    "%%time\n",
    "rest_of_generator = list(set(generator))"
   ]
  },
  {
   "cell_type": "code",
   "execution_count": 42,
   "metadata": {},
   "outputs": [
    {
     "data": {
      "text/plain": [
       "978"
      ]
     },
     "execution_count": 42,
     "metadata": {},
     "output_type": "execute_result"
    }
   ],
   "source": [
    "len(rest_of_generator)"
   ]
  },
  {
   "cell_type": "code",
   "execution_count": 21,
   "metadata": {},
   "outputs": [
    {
     "data": {
      "text/plain": [
       "[]"
      ]
     },
     "execution_count": 21,
     "metadata": {},
     "output_type": "execute_result"
    }
   ],
   "source": [
    "rest_of_generator"
   ]
  },
  {
   "cell_type": "code",
   "execution_count": 49,
   "metadata": {},
   "outputs": [
    {
     "name": "stdout",
     "output_type": "stream",
     "text": [
      "[]\n",
      "hi\n"
     ]
    }
   ],
   "source": [
    "# Генератор исчерпан\n",
    "try:\n",
    "    next(generator)\n",
    "except StopIteration as err:\n",
    "    print(list(generator))"
   ]
  },
  {
   "cell_type": "markdown",
   "metadata": {},
   "source": [
    "Решение, которое позволит значительно ускорить алгоритм"
   ]
  },
  {
   "cell_type": "code",
   "execution_count": 53,
   "metadata": {},
   "outputs": [],
   "source": [
    "def find_same_elements_fast(l1, l2):\n",
    "    return list(set(l1).intersection(set(l2)))"
   ]
  },
  {
   "cell_type": "code",
   "execution_count": null,
   "metadata": {},
   "outputs": [],
   "source": [
    "set(list1) & set(list2)"
   ]
  },
  {
   "cell_type": "code",
   "execution_count": 54,
   "metadata": {},
   "outputs": [
    {
     "data": {
      "text/plain": [
       "(10000, 10000)"
      ]
     },
     "execution_count": 54,
     "metadata": {},
     "output_type": "execute_result"
    }
   ],
   "source": [
    "len(list1), len(list2)"
   ]
  },
  {
   "cell_type": "code",
   "execution_count": 55,
   "metadata": {},
   "outputs": [
    {
     "name": "stdout",
     "output_type": "stream",
     "text": [
      "1.7 ms ± 796 µs per loop (mean ± std. dev. of 7 runs, 100 loops each)\n"
     ]
    }
   ],
   "source": [
    "%%timeit\n",
    "find_same_elements_fast(list1, list2)"
   ]
  },
  {
   "cell_type": "code",
   "execution_count": 59,
   "metadata": {},
   "outputs": [
    {
     "name": "stdout",
     "output_type": "stream",
     "text": [
      "CPU times: user 1.47 ms, sys: 6 µs, total: 1.48 ms\n",
      "Wall time: 1.49 ms\n"
     ]
    }
   ],
   "source": [
    "%%time\n",
    "res = find_same_elements_fast(list1, list2)"
   ]
  },
  {
   "cell_type": "code",
   "execution_count": 26,
   "metadata": {},
   "outputs": [
    {
     "data": {
      "text/plain": [
       "[45056, 67585, 71681, 77827, 53250, 73738, 94220, 12301, 40980, 53270]"
      ]
     },
     "execution_count": 26,
     "metadata": {},
     "output_type": "execute_result"
    }
   ],
   "source": [
    "res[:10]"
   ]
  },
  {
   "cell_type": "markdown",
   "metadata": {},
   "source": [
    "## Полезные встроенные функции python"
   ]
  },
  {
   "cell_type": "code",
   "execution_count": 61,
   "metadata": {},
   "outputs": [
    {
     "data": {
      "text/plain": [
       "range"
      ]
     },
     "execution_count": 61,
     "metadata": {},
     "output_type": "execute_result"
    }
   ],
   "source": [
    "type(range(11))"
   ]
  },
  {
   "cell_type": "code",
   "execution_count": 63,
   "metadata": {},
   "outputs": [
    {
     "data": {
      "text/plain": [
       "[0, 1, 2, 3, 4, 5, 6, 7, 8, 9, 10]"
      ]
     },
     "execution_count": 63,
     "metadata": {},
     "output_type": "execute_result"
    }
   ],
   "source": [
    "# range(start, stop, step). Возвращает генератор.\n",
    "a = list(range(11))\n",
    "a"
   ]
  },
  {
   "cell_type": "code",
   "execution_count": 65,
   "metadata": {},
   "outputs": [
    {
     "name": "stdout",
     "output_type": "stream",
     "text": [
      "(10, 11, 12, 13, 14, 15, 16, 17, 18, 19, 20)\n"
     ]
    }
   ],
   "source": [
    "# map(func, iterable). Возвращает генератор.\n",
    "def add_10(x):\n",
    "    return x + 10\n",
    "\n",
    "print(tuple(map(add_10, a)))"
   ]
  },
  {
   "cell_type": "code",
   "execution_count": 66,
   "metadata": {},
   "outputs": [
    {
     "name": "stdout",
     "output_type": "stream",
     "text": [
      "(10, 11, 12, 13, 14, 15, 16, 17, 18, 19, 20)\n",
      "(0, 10, 20, 30, 40, 50, 60, 70, 80, 90, 100)\n"
     ]
    }
   ],
   "source": [
    "# map(func, iterable). Возвращает генератор.\n",
    "def add_10(x):\n",
    "    return x * 10\n",
    "\n",
    "print(tuple(map(add_10, a)))\n",
    "\n",
    "# Или через анонимную функцию (lambda)\n",
    "print(tuple(map(lambda x: x * 10, a)))"
   ]
  },
  {
   "cell_type": "code",
   "execution_count": 25,
   "metadata": {},
   "outputs": [
    {
     "name": "stdout",
     "output_type": "stream",
     "text": [
      "[3, 4, 5, 6]\n",
      "[3, 4, 5, 6]\n"
     ]
    }
   ],
   "source": [
    "rez = []\n",
    "for i in a:\n",
    "    if 2 < i <= 6:\n",
    "        rez.append(i)\n",
    "print(rez)\n",
    "\n",
    "# filter(func, iterable). Возвращает генератор.\n",
    "print(list(filter(lambda x: 2 < x <= 6, a)))"
   ]
  },
  {
   "cell_type": "code",
   "execution_count": 70,
   "metadata": {},
   "outputs": [
    {
     "name": "stdout",
     "output_type": "stream",
     "text": [
      "[False, False, False, True, True, True, True, False, False, False, False]\n"
     ]
    }
   ],
   "source": [
    "print(list(map(lambda x: 2 < x <= 6, a)))"
   ]
  },
  {
   "cell_type": "code",
   "execution_count": 72,
   "metadata": {},
   "outputs": [
    {
     "data": {
      "text/plain": [
       "[0, 1, 2, 3, 4, 5, 6, 7, 8, 9, 10]"
      ]
     },
     "execution_count": 72,
     "metadata": {},
     "output_type": "execute_result"
    }
   ],
   "source": [
    "a"
   ]
  },
  {
   "cell_type": "code",
   "execution_count": 75,
   "metadata": {},
   "outputs": [
    {
     "name": "stdout",
     "output_type": "stream",
     "text": [
      "3628800\n",
      "3628800\n"
     ]
    }
   ],
   "source": [
    "import functools as ft\n",
    "\n",
    "product = 1\n",
    "for num in a[1:]:\n",
    "    product = product * num\n",
    "print(f\"{product}\")\n",
    "    \n",
    "print(ft.reduce(lambda x, y: x * y, a[1:]))"
   ]
  },
  {
   "cell_type": "code",
   "execution_count": 76,
   "metadata": {},
   "outputs": [],
   "source": [
    "d = {'a': 1, 'b': 2}"
   ]
  },
  {
   "cell_type": "code",
   "execution_count": 78,
   "metadata": {},
   "outputs": [
    {
     "name": "stdout",
     "output_type": "stream",
     "text": [
      "('a', 1)\n",
      "1\n"
     ]
    }
   ],
   "source": [
    "for x in d.items():\n",
    "    print(x)\n",
    "    print(x[1])\n",
    "    break"
   ]
  },
  {
   "cell_type": "code",
   "execution_count": 79,
   "metadata": {},
   "outputs": [
    {
     "data": {
      "text/plain": [
       "[2, 3]"
      ]
     },
     "execution_count": 79,
     "metadata": {},
     "output_type": "execute_result"
    }
   ],
   "source": [
    "d = {'a': 1, 'b': 2}\n",
    "list(map(lambda x: x[1] + 1, d.items()))"
   ]
  },
  {
   "cell_type": "markdown",
   "metadata": {},
   "source": [
    "# List comprehension, context manager, работа с файлами"
   ]
  },
  {
   "cell_type": "code",
   "execution_count": 80,
   "metadata": {},
   "outputs": [
    {
     "name": "stdout",
     "output_type": "stream",
     "text": [
      "Result: [10, 'string2', 6]\n"
     ]
    }
   ],
   "source": [
    "list1 = [1, 2, 6, 10, 'string1', 56, 'string2']\n",
    "list2 = [10, 20, 6, 100, 'string10', 5, 'string2']\n",
    "\n",
    "result = []\n",
    "for e1 in list1:\n",
    "    for e2 in list2:\n",
    "        if e1 == e2:\n",
    "            result.append(e1)\n",
    "print(\"Result:\", f\"{list(set(result))}\")"
   ]
  },
  {
   "cell_type": "code",
   "execution_count": 81,
   "metadata": {},
   "outputs": [],
   "source": [
    "def find_same_elements(l1, l2, n=10):\n",
    "    result = []\n",
    "    for e1 in l1:\n",
    "        for e2 in l2:\n",
    "            if e1 == e2:\n",
    "                result.append(e1)\n",
    "    return list(set(result))"
   ]
  },
  {
   "cell_type": "code",
   "execution_count": 82,
   "metadata": {},
   "outputs": [],
   "source": [
    "result = list(set(e1 (for e1 in list1 for e2 in list2) if e1 == e2))"
   ]
  },
  {
   "cell_type": "code",
   "execution_count": 83,
   "metadata": {},
   "outputs": [
    {
     "data": {
      "text/plain": [
       "[10, 'string2', 6]"
      ]
     },
     "execution_count": 83,
     "metadata": {},
     "output_type": "execute_result"
    }
   ],
   "source": [
    "result"
   ]
  },
  {
   "cell_type": "code",
   "execution_count": 84,
   "metadata": {},
   "outputs": [
    {
     "name": "stdout",
     "output_type": "stream",
     "text": [
      "<class 'list'>\n"
     ]
    }
   ],
   "source": [
    "result = [e1 for e1 in list1 for e2 in list2 if e1 == e2]\n",
    "print(type(result))"
   ]
  },
  {
   "cell_type": "code",
   "execution_count": 85,
   "metadata": {},
   "outputs": [
    {
     "data": {
      "text/plain": [
       "(7, 7)"
      ]
     },
     "execution_count": 85,
     "metadata": {},
     "output_type": "execute_result"
    }
   ],
   "source": [
    "len(list1), len(list2)"
   ]
  },
  {
   "cell_type": "code",
   "execution_count": 86,
   "metadata": {},
   "outputs": [
    {
     "name": "stdout",
     "output_type": "stream",
     "text": [
      "{1: 10, 2: 20, 6: 6, 10: 100, 'string1': 'string10', 56: 5, 'string2': 'string2'}, type: <class 'dict'>\n"
     ]
    }
   ],
   "source": [
    "result = {k: v for k, v in zip(list1, list2)}\n",
    "print(f\"{result}, type: {type(result)}\")"
   ]
  },
  {
   "cell_type": "markdown",
   "metadata": {},
   "source": [
    "## Работа с файлами и context manager"
   ]
  },
  {
   "cell_type": "code",
   "execution_count": 2,
   "metadata": {},
   "outputs": [],
   "source": [
    "from pathlib import Path"
   ]
  },
  {
   "cell_type": "code",
   "execution_count": 3,
   "metadata": {},
   "outputs": [],
   "source": [
    "data_path = Path('.', 'data')"
   ]
  },
  {
   "cell_type": "markdown",
   "metadata": {},
   "source": [
    "### Чтение файла с диска"
   ]
  },
  {
   "cell_type": "markdown",
   "metadata": {},
   "source": [
    "#### Способ №1 (Обычный)"
   ]
  },
  {
   "cell_type": "code",
   "execution_count": 103,
   "metadata": {},
   "outputs": [],
   "source": [
    "f = open(data_path / 'user_item.csv')"
   ]
  },
  {
   "cell_type": "code",
   "execution_count": 111,
   "metadata": {},
   "outputs": [],
   "source": [
    "f = open('./data/user_item.csv')"
   ]
  },
  {
   "cell_type": "code",
   "execution_count": 112,
   "metadata": {},
   "outputs": [
    {
     "data": {
      "text/plain": [
       "<_io.TextIOWrapper name='./data/user_item.csv' mode='r' encoding='UTF-8'>"
      ]
     },
     "execution_count": 112,
     "metadata": {},
     "output_type": "execute_result"
    }
   ],
   "source": [
    "f"
   ]
  },
  {
   "cell_type": "code",
   "execution_count": 113,
   "metadata": {},
   "outputs": [
    {
     "name": "stdout",
     "output_type": "stream",
     "text": [
      "user,item,r\n",
      "u1,i1,1\n",
      "u1,i3,2\n",
      "u2,i2,1\n",
      "u2,i3,3\n",
      "u3,i1,4\n",
      "u3,i4,5\n",
      "u3,i2,2\n",
      "u2,i6,3\n",
      "u2,i4,5\n",
      "u2,i6,3\n",
      "u2,i4,5\n",
      "u2,i4,5\n",
      "u4,i5,1\n",
      "u2,i6,3\n",
      "u2,i4,5\n",
      "u2,i6,3\n",
      "u2,i4,5\n",
      "u2,i6,3\n",
      "u2,i6,3\n",
      "u2,i6,25\n",
      "u2,i4,5\n",
      "u2,i6,25\n",
      "u2,i6,26\n"
     ]
    }
   ],
   "source": [
    "for line in f:\n",
    "    print(line, end='')"
   ]
  },
  {
   "cell_type": "code",
   "execution_count": 114,
   "metadata": {},
   "outputs": [],
   "source": [
    "# Почему так происходит?\n",
    "for line in f:\n",
    "    print(line, end='')"
   ]
  },
  {
   "cell_type": "code",
   "execution_count": 46,
   "metadata": {},
   "outputs": [],
   "source": [
    "f.close()"
   ]
  },
  {
   "cell_type": "code",
   "execution_count": 49,
   "metadata": {},
   "outputs": [
    {
     "name": "stdout",
     "output_type": "stream",
     "text": [
      "user,item,r\n",
      "u1,i1,1\n"
     ]
    }
   ],
   "source": [
    "# Считаем последовательно по одной строке файла\n",
    "f = open(data_path / 'user_item.csv')\n",
    "print(f.readline(), end='')\n",
    "print(f.readline(), end='')\n",
    "f.close()"
   ]
  },
  {
   "cell_type": "code",
   "execution_count": 115,
   "metadata": {},
   "outputs": [
    {
     "name": "stdout",
     "output_type": "stream",
     "text": [
      "('user,item,r\\n', 'u1,i1,1\\n', 'u1,i3,2\\n', 'u2,i2,1\\n', 'u2,i3,3\\n', 'u3,i1,4\\n', 'u3,i4,5\\n', 'u3,i2,2\\n', 'u2,i6,3\\n', 'u2,i4,5\\n', 'u2,i6,3\\n', 'u2,i4,5\\n', 'u2,i4,5\\n', 'u4,i5,1\\n', 'u2,i6,3\\n', 'u2,i4,5\\n', 'u2,i6,3\\n', 'u2,i4,5\\n', 'u2,i6,3\\n', 'u2,i6,3\\n', 'u2,i6,25\\n', 'u2,i4,5\\n', 'u2,i6,25\\n', 'u2,i6,26\\n')\n"
     ]
    }
   ],
   "source": [
    "# Считаем содержимое файла в tuple, чистим каждую строку от ненужных символов\n",
    "f = open(data_path / 'user_item.csv')\n",
    "lines = tuple(line for line in f)\n",
    "f.close()\n",
    "\n",
    "# \\n нам не нужны\n",
    "print(lines)"
   ]
  },
  {
   "cell_type": "code",
   "execution_count": 116,
   "metadata": {},
   "outputs": [
    {
     "name": "stdout",
     "output_type": "stream",
     "text": [
      "('user,item,r', 'u1,i1,1', 'u1,i3,2', 'u2,i2,1', 'u2,i3,3', 'u3,i1,4', 'u3,i4,5', 'u3,i2,2', 'u2,i6,3', 'u2,i4,5', 'u2,i6,3', 'u2,i4,5', 'u2,i4,5', 'u4,i5,1', 'u2,i6,3', 'u2,i4,5', 'u2,i6,3', 'u2,i4,5', 'u2,i6,3', 'u2,i6,3', 'u2,i6,25', 'u2,i4,5', 'u2,i6,25', 'u2,i6,26')\n"
     ]
    }
   ],
   "source": [
    "# Считаем содержимое файла в tuple, чистим каждую строку от ненужных символов\n",
    "f = open(data_path / 'user_item.csv')\n",
    "lines = tuple(line.strip() for line in f)\n",
    "f.close()\n",
    "\n",
    "# \\n нам не нужны\n",
    "print(lines)"
   ]
  },
  {
   "cell_type": "markdown",
   "metadata": {},
   "source": [
    "#### Способ №2 (Context manager)"
   ]
  },
  {
   "cell_type": "code",
   "execution_count": 117,
   "metadata": {},
   "outputs": [],
   "source": [
    "# Избавимся от постоянного закрывания файла.\n",
    "# Context manager - это класс, который реализует методы __enter__() и __exit__().\n",
    "# Можно воспользоваться знаниями о генераторах.\n",
    "from contextlib import contextmanager\n",
    "\n",
    "@contextmanager\n",
    "def open_file(file_path):\n",
    "    f = open(file_path)\n",
    "    try:\n",
    "        print(\"Файл открыт\")\n",
    "        yield f\n",
    "    finally:\n",
    "        print(\"Файл закрыт\")\n",
    "        f.close()"
   ]
  },
  {
   "cell_type": "code",
   "execution_count": 119,
   "metadata": {},
   "outputs": [
    {
     "name": "stdout",
     "output_type": "stream",
     "text": [
      "Файл открыт\n",
      "Файл закрыт\n",
      "\n",
      "('user,item,r', 'u1,i1,1', 'u1,i3,2', 'u2,i2,1', 'u2,i3,3', 'u3,i1,4', 'u3,i4,5', 'u3,i2,2', 'u2,i6,3', 'u2,i4,5', 'u2,i6,3', 'u2,i4,5', 'u2,i4,5', 'u4,i5,1', 'u2,i6,3', 'u2,i4,5', 'u2,i6,3', 'u2,i4,5', 'u2,i6,3', 'u2,i6,3', 'u2,i6,25', 'u2,i4,5', 'u2,i6,25', 'u2,i6,26')\n"
     ]
    }
   ],
   "source": [
    "# Теперь можно использовать оператор with\n",
    "\n",
    "with open_file(data_path / 'user_item.csv') as f_in:\n",
    "    lines = tuple(line.strip() for line in f_in)\n",
    "print()\n",
    "print(lines)"
   ]
  },
  {
   "cell_type": "code",
   "execution_count": 8,
   "metadata": {},
   "outputs": [
    {
     "name": "stdout",
     "output_type": "stream",
     "text": [
      "('user,item,r', 'u1,i1,1', 'u1,i3,2', 'u2,i2,1', 'u2,i3,3', 'u3,i1,4', 'u3,i4,5', 'u3,i2,2', 'u2,i6,3', 'u2,i4,5', 'u2,i6,3', 'u2,i4,5', 'u2,i4,5', 'u4,i5,1', 'u2,i6,3', 'u2,i4,5', 'u2,i6,3', 'u2,i4,5', 'u2,i6,3', 'u2,i6,3', 'u2,i6,25', 'u2,i4,5', 'u2,i6,25', 'u2,i6,26', 'u2,i6,26', 'u2,i6,28')\n"
     ]
    }
   ],
   "source": [
    "# Python за нас уже позаботился\n",
    "\n",
    "with open(data_path / 'user_item.csv') as f_in:\n",
    "    lines = tuple(line.strip() for line in f_in)\n",
    "print(lines)"
   ]
  },
  {
   "cell_type": "markdown",
   "metadata": {},
   "source": [
    "### Запись в файл"
   ]
  },
  {
   "cell_type": "markdown",
   "metadata": {},
   "source": [
    "#### Способ №1"
   ]
  },
  {
   "cell_type": "code",
   "execution_count": 7,
   "metadata": {},
   "outputs": [],
   "source": [
    "with (data_path / 'user_item.csv').open('a') as f_out:\n",
    "    f_out.write(\"u2,i6,28\\n\")"
   ]
  },
  {
   "cell_type": "markdown",
   "metadata": {},
   "source": [
    "## Полезные ссылки"
   ]
  },
  {
   "cell_type": "markdown",
   "metadata": {},
   "source": [
    "1) https://dyakonov.org\n",
    "\n",
    "2) https://habr.com/ru/company/ods/blog/322626/\n",
    "\n",
    "3) https://www.youtube.com/watch?v=lDkTNURDIaY\n",
    "\n",
    "4) https://www.youtube.com/watch?v=gGce2JDbJAQ&t=605s\n",
    "\n",
    "5) #ods_pet_projects"
   ]
  },
  {
   "cell_type": "code",
   "execution_count": null,
   "metadata": {},
   "outputs": [],
   "source": []
  },
  {
   "cell_type": "code",
   "execution_count": null,
   "metadata": {},
   "outputs": [],
   "source": []
  }
 ],
 "metadata": {
  "kernelspec": {
   "display_name": "Python 3",
   "language": "python",
   "name": "python3"
  }
 },
 "nbformat": 4,
 "nbformat_minor": 4
}
