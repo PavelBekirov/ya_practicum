{
 "cells": [
  {
   "cell_type": "code",
   "execution_count": 1,
   "id": "9f80193d",
   "metadata": {},
   "outputs": [],
   "source": [
    "import numpy as np\n",
    "import matplotlib.pyplot as plt\n",
    "\n",
    "import typing as tp"
   ]
  },
  {
   "cell_type": "markdown",
   "id": "1076c805",
   "metadata": {},
   "source": [
    "EpsilonGreedyBandit"
   ]
  },
  {
   "cell_type": "code",
   "execution_count": 2,
   "id": "efd591ef",
   "metadata": {},
   "outputs": [],
   "source": [
    "class EpsilonGreedyBandit:\n",
    "    def __init__(\n",
    "        self,\n",
    "        n_strategy: float,\n",
    "        epsilon: float,\n",
    "    ):\n",
    "        self._epsilon = epsilon\n",
    "        self._strategy_r = [1] * n_strategy  # тут храним награду\n",
    "        self._strategy_n = [1] * n_strategy  # сколько раз обращались к ручке\n",
    "        self._strategy_e = [1] * n_strategy  # ожидаемая награда\n",
    "        \n",
    "    def step(self) -> int:\n",
    "        if np.random.random() < self._epsilon:\n",
    "            return np.random.randint(0, len(self._strategy_r))\n",
    "        return np.argmax(self._strategy_e)\n",
    "    \n",
    "    def update_weights(self, reward, i_strategy):\n",
    "        self._strategy_r[i_strategy] += reward\n",
    "        self._strategy_n[i_strategy] += 1\n",
    "        self._strategy_e[i_strategy] = self._strategy_r[i_strategy] / self._strategy_n[i_strategy]"
   ]
  },
  {
   "cell_type": "code",
   "execution_count": 3,
   "id": "8da00405",
   "metadata": {},
   "outputs": [],
   "source": [
    "def strategy0():\n",
    "    return np.random.choice([0, 1], p=[0.3, 0.7])\n",
    "\n",
    "def strategy1():\n",
    "    return np.random.choice([0, 1], p=[0.4, 0.6])"
   ]
  },
  {
   "cell_type": "code",
   "execution_count": 4,
   "id": "427c6f17",
   "metadata": {},
   "outputs": [],
   "source": [
    "bandit = EpsilonGreedyBandit(2, 0.1)\n",
    "\n",
    "for _ in range(10000):\n",
    "    ind = bandit.step()\n",
    "    if ind == 0:\n",
    "        reward = strategy0()\n",
    "    elif ind == 1:\n",
    "        reward = strategy1()\n",
    "    bandit.update_weights(reward, ind)"
   ]
  },
  {
   "cell_type": "code",
   "execution_count": 5,
   "id": "47de1a8e",
   "metadata": {},
   "outputs": [
    {
     "data": {
      "text/plain": "6499.999999999999"
     },
     "execution_count": 5,
     "metadata": {},
     "output_type": "execute_result"
    }
   ],
   "source": [
    "(((0.7 * 1) + (0.6 * 1)) / 2) * 10000"
   ]
  },
  {
   "cell_type": "code",
   "execution_count": 6,
   "id": "9dc7b210",
   "metadata": {},
   "outputs": [
    {
     "data": {
      "text/plain": "6974"
     },
     "execution_count": 6,
     "metadata": {},
     "output_type": "execute_result"
    }
   ],
   "source": [
    "sum(bandit._strategy_r)"
   ]
  },
  {
   "cell_type": "code",
   "execution_count": 8,
   "id": "824f336f",
   "metadata": {},
   "outputs": [
    {
     "data": {
      "text/plain": "[9490, 512]"
     },
     "execution_count": 8,
     "metadata": {},
     "output_type": "execute_result"
    }
   ],
   "source": [
    "bandit._strategy_n"
   ]
  },
  {
   "cell_type": "code",
   "execution_count": 226,
   "id": "67a142b4",
   "metadata": {},
   "outputs": [],
   "source": [
    "# bandit._strategy_e"
   ]
  },
  {
   "cell_type": "markdown",
   "id": "8c50069b",
   "metadata": {},
   "source": [
    "UCB bandit"
   ]
  },
  {
   "cell_type": "code",
   "execution_count": 20,
   "id": "ebb988c3",
   "metadata": {},
   "outputs": [],
   "source": [
    "import numpy as np\n",
    "import matplotlib.pyplot as plt\n",
    "\n",
    "def strategy0():\n",
    "    return np.random.choice([-1, 1], p=[0.3, 0.7])\n",
    "\n",
    "def strategy1():\n",
    "    return np.random.choice([-1, 1], p=[0.2, 0.8])\n",
    "\n",
    "\n",
    "class Counter:\n",
    "    def __init__(self, C: float = 0.1):\n",
    "        self.n = 2\n",
    "        self.c = 2\n",
    "\n",
    "\n",
    "class UCBSocket:\n",
    "    def __init__(self, common_counter):\n",
    "        self._n = 1\n",
    "        self._reward = 0\n",
    "        self._counter = common_counter\n",
    "\n",
    "    def sample(self):\n",
    "        return (self._reward / self._n) + np.sqrt(self._counter.c * np.log(self._counter.n) / self._n)\n",
    "    \n",
    "    def update(self, reward):\n",
    "        self._n += 1\n",
    "        self._counter.n += 1\n",
    "        self._reward += reward\n",
    "\n",
    "\n",
    "counter = Counter()        \n",
    "strategies = [strategy0, strategy1]\n",
    "sockets = [UCBSocket(counter), UCBSocket(counter)]\n",
    "\n",
    "for _ in range(1000):\n",
    "    ind = np.argmax(list(map(lambda x: x.sample(), sockets)))\n",
    "    socket = sockets[ind]\n",
    "    reward = strategies[ind]()\n",
    "    socket.update(reward)"
   ]
  },
  {
   "cell_type": "code",
   "execution_count": 25,
   "id": "3e75b1ea",
   "metadata": {},
   "outputs": [],
   "source": [
    "# np"
   ]
  },
  {
   "cell_type": "code",
   "execution_count": 24,
   "id": "20b5bcf0",
   "metadata": {},
   "outputs": [
    {
     "data": {
      "text/plain": [
       "0.9969486348916096"
      ]
     },
     "execution_count": 24,
     "metadata": {},
     "output_type": "execute_result"
    }
   ],
   "source": [
    "np.log(2.71)"
   ]
  },
  {
   "cell_type": "code",
   "execution_count": 21,
   "id": "2d5adb3f",
   "metadata": {},
   "outputs": [
    {
     "data": {
      "text/plain": [
       "(4, 998)"
      ]
     },
     "execution_count": 21,
     "metadata": {},
     "output_type": "execute_result"
    }
   ],
   "source": [
    "sockets[0]._n, sockets[1]._n"
   ]
  },
  {
   "cell_type": "markdown",
   "id": "60143415",
   "metadata": {},
   "source": [
    "Thompson Sampling Bandit (бинарный случай)"
   ]
  },
  {
   "cell_type": "code",
   "execution_count": 37,
   "id": "94823769",
   "metadata": {},
   "outputs": [
    {
     "data": {
      "text/plain": [
       "0.568374768686361"
      ]
     },
     "execution_count": 37,
     "metadata": {},
     "output_type": "execute_result"
    }
   ],
   "source": [
    "np.random.normal(0, 1)"
   ]
  },
  {
   "cell_type": "code",
   "execution_count": 119,
   "id": "30694534",
   "metadata": {},
   "outputs": [
    {
     "data": {
      "text/plain": "(6680, 3338, 3342)"
     },
     "execution_count": 119,
     "metadata": {},
     "output_type": "execute_result"
    }
   ],
   "source": [
    "import numpy as np\n",
    "import matplotlib.pyplot as plt\n",
    "\n",
    "class Strategy:\n",
    "    def __init__(self, id: int):\n",
    "        self.id = id\n",
    "        self._success = 1 # кол-во успехов этого варианта\n",
    "        self._fail = 1 # кол-во неудач этого варианта\n",
    "        self._counter = 2 # счетчик испытаний именно этого варианта\n",
    "        self._rate = 0.5\n",
    "        # self._probability = p # вероятность - в реальности вероятности нет\n",
    "        \n",
    "    def sample(self):\n",
    "        return np.random.beta(self._success, self._fail) # точка по бета - где находится между неудачами и успехом\n",
    "\n",
    "    def action(self, result):\n",
    "        self._counter += 1 # увеличиваем счетчик\n",
    "\n",
    "        # сконвертировался или нет с заданной вероятностью этот вариант - здесь по идее нужен именно факт успеха.\n",
    "        is_success = result #vnp.random.choice([0, 1], p=[1-self._probability, self._probability])\n",
    "        if is_success:\n",
    "            self._success += 1 # если сконвертировался - увеличиваем счетчик успеха\n",
    "        else:\n",
    "            self._fail += 1 # если не сконвертировался - увеличиваем счетчик неудачи\n",
    "        self._rate = self._success / self._counter\n",
    "\n",
    "class ModernStrategy(Strategy):\n",
    "    def action(self):\n",
    "        self._counter += 1\n",
    "        if self._counter < 1000:\n",
    "            is_success = np.random.choice([0, 1], p=[1-self._probability, self._probability])\n",
    "        else:\n",
    "            is_success = np.random.choice([0, 1], p=[0.1, 0.9])\n",
    "        if is_success:\n",
    "            self._success += 1\n",
    "        else:\n",
    "            self._fail += 1\n",
    "\n",
    "strategies = [Strategy(id=1), Strategy(id=2), Strategy(id=3)] # в реальности вероятностей нет\n",
    "\n",
    "history_1 = []\n",
    "history_2 = []\n",
    "history_3 = []\n",
    "\n",
    "for _ in range(int(50000)):\n",
    "    best_strategy = max(strategies, key=lambda x: x.sample())\n",
    "    res = np.random.randint(0,2,1)\n",
    "    best_strategy.action(res)\n",
    "    #print(res, best_strategy.id)\n",
    "    history_1.append(strategies[0]._counter)\n",
    "    history_2.append(strategies[1]._counter)\n",
    "    history_3.append(strategies[2]._counter)\n",
    "\n",
    "strategies[0]._counter, strategies[0]._success, strategies[0]._fail"
   ]
  },
  {
   "cell_type": "code",
   "execution_count": 120,
   "outputs": [
    {
     "data": {
      "text/plain": "(0.4997005988023952, 0.5028231686796545, 0.5015377193511428)"
     },
     "execution_count": 120,
     "metadata": {},
     "output_type": "execute_result"
    }
   ],
   "source": [
    "strategies[0]._rate, strategies[1]._rate, strategies[2]._rate"
   ],
   "metadata": {
    "collapsed": false
   }
  },
  {
   "cell_type": "code",
   "execution_count": 121,
   "outputs": [
    {
     "data": {
      "text/plain": "(0.33223415610123547, 0.3343102480061175, 0.33345559589264695)"
     },
     "execution_count": 121,
     "metadata": {},
     "output_type": "execute_result"
    }
   ],
   "source": [
    "full = strategies[0]._rate + strategies[1]._rate + strategies[2]._rate # 100 процентов\n",
    "probs_v1 = strategies[0]._rate / full\n",
    "probs_v2 = strategies[1]._rate / full\n",
    "probs_v3 = strategies[2]._rate / full\n",
    "\n",
    "probs_v1, probs_v2, probs_v3"
   ],
   "metadata": {
    "collapsed": false
   }
  },
  {
   "cell_type": "code",
   "execution_count": 122,
   "id": "33e7a938",
   "metadata": {},
   "outputs": [
    {
     "data": {
      "text/plain": "<Figure size 640x480 with 1 Axes>",
      "image/png": "[encoded data removed]"
     },
     "metadata": {},
     "output_type": "display_data"
    }
   ],
   "source": [
    "plt.plot(history_1)\n",
    "plt.plot(history_2)\n",
    "plt.plot(history_3)\n",
    "plt.legend(['стратегия1', 'стратегия2', 'стратегия3'])\n",
    "plt.show()"
   ]
  },
  {
   "cell_type": "code",
   "execution_count": null,
   "outputs": [],
   "source": [],
   "metadata": {
    "collapsed": false
   }
  }
 ],
 "metadata": {
  "kernelspec": {
   "display_name": "Python 3 (ipykernel)",
   "language": "python",
   "name": "python3"
  },
  "language_info": {
   "codemirror_mode": {
    "name": "ipython",
    "version": 3
   },
   "file_extension": ".py",
   "mimetype": "text/x-python",
   "name": "python",
   "nbconvert_exporter": "python",
   "pygments_lexer": "ipython3",
   "version": "3.9.6"
  },
  "toc": {
   "base_numbering": 1,
   "nav_menu": {},
   "number_sections": true,
   "sideBar": true,
   "skip_h1_title": false,
   "title_cell": "Table of Contents",
   "title_sidebar": "Contents",
   "toc_cell": false,
   "toc_position": {},
   "toc_section_display": true,
   "toc_window_display": false
  }
 },
 "nbformat": 4,
 "nbformat_minor": 5
}
