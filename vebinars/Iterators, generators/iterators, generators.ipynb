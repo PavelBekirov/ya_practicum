{
 "cells": [
  {
   "cell_type": "markdown",
   "id": "e022df28",
   "metadata": {},
   "source": [
    "### Вспомним уже знакому конструкцию"
   ]
  },
  {
   "cell_type": "code",
   "execution_count": 5,
   "id": "feb15cd6",
   "metadata": {},
   "outputs": [],
   "source": [
    "my_list = ['Yandex', 'DS', 'Lecture']"
   ]
  },
  {
   "cell_type": "code",
   "execution_count": 4,
   "id": "44a61c51",
   "metadata": {},
   "outputs": [
    {
     "name": "stdout",
     "output_type": "stream",
     "text": [
      "Yandex\n",
      "DS\n",
      "Lecture\n"
     ]
    }
   ],
   "source": [
    "for name in my_list:\n",
    "    print(name)"
   ]
  },
  {
   "cell_type": "code",
   "execution_count": 3,
   "id": "dc5e4970",
   "metadata": {},
   "outputs": [],
   "source": [
    "# передаем разные типы данных: список, множество, строка"
   ]
  },
  {
   "cell_type": "markdown",
   "id": "bf381c2e",
   "metadata": {},
   "source": [
    "### Как это работает?"
   ]
  },
  {
   "cell_type": "code",
   "execution_count": 6,
   "id": "e3582c77",
   "metadata": {},
   "outputs": [
    {
     "data": {
      "text/plain": [
       "['__add__',\n",
       " '__class__',\n",
       " '__class_getitem__',\n",
       " '__contains__',\n",
       " '__delattr__',\n",
       " '__delitem__',\n",
       " '__dir__',\n",
       " '__doc__',\n",
       " '__eq__',\n",
       " '__format__',\n",
       " '__ge__',\n",
       " '__getattribute__',\n",
       " '__getitem__',\n",
       " '__gt__',\n",
       " '__hash__',\n",
       " '__iadd__',\n",
       " '__imul__',\n",
       " '__init__',\n",
       " '__init_subclass__',\n",
       " '__iter__',\n",
       " '__le__',\n",
       " '__len__',\n",
       " '__lt__',\n",
       " '__mul__',\n",
       " '__ne__',\n",
       " '__new__',\n",
       " '__reduce__',\n",
       " '__reduce_ex__',\n",
       " '__repr__',\n",
       " '__reversed__',\n",
       " '__rmul__',\n",
       " '__setattr__',\n",
       " '__setitem__',\n",
       " '__sizeof__',\n",
       " '__str__',\n",
       " '__subclasshook__',\n",
       " 'append',\n",
       " 'clear',\n",
       " 'copy',\n",
       " 'count',\n",
       " 'extend',\n",
       " 'index',\n",
       " 'insert',\n",
       " 'pop',\n",
       " 'remove',\n",
       " 'reverse',\n",
       " 'sort']"
      ]
     },
     "execution_count": 6,
     "metadata": {},
     "output_type": "execute_result"
    }
   ],
   "source": [
    "dir(my_list)"
   ]
  },
  {
   "cell_type": "code",
   "execution_count": 7,
   "id": "04af3efe",
   "metadata": {},
   "outputs": [],
   "source": [
    "my_iter = my_list.__iter__()"
   ]
  },
  {
   "cell_type": "code",
   "execution_count": 8,
   "id": "8ac7167b",
   "metadata": {},
   "outputs": [
    {
     "data": {
      "text/plain": [
       "<list_iterator at 0x1031d4400>"
      ]
     },
     "execution_count": 8,
     "metadata": {},
     "output_type": "execute_result"
    }
   ],
   "source": [
    "my_iter"
   ]
  },
  {
   "cell_type": "code",
   "execution_count": 9,
   "id": "bf6ce62d",
   "metadata": {},
   "outputs": [
    {
     "data": {
      "text/plain": [
       "['__class__',\n",
       " '__delattr__',\n",
       " '__dir__',\n",
       " '__doc__',\n",
       " '__eq__',\n",
       " '__format__',\n",
       " '__ge__',\n",
       " '__getattribute__',\n",
       " '__gt__',\n",
       " '__hash__',\n",
       " '__init__',\n",
       " '__init_subclass__',\n",
       " '__iter__',\n",
       " '__le__',\n",
       " '__length_hint__',\n",
       " '__lt__',\n",
       " '__ne__',\n",
       " '__new__',\n",
       " '__next__',\n",
       " '__reduce__',\n",
       " '__reduce_ex__',\n",
       " '__repr__',\n",
       " '__setattr__',\n",
       " '__setstate__',\n",
       " '__sizeof__',\n",
       " '__str__',\n",
       " '__subclasshook__']"
      ]
     },
     "execution_count": 9,
     "metadata": {},
     "output_type": "execute_result"
    }
   ],
   "source": [
    "dir(my_iter)"
   ]
  },
  {
   "cell_type": "code",
   "execution_count": 13,
   "id": "7f870f18",
   "metadata": {},
   "outputs": [
    {
     "ename": "StopIteration",
     "evalue": "",
     "output_type": "error",
     "traceback": [
      "\u001b[0;31m---------------------------------------------------------------------------\u001b[0m",
      "\u001b[0;31mStopIteration\u001b[0m                             Traceback (most recent call last)",
      "Cell \u001b[0;32mIn[13], line 1\u001b[0m\n\u001b[0;32m----> 1\u001b[0m \u001b[38;5;28;43mnext\u001b[39;49m\u001b[43m(\u001b[49m\u001b[43mmy_iter\u001b[49m\u001b[43m)\u001b[49m\n",
      "\u001b[0;31mStopIteration\u001b[0m: "
     ]
    }
   ],
   "source": [
    "next(my_iter)"
   ]
  },
  {
   "cell_type": "code",
   "execution_count": 14,
   "id": "70d89d53",
   "metadata": {},
   "outputs": [
    {
     "ename": "TypeError",
     "evalue": "'list' object is not an iterator",
     "output_type": "error",
     "traceback": [
      "\u001b[0;31m---------------------------------------------------------------------------\u001b[0m",
      "\u001b[0;31mTypeError\u001b[0m                                 Traceback (most recent call last)",
      "Cell \u001b[0;32mIn[14], line 1\u001b[0m\n\u001b[0;32m----> 1\u001b[0m \u001b[38;5;28;43mnext\u001b[39;49m\u001b[43m(\u001b[49m\u001b[43mmy_list\u001b[49m\u001b[43m)\u001b[49m \u001b[38;5;66;03m# посмотрим ошибку\u001b[39;00m\n",
      "\u001b[0;31mTypeError\u001b[0m: 'list' object is not an iterator"
     ]
    }
   ],
   "source": [
    "next(my_list) # посмотрим ошибку"
   ]
  },
  {
   "cell_type": "code",
   "execution_count": 13,
   "id": "60541e29",
   "metadata": {},
   "outputs": [
    {
     "data": {
      "text/plain": [
       "['Yandex', 'DS', 'Lecture']"
      ]
     },
     "execution_count": 13,
     "metadata": {},
     "output_type": "execute_result"
    }
   ],
   "source": [
    "my_list"
   ]
  },
  {
   "cell_type": "markdown",
   "id": "654f7540",
   "metadata": {},
   "source": [
    "### Еще раз наглядно перепишем"
   ]
  },
  {
   "cell_type": "code",
   "execution_count": 15,
   "id": "7bb2f1fe",
   "metadata": {},
   "outputs": [
    {
     "name": "stdout",
     "output_type": "stream",
     "text": [
      "Yandex\n",
      "DS\n",
      "Lecture\n"
     ]
    }
   ],
   "source": [
    "for name in my_list:\n",
    "    print(name)"
   ]
  },
  {
   "cell_type": "code",
   "execution_count": 16,
   "id": "794c30a4",
   "metadata": {},
   "outputs": [
    {
     "name": "stdout",
     "output_type": "stream",
     "text": [
      "Yandex\n",
      "DS\n",
      "Lecture\n"
     ]
    }
   ],
   "source": [
    "# равносильно такой конструкции\n",
    "\n",
    "my_iter = my_list.__iter__()\n",
    "\n",
    "while True:\n",
    "    try:\n",
    "        print(next(my_iter))  # my_iter.__next__()\n",
    "    except StopIteration:\n",
    "        break"
   ]
  },
  {
   "cell_type": "markdown",
   "id": "0b2593fa",
   "metadata": {},
   "source": [
    "### Как нам создавать свои итераторы?"
   ]
  },
  {
   "cell_type": "code",
   "execution_count": 17,
   "id": "563526b9",
   "metadata": {},
   "outputs": [],
   "source": [
    "from random import randint\n",
    "\n",
    "class MyIter:\n",
    "    def __init__(self):\n",
    "        self.counter = 0\n",
    "\n",
    "    def __next__(self):\n",
    "        while self.counter < 5:\n",
    "            self.counter += 1\n",
    "            return randint(1, 10)\n",
    "        raise StopIteration"
   ]
  },
  {
   "cell_type": "code",
   "execution_count": 25,
   "id": "af7e4e0b",
   "metadata": {},
   "outputs": [],
   "source": [
    "my_iter = MyIter()"
   ]
  },
  {
   "cell_type": "code",
   "execution_count": 24,
   "id": "d399ac9b",
   "metadata": {},
   "outputs": [
    {
     "ename": "StopIteration",
     "evalue": "",
     "output_type": "error",
     "traceback": [
      "\u001b[0;31m---------------------------------------------------------------------------\u001b[0m",
      "\u001b[0;31mStopIteration\u001b[0m                             Traceback (most recent call last)",
      "Cell \u001b[0;32mIn[24], line 1\u001b[0m\n\u001b[0;32m----> 1\u001b[0m \u001b[38;5;28;43mnext\u001b[39;49m\u001b[43m(\u001b[49m\u001b[43mmy_iter\u001b[49m\u001b[43m)\u001b[49m\n",
      "Cell \u001b[0;32mIn[17], line 11\u001b[0m, in \u001b[0;36mMyIter.__next__\u001b[0;34m(self)\u001b[0m\n\u001b[1;32m      9\u001b[0m     \u001b[38;5;28mself\u001b[39m\u001b[38;5;241m.\u001b[39mcounter \u001b[38;5;241m+\u001b[39m\u001b[38;5;241m=\u001b[39m \u001b[38;5;241m1\u001b[39m\n\u001b[1;32m     10\u001b[0m     \u001b[38;5;28;01mreturn\u001b[39;00m randint(\u001b[38;5;241m1\u001b[39m, \u001b[38;5;241m10\u001b[39m)\n\u001b[0;32m---> 11\u001b[0m \u001b[38;5;28;01mraise\u001b[39;00m \u001b[38;5;167;01mStopIteration\u001b[39;00m\n",
      "\u001b[0;31mStopIteration\u001b[0m: "
     ]
    }
   ],
   "source": [
    "next(my_iter)"
   ]
  },
  {
   "cell_type": "code",
   "execution_count": 26,
   "id": "2f12451b",
   "metadata": {},
   "outputs": [
    {
     "ename": "TypeError",
     "evalue": "'MyIter' object is not iterable",
     "output_type": "error",
     "traceback": [
      "\u001b[0;31m---------------------------------------------------------------------------\u001b[0m",
      "\u001b[0;31mTypeError\u001b[0m                                 Traceback (most recent call last)",
      "Cell \u001b[0;32mIn[26], line 1\u001b[0m\n\u001b[0;32m----> 1\u001b[0m \u001b[38;5;28;01mfor\u001b[39;00m i \u001b[38;5;129;01min\u001b[39;00m my_iter:  \u001b[38;5;66;03m# провоцируем ошибку\u001b[39;00m\n\u001b[1;32m      2\u001b[0m     \u001b[38;5;28mprint\u001b[39m(i)\n",
      "\u001b[0;31mTypeError\u001b[0m: 'MyIter' object is not iterable"
     ]
    }
   ],
   "source": [
    "for i in my_iter:  # провоцируем ошибку\n",
    "    print(i)"
   ]
  },
  {
   "cell_type": "markdown",
   "id": "12540d36",
   "metadata": {},
   "source": [
    "В чем проблема? Получается, что итератор не iterable"
   ]
  },
  {
   "cell_type": "code",
   "execution_count": 37,
   "id": "91d76e0f",
   "metadata": {},
   "outputs": [],
   "source": [
    "### Надо немного изменить MyIter"
   ]
  },
  {
   "cell_type": "code",
   "execution_count": 27,
   "id": "3d706719",
   "metadata": {},
   "outputs": [],
   "source": [
    "class MyIter:\n",
    "    def __init__(self):\n",
    "        self.__counter = 0\n",
    "\n",
    "    def __next__(self):\n",
    "        while self.__counter < 5:\n",
    "            self.__counter += 1\n",
    "            return randint(1, 10)\n",
    "        raise StopIteration\n",
    "        \n",
    "    def __iter__(self):\n",
    "        return self"
   ]
  },
  {
   "cell_type": "code",
   "execution_count": 33,
   "id": "f8a0a251",
   "metadata": {},
   "outputs": [
    {
     "name": "stdout",
     "output_type": "stream",
     "text": [
      "6\n",
      "7\n",
      "10\n",
      "2\n",
      "10\n"
     ]
    }
   ],
   "source": [
    "for i in MyIter():\n",
    "    print(i)"
   ]
  },
  {
   "cell_type": "markdown",
   "id": "1d641ca6",
   "metadata": {},
   "source": [
    "Такие объекты уже называются iterable"
   ]
  },
  {
   "cell_type": "markdown",
   "id": "f11c524d",
   "metadata": {},
   "source": [
    "Iterator vs Iterable"
   ]
  },
  {
   "cell_type": "code",
   "execution_count": 36,
   "id": "b3fd6e8e",
   "metadata": {},
   "outputs": [],
   "source": [
    "class MyRangeIterator:\n",
    "    def __init__(self, start, stop, step=1):\n",
    "        self.__start = start\n",
    "        self.__stop = stop\n",
    "        self.__step = step\n",
    "\n",
    "    def __next__(self):\n",
    "        if self.__start <= self.__stop:\n",
    "            res = self.__start\n",
    "            self.__start += self.__step\n",
    "            return res\n",
    "        raise StopIteration\n",
    "        \n",
    "    def __iter__(self):\n",
    "        return self"
   ]
  },
  {
   "cell_type": "code",
   "execution_count": 37,
   "id": "d2b956cd",
   "metadata": {},
   "outputs": [
    {
     "name": "stdout",
     "output_type": "stream",
     "text": [
      "0\n",
      "2\n",
      "4\n",
      "6\n",
      "8\n",
      "10\n",
      "12\n"
     ]
    }
   ],
   "source": [
    "for i in MyRangeIterator(0, 12, 2):\n",
    "    print(i)"
   ]
  },
  {
   "cell_type": "code",
   "execution_count": 41,
   "id": "431a1e41",
   "metadata": {},
   "outputs": [],
   "source": [
    "iterator = MyRangeIterator(0, 10)"
   ]
  },
  {
   "cell_type": "code",
   "execution_count": 40,
   "id": "a44e747f",
   "metadata": {},
   "outputs": [
    {
     "data": {
      "text/plain": [
       "0"
      ]
     },
     "execution_count": 40,
     "metadata": {},
     "output_type": "execute_result"
    }
   ],
   "source": [
    "sum(iterator)"
   ]
  },
  {
   "cell_type": "code",
   "execution_count": 43,
   "id": "59ef7d3c",
   "metadata": {},
   "outputs": [],
   "source": [
    "for num in iterator:\n",
    "    print(num)"
   ]
  },
  {
   "cell_type": "code",
   "execution_count": 44,
   "id": "a41fbd74",
   "metadata": {},
   "outputs": [],
   "source": [
    "class MyRangeIterable:\n",
    "    def __init__(self, start, stop, step=1):\n",
    "        self.__start = start\n",
    "        self.__stop = stop\n",
    "        self.__step = step\n",
    "\n",
    "    def __iter__(self):\n",
    "        return MyRangeIterator(self.__start, self.__stop, self.__step)"
   ]
  },
  {
   "cell_type": "code",
   "execution_count": 50,
   "id": "b12d0470",
   "metadata": {},
   "outputs": [
    {
     "data": {
      "text/plain": [
       "55"
      ]
     },
     "execution_count": 50,
     "metadata": {},
     "output_type": "execute_result"
    }
   ],
   "source": [
    "iterable = MyRangeIterable(0, 10)\n",
    "sum(iterable)"
   ]
  },
  {
   "cell_type": "code",
   "execution_count": 53,
   "id": "39e95890",
   "metadata": {},
   "outputs": [
    {
     "data": {
      "text/plain": [
       "55"
      ]
     },
     "execution_count": 53,
     "metadata": {},
     "output_type": "execute_result"
    }
   ],
   "source": [
    "sum(iterable)"
   ]
  },
  {
   "cell_type": "markdown",
   "id": "94665210",
   "metadata": {},
   "source": [
    "### Рассмотрим встроенную функцию iter"
   ]
  },
  {
   "cell_type": "code",
   "execution_count": 62,
   "id": "bd36ed08",
   "metadata": {},
   "outputs": [],
   "source": [
    "def step():\n",
    "    return randint(1, 10)"
   ]
  },
  {
   "cell_type": "code",
   "execution_count": 63,
   "id": "c7cad971",
   "metadata": {},
   "outputs": [
    {
     "name": "stdout",
     "output_type": "stream",
     "text": [
      "10\n",
      "6\n",
      "10\n",
      "8\n"
     ]
    }
   ],
   "source": [
    "for i in iter(step, 2):\n",
    "    print(i)"
   ]
  },
  {
   "cell_type": "code",
   "execution_count": 66,
   "id": "03a4155f",
   "metadata": {},
   "outputs": [],
   "source": [
    "def my_range(start, stop):\n",
    "    def step():\n",
    "        nonlocal start\n",
    "        res = start\n",
    "        start += 1\n",
    "        return res\n",
    "    return iter(step, stop + 1)"
   ]
  },
  {
   "cell_type": "code",
   "execution_count": 69,
   "id": "eaa86213",
   "metadata": {},
   "outputs": [
    {
     "name": "stdout",
     "output_type": "stream",
     "text": [
      "3\n",
      "4\n",
      "5\n",
      "6\n",
      "7\n",
      "8\n",
      "9\n",
      "10\n",
      "11\n",
      "12\n",
      "13\n",
      "14\n",
      "15\n"
     ]
    }
   ],
   "source": [
    "for i in my_range(3, 15):\n",
    "    print(i)"
   ]
  },
  {
   "cell_type": "markdown",
   "id": "ff1621a4",
   "metadata": {},
   "source": [
    "### Генераторы"
   ]
  },
  {
   "cell_type": "code",
   "execution_count": 74,
   "id": "bba118c8",
   "metadata": {},
   "outputs": [],
   "source": [
    "def simple_gen():\n",
    "    yield 1\n",
    "    print('_' * 10)\n",
    "    yield 2\n",
    "    print('_' * 10)\n",
    "    yield 3"
   ]
  },
  {
   "cell_type": "code",
   "execution_count": 70,
   "id": "d7e5179c",
   "metadata": {},
   "outputs": [],
   "source": [
    "def f1():\n",
    "    res = 0\n",
    "    return res"
   ]
  },
  {
   "cell_type": "code",
   "execution_count": 75,
   "id": "161c0435",
   "metadata": {},
   "outputs": [],
   "source": [
    "simple_gen_test = simple_gen()"
   ]
  },
  {
   "cell_type": "code",
   "execution_count": 81,
   "id": "d260f13e",
   "metadata": {},
   "outputs": [],
   "source": [
    "# range"
   ]
  },
  {
   "cell_type": "code",
   "execution_count": 82,
   "id": "1791eb20",
   "metadata": {},
   "outputs": [],
   "source": [
    "simple_gen_test = simple_gen()\n",
    "\n",
    "# while True:\n",
    "#     print(next(simple_gen_test))\n",
    "\n",
    "# print(next(simple_gen_test))\n",
    "# print('!!!')\n",
    "# # print(next(simple_gen_test))\n",
    "# # print(next(simple_gen_test))\n",
    "# # print(next(simple_gen_test))"
   ]
  },
  {
   "cell_type": "code",
   "execution_count": 104,
   "id": "8ae08cd6",
   "metadata": {},
   "outputs": [],
   "source": [
    "gen = simple_gen()"
   ]
  },
  {
   "cell_type": "code",
   "execution_count": 105,
   "id": "55122a2f",
   "metadata": {},
   "outputs": [
    {
     "name": "stdout",
     "output_type": "stream",
     "text": [
      "1\n",
      "__________\n",
      "2\n",
      "__________\n",
      "3\n"
     ]
    }
   ],
   "source": [
    "for i in gen:\n",
    "    print(i)"
   ]
  },
  {
   "cell_type": "code",
   "execution_count": 89,
   "id": "27aa6e30",
   "metadata": {},
   "outputs": [],
   "source": [
    "# for elem in simple_gen():\n",
    "#     print(elem)"
   ]
  },
  {
   "cell_type": "code",
   "execution_count": 94,
   "id": "3c346f29",
   "metadata": {},
   "outputs": [],
   "source": [
    "def my_range(start, stop, step=1):\n",
    "    while start < stop:\n",
    "        yield start\n",
    "        start += step"
   ]
  },
  {
   "cell_type": "code",
   "execution_count": 95,
   "id": "a964abeb",
   "metadata": {},
   "outputs": [
    {
     "name": "stdout",
     "output_type": "stream",
     "text": [
      "1\n",
      "2\n",
      "3\n",
      "4\n",
      "5\n",
      "6\n",
      "7\n",
      "8\n",
      "9\n"
     ]
    }
   ],
   "source": [
    "for i in my_range(1, 10, step=1):\n",
    "    print(i)"
   ]
  },
  {
   "cell_type": "markdown",
   "id": "ef022510",
   "metadata": {},
   "source": [
    "### Применение"
   ]
  },
  {
   "cell_type": "code",
   "execution_count": 99,
   "id": "251f124f",
   "metadata": {},
   "outputs": [],
   "source": [
    "def chain(*seqs):\n",
    "    for seq in seqs:\n",
    "        for elem in seq:\n",
    "            yield elem\n",
    "\n",
    "def unique(*seqs):\n",
    "    uniq_set = set()\n",
    "    for seq in seqs:\n",
    "        for elem in seq:\n",
    "            if elem not in uniq_set:\n",
    "                uniq_set.add(elem)\n",
    "                yield elem"
   ]
  },
  {
   "cell_type": "code",
   "execution_count": 100,
   "id": "133102d8",
   "metadata": {},
   "outputs": [
    {
     "name": "stdout",
     "output_type": "stream",
     "text": [
      "1\n",
      "2\n",
      "3\n",
      "kw\n",
      "kw1\n",
      "kw2\n",
      "0\n",
      "0\n",
      "0\n"
     ]
    }
   ],
   "source": [
    "for elem in chain([1, 2, 3], ['kw', 'kw1', 'kw2'], [0, 0, 0]):\n",
    "    print(elem)"
   ]
  },
  {
   "cell_type": "code",
   "execution_count": 101,
   "id": "64ebe771",
   "metadata": {},
   "outputs": [
    {
     "name": "stdout",
     "output_type": "stream",
     "text": [
      "1\n",
      "2\n",
      "3\n",
      "4\n",
      "5\n"
     ]
    }
   ],
   "source": [
    "for elem in unique([1, 2, 3], [1, 2, 3, 4], [1, 2, 3, 4, 5]):\n",
    "    print(elem)"
   ]
  },
  {
   "cell_type": "code",
   "execution_count": 106,
   "id": "df8a468c",
   "metadata": {},
   "outputs": [
    {
     "data": {
      "text/plain": [
       "{1, 2, 3, 4, 5}"
      ]
     },
     "execution_count": 106,
     "metadata": {},
     "output_type": "execute_result"
    }
   ],
   "source": [
    "t = [[1, 2], [3, 4], [5, 1]]\n",
    "{i for j in t for i in j}"
   ]
  },
  {
   "cell_type": "code",
   "execution_count": 105,
   "id": "20843214",
   "metadata": {},
   "outputs": [],
   "source": [
    "from itertools import chain"
   ]
  },
  {
   "cell_type": "code",
   "execution_count": 107,
   "id": "55f2f851",
   "metadata": {},
   "outputs": [],
   "source": [
    "def my_iter():\n",
    "    counter = 0\n",
    "    while counter < 3:\n",
    "        counter += 1\n",
    "        yield counter\n",
    "\n",
    "def chain(*seqs):\n",
    "    for seq in seqs:\n",
    "        yield from seq"
   ]
  },
  {
   "cell_type": "code",
   "execution_count": 109,
   "id": "f4559cdf",
   "metadata": {},
   "outputs": [
    {
     "name": "stdout",
     "output_type": "stream",
     "text": [
      "1\n",
      "2\n",
      "3\n",
      "kw\n",
      "kw1\n",
      "kw2\n",
      "0\n",
      "0\n",
      "0\n"
     ]
    }
   ],
   "source": [
    "for elem in chain(my_iter(), ['kw', 'kw1', 'kw2'], [0, 0, 0]):\n",
    "    print(elem)"
   ]
  },
  {
   "cell_type": "code",
   "execution_count": 110,
   "id": "6be8b295",
   "metadata": {},
   "outputs": [],
   "source": [
    "def inf_list():\n",
    "    start = -1\n",
    "    while True:\n",
    "        start += 1\n",
    "        yield start"
   ]
  },
  {
   "cell_type": "code",
   "execution_count": 111,
   "id": "b4877c0f",
   "metadata": {},
   "outputs": [
    {
     "name": "stdout",
     "output_type": "stream",
     "text": [
      "0\n",
      "1\n",
      "2\n",
      "3\n",
      "4\n",
      "5\n",
      "6\n",
      "7\n",
      "8\n",
      "9\n",
      "10\n"
     ]
    }
   ],
   "source": [
    "for i in inf_list():\n",
    "    print(i)\n",
    "    if i == 10:\n",
    "        break"
   ]
  },
  {
   "cell_type": "markdown",
   "id": "a807489a",
   "metadata": {},
   "source": [
    "### Корутины"
   ]
  },
  {
   "cell_type": "code",
   "execution_count": 112,
   "id": "e6db18b0",
   "metadata": {},
   "outputs": [],
   "source": [
    "def sum_sq(it):\n",
    "    sum_1 = 0\n",
    "    sum_2 = 0\n",
    "    for elem in it:\n",
    "        sum_1 += elem ** 1\n",
    "        sum_2 += elem ** 2\n",
    "    return sum_1, sum_2"
   ]
  },
  {
   "cell_type": "code",
   "execution_count": 113,
   "id": "c2b508f2",
   "metadata": {},
   "outputs": [
    {
     "data": {
      "text/plain": [
       "(6, 14)"
      ]
     },
     "execution_count": 113,
     "metadata": {},
     "output_type": "execute_result"
    }
   ],
   "source": [
    "sum_sq([1, 2, 3])"
   ]
  },
  {
   "cell_type": "code",
   "execution_count": 126,
   "id": "bb9d87a8",
   "metadata": {},
   "outputs": [],
   "source": [
    "def simple_bot():\n",
    "    while True:\n",
    "        message = yield\n",
    "        print(f'Ты сказал {message}')\n",
    "        if message == 'Пока!':\n",
    "            break"
   ]
  },
  {
   "cell_type": "code",
   "execution_count": 127,
   "id": "b9f19e4c",
   "metadata": {},
   "outputs": [],
   "source": [
    "bot = simple_bot()\n",
    "bot.send(None)"
   ]
  },
  {
   "cell_type": "code",
   "execution_count": 129,
   "id": "2ab3d747",
   "metadata": {},
   "outputs": [
    {
     "name": "stdout",
     "output_type": "stream",
     "text": [
      "Ты сказал Пока!\n"
     ]
    },
    {
     "ename": "StopIteration",
     "evalue": "",
     "output_type": "error",
     "traceback": [
      "\u001b[0;31m---------------------------------------------------------------------------\u001b[0m",
      "\u001b[0;31mStopIteration\u001b[0m                             Traceback (most recent call last)",
      "Cell \u001b[0;32mIn[129], line 1\u001b[0m\n\u001b[0;32m----> 1\u001b[0m \u001b[43mbot\u001b[49m\u001b[38;5;241;43m.\u001b[39;49m\u001b[43msend\u001b[49m\u001b[43m(\u001b[49m\u001b[38;5;124;43m'\u001b[39;49m\u001b[38;5;124;43mПока!\u001b[39;49m\u001b[38;5;124;43m'\u001b[39;49m\u001b[43m)\u001b[49m\n",
      "\u001b[0;31mStopIteration\u001b[0m: "
     ]
    }
   ],
   "source": [
    "bot.send('Пока!')"
   ]
  },
  {
   "cell_type": "code",
   "execution_count": 130,
   "id": "6817c888",
   "metadata": {},
   "outputs": [
    {
     "name": "stdout",
     "output_type": "stream",
     "text": [
      "None\n",
      "Привет\n",
      "Ты сказал Привет\n",
      "None\n",
      "123\n",
      "Ты сказал 123\n",
      "None\n",
      "Пока!\n",
      "Ты сказал Пока!\n"
     ]
    }
   ],
   "source": [
    "bot = simple_bot()\n",
    "print(bot.send(None))\n",
    "while True:\n",
    "    try:\n",
    "        print(bot.send(input()))\n",
    "    except StopIteration:\n",
    "        break"
   ]
  },
  {
   "cell_type": "code",
   "execution_count": 132,
   "id": "2c4c3290",
   "metadata": {},
   "outputs": [],
   "source": [
    "import functools\n",
    "\n",
    "def coroutine(func):\n",
    "    @functools.wraps(func)\n",
    "    def wrapper(*args, **kwargs):\n",
    "        gen = func(*args, **kwargs)\n",
    "        gen.send(None)\n",
    "        return gen\n",
    "    return wrapper"
   ]
  },
  {
   "cell_type": "code",
   "execution_count": 133,
   "id": "259892ac",
   "metadata": {},
   "outputs": [],
   "source": [
    "@coroutine\n",
    "def simple_bot():\n",
    "    counter = -1\n",
    "    while True:\n",
    "        counter += 1\n",
    "        message = yield counter\n",
    "        print(f'Ты сказал {message}')\n",
    "        if message == 'Пока!':\n",
    "            break"
   ]
  },
  {
   "cell_type": "code",
   "execution_count": 140,
   "id": "e0f28e85",
   "metadata": {},
   "outputs": [
    {
     "name": "stdout",
     "output_type": "stream",
     "text": [
      "Ты сказал Пока!\n"
     ]
    },
    {
     "ename": "StopIteration",
     "evalue": "",
     "output_type": "error",
     "traceback": [
      "\u001b[0;31m---------------------------------------------------------------------------\u001b[0m",
      "\u001b[0;31mStopIteration\u001b[0m                             Traceback (most recent call last)",
      "Cell \u001b[0;32mIn[140], line 2\u001b[0m\n\u001b[1;32m      1\u001b[0m cor_simple_bot \u001b[38;5;241m=\u001b[39m simple_bot()\n\u001b[0;32m----> 2\u001b[0m \u001b[43mcor_simple_bot\u001b[49m\u001b[38;5;241;43m.\u001b[39;49m\u001b[43msend\u001b[49m\u001b[43m(\u001b[49m\u001b[38;5;124;43m'\u001b[39;49m\u001b[38;5;124;43mПока!\u001b[39;49m\u001b[38;5;124;43m'\u001b[39;49m\u001b[43m)\u001b[49m\n",
      "\u001b[0;31mStopIteration\u001b[0m: "
     ]
    }
   ],
   "source": [
    "cor_simple_bot = simple_bot()\n",
    "cor_simple_bot.send('Пока!')"
   ]
  },
  {
   "cell_type": "code",
   "execution_count": 142,
   "id": "6474b7fb",
   "metadata": {},
   "outputs": [],
   "source": [
    "@coroutine\n",
    "def logger():\n",
    "    with open('my_logs.txt', 'a') as f:\n",
    "        while True:\n",
    "            item = yield\n",
    "            f.write(f'{item} \\n')"
   ]
  },
  {
   "cell_type": "code",
   "execution_count": 143,
   "id": "0cf30ffa",
   "metadata": {},
   "outputs": [],
   "source": [
    "log = logger()"
   ]
  },
  {
   "cell_type": "code",
   "execution_count": 145,
   "id": "ba4d7954",
   "metadata": {},
   "outputs": [],
   "source": [
    "log.send('Лекция 18.02 Лекция-онлайн! Второе сообщение')"
   ]
  },
  {
   "cell_type": "code",
   "execution_count": 146,
   "id": "59672fe1",
   "metadata": {},
   "outputs": [],
   "source": [
    "log.close()"
   ]
  },
  {
   "cell_type": "code",
   "execution_count": 147,
   "id": "57dfbd14",
   "metadata": {},
   "outputs": [
    {
     "ename": "StopIteration",
     "evalue": "",
     "output_type": "error",
     "traceback": [
      "\u001b[0;31m---------------------------------------------------------------------------\u001b[0m",
      "\u001b[0;31mStopIteration\u001b[0m                             Traceback (most recent call last)",
      "Cell \u001b[0;32mIn[147], line 1\u001b[0m\n\u001b[0;32m----> 1\u001b[0m \u001b[43mlog\u001b[49m\u001b[38;5;241;43m.\u001b[39;49m\u001b[43msend\u001b[49m\u001b[43m(\u001b[49m\u001b[38;5;124;43m'\u001b[39;49m\u001b[38;5;124;43mЛекция 30.06\u001b[39;49m\u001b[38;5;124;43m'\u001b[39;49m\u001b[43m)\u001b[49m\n",
      "\u001b[0;31mStopIteration\u001b[0m: "
     ]
    }
   ],
   "source": [
    "log.send('Лекция 30.06')"
   ]
  },
  {
   "cell_type": "code",
   "execution_count": 148,
   "id": "85ed2159",
   "metadata": {},
   "outputs": [],
   "source": [
    "STOP = object()\n",
    "\n",
    "@coroutine\n",
    "def sum_p(p):\n",
    "    sum_ = 0\n",
    "    while True:\n",
    "        item = yield\n",
    "        if item is STOP:\n",
    "            return sum_\n",
    "        sum_ += item ** p\n",
    "        \n",
    "def result(cor):\n",
    "    try:\n",
    "        cor.send(STOP)\n",
    "    except StopIteration as e:\n",
    "        return e.value"
   ]
  },
  {
   "cell_type": "code",
   "execution_count": 149,
   "id": "40518aa3",
   "metadata": {},
   "outputs": [],
   "source": [
    "test_p = sum_p(2)"
   ]
  },
  {
   "cell_type": "code",
   "execution_count": 150,
   "id": "179f833a",
   "metadata": {},
   "outputs": [],
   "source": [
    "test_p.send(4)"
   ]
  },
  {
   "cell_type": "code",
   "execution_count": 152,
   "id": "da6c9b0f",
   "metadata": {},
   "outputs": [],
   "source": [
    "# test_p.send(STOP)"
   ]
  },
  {
   "cell_type": "code",
   "execution_count": 151,
   "id": "326cb8e2",
   "metadata": {},
   "outputs": [
    {
     "data": {
      "text/plain": [
       "<map at 0x106423580>"
      ]
     },
     "execution_count": 151,
     "metadata": {},
     "output_type": "execute_result"
    }
   ],
   "source": [
    "map(float, ['1', '2', '3'])"
   ]
  },
  {
   "cell_type": "code",
   "execution_count": 153,
   "id": "71b120c1",
   "metadata": {},
   "outputs": [
    {
     "name": "stdout",
     "output_type": "stream",
     "text": [
      "1.2 <class 'float'>\n",
      "3.0 <class 'float'>\n"
     ]
    }
   ],
   "source": [
    "for i in map(float, ['1.2', '3']):\n",
    "    print(i, type(i))"
   ]
  },
  {
   "cell_type": "code",
   "execution_count": 156,
   "id": "2334b810",
   "metadata": {},
   "outputs": [],
   "source": [
    "test_cor = sum_p(2)"
   ]
  },
  {
   "cell_type": "code",
   "execution_count": 157,
   "id": "f5524b76",
   "metadata": {},
   "outputs": [],
   "source": [
    "test_cor.send(4)"
   ]
  },
  {
   "cell_type": "code",
   "execution_count": 159,
   "id": "31ea4fcb",
   "metadata": {},
   "outputs": [],
   "source": [
    "# test_cor.send(STOP)"
   ]
  },
  {
   "cell_type": "code",
   "execution_count": 154,
   "id": "9297098f",
   "metadata": {},
   "outputs": [],
   "source": [
    "def modified_sum_sq(\n",
    "    it,\n",
    "    ps=(1, 2, 3),\n",
    "):\n",
    "    interesting_sum = [sum_p(p) for p in ps]\n",
    "#     interesting_sum = [sum_p(1), sum_p(2), sum_p(3)]\n",
    "    for elem in it:\n",
    "        for func in interesting_sum:\n",
    "            func.send(elem)\n",
    "\n",
    "    return list(map(result, interesting_sum))"
   ]
  },
  {
   "cell_type": "code",
   "execution_count": 155,
   "id": "f4433894",
   "metadata": {},
   "outputs": [
    {
     "data": {
      "text/plain": [
       "[6, 14, 36, 98]"
      ]
     },
     "execution_count": 155,
     "metadata": {},
     "output_type": "execute_result"
    }
   ],
   "source": [
    "modified_sum_sq([1, 2, 3], ps=(1, 2, 3, 4))"
   ]
  },
  {
   "cell_type": "code",
   "execution_count": null,
   "id": "d74f7216",
   "metadata": {},
   "outputs": [],
   "source": []
  }
 ],
 "metadata": {
  "kernelspec": {
   "display_name": "Python 3 (ipykernel)",
   "language": "python",
   "name": "python3"
  },
  "language_info": {
   "codemirror_mode": {
    "name": "ipython",
    "version": 3
   },
   "file_extension": ".py",
   "mimetype": "text/x-python",
   "name": "python",
   "nbconvert_exporter": "python",
   "pygments_lexer": "ipython3",
   "version": "3.9.6"
  },
  "toc": {
   "base_numbering": 1,
   "nav_menu": {},
   "number_sections": true,
   "sideBar": true,
   "skip_h1_title": false,
   "title_cell": "Table of Contents",
   "title_sidebar": "Contents",
   "toc_cell": false,
   "toc_position": {},
   "toc_section_display": true,
   "toc_window_display": false
  }
 },
 "nbformat": 4,
 "nbformat_minor": 5
}
