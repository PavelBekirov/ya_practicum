{
 "cells": [
  {
   "cell_type": "code",
   "execution_count": 1,
   "metadata": {
    "collapsed": true
   },
   "outputs": [],
   "source": [
    "from notifiers import get_notifier\n",
    "\n",
    "from notifiers import get_notifier\n",
    "def make_telegram_notifier(\n",
    "        token='6172070577:AAGERfg9Cqv2vF6UN_NDs2AY9-mGsjR3e8U',\n",
    "        chat_id=462441070):\n",
    "    def f(text):\n",
    "        telegram = get_notifier('telegram')\n",
    "        telegram.notify(message=text,\n",
    "                        token=token,\n",
    "                        chat_id=chat_id)\n",
    "\n",
    "    return f\n",
    "send = make_telegram_notifier()"
   ]
  },
  {
   "cell_type": "code",
   "execution_count": 2,
   "outputs": [],
   "source": [
    "send('Hi bot!')"
   ],
   "metadata": {
    "collapsed": false
   }
  },
  {
   "cell_type": "code",
   "execution_count": 8,
   "outputs": [],
   "source": [
    "import telepot\n",
    "def make_telepot(\n",
    "        token='6172070577:AAGERfg9Cqv2vF6UN_NDs2AY9-mGsjR3e8U',\n",
    "        chat_id=462441070):\n",
    "    bot = telepot.Bot(token)\n",
    "\n",
    "    def send(text='', image=None):\n",
    "        if image is None:\n",
    "            bot.sendMessage(chat_id, text)\n",
    "            return\n",
    "        else:\n",
    "            image = open(image, 'rb')\n",
    "        bot.sendPhoto(chat_id, image, caption=text)\n",
    "\n",
    "    return send\n",
    "\n",
    "\n",
    "send_telepot = make_telepot()\n",
    "send_telepot(\"Привет, студент!\", image=\"1.jpeg\")"
   ],
   "metadata": {
    "collapsed": false
   }
  }
 ],
 "metadata": {
  "kernelspec": {
   "display_name": "Python 3",
   "language": "python",
   "name": "python3"
  },
  "language_info": {
   "codemirror_mode": {
    "name": "ipython",
    "version": 2
   },
   "file_extension": ".py",
   "mimetype": "text/x-python",
   "name": "python",
   "nbconvert_exporter": "python",
   "pygments_lexer": "ipython2",
   "version": "2.7.6"
  }
 },
 "nbformat": 4,
 "nbformat_minor": 0
}
