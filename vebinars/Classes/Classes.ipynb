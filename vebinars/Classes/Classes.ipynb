{
 "cells": [
  {
   "cell_type": "markdown",
   "id": "de850310",
   "metadata": {},
   "source": [
    "## Классы"
   ]
  },
  {
   "cell_type": "markdown",
   "id": "fab7e283",
   "metadata": {},
   "source": [
    "<img src=\"classes.jpeg\" width=600 height=600 />"
   ]
  },
  {
   "cell_type": "markdown",
   "id": "e2a64818",
   "metadata": {},
   "source": [
    "### 1. В python все объект"
   ]
  },
  {
   "cell_type": "code",
   "execution_count": 1,
   "id": "f90da737",
   "metadata": {},
   "outputs": [],
   "source": [
    "string = 'Simple string'\n",
    "number = 1\n",
    "number1 = 1.0"
   ]
  },
  {
   "cell_type": "code",
   "execution_count": 2,
   "id": "36b4aaca",
   "metadata": {},
   "outputs": [
    {
     "data": {
      "text/plain": [
       "['__abs__',\n",
       " '__add__',\n",
       " '__and__',\n",
       " '__bool__',\n",
       " '__ceil__',\n",
       " '__class__',\n",
       " '__delattr__',\n",
       " '__dir__',\n",
       " '__divmod__',\n",
       " '__doc__',\n",
       " '__eq__',\n",
       " '__float__',\n",
       " '__floor__',\n",
       " '__floordiv__',\n",
       " '__format__',\n",
       " '__ge__',\n",
       " '__getattribute__',\n",
       " '__getnewargs__',\n",
       " '__gt__',\n",
       " '__hash__',\n",
       " '__index__',\n",
       " '__init__',\n",
       " '__init_subclass__',\n",
       " '__int__',\n",
       " '__invert__',\n",
       " '__le__',\n",
       " '__lshift__',\n",
       " '__lt__',\n",
       " '__mod__',\n",
       " '__mul__',\n",
       " '__ne__',\n",
       " '__neg__',\n",
       " '__new__',\n",
       " '__or__',\n",
       " '__pos__',\n",
       " '__pow__',\n",
       " '__radd__',\n",
       " '__rand__',\n",
       " '__rdivmod__',\n",
       " '__reduce__',\n",
       " '__reduce_ex__',\n",
       " '__repr__',\n",
       " '__rfloordiv__',\n",
       " '__rlshift__',\n",
       " '__rmod__',\n",
       " '__rmul__',\n",
       " '__ror__',\n",
       " '__round__',\n",
       " '__rpow__',\n",
       " '__rrshift__',\n",
       " '__rshift__',\n",
       " '__rsub__',\n",
       " '__rtruediv__',\n",
       " '__rxor__',\n",
       " '__setattr__',\n",
       " '__sizeof__',\n",
       " '__str__',\n",
       " '__sub__',\n",
       " '__subclasshook__',\n",
       " '__truediv__',\n",
       " '__trunc__',\n",
       " '__xor__',\n",
       " 'as_integer_ratio',\n",
       " 'bit_count',\n",
       " 'bit_length',\n",
       " 'conjugate',\n",
       " 'denominator',\n",
       " 'from_bytes',\n",
       " 'imag',\n",
       " 'numerator',\n",
       " 'real',\n",
       " 'to_bytes']"
      ]
     },
     "execution_count": 2,
     "metadata": {},
     "output_type": "execute_result"
    }
   ],
   "source": [
    "dir(number)"
   ]
  },
  {
   "cell_type": "code",
   "execution_count": 3,
   "id": "9967b6dd",
   "metadata": {},
   "outputs": [
    {
     "data": {
      "text/plain": [
       "3"
      ]
     },
     "execution_count": 3,
     "metadata": {},
     "output_type": "execute_result"
    }
   ],
   "source": [
    "number + 2"
   ]
  },
  {
   "cell_type": "code",
   "execution_count": 4,
   "id": "90b53fba",
   "metadata": {},
   "outputs": [
    {
     "data": {
      "text/plain": [
       "3"
      ]
     },
     "execution_count": 4,
     "metadata": {},
     "output_type": "execute_result"
    }
   ],
   "source": [
    "number.__add__(2)"
   ]
  },
  {
   "cell_type": "code",
   "execution_count": 5,
   "id": "00342b94",
   "metadata": {},
   "outputs": [
    {
     "data": {
      "text/plain": [
       "int"
      ]
     },
     "execution_count": 5,
     "metadata": {},
     "output_type": "execute_result"
    }
   ],
   "source": [
    "type(number)"
   ]
  },
  {
   "cell_type": "code",
   "execution_count": 6,
   "id": "32ab75b7",
   "metadata": {},
   "outputs": [],
   "source": [
    "def func1(a):\n",
    "    return a + 15"
   ]
  },
  {
   "cell_type": "code",
   "execution_count": 7,
   "id": "2d3019d4",
   "metadata": {},
   "outputs": [
    {
     "data": {
      "text/plain": [
       "function"
      ]
     },
     "execution_count": 7,
     "metadata": {},
     "output_type": "execute_result"
    }
   ],
   "source": [
    "type(func1)"
   ]
  },
  {
   "cell_type": "code",
   "execution_count": 19,
   "id": "2e1dcbba",
   "metadata": {},
   "outputs": [
    {
     "data": {
      "text/plain": [
       "['__annotations__',\n",
       " '__builtins__',\n",
       " '__call__',\n",
       " '__class__',\n",
       " '__closure__',\n",
       " '__code__',\n",
       " '__defaults__',\n",
       " '__delattr__',\n",
       " '__dict__',\n",
       " '__dir__',\n",
       " '__doc__',\n",
       " '__eq__',\n",
       " '__format__',\n",
       " '__ge__',\n",
       " '__get__',\n",
       " '__getattribute__',\n",
       " '__globals__',\n",
       " '__gt__',\n",
       " '__hash__',\n",
       " '__init__',\n",
       " '__init_subclass__',\n",
       " '__kwdefaults__',\n",
       " '__le__',\n",
       " '__lt__',\n",
       " '__module__',\n",
       " '__name__',\n",
       " '__ne__',\n",
       " '__new__',\n",
       " '__qualname__',\n",
       " '__reduce__',\n",
       " '__reduce_ex__',\n",
       " '__repr__',\n",
       " '__setattr__',\n",
       " '__sizeof__',\n",
       " '__str__',\n",
       " '__subclasshook__']"
      ]
     },
     "execution_count": 19,
     "metadata": {},
     "output_type": "execute_result"
    }
   ],
   "source": [
    "dir(func1)"
   ]
  },
  {
   "cell_type": "code",
   "execution_count": 8,
   "id": "44dcb934",
   "metadata": {},
   "outputs": [
    {
     "data": {
      "text/plain": [
       "30"
      ]
     },
     "execution_count": 8,
     "metadata": {},
     "output_type": "execute_result"
    }
   ],
   "source": [
    "func1(15)"
   ]
  },
  {
   "cell_type": "code",
   "execution_count": 9,
   "id": "6cfad7fd",
   "metadata": {},
   "outputs": [
    {
     "data": {
      "text/plain": [
       "30"
      ]
     },
     "execution_count": 9,
     "metadata": {},
     "output_type": "execute_result"
    }
   ],
   "source": [
    "func1.__call__(15)"
   ]
  },
  {
   "cell_type": "code",
   "execution_count": 10,
   "id": "de7084a6",
   "metadata": {},
   "outputs": [],
   "source": [
    "a = func1.__call__"
   ]
  },
  {
   "cell_type": "code",
   "execution_count": 11,
   "id": "5e3d68f4",
   "metadata": {},
   "outputs": [
    {
     "data": {
      "text/plain": [
       "['__call__',\n",
       " '__class__',\n",
       " '__delattr__',\n",
       " '__dir__',\n",
       " '__doc__',\n",
       " '__eq__',\n",
       " '__format__',\n",
       " '__ge__',\n",
       " '__getattribute__',\n",
       " '__gt__',\n",
       " '__hash__',\n",
       " '__init__',\n",
       " '__init_subclass__',\n",
       " '__le__',\n",
       " '__lt__',\n",
       " '__name__',\n",
       " '__ne__',\n",
       " '__new__',\n",
       " '__objclass__',\n",
       " '__qualname__',\n",
       " '__reduce__',\n",
       " '__reduce_ex__',\n",
       " '__repr__',\n",
       " '__self__',\n",
       " '__setattr__',\n",
       " '__sizeof__',\n",
       " '__str__',\n",
       " '__subclasshook__',\n",
       " '__text_signature__']"
      ]
     },
     "execution_count": 11,
     "metadata": {},
     "output_type": "execute_result"
    }
   ],
   "source": [
    "dir(a)"
   ]
  },
  {
   "cell_type": "markdown",
   "id": "bf7f6737",
   "metadata": {},
   "source": [
    "### 2. Как создавать свои классы?"
   ]
  },
  {
   "cell_type": "code",
   "execution_count": 12,
   "id": "9706ab88",
   "metadata": {},
   "outputs": [],
   "source": [
    "class FirstClass:\n",
    "    \"\"\"\n",
    "    Моя докстринга\n",
    "    \"\"\"\n",
    "    common_counter = 0\n",
    "    \n",
    "    def __init__(self, counter: int = 0):\n",
    "        self.local_counter = counter\n",
    "        \n",
    "    def __call__(self):\n",
    "        print('Hello world!')\n",
    "    \n",
    "    def count(self):\n",
    "        self.local_counter += 1\n",
    "        FirstClass.common_counter += 1\n",
    "        \n",
    "    def simple_print(self):\n",
    "        print(self.local_counter)\n",
    "        print('example')\n",
    "    \n",
    "    def stats(self):\n",
    "        print(f'Объект: {self.local_counter} \\n Класс: {FirstClass.common_counter}')\n",
    "        \n",
    "class Exmp:\n",
    "    pass"
   ]
  },
  {
   "cell_type": "code",
   "execution_count": 13,
   "id": "be98e85b",
   "metadata": {},
   "outputs": [],
   "source": [
    "a = FirstClass()\n",
    "b = FirstClass()"
   ]
  },
  {
   "cell_type": "code",
   "execution_count": 26,
   "id": "1fdfb5c4",
   "metadata": {},
   "outputs": [
    {
     "data": {
      "text/plain": [
       "'\\n    Моя докстринга\\n    '"
      ]
     },
     "execution_count": 26,
     "metadata": {},
     "output_type": "execute_result"
    }
   ],
   "source": [
    "FirstClass.__doc__"
   ]
  },
  {
   "cell_type": "code",
   "execution_count": 14,
   "id": "499248e5",
   "metadata": {},
   "outputs": [
    {
     "name": "stdout",
     "output_type": "stream",
     "text": [
      "1\n",
      "example\n",
      "Объект: 1 \n",
      " Класс: 1\n"
     ]
    }
   ],
   "source": [
    "a.count()\n",
    "a.simple_print()\n",
    "a.stats()"
   ]
  },
  {
   "cell_type": "code",
   "execution_count": 24,
   "id": "33f961eb",
   "metadata": {},
   "outputs": [
    {
     "data": {
      "text/plain": [
       "<bound method FirstClass.count of <__main__.FirstClass object at 0x113193f10>>"
      ]
     },
     "execution_count": 24,
     "metadata": {},
     "output_type": "execute_result"
    }
   ],
   "source": [
    "a.count"
   ]
  },
  {
   "cell_type": "code",
   "execution_count": 23,
   "id": "76d8d2dd",
   "metadata": {},
   "outputs": [
    {
     "data": {
      "text/plain": [
       "1"
      ]
     },
     "execution_count": 23,
     "metadata": {},
     "output_type": "execute_result"
    }
   ],
   "source": [
    "number"
   ]
  },
  {
   "cell_type": "code",
   "execution_count": 15,
   "id": "4ce8cb72",
   "metadata": {},
   "outputs": [
    {
     "name": "stdout",
     "output_type": "stream",
     "text": [
      "Объект: 2 \n",
      " Класс: 3\n"
     ]
    }
   ],
   "source": [
    "a.count()\n",
    "b.count()\n",
    "a.stats()"
   ]
  },
  {
   "cell_type": "code",
   "execution_count": 16,
   "id": "d023d306",
   "metadata": {},
   "outputs": [
    {
     "name": "stdout",
     "output_type": "stream",
     "text": [
      "Объект: 1 \n",
      " Класс: 3\n"
     ]
    }
   ],
   "source": [
    "b.stats()"
   ]
  },
  {
   "cell_type": "code",
   "execution_count": 17,
   "id": "280f415c",
   "metadata": {},
   "outputs": [
    {
     "data": {
      "text/plain": [
       "(2, 1)"
      ]
     },
     "execution_count": 17,
     "metadata": {},
     "output_type": "execute_result"
    }
   ],
   "source": [
    "a.local_counter, b.local_counter"
   ]
  },
  {
   "cell_type": "code",
   "execution_count": 19,
   "id": "a7eaca51",
   "metadata": {},
   "outputs": [
    {
     "name": "stdout",
     "output_type": "stream",
     "text": [
      "Hello world!\n"
     ]
    }
   ],
   "source": [
    "a.__call__()"
   ]
  },
  {
   "cell_type": "code",
   "execution_count": 20,
   "id": "09bfa970",
   "metadata": {},
   "outputs": [
    {
     "name": "stdout",
     "output_type": "stream",
     "text": [
      "Hello world!\n"
     ]
    }
   ],
   "source": [
    "a()"
   ]
  },
  {
   "cell_type": "markdown",
   "id": "b94e02b2",
   "metadata": {},
   "source": [
    "### 3. Посмотрим на методы"
   ]
  },
  {
   "cell_type": "code",
   "execution_count": 27,
   "id": "d4f06443",
   "metadata": {},
   "outputs": [
    {
     "data": {
      "text/plain": [
       "<bound method FirstClass.count of <__main__.FirstClass object at 0x113193f10>>"
      ]
     },
     "execution_count": 27,
     "metadata": {},
     "output_type": "execute_result"
    }
   ],
   "source": [
    "a.count"
   ]
  },
  {
   "cell_type": "code",
   "execution_count": 162,
   "id": "7dd8085e",
   "metadata": {},
   "outputs": [
    {
     "data": {
      "text/plain": [
       "<function __main__.FirstClass.count(self)>"
      ]
     },
     "execution_count": 162,
     "metadata": {},
     "output_type": "execute_result"
    }
   ],
   "source": [
    "FirstClass.count"
   ]
  },
  {
   "cell_type": "code",
   "execution_count": 28,
   "id": "478be8df",
   "metadata": {},
   "outputs": [],
   "source": [
    "a = FirstClass()"
   ]
  },
  {
   "cell_type": "code",
   "execution_count": 29,
   "id": "34003b80",
   "metadata": {
    "scrolled": true
   },
   "outputs": [
    {
     "name": "stdout",
     "output_type": "stream",
     "text": [
      "0\n",
      "example\n"
     ]
    }
   ],
   "source": [
    "a.simple_print()"
   ]
  },
  {
   "cell_type": "code",
   "execution_count": 30,
   "id": "76cf05b6",
   "metadata": {},
   "outputs": [
    {
     "name": "stdout",
     "output_type": "stream",
     "text": [
      "0\n",
      "example\n"
     ]
    }
   ],
   "source": [
    "FirstClass.simple_print(a)"
   ]
  },
  {
   "cell_type": "code",
   "execution_count": 36,
   "id": "0f89ac2e",
   "metadata": {},
   "outputs": [],
   "source": [
    "a = Exmp()"
   ]
  },
  {
   "cell_type": "code",
   "execution_count": 37,
   "id": "e31db509",
   "metadata": {},
   "outputs": [
    {
     "data": {
      "text/plain": [
       "['__class__',\n",
       " '__delattr__',\n",
       " '__dict__',\n",
       " '__dir__',\n",
       " '__doc__',\n",
       " '__eq__',\n",
       " '__format__',\n",
       " '__ge__',\n",
       " '__getattribute__',\n",
       " '__gt__',\n",
       " '__hash__',\n",
       " '__init__',\n",
       " '__init_subclass__',\n",
       " '__le__',\n",
       " '__lt__',\n",
       " '__module__',\n",
       " '__ne__',\n",
       " '__new__',\n",
       " '__reduce__',\n",
       " '__reduce_ex__',\n",
       " '__repr__',\n",
       " '__setattr__',\n",
       " '__sizeof__',\n",
       " '__str__',\n",
       " '__subclasshook__',\n",
       " '__weakref__']"
      ]
     },
     "execution_count": 37,
     "metadata": {},
     "output_type": "execute_result"
    }
   ],
   "source": [
    "dir(a)"
   ]
  },
  {
   "cell_type": "code",
   "execution_count": 38,
   "id": "a4477fd3",
   "metadata": {},
   "outputs": [],
   "source": [
    "a.local_counter = 3"
   ]
  },
  {
   "cell_type": "code",
   "execution_count": 39,
   "id": "96698797",
   "metadata": {},
   "outputs": [
    {
     "data": {
      "text/plain": [
       "['__class__',\n",
       " '__delattr__',\n",
       " '__dict__',\n",
       " '__dir__',\n",
       " '__doc__',\n",
       " '__eq__',\n",
       " '__format__',\n",
       " '__ge__',\n",
       " '__getattribute__',\n",
       " '__gt__',\n",
       " '__hash__',\n",
       " '__init__',\n",
       " '__init_subclass__',\n",
       " '__le__',\n",
       " '__lt__',\n",
       " '__module__',\n",
       " '__ne__',\n",
       " '__new__',\n",
       " '__reduce__',\n",
       " '__reduce_ex__',\n",
       " '__repr__',\n",
       " '__setattr__',\n",
       " '__sizeof__',\n",
       " '__str__',\n",
       " '__subclasshook__',\n",
       " '__weakref__',\n",
       " 'local_counter']"
      ]
     },
     "execution_count": 39,
     "metadata": {},
     "output_type": "execute_result"
    }
   ],
   "source": [
    "dir(a)"
   ]
  },
  {
   "cell_type": "code",
   "execution_count": 33,
   "id": "ecc5c6f3",
   "metadata": {},
   "outputs": [
    {
     "data": {
      "text/plain": [
       "3"
      ]
     },
     "execution_count": 33,
     "metadata": {},
     "output_type": "execute_result"
    }
   ],
   "source": [
    "a.local_counter"
   ]
  },
  {
   "cell_type": "code",
   "execution_count": 34,
   "id": "1704a4e6",
   "metadata": {},
   "outputs": [
    {
     "ename": "AttributeError",
     "evalue": "'Exmp' object has no attribute 'simple_print'",
     "output_type": "error",
     "traceback": [
      "\u001b[0;31m---------------------------------------------------------------------------\u001b[0m",
      "\u001b[0;31mAttributeError\u001b[0m                            Traceback (most recent call last)",
      "Cell \u001b[0;32mIn [34], line 1\u001b[0m\n\u001b[0;32m----> 1\u001b[0m \u001b[43ma\u001b[49m\u001b[38;5;241;43m.\u001b[39;49m\u001b[43msimple_print\u001b[49m()\n",
      "\u001b[0;31mAttributeError\u001b[0m: 'Exmp' object has no attribute 'simple_print'"
     ]
    }
   ],
   "source": [
    "a.simple_print()"
   ]
  },
  {
   "cell_type": "code",
   "execution_count": 35,
   "id": "c03467cd",
   "metadata": {},
   "outputs": [
    {
     "name": "stdout",
     "output_type": "stream",
     "text": [
      "3\n",
      "example\n"
     ]
    }
   ],
   "source": [
    "FirstClass.simple_print(a)"
   ]
  },
  {
   "cell_type": "markdown",
   "id": "0fc49cd5",
   "metadata": {},
   "source": [
    "### 4. Класс - statement"
   ]
  },
  {
   "cell_type": "code",
   "execution_count": 42,
   "id": "29517e21",
   "metadata": {},
   "outputs": [
    {
     "name": "stdout",
     "output_type": "stream",
     "text": [
      "0\n",
      "1\n",
      "2\n",
      "3\n",
      "4\n",
      "5\n",
      "6\n",
      "7\n",
      "8\n",
      "9\n",
      "Hello world\n"
     ]
    }
   ],
   "source": [
    "class StatementExample:\n",
    "    for i in range(10):\n",
    "        print(i)\n",
    "    print('Hello world')\n",
    "\n",
    "    def __init__(self):\n",
    "        print('init')"
   ]
  },
  {
   "cell_type": "code",
   "execution_count": 172,
   "id": "41a18b28",
   "metadata": {},
   "outputs": [
    {
     "name": "stdout",
     "output_type": "stream",
     "text": [
      "init\n"
     ]
    },
    {
     "data": {
      "text/plain": [
       "<__main__.StatementExample at 0x10521a740>"
      ]
     },
     "execution_count": 172,
     "metadata": {},
     "output_type": "execute_result"
    }
   ],
   "source": [
    "StatementExample()"
   ]
  },
  {
   "cell_type": "code",
   "execution_count": 47,
   "id": "fcaabb11",
   "metadata": {},
   "outputs": [],
   "source": [
    "def func_example():\n",
    "    1 / 0\n",
    "    print('Hello world')"
   ]
  },
  {
   "cell_type": "code",
   "execution_count": 46,
   "id": "f53fa0a5",
   "metadata": {},
   "outputs": [
    {
     "ename": "ZeroDivisionError",
     "evalue": "division by zero",
     "output_type": "error",
     "traceback": [
      "\u001b[0;31m---------------------------------------------------------------------------\u001b[0m",
      "\u001b[0;31mZeroDivisionError\u001b[0m                         Traceback (most recent call last)",
      "Cell \u001b[0;32mIn [46], line 1\u001b[0m\n\u001b[0;32m----> 1\u001b[0m \u001b[43mfunc_example\u001b[49m\u001b[43m(\u001b[49m\u001b[43m)\u001b[49m\n",
      "Cell \u001b[0;32mIn [45], line 2\u001b[0m, in \u001b[0;36mfunc_example\u001b[0;34m()\u001b[0m\n\u001b[1;32m      1\u001b[0m \u001b[38;5;28;01mdef\u001b[39;00m \u001b[38;5;21mfunc_example\u001b[39m():\n\u001b[0;32m----> 2\u001b[0m     \u001b[38;5;241;43m1\u001b[39;49m\u001b[43m \u001b[49m\u001b[38;5;241;43m/\u001b[39;49m\u001b[43m \u001b[49m\u001b[38;5;241;43m0\u001b[39;49m\n\u001b[1;32m      3\u001b[0m     \u001b[38;5;28mprint\u001b[39m(\u001b[38;5;124m'\u001b[39m\u001b[38;5;124mHello world\u001b[39m\u001b[38;5;124m'\u001b[39m)\n",
      "\u001b[0;31mZeroDivisionError\u001b[0m: division by zero"
     ]
    }
   ],
   "source": [
    "func_example()"
   ]
  },
  {
   "cell_type": "markdown",
   "id": "9a5680f4",
   "metadata": {},
   "source": [
    "### 5. Пример на использование различных аттрибутов"
   ]
  },
  {
   "cell_type": "code",
   "execution_count": 48,
   "id": "352c2fc5",
   "metadata": {},
   "outputs": [],
   "source": [
    "import numpy as np\n",
    "\n",
    "\n",
    "class Student:\n",
    "    \"\"\"\n",
    "    Докстринга класса Student\n",
    "    \"\"\"\n",
    "    all_scores = []\n",
    "    threshold = None\n",
    "    top_n = 3\n",
    "\n",
    "    def __init__(self, score: int):\n",
    "        self.score = score\n",
    "        self.__check = False\n",
    "\n",
    "    def register(self):\n",
    "        if not self.__check:\n",
    "            Student.all_scores.append(self.score)\n",
    "            Student.all_scores.sort()\n",
    "            if len(Student.all_scores) > Student.top_n:\n",
    "                Student.threshold = Student.all_scores[-Student.top_n]\n",
    "            else:\n",
    "                Student.threshold = 0\n",
    "            self.__check = True\n",
    "        else:\n",
    "            print('Данный студент уже зарегистрирован')\n",
    "\n",
    "    def check(self):\n",
    "        if Student.threshold is None:\n",
    "            print('Ни один студент еще не зарегистрирован')\n",
    "        else:\n",
    "            print(f'В настоящее время проходной балл {Student.threshold}')\n",
    "            if self.score >= Student.threshold:\n",
    "                print(f'И вы со своими {self.score} поступаете')\n",
    "            else:\n",
    "                print(f'Вам не хватает баллов')"
   ]
  },
  {
   "cell_type": "code",
   "execution_count": 49,
   "id": "16fed955",
   "metadata": {},
   "outputs": [
    {
     "name": "stdout",
     "output_type": "stream",
     "text": [
      "225.3006287659184\n",
      "[225.3006287659184]\n",
      "В настоящее время проходной балл 0\n",
      "И вы со своими 225.3006287659184 поступаете\n",
      "______________________________\n",
      "196.5354962822218\n",
      "[196.5354962822218, 225.3006287659184]\n",
      "В настоящее время проходной балл 0\n",
      "И вы со своими 196.5354962822218 поступаете\n",
      "______________________________\n",
      "237.62217424462045\n",
      "[196.5354962822218, 225.3006287659184, 237.62217424462045]\n",
      "В настоящее время проходной балл 0\n",
      "И вы со своими 237.62217424462045 поступаете\n",
      "______________________________\n",
      "190.31550636383525\n",
      "[190.31550636383525, 196.5354962822218, 225.3006287659184, 237.62217424462045]\n",
      "В настоящее время проходной балл 196.5354962822218\n",
      "Вам не хватает баллов\n",
      "______________________________\n",
      "230.93744535481937\n",
      "[190.31550636383525, 196.5354962822218, 225.3006287659184, 230.93744535481937, 237.62217424462045]\n",
      "В настоящее время проходной балл 225.3006287659184\n",
      "И вы со своими 230.93744535481937 поступаете\n",
      "______________________________\n",
      "212.89552015620825\n",
      "[190.31550636383525, 196.5354962822218, 212.89552015620825, 225.3006287659184, 230.93744535481937, 237.62217424462045]\n",
      "В настоящее время проходной балл 225.3006287659184\n",
      "Вам не хватает баллов\n",
      "______________________________\n",
      "203.6472951239129\n",
      "[190.31550636383525, 196.5354962822218, 203.6472951239129, 212.89552015620825, 225.3006287659184, 230.93744535481937, 237.62217424462045]\n",
      "В настоящее время проходной балл 225.3006287659184\n",
      "Вам не хватает баллов\n",
      "______________________________\n",
      "245.5239933168657\n",
      "[190.31550636383525, 196.5354962822218, 203.6472951239129, 212.89552015620825, 225.3006287659184, 230.93744535481937, 237.62217424462045, 245.5239933168657]\n",
      "В настоящее время проходной балл 230.93744535481937\n",
      "И вы со своими 245.5239933168657 поступаете\n",
      "______________________________\n",
      "268.05556482162984\n",
      "[190.31550636383525, 196.5354962822218, 203.6472951239129, 212.89552015620825, 225.3006287659184, 230.93744535481937, 237.62217424462045, 245.5239933168657, 268.05556482162984]\n",
      "В настоящее время проходной балл 237.62217424462045\n",
      "И вы со своими 268.05556482162984 поступаете\n",
      "______________________________\n",
      "264.89189572040664\n",
      "[190.31550636383525, 196.5354962822218, 203.6472951239129, 212.89552015620825, 225.3006287659184, 230.93744535481937, 237.62217424462045, 245.5239933168657, 264.89189572040664, 268.05556482162984]\n",
      "В настоящее время проходной балл 245.5239933168657\n",
      "И вы со своими 264.89189572040664 поступаете\n",
      "______________________________\n"
     ]
    }
   ],
   "source": [
    "for _ in range(10):\n",
    "    score = np.random.uniform(180, 280)\n",
    "    student = Student(score)\n",
    "    print(score)\n",
    "    student.register()\n",
    "    print(Student.all_scores)\n",
    "    student.check()\n",
    "    print('_' * 30)"
   ]
  },
  {
   "cell_type": "markdown",
   "id": "4bc5b3a2",
   "metadata": {},
   "source": [
    "### 6. Декораторы"
   ]
  },
  {
   "cell_type": "code",
   "execution_count": 56,
   "id": "ea98212a",
   "metadata": {},
   "outputs": [],
   "source": [
    "def f(*args, **kwargs):\n",
    "    pass"
   ]
  },
  {
   "cell_type": "code",
   "execution_count": 54,
   "id": "782b518a",
   "metadata": {},
   "outputs": [],
   "source": [
    "# def f(a, b, c = 5):\n",
    "#     pass"
   ]
  },
  {
   "cell_type": "code",
   "execution_count": null,
   "id": "93b76100",
   "metadata": {},
   "outputs": [],
   "source": [
    "# f(1, 2, c = 10)"
   ]
  },
  {
   "cell_type": "code",
   "execution_count": 57,
   "id": "092e4610",
   "metadata": {},
   "outputs": [],
   "source": [
    "# f(1, 2, 3, 4, k=3, l=100)"
   ]
  },
  {
   "cell_type": "code",
   "execution_count": 63,
   "id": "891983ec",
   "metadata": {},
   "outputs": [],
   "source": [
    "from datetime import datetime\n",
    "import time\n",
    "\n",
    "def simple_decorator(func):\n",
    "    def wrapper(*args, **kwargs):\n",
    "        print('Начало выполнения функции')\n",
    "        res = func(*args, **kwargs)\n",
    "        print('Конец выполнения функции')\n",
    "        return res\n",
    "    return wrapper\n",
    "\n",
    "\n",
    "@simple_decorator\n",
    "def func():\n",
    "    time.sleep(2)\n",
    "    print('Привет!')\n",
    "    \n",
    "\n",
    "@simple_decorator\n",
    "def sum_ab(a, b):\n",
    "    return a + b\n",
    "    \n",
    "# new_func = simple_decorator(func)\n",
    "# new_func_2 = simple_decorator(sum_ab)\n",
    "\n",
    "# new_func()\n",
    "# print('_' * 10)\n",
    "# print(new_func_2(2, 4))"
   ]
  },
  {
   "cell_type": "code",
   "execution_count": 64,
   "id": "3a2f9d52",
   "metadata": {},
   "outputs": [
    {
     "name": "stdout",
     "output_type": "stream",
     "text": [
      "Начало выполнения функции\n",
      "Привет!\n",
      "Конец выполнения функции\n"
     ]
    }
   ],
   "source": [
    "func()"
   ]
  },
  {
   "cell_type": "code",
   "execution_count": null,
   "id": "f33ed7a3",
   "metadata": {},
   "outputs": [],
   "source": []
  },
  {
   "cell_type": "code",
   "execution_count": null,
   "id": "70f92ef0",
   "metadata": {},
   "outputs": [],
   "source": []
  },
  {
   "cell_type": "code",
   "execution_count": null,
   "id": "509d3355",
   "metadata": {},
   "outputs": [],
   "source": []
  },
  {
   "cell_type": "code",
   "execution_count": null,
   "id": "aa7bb37a",
   "metadata": {},
   "outputs": [],
   "source": []
  },
  {
   "cell_type": "code",
   "execution_count": null,
   "id": "99344e80",
   "metadata": {},
   "outputs": [],
   "source": []
  },
  {
   "cell_type": "code",
   "execution_count": null,
   "id": "773af8cc",
   "metadata": {},
   "outputs": [],
   "source": []
  },
  {
   "cell_type": "code",
   "execution_count": null,
   "id": "524ab13f",
   "metadata": {},
   "outputs": [],
   "source": []
  },
  {
   "cell_type": "code",
   "execution_count": null,
   "id": "a7713fa7",
   "metadata": {},
   "outputs": [],
   "source": []
  },
  {
   "cell_type": "code",
   "execution_count": null,
   "id": "ea366265",
   "metadata": {},
   "outputs": [],
   "source": []
  },
  {
   "cell_type": "code",
   "execution_count": null,
   "id": "c5f414b6",
   "metadata": {},
   "outputs": [],
   "source": []
  },
  {
   "cell_type": "code",
   "execution_count": null,
   "id": "a0098b61",
   "metadata": {},
   "outputs": [],
   "source": []
  },
  {
   "cell_type": "code",
   "execution_count": null,
   "id": "4c325072",
   "metadata": {},
   "outputs": [],
   "source": []
  },
  {
   "cell_type": "code",
   "execution_count": null,
   "id": "7a0f690d",
   "metadata": {},
   "outputs": [],
   "source": []
  },
  {
   "cell_type": "code",
   "execution_count": null,
   "id": "377f04b0",
   "metadata": {},
   "outputs": [],
   "source": []
  },
  {
   "cell_type": "code",
   "execution_count": null,
   "id": "1ccd9b8b",
   "metadata": {},
   "outputs": [],
   "source": []
  },
  {
   "cell_type": "markdown",
   "id": "04d80e27",
   "metadata": {},
   "source": [
    "### 7. Пример про property"
   ]
  },
  {
   "cell_type": "code",
   "execution_count": 65,
   "id": "a4746044",
   "metadata": {},
   "outputs": [],
   "source": [
    "def very_hard_function():\n",
    "    time.sleep(2)\n",
    "    return 1\n",
    "\n",
    "class SimpleClass:\n",
    "    def __init__(self):\n",
    "        self.hard_calculate = very_hard_function()\n",
    "\n",
    "    def b(self):\n",
    "        return 2"
   ]
  },
  {
   "cell_type": "code",
   "execution_count": 66,
   "id": "1732c86f",
   "metadata": {},
   "outputs": [],
   "source": [
    "a = SimpleClass()"
   ]
  },
  {
   "cell_type": "code",
   "execution_count": 74,
   "id": "e166c160",
   "metadata": {},
   "outputs": [],
   "source": [
    "def very_hard_function():\n",
    "    time.sleep(2)\n",
    "    return 1\n",
    "\n",
    "\n",
    "class PropertyExample:\n",
    "    def __init__(self):\n",
    "        self.__hard_calculate = None\n",
    "    \n",
    "    \n",
    "    @property\n",
    "    def hard_calculate(self):\n",
    "        if self.__hard_calculate is None:\n",
    "            self.__hard_calculate = very_hard_function()\n",
    "        return self.__hard_calculate"
   ]
  },
  {
   "cell_type": "code",
   "execution_count": 75,
   "id": "a6e8a1d7",
   "metadata": {},
   "outputs": [],
   "source": [
    "prop_example = PropertyExample()"
   ]
  },
  {
   "cell_type": "code",
   "execution_count": 77,
   "id": "410bb285",
   "metadata": {},
   "outputs": [
    {
     "data": {
      "text/plain": [
       "1"
      ]
     },
     "execution_count": 77,
     "metadata": {},
     "output_type": "execute_result"
    }
   ],
   "source": [
    "prop_example.hard_calculate()"
   ]
  },
  {
   "cell_type": "code",
   "execution_count": 79,
   "id": "d5223b6b",
   "metadata": {},
   "outputs": [
    {
     "data": {
      "text/plain": [
       "1"
      ]
     },
     "execution_count": 79,
     "metadata": {},
     "output_type": "execute_result"
    }
   ],
   "source": [
    "prop_example.hard_calculate()"
   ]
  },
  {
   "cell_type": "markdown",
   "id": "661e271e",
   "metadata": {},
   "source": [
    "### 8. Пример с температурой"
   ]
  },
  {
   "cell_type": "code",
   "execution_count": 101,
   "id": "d4f093b9",
   "metadata": {},
   "outputs": [],
   "source": [
    "class Temperature:\n",
    "    def __init__(self, celsius=0):\n",
    "        self.celsius = celsius\n",
    "\n",
    "    @property\n",
    "    def fahrenheit(self):\n",
    "        return self.celsius * 9 / 5 + 32\n",
    "\n",
    "    @fahrenheit.setter\n",
    "    def fahrenheit(self, value):\n",
    "        self.celsius = (value - 32) * 5 / 9\n",
    "        \n",
    "    @fahrenheit.deleter\n",
    "    def fahrenheit(self):\n",
    "        del self.celsius"
   ]
  },
  {
   "cell_type": "code",
   "execution_count": 102,
   "id": "23e00268",
   "metadata": {},
   "outputs": [],
   "source": [
    "nsk_temperature = Temperature(20.0)"
   ]
  },
  {
   "cell_type": "code",
   "execution_count": 103,
   "id": "19f5fa98",
   "metadata": {},
   "outputs": [
    {
     "data": {
      "text/plain": [
       "68.0"
      ]
     },
     "execution_count": 103,
     "metadata": {},
     "output_type": "execute_result"
    }
   ],
   "source": [
    "nsk_temperature.fahrenheit"
   ]
  },
  {
   "cell_type": "code",
   "execution_count": 104,
   "id": "ef6ea3fa",
   "metadata": {},
   "outputs": [],
   "source": [
    "nsk_temperature.celsius = 15"
   ]
  },
  {
   "cell_type": "code",
   "execution_count": 97,
   "id": "bf4ec8f2",
   "metadata": {},
   "outputs": [],
   "source": [
    "nsk_temperature.fahrenheit = 25"
   ]
  },
  {
   "cell_type": "code",
   "execution_count": 98,
   "id": "1d301c37",
   "metadata": {},
   "outputs": [
    {
     "data": {
      "text/plain": [
       "-3.888888888888889"
      ]
     },
     "execution_count": 98,
     "metadata": {},
     "output_type": "execute_result"
    }
   ],
   "source": [
    "nsk_temperature.celsius"
   ]
  },
  {
   "cell_type": "code",
   "execution_count": 198,
   "id": "798f1ed1",
   "metadata": {},
   "outputs": [
    {
     "data": {
      "text/plain": [
       "59.0"
      ]
     },
     "execution_count": 198,
     "metadata": {},
     "output_type": "execute_result"
    }
   ],
   "source": [
    "nsk_temperature.fahrenheit"
   ]
  },
  {
   "cell_type": "code",
   "execution_count": 103,
   "id": "39585cde",
   "metadata": {},
   "outputs": [],
   "source": [
    "nsk_temperature.celsius = 20"
   ]
  },
  {
   "cell_type": "code",
   "execution_count": 104,
   "id": "3a32d2e1",
   "metadata": {},
   "outputs": [],
   "source": [
    "nsk_temperature.fahrenheit = 68"
   ]
  },
  {
   "cell_type": "code",
   "execution_count": 105,
   "id": "2aa92450",
   "metadata": {},
   "outputs": [
    {
     "data": {
      "text/plain": [
       "68.0"
      ]
     },
     "execution_count": 105,
     "metadata": {},
     "output_type": "execute_result"
    }
   ],
   "source": [
    "nsk_temperature.fahrenheit"
   ]
  },
  {
   "cell_type": "code",
   "execution_count": 105,
   "id": "26293afc",
   "metadata": {},
   "outputs": [],
   "source": [
    "del nsk_temperature.fahrenheit"
   ]
  },
  {
   "cell_type": "code",
   "execution_count": 106,
   "id": "687f61db",
   "metadata": {},
   "outputs": [
    {
     "ename": "AttributeError",
     "evalue": "'Temperature' object has no attribute 'celsius'",
     "output_type": "error",
     "traceback": [
      "\u001b[0;31m---------------------------------------------------------------------------\u001b[0m",
      "\u001b[0;31mAttributeError\u001b[0m                            Traceback (most recent call last)",
      "Cell \u001b[0;32mIn [106], line 1\u001b[0m\n\u001b[0;32m----> 1\u001b[0m \u001b[43mnsk_temperature\u001b[49m\u001b[38;5;241;43m.\u001b[39;49m\u001b[43mfahrenheit\u001b[49m\n",
      "Cell \u001b[0;32mIn [101], line 7\u001b[0m, in \u001b[0;36mTemperature.fahrenheit\u001b[0;34m(self)\u001b[0m\n\u001b[1;32m      5\u001b[0m \u001b[38;5;129m@property\u001b[39m\n\u001b[1;32m      6\u001b[0m \u001b[38;5;28;01mdef\u001b[39;00m \u001b[38;5;21mfahrenheit\u001b[39m(\u001b[38;5;28mself\u001b[39m):\n\u001b[0;32m----> 7\u001b[0m     \u001b[38;5;28;01mreturn\u001b[39;00m \u001b[38;5;28;43mself\u001b[39;49m\u001b[38;5;241;43m.\u001b[39;49m\u001b[43mcelsius\u001b[49m \u001b[38;5;241m*\u001b[39m \u001b[38;5;241m9\u001b[39m \u001b[38;5;241m/\u001b[39m \u001b[38;5;241m5\u001b[39m \u001b[38;5;241m+\u001b[39m \u001b[38;5;241m32\u001b[39m\n",
      "\u001b[0;31mAttributeError\u001b[0m: 'Temperature' object has no attribute 'celsius'"
     ]
    }
   ],
   "source": [
    "nsk_temperature.fahrenheit"
   ]
  },
  {
   "cell_type": "code",
   "execution_count": 83,
   "id": "5b266c3f",
   "metadata": {},
   "outputs": [],
   "source": [
    "nsk_temperature.celsius = 20"
   ]
  },
  {
   "cell_type": "code",
   "execution_count": 84,
   "id": "63314fea",
   "metadata": {},
   "outputs": [
    {
     "data": {
      "text/plain": [
       "68.0"
      ]
     },
     "execution_count": 84,
     "metadata": {},
     "output_type": "execute_result"
    }
   ],
   "source": [
    "nsk_temperature.fahrenheit"
   ]
  },
  {
   "cell_type": "markdown",
   "id": "c4b5a1eb",
   "metadata": {},
   "source": [
    "### 9. Доступы"
   ]
  },
  {
   "cell_type": "code",
   "execution_count": 107,
   "id": "c007147a",
   "metadata": {},
   "outputs": [],
   "source": [
    "class ExampleInc:\n",
    "    def __init__(self):\n",
    "        self.a = 1\n",
    "        self._b = 2\n",
    "        self.__c = 3\n",
    "    \n",
    "    def __close_method(self):\n",
    "        print('Иди прочь!')\n",
    "        \n",
    "    def open_method(self):\n",
    "        print('Пользуйся!')"
   ]
  },
  {
   "cell_type": "code",
   "execution_count": 108,
   "id": "8a0dadc3",
   "metadata": {},
   "outputs": [],
   "source": [
    "exmp = ExampleInc()"
   ]
  },
  {
   "cell_type": "code",
   "execution_count": 111,
   "id": "848c2060",
   "metadata": {},
   "outputs": [
    {
     "data": {
      "text/plain": [
       "3"
      ]
     },
     "execution_count": 111,
     "metadata": {},
     "output_type": "execute_result"
    }
   ],
   "source": [
    "exmp._ExampleInc__c"
   ]
  },
  {
   "cell_type": "code",
   "execution_count": 110,
   "id": "fb16de52",
   "metadata": {},
   "outputs": [
    {
     "data": {
      "text/plain": [
       "['_ExampleInc__c',\n",
       " '_ExampleInc__close_method',\n",
       " '__class__',\n",
       " '__delattr__',\n",
       " '__dict__',\n",
       " '__dir__',\n",
       " '__doc__',\n",
       " '__eq__',\n",
       " '__format__',\n",
       " '__ge__',\n",
       " '__getattribute__',\n",
       " '__gt__',\n",
       " '__hash__',\n",
       " '__init__',\n",
       " '__init_subclass__',\n",
       " '__le__',\n",
       " '__lt__',\n",
       " '__module__',\n",
       " '__ne__',\n",
       " '__new__',\n",
       " '__reduce__',\n",
       " '__reduce_ex__',\n",
       " '__repr__',\n",
       " '__setattr__',\n",
       " '__sizeof__',\n",
       " '__str__',\n",
       " '__subclasshook__',\n",
       " '__weakref__',\n",
       " '_b',\n",
       " 'a',\n",
       " 'open_method']"
      ]
     },
     "execution_count": 110,
     "metadata": {},
     "output_type": "execute_result"
    }
   ],
   "source": [
    "dir(exmp)"
   ]
  },
  {
   "cell_type": "code",
   "execution_count": 98,
   "id": "a9d021f0",
   "metadata": {},
   "outputs": [
    {
     "name": "stdout",
     "output_type": "stream",
     "text": [
      "Иди прочь!\n"
     ]
    }
   ],
   "source": [
    "exmp._ExampleInc__close_method()"
   ]
  },
  {
   "cell_type": "code",
   "execution_count": 99,
   "id": "08ce842d",
   "metadata": {},
   "outputs": [
    {
     "data": {
      "text/plain": [
       "3"
      ]
     },
     "execution_count": 99,
     "metadata": {},
     "output_type": "execute_result"
    }
   ],
   "source": [
    "exmp._ExampleInc__c"
   ]
  },
  {
   "cell_type": "markdown",
   "id": "da1adac0",
   "metadata": {},
   "source": [
    "### 10. Наследование"
   ]
  },
  {
   "cell_type": "code",
   "execution_count": 112,
   "id": "28c0d4b9",
   "metadata": {},
   "outputs": [],
   "source": [
    "class Parent:\n",
    "    def __init__(self, value: int = 2):\n",
    "        self.a = value\n",
    "    \n",
    "    def power(self):\n",
    "        return self.a ** 2\n",
    "    \n",
    "    \n",
    "class Child1(Parent):\n",
    "    pass\n",
    "\n",
    "\n",
    "class Child2(Parent):\n",
    "    def __init__(self, value: int = 2):\n",
    "        super().__init__(value ** 2)\n",
    "    \n",
    "    def power(self):\n",
    "        print('power')"
   ]
  },
  {
   "cell_type": "code",
   "execution_count": 116,
   "id": "c132ff26",
   "metadata": {},
   "outputs": [],
   "source": [
    "exmp = Child2(4)"
   ]
  },
  {
   "cell_type": "code",
   "execution_count": 117,
   "id": "3cff9a16",
   "metadata": {},
   "outputs": [
    {
     "data": {
      "text/plain": [
       "16"
      ]
     },
     "execution_count": 117,
     "metadata": {},
     "output_type": "execute_result"
    }
   ],
   "source": [
    "exmp.a"
   ]
  },
  {
   "cell_type": "code",
   "execution_count": 118,
   "id": "7f425ec8",
   "metadata": {},
   "outputs": [
    {
     "name": "stdout",
     "output_type": "stream",
     "text": [
      "power\n"
     ]
    }
   ],
   "source": [
    "exmp.power()"
   ]
  },
  {
   "cell_type": "code",
   "execution_count": 157,
   "id": "82c03471",
   "metadata": {},
   "outputs": [],
   "source": [
    "class Base:\n",
    "    def __init__(self):\n",
    "        print('Base')\n",
    "\n",
    "\n",
    "class A(Base):\n",
    "    def __init__(self):\n",
    "        print('A')\n",
    "#         super().__init__()\n",
    "\n",
    "        \n",
    "class B(Base):\n",
    "    def __init__(self):\n",
    "        print('B')\n",
    "#         super().__init__()\n",
    "\n",
    "\n",
    "class C(B, A):\n",
    "    def __init__(self):\n",
    "        print('C')\n",
    "#         super().__init__()\n",
    "        super(B, self).__init__()"
   ]
  },
  {
   "cell_type": "code",
   "execution_count": 134,
   "id": "7f245d8c",
   "metadata": {},
   "outputs": [
    {
     "name": "stdout",
     "output_type": "stream",
     "text": [
      "C\n",
      "Base\n"
     ]
    }
   ],
   "source": [
    "_ = C()"
   ]
  },
  {
   "cell_type": "code",
   "execution_count": 158,
   "id": "943713f0",
   "metadata": {},
   "outputs": [
    {
     "data": {
      "text/plain": [
       "[__main__.C, __main__.B, __main__.A, __main__.Base, object]"
      ]
     },
     "execution_count": 158,
     "metadata": {},
     "output_type": "execute_result"
    }
   ],
   "source": [
    "C.mro()"
   ]
  },
  {
   "cell_type": "markdown",
   "id": "99bcb028",
   "metadata": {},
   "source": [
    "### 11. Специальные методы"
   ]
  },
  {
   "cell_type": "code",
   "execution_count": 137,
   "id": "21800518",
   "metadata": {},
   "outputs": [
    {
     "name": "stdout",
     "output_type": "stream",
     "text": [
      "Наше value = 5\n"
     ]
    }
   ],
   "source": [
    "class MyNumber:\n",
    "    def __init__(self, value):\n",
    "        self.value = value\n",
    "        \n",
    "    def __str__(self):\n",
    "        return f'Наше value = {self.value}'\n",
    "    \n",
    "m_n = MyNumber(5)\n",
    "print(m_n)"
   ]
  },
  {
   "cell_type": "code",
   "execution_count": 138,
   "id": "4ec305c3",
   "metadata": {},
   "outputs": [],
   "source": [
    "class MyList:\n",
    "    def __init__(self, lst: list):\n",
    "        self.lst = lst\n",
    "        \n",
    "    def __add__(self, lst):\n",
    "        self.lst = self.lst + lst\n",
    "        print(f'New list is {self.lst}')\n",
    "    \n",
    "    def __str__(self):\n",
    "        return f'\\\n",
    "        List: {self.lst}\\n\\\n",
    "        Length: {len(self.lst)}\\n\\\n",
    "        Max: {max(self.lst)}\\n\\\n",
    "        Min: {min(self.lst)}\\n'\n",
    "    \n",
    "    \n",
    "    def __lt__(self, lst):\n",
    "        return max(self.lst) < max(lst)\n",
    "    \n",
    "    def __gt__(self, lst):\n",
    "        return max(self.lst) > max(lst)\n",
    "    \n",
    "    def __eq__(self, lst):\n",
    "        return max(self.lst) == max(lst)"
   ]
  },
  {
   "cell_type": "code",
   "execution_count": 145,
   "id": "d2ca8f33",
   "metadata": {},
   "outputs": [],
   "source": [
    "my_example_list = MyList([1, 2, 3])"
   ]
  },
  {
   "cell_type": "code",
   "execution_count": 147,
   "id": "211f84d3",
   "metadata": {},
   "outputs": [
    {
     "name": "stdout",
     "output_type": "stream",
     "text": [
      "New list is [1, 2, 3, 4, 5, 6]\n"
     ]
    }
   ],
   "source": [
    "my_example_list + [4, 5, 6]"
   ]
  },
  {
   "cell_type": "code",
   "execution_count": 148,
   "id": "775cf3f2",
   "metadata": {},
   "outputs": [
    {
     "name": "stdout",
     "output_type": "stream",
     "text": [
      "        List: [1, 2, 3, 4, 5, 6]\n",
      "        Length: 6\n",
      "        Max: 6\n",
      "        Min: 1\n",
      "\n"
     ]
    }
   ],
   "source": [
    "print(my_example_list)"
   ]
  },
  {
   "cell_type": "code",
   "execution_count": 149,
   "id": "5253874a",
   "metadata": {},
   "outputs": [
    {
     "data": {
      "text/plain": [
       "False"
      ]
     },
     "execution_count": 149,
     "metadata": {},
     "output_type": "execute_result"
    }
   ],
   "source": [
    "[1, 2, 3, 4, 5, 6, 7] == [7]"
   ]
  },
  {
   "cell_type": "code",
   "execution_count": 150,
   "id": "cf28636f",
   "metadata": {},
   "outputs": [
    {
     "data": {
      "text/plain": [
       "True"
      ]
     },
     "execution_count": 150,
     "metadata": {},
     "output_type": "execute_result"
    }
   ],
   "source": [
    "MyList([1, 2, 3, 4, 5, 6, 7]) == [7]"
   ]
  },
  {
   "cell_type": "code",
   "execution_count": 152,
   "id": "0da52394",
   "metadata": {},
   "outputs": [
    {
     "ename": "TypeError",
     "evalue": "'int' object is not iterable",
     "output_type": "error",
     "traceback": [
      "\u001b[0;31m---------------------------------------------------------------------------\u001b[0m",
      "\u001b[0;31mTypeError\u001b[0m                                 Traceback (most recent call last)",
      "Cell \u001b[0;32mIn [152], line 1\u001b[0m\n\u001b[0;32m----> 1\u001b[0m \u001b[43mmy_example_list\u001b[49m\u001b[43m \u001b[49m\u001b[38;5;241;43m<\u001b[39;49m\u001b[43m \u001b[49m\u001b[38;5;241;43m6\u001b[39;49m\n",
      "Cell \u001b[0;32mIn [138], line 18\u001b[0m, in \u001b[0;36mMyList.__lt__\u001b[0;34m(self, lst)\u001b[0m\n\u001b[1;32m     17\u001b[0m \u001b[38;5;28;01mdef\u001b[39;00m \u001b[38;5;21m__lt__\u001b[39m(\u001b[38;5;28mself\u001b[39m, lst):\n\u001b[0;32m---> 18\u001b[0m     \u001b[38;5;28;01mreturn\u001b[39;00m \u001b[38;5;28mmax\u001b[39m(\u001b[38;5;28mself\u001b[39m\u001b[38;5;241m.\u001b[39mlst) \u001b[38;5;241m<\u001b[39m \u001b[38;5;28;43mmax\u001b[39;49m\u001b[43m(\u001b[49m\u001b[43mlst\u001b[49m\u001b[43m)\u001b[49m\n",
      "\u001b[0;31mTypeError\u001b[0m: 'int' object is not iterable"
     ]
    }
   ],
   "source": [
    "my_example_list < 6"
   ]
  },
  {
   "cell_type": "code",
   "execution_count": null,
   "id": "98691c23",
   "metadata": {},
   "outputs": [],
   "source": []
  }
 ],
 "metadata": {
  "kernelspec": {
   "display_name": "Python 3 (ipykernel)",
   "language": "python",
   "name": "python3"
  },
  "language_info": {
   "codemirror_mode": {
    "name": "ipython",
    "version": 3
   },
   "file_extension": ".py",
   "mimetype": "text/x-python",
   "name": "python",
   "nbconvert_exporter": "python",
   "pygments_lexer": "ipython3",
   "version": "3.10.7"
  }
 },
 "nbformat": 4,
 "nbformat_minor": 5
}
