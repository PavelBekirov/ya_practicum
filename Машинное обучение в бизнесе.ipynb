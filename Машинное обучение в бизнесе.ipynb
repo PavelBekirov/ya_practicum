{
 "cells": [
  {
   "cell_type": "markdown",
   "metadata": {},
   "source": [
    "<div class=\"alert alert-success\"><div class='alert btn-success'>\n",
    "Павел, 😊буду рада, если смогла быть тебе полезной!)<br>\n",
    "Критичных ошибок нет. Молодец!)<br>\n",
    "С удовольствием принимаю проект!<br> \n",
    "\n",
    "</div></div>\n",
    "\n",
    "Очень рекомендую посмотреть видео от Глеба Михайлова!)<br>\n",
    "**[Линейная Регрессия для Дата Саентиста](https://www.youtube.com/watch?v=QZJ94igWVxQ&t=19s)**     <br> \n",
    "    \n",
    "**[Вот здесь есть отличное объяснение с примером по мультиколлинеарности.](https://habr.com/ru/company/akbarsdigital/blog/592493/)** <br>\n",
    "    \n",
    "**[И здесь интересная статься - коротко о мультиколлинеарности и что с этим делать.](https://medium.com/analytics-vidhya/removing-multi-collinearity-for-linear-and-logistic-regression-f1fa744f3666)** <br>   \n",
    "   \n",
    "**[Если интересна статистика, можно посмотреть короткие видео-лекции Карпова на степике](https://stepik.org/lesson/8095/step/1?unit=1371)**    <br>\n",
    "\n",
    "\n",
    "<br>\n",
    "<div class=\"alert alert-success\"><div class='alert btn-success'>    \n",
    "Надеюсь, ты найдешь для себя что-то интересное и полезное😊  <br>\n",
    "Желаю тебе удачи в дальнейшей учебе! 😉 </div></div>"
   ]
  },
  {
   "cell_type": "markdown",
   "metadata": {},
   "source": [
    "Павел, привет! Меня зовут Ирина Литвинова. Сегодня я проверю твой проект.<br>\n",
    "<br> Ты можешь обращаться ко мне на \"ты\"😏 Надеюсь, ты не будешь против, если и я буду обращаться к тебе на \"ты\". Но если для тебя это неприемлeмо, дай знать, пожалуйста) <br>\n",
    "<br> Мне очень важна твоя реакция на мои комментарии, особенно <font color='red'>красные</font>. Можешь реагировать, например, так ('исправлено', ...)<br>\n",
    "<br> Ты можешь реагировать на мои комментарии своими, выделяя их цветами и наиболее понравившимся тебе способом оформления, но явно  отличающимся от моих комментариев. <br>\n",
    "Это нужно, чтобы не создавалась путаница😉<br>\n",
    "Например, так:<br>\n",
    "    \n",
    "<div class=\"alert alert-block alert-info\"><b>Комментарий студента</b>\n",
    "    \n",
    "<b>Изменения:</b> Были внесены следующие изменения ...<br></div> \n",
    "\n",
    "\n",
    "<br> Пожалуйста, не удаляй мои комментарии, так как они повышают качество повторного ревью и делают его быстрее)<br>\n",
    "<br> Увидев у тебя неточность, в первый раз я лишь укажу на ее наличие и дам тебе возможность самостоятельно найти и исправить ее. На реальной работе твой руководитель будет поступать также, и я пытаюсь подготовить тебя именно к работе. Но если ты пока не справишься с такой задачей - при следующей проверке я дам более точную подсказку!🤓<br>\n",
    "\n",
    "Для твоего удобства мои комментарии будут в <font color='green'>зеленой</font>, <font color='orange'>желтой</font> или <font color='red'>красной</font> рамках:<br>\n",
    "<br>\n",
    "\n",
    "<div class=\"alert alert-block alert-danger\"><b>Комментарий ревьюера</b>\n",
    "    \n",
    "<b>Ошибка:</b><br>\n",
    "Если требуются исправления. Работа не может быть принята с красными комментариями.<br></div>\n",
    "\n",
    "<div class=\"alert alert-block alert-warning\"><b>Комментарий ревьюера</b>\n",
    "    \n",
    "<b>Совет:</b><br>\n",
    "Если можно немного улучшить.<br></div>\n",
    "\n",
    "<div class=\"alert alert-block alert-success\"><b>Комментарий ревьюера</b>\n",
    "    \n",
    "<b>Успех:</b><br>\n",
    "Если все сделано отлично.<br></div>  "
   ]
  },
  {
   "cell_type": "markdown",
   "metadata": {},
   "source": [
    "# Выбор локации для скважины"
   ]
  },
  {
   "cell_type": "markdown",
   "metadata": {},
   "source": [
    "Допустим, вы работаете в добывающей компании «ГлавРосГосНефть». Нужно решить, где бурить новую скважину.\n",
    "\n",
    "Вам предоставлены пробы нефти в трёх регионах: в каждом 10 000 месторождений, где измерили качество нефти и объём её запасов. Постройте модель машинного обучения, которая поможет определить регион, где добыча принесёт наибольшую прибыль. Проанализируйте возможную прибыль и риски техникой *Bootstrap.*\n",
    "\n",
    "Шаги для выбора локации:\n",
    "\n",
    "- В избранном регионе ищут месторождения, для каждого определяют значения признаков;\n",
    "- Строят модель и оценивают объём запасов;\n",
    "- Выбирают месторождения с самым высокими оценками значений. Количество месторождений зависит от бюджета компании и стоимости разработки одной скважины;\n",
    "- Прибыль равна суммарной прибыли отобранных месторождений."
   ]
  },
  {
   "cell_type": "markdown",
   "metadata": {},
   "source": [
    "<div class=\"alert alert-block alert-success\"><b>Комментарий ревьюера</b>\n",
    "    \n",
    "<b>Успех:</b><br>\n",
    "👍 Есть введение в проект. Отлично!<br>\n",
    "\n",
    "</div> "
   ]
  },
  {
   "cell_type": "markdown",
   "metadata": {},
   "source": [
    "### Загружаем библиотеки:"
   ]
  },
  {
   "cell_type": "code",
   "execution_count": 50,
   "metadata": {},
   "outputs": [],
   "source": [
    "import pandas as pd\n",
    "import warnings\n",
    "warnings.filterwarnings('ignore')\n",
    "from sklearn.model_selection import train_test_split \n",
    "from sklearn.linear_model import LogisticRegression\n",
    "import numpy as np\n",
    "from sklearn.linear_model import LinearRegression\n",
    "from sklearn.metrics import mean_squared_error\n",
    "from sklearn.preprocessing import StandardScaler"
   ]
  },
  {
   "cell_type": "markdown",
   "metadata": {},
   "source": [
    "<div class=\"alert alert-block alert-success\"><b>Комментарий ревьюера </b>\n",
    "    \n",
    "<b>Успех:</b><br>\n",
    "👍 Здорово, что импортируешь необходимые библиотеки в первой ячейке. Так сразу понятно какие используются библиотеки и можно легко настроить свое окружение при необходимости. Достаточно оставлять только те, которые используются в проекте ))\n",
    "</div> "
   ]
  },
  {
   "cell_type": "markdown",
   "metadata": {},
   "source": [
    "## Загрузка и подготовка данных"
   ]
  },
  {
   "cell_type": "markdown",
   "metadata": {},
   "source": [
    "Загрузка данных:"
   ]
  },
  {
   "cell_type": "code",
   "execution_count": 51,
   "metadata": {},
   "outputs": [
    {
     "name": "stdout",
     "output_type": "stream",
     "text": [
      "датасет загружен локально\n"
     ]
    }
   ],
   "source": [
    "try:\n",
    "    region1 = pd.read_csv('geo_data_0.csv')\n",
    "    region2 = pd.read_csv('geo_data_1.csv')\n",
    "    region3 = pd.read_csv('geo_data_2.csv')\n",
    "    print('датасет загружен локально')\n",
    "except:\n",
    "    region1 = pd.read_csv('/datasets/geo_data_0.csv')\n",
    "    region2 = pd.read_csv('/datasets/geo_data_1.csv')\n",
    "    region3 = pd.read_csv('/datasets/geo_data_2.csv')\n",
    "    print('датасет загружен с сервера')"
   ]
  },
  {
   "cell_type": "markdown",
   "metadata": {},
   "source": [
    "<div class=\"alert alert-block alert-success\"><b>Комментарий ревьюера </b><br>\n",
    "    \n",
    " Хорошо что используешь `try/except`, чтобы избежать ошибок загрузки. `try/except` достаточно для загрузки файлов, нет необходимости в лишнем коде 👇\n",
    "```python\n",
    "region1 = pd.read_csv('/datasets/geo_data_0.csv')\n",
    "region2 = pd.read_csv('/datasets/geo_data_1.csv')\n",
    "region3 = pd.read_csv('/datasets/geo_data_2.csv') \n",
    "```    \n",
    "    \n",
    "</div> "
   ]
  },
  {
   "cell_type": "markdown",
   "metadata": {},
   "source": [
    "Информация о датасетах:"
   ]
  },
  {
   "cell_type": "code",
   "execution_count": 52,
   "metadata": {},
   "outputs": [
    {
     "data": {
      "text/plain": "                  f0             f1             f2        product\ncount  100000.000000  100000.000000  100000.000000  100000.000000\nmean        0.500419       0.250143       2.502647      92.500000\nstd         0.871832       0.504433       3.248248      44.288691\nmin        -1.408605      -0.848218     -12.088328       0.000000\n25%        -0.072580      -0.200881       0.287748      56.497507\n50%         0.502360       0.250252       2.515969      91.849972\n75%         1.073581       0.700646       4.715088     128.564089\nmax         2.362331       1.343769      16.003790     185.364347",
      "text/html": "<div>\n<style scoped>\n    .dataframe tbody tr th:only-of-type {\n        vertical-align: middle;\n    }\n\n    .dataframe tbody tr th {\n        vertical-align: top;\n    }\n\n    .dataframe thead th {\n        text-align: right;\n    }\n</style>\n<table border=\"1\" class=\"dataframe\">\n  <thead>\n    <tr style=\"text-align: right;\">\n      <th></th>\n      <th>f0</th>\n      <th>f1</th>\n      <th>f2</th>\n      <th>product</th>\n    </tr>\n  </thead>\n  <tbody>\n    <tr>\n      <th>count</th>\n      <td>100000.000000</td>\n      <td>100000.000000</td>\n      <td>100000.000000</td>\n      <td>100000.000000</td>\n    </tr>\n    <tr>\n      <th>mean</th>\n      <td>0.500419</td>\n      <td>0.250143</td>\n      <td>2.502647</td>\n      <td>92.500000</td>\n    </tr>\n    <tr>\n      <th>std</th>\n      <td>0.871832</td>\n      <td>0.504433</td>\n      <td>3.248248</td>\n      <td>44.288691</td>\n    </tr>\n    <tr>\n      <th>min</th>\n      <td>-1.408605</td>\n      <td>-0.848218</td>\n      <td>-12.088328</td>\n      <td>0.000000</td>\n    </tr>\n    <tr>\n      <th>25%</th>\n      <td>-0.072580</td>\n      <td>-0.200881</td>\n      <td>0.287748</td>\n      <td>56.497507</td>\n    </tr>\n    <tr>\n      <th>50%</th>\n      <td>0.502360</td>\n      <td>0.250252</td>\n      <td>2.515969</td>\n      <td>91.849972</td>\n    </tr>\n    <tr>\n      <th>75%</th>\n      <td>1.073581</td>\n      <td>0.700646</td>\n      <td>4.715088</td>\n      <td>128.564089</td>\n    </tr>\n    <tr>\n      <th>max</th>\n      <td>2.362331</td>\n      <td>1.343769</td>\n      <td>16.003790</td>\n      <td>185.364347</td>\n    </tr>\n  </tbody>\n</table>\n</div>"
     },
     "metadata": {},
     "output_type": "display_data"
    },
    {
     "data": {
      "text/plain": "                  f0             f1             f2        product\ncount  100000.000000  100000.000000  100000.000000  100000.000000\nmean        1.141296      -4.796579       2.494541      68.825000\nstd         8.965932       5.119872       1.703572      45.944423\nmin       -31.609576     -26.358598      -0.018144       0.000000\n25%        -6.298551      -8.267985       1.000021      26.953261\n50%         1.153055      -4.813172       2.011479      57.085625\n75%         8.621015      -1.332816       3.999904     107.813044\nmax        29.421755      18.734063       5.019721     137.945408",
      "text/html": "<div>\n<style scoped>\n    .dataframe tbody tr th:only-of-type {\n        vertical-align: middle;\n    }\n\n    .dataframe tbody tr th {\n        vertical-align: top;\n    }\n\n    .dataframe thead th {\n        text-align: right;\n    }\n</style>\n<table border=\"1\" class=\"dataframe\">\n  <thead>\n    <tr style=\"text-align: right;\">\n      <th></th>\n      <th>f0</th>\n      <th>f1</th>\n      <th>f2</th>\n      <th>product</th>\n    </tr>\n  </thead>\n  <tbody>\n    <tr>\n      <th>count</th>\n      <td>100000.000000</td>\n      <td>100000.000000</td>\n      <td>100000.000000</td>\n      <td>100000.000000</td>\n    </tr>\n    <tr>\n      <th>mean</th>\n      <td>1.141296</td>\n      <td>-4.796579</td>\n      <td>2.494541</td>\n      <td>68.825000</td>\n    </tr>\n    <tr>\n      <th>std</th>\n      <td>8.965932</td>\n      <td>5.119872</td>\n      <td>1.703572</td>\n      <td>45.944423</td>\n    </tr>\n    <tr>\n      <th>min</th>\n      <td>-31.609576</td>\n      <td>-26.358598</td>\n      <td>-0.018144</td>\n      <td>0.000000</td>\n    </tr>\n    <tr>\n      <th>25%</th>\n      <td>-6.298551</td>\n      <td>-8.267985</td>\n      <td>1.000021</td>\n      <td>26.953261</td>\n    </tr>\n    <tr>\n      <th>50%</th>\n      <td>1.153055</td>\n      <td>-4.813172</td>\n      <td>2.011479</td>\n      <td>57.085625</td>\n    </tr>\n    <tr>\n      <th>75%</th>\n      <td>8.621015</td>\n      <td>-1.332816</td>\n      <td>3.999904</td>\n      <td>107.813044</td>\n    </tr>\n    <tr>\n      <th>max</th>\n      <td>29.421755</td>\n      <td>18.734063</td>\n      <td>5.019721</td>\n      <td>137.945408</td>\n    </tr>\n  </tbody>\n</table>\n</div>"
     },
     "metadata": {},
     "output_type": "display_data"
    },
    {
     "data": {
      "text/plain": "                  f0             f1             f2        product\ncount  100000.000000  100000.000000  100000.000000  100000.000000\nmean        0.002023      -0.002081       2.495128      95.000000\nstd         1.732045       1.730417       3.473445      44.749921\nmin        -8.760004      -7.084020     -11.970335       0.000000\n25%        -1.162288      -1.174820       0.130359      59.450441\n50%         0.009424      -0.009482       2.484236      94.925613\n75%         1.158535       1.163678       4.858794     130.595027\nmax         7.238262       7.844801      16.739402     190.029838",
      "text/html": "<div>\n<style scoped>\n    .dataframe tbody tr th:only-of-type {\n        vertical-align: middle;\n    }\n\n    .dataframe tbody tr th {\n        vertical-align: top;\n    }\n\n    .dataframe thead th {\n        text-align: right;\n    }\n</style>\n<table border=\"1\" class=\"dataframe\">\n  <thead>\n    <tr style=\"text-align: right;\">\n      <th></th>\n      <th>f0</th>\n      <th>f1</th>\n      <th>f2</th>\n      <th>product</th>\n    </tr>\n  </thead>\n  <tbody>\n    <tr>\n      <th>count</th>\n      <td>100000.000000</td>\n      <td>100000.000000</td>\n      <td>100000.000000</td>\n      <td>100000.000000</td>\n    </tr>\n    <tr>\n      <th>mean</th>\n      <td>0.002023</td>\n      <td>-0.002081</td>\n      <td>2.495128</td>\n      <td>95.000000</td>\n    </tr>\n    <tr>\n      <th>std</th>\n      <td>1.732045</td>\n      <td>1.730417</td>\n      <td>3.473445</td>\n      <td>44.749921</td>\n    </tr>\n    <tr>\n      <th>min</th>\n      <td>-8.760004</td>\n      <td>-7.084020</td>\n      <td>-11.970335</td>\n      <td>0.000000</td>\n    </tr>\n    <tr>\n      <th>25%</th>\n      <td>-1.162288</td>\n      <td>-1.174820</td>\n      <td>0.130359</td>\n      <td>59.450441</td>\n    </tr>\n    <tr>\n      <th>50%</th>\n      <td>0.009424</td>\n      <td>-0.009482</td>\n      <td>2.484236</td>\n      <td>94.925613</td>\n    </tr>\n    <tr>\n      <th>75%</th>\n      <td>1.158535</td>\n      <td>1.163678</td>\n      <td>4.858794</td>\n      <td>130.595027</td>\n    </tr>\n    <tr>\n      <th>max</th>\n      <td>7.238262</td>\n      <td>7.844801</td>\n      <td>16.739402</td>\n      <td>190.029838</td>\n    </tr>\n  </tbody>\n</table>\n</div>"
     },
     "metadata": {},
     "output_type": "display_data"
    }
   ],
   "source": [
    "display(region1.describe(), region2.describe(), region3.describe())\n"
   ]
  },
  {
   "cell_type": "markdown",
   "metadata": {},
   "source": [
    "Аномалий нет, проверим на дубликаты:"
   ]
  },
  {
   "cell_type": "code",
   "execution_count": 53,
   "metadata": {
    "scrolled": true
   },
   "outputs": [
    {
     "name": "stdout",
     "output_type": "stream",
     "text": [
      "10 4 4\n"
     ]
    }
   ],
   "source": [
    "print(region1.id.duplicated().sum(),region2.id.duplicated().sum(),region3.id.duplicated().sum())"
   ]
  },
  {
   "cell_type": "markdown",
   "metadata": {},
   "source": [
    "Есть дубликаты в id - в этом случае это скорее всего ошибка, поэтому нужно избавиться от дубликатов. Их совсем не много, ничем не рискуем."
   ]
  },
  {
   "cell_type": "markdown",
   "metadata": {},
   "source": [
    "<div class=\"alert alert-block alert-success\"><b>Комментарий ревьюера </b>\n",
    "    \n",
    "<b>Успех:</b><br>\n",
    "👍 Хорошо, что проверяешь дубликаты по `id`. Так как нам не ясна природа таких дубликатов, то их можно как удалить, так и оставить. Но о таких фактах всегда надо сообщать коллегам.\n",
    "</div> "
   ]
  },
  {
   "cell_type": "code",
   "execution_count": 54,
   "metadata": {},
   "outputs": [],
   "source": [
    "region1 = region1.drop_duplicates(subset='id').reset_index(drop=True)\n",
    "region2 = region2.drop_duplicates(subset='id').reset_index(drop=True)\n",
    "region3 = region3.drop_duplicates(subset='id').reset_index(drop=True)"
   ]
  },
  {
   "cell_type": "code",
   "execution_count": 55,
   "metadata": {
    "scrolled": true
   },
   "outputs": [
    {
     "name": "stdout",
     "output_type": "stream",
     "text": [
      "0 0 0\n"
     ]
    }
   ],
   "source": [
    "# Проверим\n",
    "print(region1.id.duplicated().sum(),region2.id.duplicated().sum(),region3.id.duplicated().sum())"
   ]
  },
  {
   "cell_type": "code",
   "execution_count": 56,
   "metadata": {},
   "outputs": [
    {
     "name": "stdout",
     "output_type": "stream",
     "text": [
      "<class 'pandas.core.frame.DataFrame'>\n",
      "RangeIndex: 99990 entries, 0 to 99989\n",
      "Data columns (total 5 columns):\n",
      " #   Column   Non-Null Count  Dtype  \n",
      "---  ------   --------------  -----  \n",
      " 0   id       99990 non-null  object \n",
      " 1   f0       99990 non-null  float64\n",
      " 2   f1       99990 non-null  float64\n",
      " 3   f2       99990 non-null  float64\n",
      " 4   product  99990 non-null  float64\n",
      "dtypes: float64(4), object(1)\n",
      "memory usage: 3.8+ MB\n",
      "<class 'pandas.core.frame.DataFrame'>\n",
      "RangeIndex: 99996 entries, 0 to 99995\n",
      "Data columns (total 5 columns):\n",
      " #   Column   Non-Null Count  Dtype  \n",
      "---  ------   --------------  -----  \n",
      " 0   id       99996 non-null  object \n",
      " 1   f0       99996 non-null  float64\n",
      " 2   f1       99996 non-null  float64\n",
      " 3   f2       99996 non-null  float64\n",
      " 4   product  99996 non-null  float64\n",
      "dtypes: float64(4), object(1)\n",
      "memory usage: 3.8+ MB\n",
      "<class 'pandas.core.frame.DataFrame'>\n",
      "RangeIndex: 99996 entries, 0 to 99995\n",
      "Data columns (total 5 columns):\n",
      " #   Column   Non-Null Count  Dtype  \n",
      "---  ------   --------------  -----  \n",
      " 0   id       99996 non-null  object \n",
      " 1   f0       99996 non-null  float64\n",
      " 2   f1       99996 non-null  float64\n",
      " 3   f2       99996 non-null  float64\n",
      " 4   product  99996 non-null  float64\n",
      "dtypes: float64(4), object(1)\n",
      "memory usage: 3.8+ MB\n"
     ]
    },
    {
     "data": {
      "text/plain": "None"
     },
     "metadata": {},
     "output_type": "display_data"
    },
    {
     "data": {
      "text/plain": "None"
     },
     "metadata": {},
     "output_type": "display_data"
    },
    {
     "data": {
      "text/plain": "None"
     },
     "metadata": {},
     "output_type": "display_data"
    }
   ],
   "source": [
    "#Посмотрим еще раз на датасеты:\n",
    "display(region1.info(), region2.info(), region3.info())"
   ]
  },
  {
   "cell_type": "markdown",
   "metadata": {},
   "source": [
    "<div class=\"alert alert-block alert-warning\"><b>Комментарий ревьюера</b>\n",
    "    \n",
    "<b>Совет:</b><br>\n",
    "Не забывай, пожалуйста, в конце каждого раздела формулировать выводы. Код - инструмент, выводы - цель.\n",
    "</div>"
   ]
  },
  {
   "cell_type": "markdown",
   "metadata": {},
   "source": [
    "<div class=\"alert alert-block alert-warning\"><b>Комментарий ревьюера</b>\n",
    "    \n",
    "<b>Совет:</b><br>\n",
    "Павел,     \n",
    "* Чтобы лучше узнать данные, можно посмотреть распределение признаков и целевой переменной для каждого региона, т.е. построить гистограмму.    \n",
    "* Еще важно уделять внимание мультиколлинеарности признаков в линейных моделях.<br>\n",
    "Мультиколлинеарность — явление, при котором наблюдается сильная корреляция между признаками, что может негативно отразиться на модели.<br>\n",
    "\n",
    "Рекомендую посмотреть отрывок из курса Статистики - [\"Корреляция и регрессия\".](https://stepik.org/lesson/8086/step/1?unit=1365) <br>\n",
    "Для удобной визуализации можно использовать - [\"Тепловая карта корреляции\".](https://www.delftstack.com/ru/howto/seaborn/correlation-heatplot-seaborn-python/) <br>\n",
    "</div>"
   ]
  },
  {
   "cell_type": "markdown",
   "metadata": {},
   "source": [
    "## Обучение и проверка модели"
   ]
  },
  {
   "cell_type": "code",
   "execution_count": 57,
   "metadata": {},
   "outputs": [],
   "source": [
    "# Создадим выборки для каждого региона:\n",
    "features_r1 = region1.drop(['id', 'product'], axis=1)\n",
    "target_r1 = region1['product'].reset_index(drop=True)\n",
    "\n",
    "features_r2 = region2.drop(['id','product'], axis=1)\n",
    "target_r2 = region2['product'].reset_index(drop=True)\n",
    "\n",
    "features_r3 = region3.drop(['id', 'product'], axis=1)\n",
    "target_r3 = region3['product'].reset_index(drop=True)"
   ]
  },
  {
   "cell_type": "markdown",
   "metadata": {},
   "source": [
    "<div class=\"alert alert-block alert-success\"><b>Комментарий ревьюера </b>\n",
    "    \n",
    "<b>Успех:</b><br>\n",
    "👍 `id`  - уникальный идентификатор скважины, он не является признаком, поэтому его действительно лучше удалить. \n",
    "</div> "
   ]
  },
  {
   "cell_type": "code",
   "execution_count": 58,
   "metadata": {},
   "outputs": [],
   "source": [
    "# Разделим выборки\n",
    "features_train_r1, features_valid_r1, target_train_r1, target_valid_r1 = \\\n",
    "train_test_split(features_r1, target_r1, test_size=0.25, random_state=12345)\n",
    "\n",
    "features_train_r2, features_valid_r2, target_train_r2, target_valid_r2 = \\\n",
    "train_test_split(features_r2, target_r2, test_size=0.25, random_state=12345)\n",
    "\n",
    "features_train_r3, features_valid_r3, target_train_r3, target_valid_r3 = \\\n",
    "train_test_split(features_r3, target_r3, test_size=0.25, random_state=12345)\n"
   ]
  },
  {
   "cell_type": "markdown",
   "metadata": {},
   "source": [
    "<div class=\"alert alert-block alert-success\"><b>Комментарий ревьюера </b>\n",
    "    \n",
    "<b>Успех:</b><br>\n",
    "👍 Данные разделены на обучающую и валидационную выборку корректно - 75:25.<br>\n",
    "Будет надежнее, если после разбиения проверять доли)    \n",
    "</div>"
   ]
  },
  {
   "cell_type": "code",
   "execution_count": 59,
   "metadata": {},
   "outputs": [
    {
     "data": {
      "text/plain": "StandardScaler()"
     },
     "execution_count": 59,
     "metadata": {},
     "output_type": "execute_result"
    }
   ],
   "source": [
    "scaler = StandardScaler() # сразу проскейлим выборку\n",
    "scaler.fit(features_train_r1)\n",
    "scaler.fit(features_train_r2)\n",
    "scaler.fit(features_train_r3)"
   ]
  },
  {
   "cell_type": "markdown",
   "metadata": {},
   "source": [
    "<div class=\"alert alert-block alert-warning\"><b>Комментарий ревьюера</b>\n",
    "    \n",
    "<b>Совет:</b><br>\n",
    "Павел, если бы ты стал применять `transform()` к выборкам, была бы ошибка. Получается `scaler` у тебя обучен на третьем регионе, а  `transform()` применил бы ко всем регионам, это некорректно.<br>\n",
    "    \n",
    "Правильно было бы так:<br>\n",
    "```python    \n",
    "scaler1 = StandardScaler() \n",
    "scaler1.fit(features_train_r1)\n",
    "scaler2 = StandardScaler()    \n",
    "scaler2.fit(features_train_r2)\n",
    "scaler3 = StandardScaler()    \n",
    "scaler3.fit(features_train_r3)\n",
    "```\n",
    "    \n",
    "А затем применить  `scaler1, scaler2, scaler3` каждый к своему региону.<br>\n",
    "А еще лучше создать функцию. <br>   \n",
    "    \n",
    "И еще совет 👇   <br> \n",
    "Для `трейна` можно использовать сразу `fit_transform()`. Она объединяет функции: `fit()` и `transform()`.\n",
    "</div>"
   ]
  },
  {
   "cell_type": "code",
   "execution_count": 60,
   "metadata": {},
   "outputs": [
    {
     "name": "stdout",
     "output_type": "stream",
     "text": [
      "Средний запас предсказываемого сырья: 92.78915638280621\n",
      "RMSE модели 1 региона: 37.853527328872964\n",
      "Средний запас предсказываемого сырья: 69.17831957030432\n",
      "RMSE модели 2 региона: 0.8920592647717013\n",
      "Средний запас предсказываемого сырья: 94.86572480562035\n",
      "RMSE модели 3 региона: 40.07585073246016\n"
     ]
    }
   ],
   "source": [
    "#Обучим модели:\n",
    "model_r1 = LinearRegression()\n",
    "model_r1.fit(features_train_r1, target_train_r1)\n",
    "predicted_valid_r1 = model_r1.predict(features_valid_r1)\n",
    "rmse_r1 = mean_squared_error(target_valid_r1, predicted_valid_r1) ** 0.5\n",
    "print('Средний запас предсказываемого сырья:',predicted_valid_r1.mean())\n",
    "print('RMSE модели 1 региона:',rmse_r1)\n",
    "\n",
    "model_r2 = LinearRegression()\n",
    "model_r2.fit(features_train_r2, target_train_r2)\n",
    "predicted_valid_r2 = model_r2.predict(features_valid_r2)\n",
    "rmse_r2 = mean_squared_error(target_valid_r2, predicted_valid_r2) ** 0.5\n",
    "print('Средний запас предсказываемого сырья:',predicted_valid_r2.mean())\n",
    "print('RMSE модели 2 региона:',rmse_r2)\n",
    "\n",
    "model_r3 = LinearRegression()\n",
    "model_r3.fit(features_train_r3, target_train_r3)\n",
    "predicted_valid_r3 = model_r3.predict(features_valid_r3)\n",
    "rmse_r3 = mean_squared_error(target_valid_r3, predicted_valid_r3) ** 0.5\n",
    "print('Средний запас предсказываемого сырья:',predicted_valid_r3.mean())\n",
    "print('RMSE модели 3 региона:',rmse_r3)"
   ]
  },
  {
   "cell_type": "markdown",
   "metadata": {},
   "source": [
    "**Вывод:**\n",
    "<div class=\"alert alert-block alert-info\">\n",
    "Средний запас сырья больше в 1 и 3 регионе, однако средняя квадратичная ошибка минимальна во втором регионе. А значит что модель во втором регионе работает лучше."
   ]
  },
  {
   "cell_type": "markdown",
   "metadata": {},
   "source": [
    "<div class=\"alert alert-block alert-success\"><b>Комментарий ревьюера V-2</b>\n",
    "    \n",
    "<b>Успех:</b><br>\n",
    "    👍 Молодец, что обращаешь внимание на размер ошибки, в двух других регионах она катастрофически большая - почти 40% от  среднего запаса. Если посмотреть корреляцию между признаками и целевой переменной, можно понять почему в одном из регионов ошибка минимальная:)<br>\n",
    "Т.к. средний запас в каждом регионе ниже объема безубыточности, то качество предсказания имеет огромное значение - важно определить скважины с максимальным запасом.   \n",
    "    \n",
    "</div>  "
   ]
  },
  {
   "cell_type": "markdown",
   "metadata": {},
   "source": [
    "<div class=\"alert alert-block alert-warning\"><b>Комментарий ревьюера</b>\n",
    "    \n",
    "<b>Совет:</b><br>\n",
    "Для каждого региона действия повторяются, в таких случаях удобно использовать функцию. Это позволит не писать один и тот же код несколько раз и избегать ошибок. В случае необходимых изменений, достаточно поправить функцию, а не вносить правки несколько раз. \n",
    "</div>"
   ]
  },
  {
   "cell_type": "markdown",
   "metadata": {},
   "source": [
    "<div class=\"alert alert-block alert-danger\"><b>Комментарий ревьюера</b>\n",
    "    \n",
    "<s> <b>Ошибка:</b><br>\n",
    "Не забывай, пожалуйста, формулировать выводы к каждому блоку. Здесь важно обратить внимание на размер ошибки, в каком регионе она минимальная и о чем это говорит:)</s>\n",
    "</div>"
   ]
  },
  {
   "cell_type": "code",
   "execution_count": 61,
   "metadata": {},
   "outputs": [],
   "source": [
    "#Правильные ответы и предсказания:\n",
    "true_valid_r1 = target_valid_r1.reset_index(drop=True)\n",
    "predicted_valid_r1 = pd.Series(predicted_valid_r1)\n",
    "\n",
    "true_valid_r2 = target_valid_r2.reset_index(drop=True)\n",
    "predicted_valid_r2 = pd.Series(predicted_valid_r2)\n",
    "\n",
    "true_valid_r3 = target_valid_r3.reset_index(drop=True)\n",
    "predicted_valid_r3 = pd.Series(predicted_valid_r3)"
   ]
  },
  {
   "cell_type": "markdown",
   "metadata": {},
   "source": [
    "<div class=\"alert alert-block alert-success\"><b>Комментарий ревьюера </b>\n",
    "    \n",
    "<b>Успех:</b><br>\n",
    "👍 Очень хорошо, что не забываешь про индексы, теперь они соответствуют.  \n",
    "</div>"
   ]
  },
  {
   "cell_type": "markdown",
   "metadata": {},
   "source": [
    "## Подготовка к расчёту прибыли"
   ]
  },
  {
   "cell_type": "markdown",
   "metadata": {},
   "source": [
    "Подготовим метрики из условия для расчета прибыли."
   ]
  },
  {
   "cell_type": "code",
   "execution_count": 62,
   "metadata": {},
   "outputs": [],
   "source": [
    "BUDGET = 10_000_000_000 # бюджет на разработку в регионе\n",
    "BARREL = 450_000 # 1 единица сырья приносит 450_000 рублей дохода\n",
    "points = 500 # исследуемых точек в регионе\n",
    "best_points = 200 # отбираем 200 лучших точек\n",
    "budget_for_one = BUDGET / best_points"
   ]
  },
  {
   "cell_type": "markdown",
   "metadata": {},
   "source": [
    "<div class=\"alert alert-block alert-warning\"><b>Комментарий ревьюера</b>\n",
    "    \n",
    "<b>Совет:</b><br>\n",
    "* Согласно руководству по написанию кода на Python [PEP-8](https://pythonworld.ru/osnovy/pep-8-rukovodstvo-po-napisaniyu-koda-na-python.html#section-29) константы принято объявлять в начале проекта после импортов, затем загрузка данных. Так проще будет их найти и изменить, если возникнет такая необходимость.\n",
    "* Для записи больших чисел и более удобного чтения, чтобы не запутаться в нулях, можно использовать еще такую запись:  `10e9`, что означает 10 * 10**9.    \n",
    "</div>"
   ]
  },
  {
   "cell_type": "code",
   "execution_count": 63,
   "metadata": {
    "scrolled": true
   },
   "outputs": [
    {
     "name": "stdout",
     "output_type": "stream",
     "text": [
      "Минимальное кол-во для разработки 1 скважины - 111.11111111111111 тыс.бар.\n"
     ]
    }
   ],
   "source": [
    "# Посчитаем минимальное кол-во барралей при условии работы на 200 точках.\n",
    "min_barrel_for_one = budget_for_one / BARREL\n",
    "print(f'Минимальное кол-во для разработки 1 скважины - {min_barrel_for_one} тыс.бар.')"
   ]
  },
  {
   "cell_type": "markdown",
   "metadata": {},
   "source": [
    "<div class=\"alert alert-block alert-success\"><b>Комментарий ревьюера </b>\n",
    "    \n",
    "<b>Успех:</b><br>\n",
    "👍 Достаточный объём сырья для безубыточной разработки новой скважины рассчитан верно.\n",
    "</div>"
   ]
  },
  {
   "cell_type": "code",
   "execution_count": 64,
   "metadata": {},
   "outputs": [
    {
     "data": {
      "text/plain": "(92.49968421774328, 68.82391591806625, 94.99834211933415)"
     },
     "execution_count": 64,
     "metadata": {},
     "output_type": "execute_result"
    }
   ],
   "source": [
    "# Сравним со средними значениями в регионах\n",
    "region1['product'].mean(), region2['product'].mean(), region3['product'].mean()"
   ]
  },
  {
   "cell_type": "markdown",
   "metadata": {},
   "source": [
    "Как мы видим - при работе на  200 точках (пока не лучших) и распределении средств между ними нам достаточно 111.11 тыс баррелей в каждой точке в среднем для безубыточной работе в регионе. Средние же показатели ниже, особенно во втором регионе и поэтому нам нужно выбрать самые прибыльные точки"
   ]
  },
  {
   "cell_type": "markdown",
   "metadata": {},
   "source": [
    "<div class=\"alert alert-block alert-success\"><b>Комментарий ревьюера </b><br>\n",
    "    \n",
    "Верно. В каждом регионе средний объем сырья меньше достаточного объёма для безубыточности, поэтому точность прогноза имеет большое значение. <br>   \n",
    "\n",
    "Есть 25 000 точек, из которых в результате надо выбрать 200. В результате,  среди этих скважин могут быть скважины с достаточным и недостаточным запасом сырья. <br>\n",
    "    \n",
    "Имеено техника \"Bootstrap\" позволяет оценить риск убытков при случайным отборе точек. 1000 раз отбирая случайным образом точки, считаем какой % случаев принесет убытки. \n",
    "    \n",
    "   \n",
    "</div>"
   ]
  },
  {
   "cell_type": "markdown",
   "metadata": {},
   "source": [
    "## Расчёт прибыли и рисков "
   ]
  },
  {
   "cell_type": "code",
   "execution_count": 65,
   "metadata": {},
   "outputs": [],
   "source": [
    "def revenue(target, predictions):\n",
    "    predictions_best = predictions.sort_values(ascending=False)\n",
    "    profit = target[predictions_best.index][:best_points].sum() * BARREL\n",
    "    income = profit - BUDGET\n",
    "    return income"
   ]
  },
  {
   "cell_type": "markdown",
   "metadata": {},
   "source": [
    "<div class=\"alert alert-block alert-success\"><b>Комментарий ревьюера </b>\n",
    "    \n",
    "<b>Успех:</b><br>\n",
    "👍 Функция в порядке.\n",
    "</div>"
   ]
  },
  {
   "cell_type": "code",
   "execution_count": 66,
   "metadata": {},
   "outputs": [
    {
     "data": {
      "text/plain": "3365187237.700287"
     },
     "execution_count": 66,
     "metadata": {},
     "output_type": "execute_result"
    }
   ],
   "source": [
    "revenue(true_valid_r1, predicted_valid_r1)"
   ]
  },
  {
   "cell_type": "markdown",
   "metadata": {},
   "source": [
    "Напишем функцию для техники будстреп"
   ]
  },
  {
   "cell_type": "code",
   "execution_count": 67,
   "metadata": {},
   "outputs": [],
   "source": [
    "def butstrap(target, predictions):\n",
    "    state = np.random.RandomState(12345)    \n",
    "    profit = []\n",
    "    for i in range(1000):\n",
    "        target_subsample = target.sample(n=points, replace=True, random_state=state)\n",
    "        probs_subsample = predictions[target_subsample.index]\n",
    "        profit.append(revenue(target_subsample, probs_subsample))\n",
    "    profit = pd.Series(profit)\n",
    "    lower = int(profit.quantile(q=0.025)) # нижнее значение доверительного интервала\n",
    "    upper = int(profit.quantile(q=0.975)) # верхнее значение доверительного интервала\n",
    "    risk = len(profit[profit < 0] / len(profit) * 100) # риск убытков\n",
    "    mean = profit.mean()\n",
    "    print(\"Средняя выручка:\", mean)\n",
    "    print(\"нижнее значение доверительного интервала\", lower)\n",
    "    print(\"верхнее значение доверительного интервала\", upper)\n",
    "    print(\"риск убытков\", risk,'%')"
   ]
  },
  {
   "cell_type": "markdown",
   "metadata": {},
   "source": [
    "<div class=\"alert alert-block alert-success\"><b>Комментарий ревьюера</b>\n",
    "    \n",
    "<b>Успех:</b><br>\n",
    "    👍 Отлично, что при семплировании данных устанавливаешь `replace = True`, это необходимо чтобы наблюдение в выборку попало несколько раз, что позволяет добиться независимости при каждом выборе, иначе вероятность достать элемент из выборки будет с каждым разом увеличиваться. Чем больше размер подвыборки, тем выраженнее будет зависимость, поэтому без возврата не удастся получить разнообразные варианты, а подвыборку бОльшего размера вообще не получить.\n",
    "\n",
    "Почему именно так. Вспомним, что выборка - это некоторое представление о генеральной совокупности, ее часть. Значит, что где-то в регионе существуют и другие потенциальные точки добычи нефти, о которых мы можем не знать, но они являются частью этой генеральной совокупности. В этом случае повторяющиеся наблюдения можно считать разными точками добычи из всей генеральной совокупности с близкими характеристиками.\n",
    "    \n",
    "</div>  "
   ]
  },
  {
   "cell_type": "markdown",
   "metadata": {},
   "source": [
    "<div class=\"alert alert-block alert-warning\"><b>Комментарий ревьюера</b>\n",
    "    \n",
    "<b>Совет:</b><br>\n",
    "Риск лучше не округлять до целых, т.к. он меньше единицы\n",
    "</div>"
   ]
  },
  {
   "cell_type": "markdown",
   "metadata": {},
   "source": [
    "Посчитаем метрики для каждого региона"
   ]
  },
  {
   "cell_type": "code",
   "execution_count": 68,
   "metadata": {},
   "outputs": [
    {
     "name": "stdout",
     "output_type": "stream",
     "text": [
      "Средняя выручка: 409428038.6214359\n",
      "нижнее значение доверительного интервала -131536028\n",
      "верхнее значение доверительного интервала 944395582\n",
      "риск убытков 71 %\n"
     ]
    }
   ],
   "source": [
    "butstrap(true_valid_r1, predicted_valid_r1)"
   ]
  },
  {
   "cell_type": "code",
   "execution_count": 69,
   "metadata": {},
   "outputs": [
    {
     "name": "stdout",
     "output_type": "stream",
     "text": [
      "Средняя выручка: 536902587.4874535\n",
      "нижнее значение доверительного интервала 114527902\n",
      "верхнее значение доверительного интервала 970787910\n",
      "риск убытков 9 %\n"
     ]
    }
   ],
   "source": [
    "butstrap(true_valid_r2, predicted_valid_r2)"
   ]
  },
  {
   "cell_type": "markdown",
   "metadata": {},
   "source": [
    "<div class=\"alert alert-block alert-success\"><b>Комментарий ревьюера </b><br>\n",
    "    \n",
    "\n",
    "Что такое  `quantile()` очень хорошо объясняет пример - 0.5-й квантиль, это, по сути, медиана, т.е. функция `quantile(0.5)` должна вернуть такое значение, которое меньше ровно половины элементов массива.<br>  \n",
    "`quantile(0.025)` находит такое значение прибыли,  меньше которого только 2,5% элементов. И если это значение прибыли положительное, значит и риск меньше 2,5%. <br>\n",
    "Выбирая наугад 1000 раз 500 случайных скважин и отбирая из них 200 лучших, убыток получаем менее, чем в 2,5% случаев.  \n",
    "    \n",
    "   \n",
    "</div>"
   ]
  },
  {
   "cell_type": "code",
   "execution_count": 70,
   "metadata": {},
   "outputs": [
    {
     "name": "stdout",
     "output_type": "stream",
     "text": [
      "Средняя выручка: 353790362.7309422\n",
      "нижнее значение доверительного интервала -159194031\n",
      "верхнее значение доверительного интервала 875652502\n",
      "риск убытков 102 %\n"
     ]
    }
   ],
   "source": [
    "butstrap(true_valid_r3, predicted_valid_r3)"
   ]
  },
  {
   "cell_type": "markdown",
   "metadata": {},
   "source": [
    "**Общий вывод**\n",
    "Во втором регионе нет рисков и максимальная выручка. Доверительный интервал находится в положительном диапазоне.\n",
    "Это самый лучший регион для добычи."
   ]
  },
  {
   "cell_type": "markdown",
   "metadata": {},
   "source": [
    "<div style=\"background: #cceeaa; padding: 5px; border: 1px solid green; border-radius: 5px;\">\n",
    "    \n",
    "<b>Успех:</b><br>\n",
    "    👍 Все расчеты правильные и регион выбран абсолютно верно.\n",
    "    \n",
    "</div>  "
   ]
  },
  {
   "cell_type": "markdown",
   "metadata": {},
   "source": [
    "<div style=\"background: #cceeaa; padding: 5px; border: 1px solid green; border-radius: 5px;\">\n",
    "<font color='green'> \n",
    "    <b><u>Общий вывод по проекту</u></b>\n",
    "<font color='green'><br> \n",
    "\n",
    "\n",
    "Павел, приложено много усилий, ты - молодец! Крепкий проект! Есть несколько важных моментов, которые я отметила и которые можно было бы улучшить, подсказки ты найдешь в моих комментариях. \n",
    "\n",
    "**Что мне особенно понравилось в твоей работе:**:\n",
    " \n",
    "* Есть знакомство с данными.\n",
    "* Рассчитан средний запас предсказанного сырья и размер ошибки для каждого региона.\n",
    "* Рассчитан достаточный объём сырья для безубыточной разработки новой скважины.    \n",
    "* Написана функция для расчёта прибыли.    \n",
    "* Рассчитаны риски, прибыль и доверительный интервал для каждого региона.     \n",
    "* Код логичный и понятный. \n",
    "* Проект полностью соответствует плану!<br>\n",
    "\n",
    "\n",
    "**На что стоит обратить внимание**:\n",
    "    \n",
    "* Осталось совсем немного поправить, а именно: добавить недостающий вывод. Подсказки ты найдешь в моих комментариях.\n",
    "\n",
    "\n",
    "\n",
    "\n",
    "**Доработка займет у тебя совсем немного времени) Желаю удачи и жду твой проект на повторное ревью!**😉 "
   ]
  },
  {
   "cell_type": "markdown",
   "metadata": {},
   "source": [
    "## Чек-лист готовности проекта"
   ]
  },
  {
   "cell_type": "markdown",
   "metadata": {},
   "source": [
    "Поставьте 'x' в выполненных пунктах. Далее нажмите Shift+Enter."
   ]
  },
  {
   "cell_type": "markdown",
   "metadata": {},
   "source": [
    "- [x]  Jupyter Notebook открыт\n",
    "- [x]  Весь код выполняется без ошибок\n",
    "- [x]  Ячейки с кодом расположены в порядке исполнения\n",
    "- [x]  Выполнен шаг 1: данные подготовлены\n",
    "- [x]  Выполнен шаг 2: модели обучены и проверены\n",
    "    - [x]  Данные корректно разбиты на обучающую и валидационную выборки\n",
    "    - [x]  Модели обучены, предсказания сделаны\n",
    "    - [x]  Предсказания и правильные ответы на валидационной выборке сохранены\n",
    "    - [x]  На экране напечатаны результаты\n",
    "    - [x]  Сделаны выводы\n",
    "- [x]  Выполнен шаг 3: проведена подготовка к расчёту прибыли\n",
    "    - [x]  Для всех ключевых значений созданы константы Python\n",
    "    - [x]  Посчитано минимальное среднее количество продукта в месторождениях региона, достаточное для разработки\n",
    "    - [x]  По предыдущему пункту сделаны выводы\n",
    "    - [x]  Написана функция расчёта прибыли\n",
    "- [x]  Выполнен шаг 4: посчитаны риски и прибыль\n",
    "    - [x]  Проведена процедура *Bootstrap*\n",
    "    - [x]  Все параметры бутстрепа соответствуют условию\n",
    "    - [x]  Найдены все нужные величины\n",
    "    - [x]  Предложен регион для разработки месторождения\n",
    "    - [x]  Выбор региона обоснован"
   ]
  },
  {
   "cell_type": "code",
   "execution_count": 70,
   "metadata": {},
   "outputs": [],
   "source": []
  }
 ],
 "metadata": {
  "ExecuteTimeLog": [
   {
    "duration": 57,
    "start_time": "2023-01-13T12:44:04.933Z"
   },
   {
    "duration": 424,
    "start_time": "2023-01-13T12:44:11.064Z"
   },
   {
    "duration": 778,
    "start_time": "2023-01-13T12:44:12.751Z"
   },
   {
    "duration": 799,
    "start_time": "2023-01-13T12:48:46.689Z"
   },
   {
    "duration": 834,
    "start_time": "2023-01-13T12:48:50.608Z"
   },
   {
    "duration": 825,
    "start_time": "2023-01-13T12:48:56.318Z"
   },
   {
    "duration": 47,
    "start_time": "2023-01-13T12:51:05.682Z"
   },
   {
    "duration": 16,
    "start_time": "2023-01-13T12:51:36.424Z"
   },
   {
    "duration": 47,
    "start_time": "2023-01-13T12:52:31.415Z"
   },
   {
    "duration": 93,
    "start_time": "2023-01-13T12:52:43.107Z"
   },
   {
    "duration": 98,
    "start_time": "2023-01-13T12:52:52.912Z"
   },
   {
    "duration": 96,
    "start_time": "2023-01-13T12:52:57.937Z"
   },
   {
    "duration": 110,
    "start_time": "2023-01-13T12:53:16.181Z"
   },
   {
    "duration": 44,
    "start_time": "2023-01-13T12:54:40.684Z"
   },
   {
    "duration": 11,
    "start_time": "2023-01-13T12:54:50.794Z"
   },
   {
    "duration": 9,
    "start_time": "2023-01-13T12:55:06.176Z"
   },
   {
    "duration": 62,
    "start_time": "2023-01-13T12:55:53.611Z"
   },
   {
    "duration": 54,
    "start_time": "2023-01-13T12:56:00.802Z"
   },
   {
    "duration": 49,
    "start_time": "2023-01-13T12:56:29.568Z"
   },
   {
    "duration": 53,
    "start_time": "2023-01-13T12:56:33.178Z"
   },
   {
    "duration": 67,
    "start_time": "2023-01-13T12:56:35.524Z"
   },
   {
    "duration": 13,
    "start_time": "2023-01-13T12:56:42.751Z"
   },
   {
    "duration": 21,
    "start_time": "2023-01-13T12:56:53.289Z"
   },
   {
    "duration": 18,
    "start_time": "2023-01-13T12:57:03.302Z"
   },
   {
    "duration": 15,
    "start_time": "2023-01-13T12:57:07.588Z"
   },
   {
    "duration": 69,
    "start_time": "2023-01-13T12:57:31.319Z"
   },
   {
    "duration": 46,
    "start_time": "2023-01-13T12:58:21.906Z"
   },
   {
    "duration": 51,
    "start_time": "2023-01-13T12:59:14.946Z"
   },
   {
    "duration": 39,
    "start_time": "2023-01-13T12:59:49.016Z"
   },
   {
    "duration": 80,
    "start_time": "2023-01-13T13:03:25.976Z"
   },
   {
    "duration": 2,
    "start_time": "2023-01-13T13:03:43.808Z"
   },
   {
    "duration": 35,
    "start_time": "2023-01-13T13:03:53.387Z"
   },
   {
    "duration": 51,
    "start_time": "2023-01-13T13:04:13.112Z"
   },
   {
    "duration": 58,
    "start_time": "2023-01-13T13:04:34.551Z"
   },
   {
    "duration": 27,
    "start_time": "2023-01-13T13:04:40.698Z"
   },
   {
    "duration": 12,
    "start_time": "2023-01-13T13:04:54.430Z"
   },
   {
    "duration": 31,
    "start_time": "2023-01-13T13:04:58.429Z"
   },
   {
    "duration": 44,
    "start_time": "2023-01-13T13:05:14.014Z"
   },
   {
    "duration": 13,
    "start_time": "2023-01-13T13:14:10.738Z"
   },
   {
    "duration": 8,
    "start_time": "2023-01-13T13:14:29.245Z"
   },
   {
    "duration": 10,
    "start_time": "2023-01-13T13:14:55.508Z"
   },
   {
    "duration": 16,
    "start_time": "2023-01-13T13:15:33.689Z"
   },
   {
    "duration": 10,
    "start_time": "2023-01-13T13:15:45.715Z"
   },
   {
    "duration": 30,
    "start_time": "2023-01-13T13:15:49.302Z"
   },
   {
    "duration": 26,
    "start_time": "2023-01-13T13:16:07.219Z"
   },
   {
    "duration": 33,
    "start_time": "2023-01-13T13:16:09.628Z"
   },
   {
    "duration": 35,
    "start_time": "2023-01-13T13:17:42.508Z"
   },
   {
    "duration": 2,
    "start_time": "2023-01-13T13:20:31.127Z"
   },
   {
    "duration": 12,
    "start_time": "2023-01-13T13:21:57.180Z"
   },
   {
    "duration": 8,
    "start_time": "2023-01-13T13:22:14.950Z"
   },
   {
    "duration": 12,
    "start_time": "2023-01-13T13:22:38.235Z"
   },
   {
    "duration": 13,
    "start_time": "2023-01-13T13:22:50.242Z"
   },
   {
    "duration": 25,
    "start_time": "2023-01-13T13:27:52.404Z"
   },
   {
    "duration": 1106,
    "start_time": "2023-01-13T13:28:55.130Z"
   },
   {
    "duration": 769,
    "start_time": "2023-01-13T13:28:56.239Z"
   },
   {
    "duration": 115,
    "start_time": "2023-01-13T13:28:57.010Z"
   },
   {
    "duration": 55,
    "start_time": "2023-01-13T13:28:57.126Z"
   },
   {
    "duration": 72,
    "start_time": "2023-01-13T13:28:57.183Z"
   },
   {
    "duration": 36,
    "start_time": "2023-01-13T13:28:57.257Z"
   },
   {
    "duration": 37,
    "start_time": "2023-01-13T13:28:57.295Z"
   },
   {
    "duration": 12,
    "start_time": "2023-01-13T13:28:57.354Z"
   },
   {
    "duration": 133,
    "start_time": "2023-01-13T13:28:57.368Z"
   },
   {
    "duration": 58,
    "start_time": "2023-01-13T13:29:48.418Z"
   },
   {
    "duration": 49,
    "start_time": "2023-01-13T13:30:10.202Z"
   },
   {
    "duration": 51,
    "start_time": "2023-01-13T13:30:15.068Z"
   },
   {
    "duration": 38,
    "start_time": "2023-01-13T13:30:28.745Z"
   },
   {
    "duration": 17,
    "start_time": "2023-01-13T13:31:06.469Z"
   },
   {
    "duration": 43,
    "start_time": "2023-01-13T13:31:09.298Z"
   },
   {
    "duration": 14,
    "start_time": "2023-01-13T13:31:14.211Z"
   },
   {
    "duration": 57,
    "start_time": "2023-01-13T13:31:16.031Z"
   },
   {
    "duration": 2,
    "start_time": "2023-01-13T13:41:52.650Z"
   },
   {
    "duration": 9,
    "start_time": "2023-01-13T13:42:30.035Z"
   },
   {
    "duration": 3,
    "start_time": "2023-01-13T13:42:52.969Z"
   },
   {
    "duration": 35,
    "start_time": "2023-01-13T13:43:00.618Z"
   },
   {
    "duration": 10,
    "start_time": "2023-01-13T13:44:11.498Z"
   },
   {
    "duration": 29,
    "start_time": "2023-01-13T13:44:13.232Z"
   },
   {
    "duration": 17,
    "start_time": "2023-01-13T13:44:17.617Z"
   },
   {
    "duration": 46,
    "start_time": "2023-01-13T13:44:26.916Z"
   },
   {
    "duration": 36,
    "start_time": "2023-01-13T13:44:59.941Z"
   },
   {
    "duration": 23,
    "start_time": "2023-01-13T13:45:55.809Z"
   },
   {
    "duration": 15,
    "start_time": "2023-01-13T13:45:58.806Z"
   },
   {
    "duration": 13,
    "start_time": "2023-01-13T13:47:55.640Z"
   },
   {
    "duration": 105,
    "start_time": "2023-01-13T13:51:27.950Z"
   },
   {
    "duration": 4,
    "start_time": "2023-01-13T13:51:45.151Z"
   },
   {
    "duration": 16,
    "start_time": "2023-01-13T13:51:51.247Z"
   },
   {
    "duration": 17,
    "start_time": "2023-01-13T13:54:04.563Z"
   },
   {
    "duration": 15,
    "start_time": "2023-01-13T13:54:12.766Z"
   },
   {
    "duration": 22,
    "start_time": "2023-01-13T13:55:33.139Z"
   },
   {
    "duration": 15,
    "start_time": "2023-01-13T13:55:41.982Z"
   },
   {
    "duration": 13,
    "start_time": "2023-01-13T14:02:22.806Z"
   },
   {
    "duration": 5,
    "start_time": "2023-01-13T14:02:29.432Z"
   },
   {
    "duration": 6,
    "start_time": "2023-01-13T14:02:43.970Z"
   },
   {
    "duration": 6,
    "start_time": "2023-01-13T14:02:56.649Z"
   },
   {
    "duration": 7,
    "start_time": "2023-01-13T14:03:18.057Z"
   },
   {
    "duration": 3,
    "start_time": "2023-01-13T14:04:35.627Z"
   },
   {
    "duration": 7,
    "start_time": "2023-01-13T14:04:47.224Z"
   },
   {
    "duration": 131,
    "start_time": "2023-01-13T14:07:15.732Z"
   },
   {
    "duration": 262,
    "start_time": "2023-01-13T14:07:46.792Z"
   },
   {
    "duration": 3,
    "start_time": "2023-01-13T14:13:13.207Z"
   },
   {
    "duration": 296,
    "start_time": "2023-01-13T14:15:09.964Z"
   },
   {
    "duration": 23,
    "start_time": "2023-01-13T14:15:38.838Z"
   },
   {
    "duration": 18,
    "start_time": "2023-01-13T14:15:48.047Z"
   },
   {
    "duration": 189,
    "start_time": "2023-01-13T14:15:51.970Z"
   },
   {
    "duration": 16,
    "start_time": "2023-01-13T14:19:10.481Z"
   },
   {
    "duration": 4,
    "start_time": "2023-01-13T14:21:45.636Z"
   },
   {
    "duration": 1026,
    "start_time": "2023-01-15T08:48:38.661Z"
   },
   {
    "duration": 1964,
    "start_time": "2023-01-15T08:48:39.688Z"
   },
   {
    "duration": 109,
    "start_time": "2023-01-15T08:48:41.654Z"
   },
   {
    "duration": 53,
    "start_time": "2023-01-15T08:48:41.765Z"
   },
   {
    "duration": 61,
    "start_time": "2023-01-15T08:48:41.819Z"
   },
   {
    "duration": 52,
    "start_time": "2023-01-15T08:48:41.881Z"
   },
   {
    "duration": 38,
    "start_time": "2023-01-15T08:48:41.934Z"
   },
   {
    "duration": 31,
    "start_time": "2023-01-15T08:48:41.974Z"
   },
   {
    "duration": 34,
    "start_time": "2023-01-15T08:48:42.007Z"
   },
   {
    "duration": 17,
    "start_time": "2023-01-15T08:48:42.043Z"
   },
   {
    "duration": 243,
    "start_time": "2023-01-15T08:48:42.061Z"
   },
   {
    "duration": 5,
    "start_time": "2023-01-15T08:48:42.307Z"
   },
   {
    "duration": 126,
    "start_time": "2023-01-15T08:48:42.313Z"
   },
   {
    "duration": 2,
    "start_time": "2023-01-15T08:48:54.718Z"
   },
   {
    "duration": 98,
    "start_time": "2023-01-15T08:49:46.167Z"
   },
   {
    "duration": 3,
    "start_time": "2023-01-15T08:49:51.451Z"
   },
   {
    "duration": 5,
    "start_time": "2023-01-15T08:49:52.992Z"
   },
   {
    "duration": 4,
    "start_time": "2023-01-15T08:50:56.160Z"
   },
   {
    "duration": 3,
    "start_time": "2023-01-15T08:51:14.172Z"
   },
   {
    "duration": 4,
    "start_time": "2023-01-15T08:51:26.501Z"
   },
   {
    "duration": 9,
    "start_time": "2023-01-15T08:57:19.637Z"
   },
   {
    "duration": 8,
    "start_time": "2023-01-15T08:57:25.681Z"
   },
   {
    "duration": 6,
    "start_time": "2023-01-15T08:57:49.993Z"
   },
   {
    "duration": 4,
    "start_time": "2023-01-15T08:57:55.088Z"
   },
   {
    "duration": 4,
    "start_time": "2023-01-15T08:58:40.866Z"
   },
   {
    "duration": 11,
    "start_time": "2023-01-15T09:04:16.865Z"
   },
   {
    "duration": 3,
    "start_time": "2023-01-15T09:04:19.576Z"
   },
   {
    "duration": 3,
    "start_time": "2023-01-15T09:04:20.029Z"
   },
   {
    "duration": 3,
    "start_time": "2023-01-15T09:04:33.626Z"
   },
   {
    "duration": 3,
    "start_time": "2023-01-15T09:04:53.818Z"
   },
   {
    "duration": 4,
    "start_time": "2023-01-15T09:05:37.655Z"
   },
   {
    "duration": 3,
    "start_time": "2023-01-15T09:05:57.991Z"
   },
   {
    "duration": 4,
    "start_time": "2023-01-15T09:06:29.356Z"
   },
   {
    "duration": 3,
    "start_time": "2023-01-15T09:06:58.727Z"
   },
   {
    "duration": 4,
    "start_time": "2023-01-15T09:07:00.766Z"
   },
   {
    "duration": 5,
    "start_time": "2023-01-15T09:07:36.144Z"
   },
   {
    "duration": 8,
    "start_time": "2023-01-15T09:08:19.945Z"
   },
   {
    "duration": 6,
    "start_time": "2023-01-15T09:08:28.504Z"
   },
   {
    "duration": 3,
    "start_time": "2023-01-15T09:11:56.592Z"
   },
   {
    "duration": 3,
    "start_time": "2023-01-15T09:11:58.363Z"
   },
   {
    "duration": 4,
    "start_time": "2023-01-15T09:12:36.176Z"
   },
   {
    "duration": 3,
    "start_time": "2023-01-15T09:18:06.834Z"
   },
   {
    "duration": 3,
    "start_time": "2023-01-15T09:18:08.565Z"
   },
   {
    "duration": 5,
    "start_time": "2023-01-15T09:18:09.326Z"
   },
   {
    "duration": 3,
    "start_time": "2023-01-15T09:24:09.903Z"
   },
   {
    "duration": 21,
    "start_time": "2023-01-15T09:25:09.425Z"
   },
   {
    "duration": 2,
    "start_time": "2023-01-15T09:27:45.775Z"
   },
   {
    "duration": 4,
    "start_time": "2023-01-15T09:27:50.382Z"
   },
   {
    "duration": 5,
    "start_time": "2023-01-15T09:28:17.538Z"
   },
   {
    "duration": 5,
    "start_time": "2023-01-15T09:29:12.618Z"
   },
   {
    "duration": 6,
    "start_time": "2023-01-15T09:29:20.857Z"
   },
   {
    "duration": 16,
    "start_time": "2023-01-15T09:30:31.446Z"
   },
   {
    "duration": 15,
    "start_time": "2023-01-15T09:30:40.588Z"
   },
   {
    "duration": 17,
    "start_time": "2023-01-15T09:33:10.745Z"
   },
   {
    "duration": 5,
    "start_time": "2023-01-15T09:34:12.688Z"
   },
   {
    "duration": 23,
    "start_time": "2023-01-15T09:34:44.456Z"
   },
   {
    "duration": 17,
    "start_time": "2023-01-15T09:34:56.464Z"
   },
   {
    "duration": 16,
    "start_time": "2023-01-15T09:35:54.266Z"
   },
   {
    "duration": 6,
    "start_time": "2023-01-15T09:38:31.643Z"
   },
   {
    "duration": 8,
    "start_time": "2023-01-15T09:38:47.335Z"
   },
   {
    "duration": 12,
    "start_time": "2023-01-15T09:48:41.598Z"
   },
   {
    "duration": 13,
    "start_time": "2023-01-15T09:49:35.034Z"
   },
   {
    "duration": 10,
    "start_time": "2023-01-15T09:51:36.265Z"
   },
   {
    "duration": 10,
    "start_time": "2023-01-15T09:51:40.239Z"
   },
   {
    "duration": 10,
    "start_time": "2023-01-15T09:53:34.659Z"
   },
   {
    "duration": 13,
    "start_time": "2023-01-15T09:54:02.346Z"
   },
   {
    "duration": 8,
    "start_time": "2023-01-15T09:55:06.270Z"
   },
   {
    "duration": 8,
    "start_time": "2023-01-15T09:55:55.265Z"
   },
   {
    "duration": 6,
    "start_time": "2023-01-15T09:56:27.094Z"
   },
   {
    "duration": 5,
    "start_time": "2023-01-15T09:56:36.092Z"
   },
   {
    "duration": 7,
    "start_time": "2023-01-15T09:56:53.400Z"
   },
   {
    "duration": 6,
    "start_time": "2023-01-15T09:57:16.358Z"
   },
   {
    "duration": 6,
    "start_time": "2023-01-15T09:57:30.747Z"
   },
   {
    "duration": 6,
    "start_time": "2023-01-15T09:57:35.365Z"
   },
   {
    "duration": 6,
    "start_time": "2023-01-15T09:58:12.682Z"
   },
   {
    "duration": 12,
    "start_time": "2023-01-15T09:58:38.474Z"
   },
   {
    "duration": 4,
    "start_time": "2023-01-15T09:59:03.764Z"
   },
   {
    "duration": 8,
    "start_time": "2023-01-15T09:59:27.525Z"
   },
   {
    "duration": 12,
    "start_time": "2023-01-15T10:00:17.074Z"
   },
   {
    "duration": 99,
    "start_time": "2023-01-15T10:00:48.897Z"
   },
   {
    "duration": 13,
    "start_time": "2023-01-15T10:00:58.149Z"
   },
   {
    "duration": 16,
    "start_time": "2023-01-15T10:01:09.777Z"
   },
   {
    "duration": 10,
    "start_time": "2023-01-15T10:01:41.356Z"
   },
   {
    "duration": 11,
    "start_time": "2023-01-15T10:02:30.456Z"
   },
   {
    "duration": 1054,
    "start_time": "2023-01-15T10:02:41.473Z"
   },
   {
    "duration": 809,
    "start_time": "2023-01-15T10:02:42.529Z"
   },
   {
    "duration": 110,
    "start_time": "2023-01-15T10:02:43.340Z"
   },
   {
    "duration": 52,
    "start_time": "2023-01-15T10:02:43.452Z"
   },
   {
    "duration": 68,
    "start_time": "2023-01-15T10:02:43.509Z"
   },
   {
    "duration": 51,
    "start_time": "2023-01-15T10:02:43.579Z"
   },
   {
    "duration": 37,
    "start_time": "2023-01-15T10:02:43.632Z"
   },
   {
    "duration": 8,
    "start_time": "2023-01-15T10:02:43.670Z"
   },
   {
    "duration": 54,
    "start_time": "2023-01-15T10:02:43.680Z"
   },
   {
    "duration": 16,
    "start_time": "2023-01-15T10:02:43.735Z"
   },
   {
    "duration": 157,
    "start_time": "2023-01-15T10:02:43.753Z"
   },
   {
    "duration": 7,
    "start_time": "2023-01-15T10:02:43.911Z"
   },
   {
    "duration": 104,
    "start_time": "2023-01-15T10:02:43.920Z"
   },
   {
    "duration": 5,
    "start_time": "2023-01-15T10:02:44.026Z"
   },
   {
    "duration": 17,
    "start_time": "2023-01-15T10:02:44.032Z"
   },
   {
    "duration": 9,
    "start_time": "2023-01-15T10:02:44.050Z"
   },
   {
    "duration": 14,
    "start_time": "2023-01-15T10:02:44.060Z"
   },
   {
    "duration": 111,
    "start_time": "2023-01-15T10:03:42.892Z"
   },
   {
    "duration": 9,
    "start_time": "2023-01-15T10:03:56.594Z"
   },
   {
    "duration": 23,
    "start_time": "2023-01-15T10:05:39.903Z"
   },
   {
    "duration": 17,
    "start_time": "2023-01-15T10:06:21.639Z"
   },
   {
    "duration": 32,
    "start_time": "2023-01-15T10:13:28.543Z"
   },
   {
    "duration": 17,
    "start_time": "2023-01-15T10:14:03.860Z"
   },
   {
    "duration": 82,
    "start_time": "2023-01-15T10:16:36.847Z"
   },
   {
    "duration": 29,
    "start_time": "2023-01-15T10:17:16.886Z"
   },
   {
    "duration": 19,
    "start_time": "2023-01-15T10:17:39.073Z"
   },
   {
    "duration": 9,
    "start_time": "2023-01-15T10:18:20.807Z"
   },
   {
    "duration": 16,
    "start_time": "2023-01-15T10:19:15.706Z"
   },
   {
    "duration": 5,
    "start_time": "2023-01-15T10:27:22.165Z"
   },
   {
    "duration": 77,
    "start_time": "2023-01-15T10:28:54.082Z"
   },
   {
    "duration": 35,
    "start_time": "2023-01-15T10:28:56.435Z"
   },
   {
    "duration": 7,
    "start_time": "2023-01-15T10:29:04.675Z"
   },
   {
    "duration": 22,
    "start_time": "2023-01-15T10:29:07.206Z"
   },
   {
    "duration": 17,
    "start_time": "2023-01-15T10:29:09.515Z"
   },
   {
    "duration": 245,
    "start_time": "2023-01-15T10:29:12.677Z"
   },
   {
    "duration": 4,
    "start_time": "2023-01-15T10:29:19.906Z"
   },
   {
    "duration": 3,
    "start_time": "2023-01-15T10:29:23.226Z"
   },
   {
    "duration": 5,
    "start_time": "2023-01-15T10:29:24.007Z"
   },
   {
    "duration": 7,
    "start_time": "2023-01-15T10:29:25.502Z"
   },
   {
    "duration": 7,
    "start_time": "2023-01-15T10:29:30.031Z"
   },
   {
    "duration": 18,
    "start_time": "2023-01-15T10:29:39.276Z"
   },
   {
    "duration": 6,
    "start_time": "2023-01-15T10:32:25.884Z"
   },
   {
    "duration": 11,
    "start_time": "2023-01-15T10:33:56.074Z"
   },
   {
    "duration": 10,
    "start_time": "2023-01-15T10:34:12.756Z"
   },
   {
    "duration": 8,
    "start_time": "2023-01-15T10:34:27.600Z"
   },
   {
    "duration": 5,
    "start_time": "2023-01-15T10:35:23.678Z"
   },
   {
    "duration": 7,
    "start_time": "2023-01-15T10:35:35.904Z"
   },
   {
    "duration": 5,
    "start_time": "2023-01-15T10:36:34.882Z"
   },
   {
    "duration": 13,
    "start_time": "2023-01-15T10:37:21.042Z"
   },
   {
    "duration": 11,
    "start_time": "2023-01-15T10:37:40.885Z"
   },
   {
    "duration": 5,
    "start_time": "2023-01-15T10:42:19.809Z"
   },
   {
    "duration": 4,
    "start_time": "2023-01-15T10:42:33.330Z"
   },
   {
    "duration": 5,
    "start_time": "2023-01-15T10:42:55.311Z"
   },
   {
    "duration": 8,
    "start_time": "2023-01-15T10:43:19.534Z"
   },
   {
    "duration": 7,
    "start_time": "2023-01-15T10:43:27.704Z"
   },
   {
    "duration": 6,
    "start_time": "2023-01-15T10:43:56.506Z"
   },
   {
    "duration": 4,
    "start_time": "2023-01-15T10:44:24.188Z"
   },
   {
    "duration": 3,
    "start_time": "2023-01-15T10:45:31.644Z"
   },
   {
    "duration": 20,
    "start_time": "2023-01-15T11:03:40.709Z"
   },
   {
    "duration": 15,
    "start_time": "2023-01-15T11:04:08.452Z"
   },
   {
    "duration": 4,
    "start_time": "2023-01-15T11:04:42.479Z"
   },
   {
    "duration": 10,
    "start_time": "2023-01-15T11:04:49.154Z"
   },
   {
    "duration": 8,
    "start_time": "2023-01-15T11:06:31.494Z"
   },
   {
    "duration": 9,
    "start_time": "2023-01-15T11:06:38.663Z"
   },
   {
    "duration": 7,
    "start_time": "2023-01-15T11:07:20.665Z"
   },
   {
    "duration": 9,
    "start_time": "2023-01-15T11:08:24.729Z"
   },
   {
    "duration": 7,
    "start_time": "2023-01-15T11:08:30.284Z"
   },
   {
    "duration": 6,
    "start_time": "2023-01-15T11:09:03.540Z"
   },
   {
    "duration": 8,
    "start_time": "2023-01-15T11:24:25.069Z"
   },
   {
    "duration": 70,
    "start_time": "2023-01-15T11:24:29.358Z"
   },
   {
    "duration": 3,
    "start_time": "2023-01-15T11:24:49.266Z"
   },
   {
    "duration": 33,
    "start_time": "2023-01-15T11:24:53.237Z"
   },
   {
    "duration": 3,
    "start_time": "2023-01-15T11:25:21.149Z"
   },
   {
    "duration": 33,
    "start_time": "2023-01-15T11:25:24.351Z"
   },
   {
    "duration": 7,
    "start_time": "2023-01-15T11:26:59.921Z"
   },
   {
    "duration": 4,
    "start_time": "2023-01-15T11:29:18.566Z"
   },
   {
    "duration": 7,
    "start_time": "2023-01-15T11:29:21.714Z"
   },
   {
    "duration": 6,
    "start_time": "2023-01-15T11:29:31.861Z"
   },
   {
    "duration": 4,
    "start_time": "2023-01-15T11:29:38.897Z"
   },
   {
    "duration": 12,
    "start_time": "2023-01-15T11:30:57.675Z"
   },
   {
    "duration": 23,
    "start_time": "2023-01-15T11:31:01.050Z"
   },
   {
    "duration": 163,
    "start_time": "2023-01-15T11:31:05.854Z"
   },
   {
    "duration": 8,
    "start_time": "2023-01-15T11:31:12.351Z"
   },
   {
    "duration": 8,
    "start_time": "2023-01-15T11:31:19.765Z"
   },
   {
    "duration": 3,
    "start_time": "2023-01-15T11:31:34.068Z"
   },
   {
    "duration": 4,
    "start_time": "2023-01-15T11:31:44.055Z"
   },
   {
    "duration": 8,
    "start_time": "2023-01-15T11:31:57.185Z"
   },
   {
    "duration": 4,
    "start_time": "2023-01-15T11:32:05.616Z"
   },
   {
    "duration": 4,
    "start_time": "2023-01-15T11:32:49.460Z"
   },
   {
    "duration": 5,
    "start_time": "2023-01-15T11:32:56.541Z"
   },
   {
    "duration": 4,
    "start_time": "2023-01-15T11:33:03.998Z"
   },
   {
    "duration": 10,
    "start_time": "2023-01-15T11:33:57.609Z"
   },
   {
    "duration": 5,
    "start_time": "2023-01-15T11:34:00.725Z"
   },
   {
    "duration": 1090,
    "start_time": "2023-01-15T11:35:39.817Z"
   },
   {
    "duration": 762,
    "start_time": "2023-01-15T11:35:40.910Z"
   },
   {
    "duration": 116,
    "start_time": "2023-01-15T11:35:41.674Z"
   },
   {
    "duration": 52,
    "start_time": "2023-01-15T11:35:41.793Z"
   },
   {
    "duration": 90,
    "start_time": "2023-01-15T11:35:41.846Z"
   },
   {
    "duration": 34,
    "start_time": "2023-01-15T11:35:41.938Z"
   },
   {
    "duration": 49,
    "start_time": "2023-01-15T11:35:41.973Z"
   },
   {
    "duration": 10,
    "start_time": "2023-01-15T11:35:42.024Z"
   },
   {
    "duration": 36,
    "start_time": "2023-01-15T11:35:42.035Z"
   },
   {
    "duration": 39,
    "start_time": "2023-01-15T11:35:42.074Z"
   },
   {
    "duration": 200,
    "start_time": "2023-01-15T11:35:42.114Z"
   },
   {
    "duration": 8,
    "start_time": "2023-01-15T11:35:42.406Z"
   },
   {
    "duration": 8,
    "start_time": "2023-01-15T11:35:42.505Z"
   },
   {
    "duration": 5,
    "start_time": "2023-01-15T11:35:42.514Z"
   },
   {
    "duration": 11,
    "start_time": "2023-01-15T11:35:42.520Z"
   },
   {
    "duration": 6,
    "start_time": "2023-01-15T11:35:42.532Z"
   },
   {
    "duration": 12,
    "start_time": "2023-01-15T11:35:42.539Z"
   },
   {
    "duration": 72,
    "start_time": "2023-01-15T11:35:42.552Z"
   },
   {
    "duration": 0,
    "start_time": "2023-01-15T11:35:42.625Z"
   },
   {
    "duration": 3,
    "start_time": "2023-01-15T11:35:54.724Z"
   },
   {
    "duration": 9,
    "start_time": "2023-01-15T11:35:57.044Z"
   },
   {
    "duration": 6,
    "start_time": "2023-01-15T11:36:25.763Z"
   },
   {
    "duration": 188,
    "start_time": "2023-01-15T11:36:35.125Z"
   },
   {
    "duration": 5,
    "start_time": "2023-01-15T11:36:37.425Z"
   },
   {
    "duration": 4,
    "start_time": "2023-01-15T11:42:21.033Z"
   },
   {
    "duration": 8,
    "start_time": "2023-01-15T11:42:37.863Z"
   },
   {
    "duration": 8,
    "start_time": "2023-01-15T11:42:48.145Z"
   },
   {
    "duration": 4,
    "start_time": "2023-01-15T11:43:11.143Z"
   },
   {
    "duration": 7,
    "start_time": "2023-01-15T11:43:33.226Z"
   },
   {
    "duration": 8,
    "start_time": "2023-01-15T11:44:02.376Z"
   },
   {
    "duration": 9,
    "start_time": "2023-01-15T11:44:11.886Z"
   },
   {
    "duration": 8,
    "start_time": "2023-01-15T11:44:53.586Z"
   },
   {
    "duration": 10,
    "start_time": "2023-01-15T11:45:04.108Z"
   },
   {
    "duration": 8,
    "start_time": "2023-01-15T11:45:08.388Z"
   },
   {
    "duration": 9,
    "start_time": "2023-01-15T11:45:15.612Z"
   },
   {
    "duration": 9,
    "start_time": "2023-01-15T11:45:20.558Z"
   },
   {
    "duration": 9,
    "start_time": "2023-01-15T11:49:26.562Z"
   },
   {
    "duration": 1249,
    "start_time": "2023-01-15T11:54:11.886Z"
   },
   {
    "duration": 1269,
    "start_time": "2023-01-15T11:55:31.328Z"
   },
   {
    "duration": 1387,
    "start_time": "2023-01-15T11:58:20.727Z"
   },
   {
    "duration": 1277,
    "start_time": "2023-01-15T11:58:31.243Z"
   },
   {
    "duration": 1616,
    "start_time": "2023-01-15T11:58:56.133Z"
   },
   {
    "duration": 1298,
    "start_time": "2023-01-15T12:00:08.288Z"
   },
   {
    "duration": 1397,
    "start_time": "2023-01-15T12:02:17.533Z"
   },
   {
    "duration": 75,
    "start_time": "2023-01-15T12:04:19.221Z"
   },
   {
    "duration": 6,
    "start_time": "2023-01-15T12:04:26.046Z"
   },
   {
    "duration": 1362,
    "start_time": "2023-01-15T12:05:31.769Z"
   },
   {
    "duration": 1391,
    "start_time": "2023-01-15T12:05:47.789Z"
   },
   {
    "duration": 1485,
    "start_time": "2023-01-15T12:05:57.125Z"
   },
   {
    "duration": 5,
    "start_time": "2023-01-15T12:08:49.506Z"
   },
   {
    "duration": 1360,
    "start_time": "2023-01-15T12:08:51.865Z"
   },
   {
    "duration": 1434,
    "start_time": "2023-01-15T12:08:56.818Z"
   },
   {
    "duration": 1332,
    "start_time": "2023-01-15T12:09:02.958Z"
   },
   {
    "duration": 6,
    "start_time": "2023-01-15T12:24:43.723Z"
   },
   {
    "duration": 1408,
    "start_time": "2023-01-16T06:31:26.065Z"
   },
   {
    "duration": 693,
    "start_time": "2023-01-16T06:31:27.474Z"
   },
   {
    "duration": 107,
    "start_time": "2023-01-16T06:31:28.169Z"
   },
   {
    "duration": 58,
    "start_time": "2023-01-16T06:31:28.278Z"
   },
   {
    "duration": 59,
    "start_time": "2023-01-16T06:31:28.338Z"
   },
   {
    "duration": 35,
    "start_time": "2023-01-16T06:31:28.398Z"
   },
   {
    "duration": 36,
    "start_time": "2023-01-16T06:31:28.435Z"
   },
   {
    "duration": 8,
    "start_time": "2023-01-16T06:31:28.472Z"
   },
   {
    "duration": 54,
    "start_time": "2023-01-16T06:31:28.481Z"
   },
   {
    "duration": 16,
    "start_time": "2023-01-16T06:31:28.538Z"
   },
   {
    "duration": 80,
    "start_time": "2023-01-16T06:31:28.556Z"
   },
   {
    "duration": 4,
    "start_time": "2023-01-16T06:31:28.639Z"
   },
   {
    "duration": 115,
    "start_time": "2023-01-16T06:31:28.722Z"
   },
   {
    "duration": 9,
    "start_time": "2023-01-16T06:31:28.838Z"
   },
   {
    "duration": 12,
    "start_time": "2023-01-16T06:31:28.849Z"
   },
   {
    "duration": 9,
    "start_time": "2023-01-16T06:31:28.862Z"
   },
   {
    "duration": 11,
    "start_time": "2023-01-16T06:31:28.872Z"
   },
   {
    "duration": 8,
    "start_time": "2023-01-16T06:31:28.884Z"
   },
   {
    "duration": 1295,
    "start_time": "2023-01-16T06:31:28.893Z"
   },
   {
    "duration": 1295,
    "start_time": "2023-01-16T06:31:30.189Z"
   },
   {
    "duration": 1275,
    "start_time": "2023-01-16T06:31:31.485Z"
   },
   {
    "duration": 1104,
    "start_time": "2023-01-16T08:18:52.824Z"
   },
   {
    "duration": 1197,
    "start_time": "2023-01-16T08:18:53.930Z"
   },
   {
    "duration": 115,
    "start_time": "2023-01-16T08:18:55.128Z"
   },
   {
    "duration": 49,
    "start_time": "2023-01-16T08:18:55.245Z"
   },
   {
    "duration": 98,
    "start_time": "2023-01-16T08:18:55.296Z"
   },
   {
    "duration": 44,
    "start_time": "2023-01-16T08:18:55.396Z"
   },
   {
    "duration": 47,
    "start_time": "2023-01-16T08:18:55.442Z"
   },
   {
    "duration": 10,
    "start_time": "2023-01-16T08:18:55.491Z"
   },
   {
    "duration": 56,
    "start_time": "2023-01-16T08:18:55.502Z"
   },
   {
    "duration": 20,
    "start_time": "2023-01-16T08:18:55.561Z"
   },
   {
    "duration": 254,
    "start_time": "2023-01-16T08:18:55.583Z"
   },
   {
    "duration": 97,
    "start_time": "2023-01-16T08:18:55.839Z"
   },
   {
    "duration": 33,
    "start_time": "2023-01-16T08:18:55.938Z"
   },
   {
    "duration": 10,
    "start_time": "2023-01-16T08:18:55.973Z"
   },
   {
    "duration": 21,
    "start_time": "2023-01-16T08:18:55.984Z"
   },
   {
    "duration": 27,
    "start_time": "2023-01-16T08:18:56.007Z"
   },
   {
    "duration": 42,
    "start_time": "2023-01-16T08:18:56.036Z"
   },
   {
    "duration": 16,
    "start_time": "2023-01-16T08:18:56.080Z"
   },
   {
    "duration": 2260,
    "start_time": "2023-01-16T08:18:56.098Z"
   },
   {
    "duration": 1464,
    "start_time": "2023-01-16T08:18:58.360Z"
   },
   {
    "duration": 1307,
    "start_time": "2023-01-16T08:18:59.826Z"
   },
   {
    "duration": 1412,
    "start_time": "2023-01-16T08:45:50.673Z"
   },
   {
    "duration": 1404,
    "start_time": "2023-01-16T08:45:55.325Z"
   },
   {
    "duration": 1417,
    "start_time": "2023-01-16T08:46:01.574Z"
   },
   {
    "duration": 5,
    "start_time": "2023-01-16T08:46:43.628Z"
   },
   {
    "duration": 1435,
    "start_time": "2023-01-16T08:46:47.917Z"
   },
   {
    "duration": 1448,
    "start_time": "2023-01-16T08:46:51.795Z"
   },
   {
    "duration": 1375,
    "start_time": "2023-01-16T08:46:55.910Z"
   }
  ],
  "kernelspec": {
   "display_name": "Python 3 (ipykernel)",
   "language": "python",
   "name": "python3"
  },
  "language_info": {
   "codemirror_mode": {
    "name": "ipython",
    "version": 3
   },
   "file_extension": ".py",
   "mimetype": "text/x-python",
   "name": "python",
   "nbconvert_exporter": "python",
   "pygments_lexer": "ipython3",
   "version": "3.9.5"
  },
  "toc": {
   "base_numbering": 1,
   "nav_menu": {},
   "number_sections": true,
   "sideBar": true,
   "skip_h1_title": true,
   "title_cell": "Table of Contents",
   "title_sidebar": "Contents",
   "toc_cell": false,
   "toc_position": {
    "height": "calc(100% - 180px)",
    "left": "10px",
    "top": "150px",
    "width": "327.797px"
   },
   "toc_section_display": true,
   "toc_window_display": true
  }
 },
 "nbformat": 4,
 "nbformat_minor": 2
}
