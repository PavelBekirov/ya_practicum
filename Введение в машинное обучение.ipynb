{
 "cells": [
  {
   "cell_type": "markdown",
   "metadata": {},
   "source": [
    "# Рекомендация тарифов"
   ]
  },
  {
   "cell_type": "markdown",
   "metadata": {},
   "source": [
    "В вашем распоряжении данные о поведении клиентов, которые уже перешли на эти тарифы (из проекта курса «Статистический анализ данных»). Нужно построить модель для задачи классификации, которая выберет подходящий тариф. Предобработка данных не понадобится — вы её уже сделали.\n",
    "\n",
    "Постройте модель с максимально большим значением *accuracy*. Чтобы сдать проект успешно, нужно довести долю правильных ответов по крайней мере до 0.75. Проверьте *accuracy* на тестовой выборке самостоятельно."
   ]
  },
  {
   "cell_type": "markdown",
   "metadata": {},
   "source": [
    "## Откройте и изучите файл"
   ]
  },
  {
   "cell_type": "code",
   "execution_count": 6,
   "metadata": {},
   "outputs": [],
   "source": [
    "import pandas as pd\n",
    "from sklearn.model_selection import train_test_split \n",
    "from sklearn.tree import DecisionTreeClassifier\n",
    "from sklearn.ensemble import RandomForestClassifier\n",
    "from sklearn.linear_model import LogisticRegression\n",
    "from sklearn.dummy import DummyClassifier\n",
    "from sklearn.metrics import accuracy_score"
   ]
  },
  {
   "cell_type": "markdown",
   "metadata": {},
   "source": [
    "<img src=\"https://emojigraph.org/media/apple/check-mark-button_2705.png\" align=left width=33, heigth=33>\n",
    "<div class=\"alert alert-success\">\n",
    "Отлично, все нужные библиотеки импортированы в начале ноутбука.Это хорошая практика.</div>"
   ]
  },
  {
   "cell_type": "code",
   "execution_count": 7,
   "metadata": {},
   "outputs": [
    {
     "name": "stdout",
     "output_type": "stream",
     "text": [
      "датасет загружен локально\n",
      "<class 'pandas.core.frame.DataFrame'>\n",
      "RangeIndex: 3214 entries, 0 to 3213\n",
      "Data columns (total 5 columns):\n",
      " #   Column    Non-Null Count  Dtype  \n",
      "---  ------    --------------  -----  \n",
      " 0   calls     3214 non-null   float64\n",
      " 1   minutes   3214 non-null   float64\n",
      " 2   messages  3214 non-null   float64\n",
      " 3   mb_used   3214 non-null   float64\n",
      " 4   is_ultra  3214 non-null   int64  \n",
      "dtypes: float64(4), int64(1)\n",
      "memory usage: 125.7 KB\n"
     ]
    },
    {
     "data": {
      "text/plain": "   calls  minutes  messages   mb_used  is_ultra\n0   40.0   311.90      83.0  19915.42         0\n1   85.0   516.75      56.0  22696.96         0\n2   77.0   467.66      86.0  21060.45         0\n3  106.0   745.53      81.0   8437.39         1\n4   66.0   418.74       1.0  14502.75         0",
      "text/html": "<div>\n<style scoped>\n    .dataframe tbody tr th:only-of-type {\n        vertical-align: middle;\n    }\n\n    .dataframe tbody tr th {\n        vertical-align: top;\n    }\n\n    .dataframe thead th {\n        text-align: right;\n    }\n</style>\n<table border=\"1\" class=\"dataframe\">\n  <thead>\n    <tr style=\"text-align: right;\">\n      <th></th>\n      <th>calls</th>\n      <th>minutes</th>\n      <th>messages</th>\n      <th>mb_used</th>\n      <th>is_ultra</th>\n    </tr>\n  </thead>\n  <tbody>\n    <tr>\n      <th>0</th>\n      <td>40.0</td>\n      <td>311.90</td>\n      <td>83.0</td>\n      <td>19915.42</td>\n      <td>0</td>\n    </tr>\n    <tr>\n      <th>1</th>\n      <td>85.0</td>\n      <td>516.75</td>\n      <td>56.0</td>\n      <td>22696.96</td>\n      <td>0</td>\n    </tr>\n    <tr>\n      <th>2</th>\n      <td>77.0</td>\n      <td>467.66</td>\n      <td>86.0</td>\n      <td>21060.45</td>\n      <td>0</td>\n    </tr>\n    <tr>\n      <th>3</th>\n      <td>106.0</td>\n      <td>745.53</td>\n      <td>81.0</td>\n      <td>8437.39</td>\n      <td>1</td>\n    </tr>\n    <tr>\n      <th>4</th>\n      <td>66.0</td>\n      <td>418.74</td>\n      <td>1.0</td>\n      <td>14502.75</td>\n      <td>0</td>\n    </tr>\n  </tbody>\n</table>\n</div>"
     },
     "execution_count": 7,
     "metadata": {},
     "output_type": "execute_result"
    }
   ],
   "source": [
    "try:\n",
    "    df = pd.read_csv('users_behavior.csv')\n",
    "    print('датасет загружен локально')\n",
    "except:\n",
    "    df = pd.read_csv('/datasets/users_behavior.csv')\n",
    "    print('датасет загружен с сервера')\n",
    "df.info()\n",
    "df.head(5)"
   ]
  },
  {
   "cell_type": "markdown",
   "metadata": {},
   "source": [
    "<img src=\"https://emojigraph.org/media/apple/check-mark-button_2705.png\" align=left width=33, heigth=33>\n",
    "<div class=\"alert alert-success\">\n",
    "Данные загружены и исследованы.</div>"
   ]
  },
  {
   "cell_type": "markdown",
   "metadata": {},
   "source": [
    "## Разбейте данные на выборки"
   ]
  },
  {
   "cell_type": "code",
   "execution_count": 8,
   "metadata": {},
   "outputs": [],
   "source": [
    "features = df.drop('is_ultra', axis=1)\n",
    "target = df['is_ultra']\n",
    "\n",
    "features_train, features_testvalid, target_train, target_testvalid = \\\n",
    "train_test_split(features, target, test_size=0.4, random_state=12345)\n",
    "\n",
    "features_test, features_valid, target_test, target_valid = \\\n",
    "train_test_split(features_testvalid, target_testvalid, test_size=0.5, random_state=12345)"
   ]
  },
  {
   "cell_type": "markdown",
   "metadata": {},
   "source": [
    "<div class=\"alert alert-info\">\n",
    "Оу! Это просто невнимательность)) Я исправил!\n",
    "</div>"
   ]
  },
  {
   "cell_type": "markdown",
   "metadata": {},
   "source": [
    "<img src=\"https://emojigraph.org/media/apple/check-mark-button_2705.png\" align=left width=33, heigth=33>\n",
    "<div class=\"alert alert-success\">\n",
    "<b>v2</b> 👍 </div>"
   ]
  },
  {
   "cell_type": "markdown",
   "metadata": {},
   "source": [
    "<img src=\"https://upload.wikimedia.org/wikipedia/commons/b/ba/Warning_sign_4.0.png\" align=left width=44, heigth=33>\n",
    "<div class=\"alert alert-warning\">\n",
    "Рекомендую явно вывести размеры получившихся выборок (с использованием .shape и print), это поможет быстро оценить корректность разделения на выборки.\n",
    "</div>"
   ]
  },
  {
   "cell_type": "markdown",
   "metadata": {},
   "source": [
    "<img src=\"https://upload.wikimedia.org/wikipedia/commons/b/ba/Warning_sign_4.0.png\" align=left width=44, heigth=33>\n",
    "<div class=\"alert alert-warning\">\n",
    "Старайся не делать такие длинные строки. Стандарт PEP8 регулирует длину строки 79 символов. Придерживаться такого очень сложно, но лучше хотя-бы вмещать в экран, чтобы не приходилось использовать scroll.\n",
    "</div>"
   ]
  },
  {
   "cell_type": "markdown",
   "metadata": {},
   "source": [
    "<img src=\"https://emojigraph.org/media/apple/check-mark-button_2705.png\" align=left width=33, heigth=33>\n",
    "<div class=\"alert alert-success\">\n",
    "\n",
    "<b>v2</b>    \n",
    "Читаемость сильно ухудшилась....  Лучше вот так:\n",
    "    \n",
    "    features_test, features_valid, target_test, target_valid = train_test_split(\n",
    "        features_testvalid, target_testvalid, test_size=0.5, random_state=12345\n",
    "    )\n",
    "\n",
    "Я использовал https://extendsclass.com/python-formatter.html, хотя во всех современных IDE есть инструменты для поддержания красоты и читаемости кода.\n",
    "\n",
    "</div>"
   ]
  },
  {
   "cell_type": "markdown",
   "metadata": {},
   "source": [
    "## Исследуйте модели"
   ]
  },
  {
   "cell_type": "markdown",
   "metadata": {},
   "source": [
    "### DecisionTreeClassifier"
   ]
  },
  {
   "cell_type": "markdown",
   "metadata": {},
   "source": [
    "Эта модель основана на дереве решений.\n",
    "Сделаем цикл, для того, чтобы выбрать наиболее эффективную глубину."
   ]
  },
  {
   "cell_type": "code",
   "execution_count": 9,
   "metadata": {},
   "outputs": [
    {
     "name": "stdout",
     "output_type": "stream",
     "text": [
      "max_depth = 1 : 0.7356143079315708\n",
      "max_depth = 2 : 0.7744945567651633\n",
      "max_depth = 3 : 0.7791601866251944\n",
      "max_depth = 4 : 0.7744945567651633\n",
      "max_depth = 5 : 0.7838258164852255\n"
     ]
    }
   ],
   "source": [
    "# < сделаем цикл для max_depth от 1 до 5 >\n",
    "for depth in range(1,6):\n",
    "    model = DecisionTreeClassifier(random_state=12345, max_depth=depth) # обучим модель с заданным кол-вом depth\n",
    "    model.fit(features_train, target_train) # обучим модель на обучающей выборке\n",
    "    predictions_valid = model.predict(features_valid) # предскажем на валидационной выборке\n",
    "    print(\"max_depth =\", depth, \": \", end='') # на каждом шаге напечатаем выбранную глубину\n",
    "    print(accuracy_score(target_valid, predictions_valid)) # на каждом шаге напечатаем accuracy_score валидационной выборки"
   ]
  },
  {
   "cell_type": "markdown",
   "metadata": {},
   "source": [
    "<img src=\"https://emojigraph.org/media/apple/check-mark-button_2705.png\" align=left width=33, heigth=33>\n",
    "<div class=\"alert alert-success\">\n",
    "Дерево решений исследовано  корректно:\n",
    "    \n",
    " - исследовано 5 значений гиперпараметров\n",
    " - модель обучена на обучающем наборе\n",
    " - получена оценка качества на валидационном наборе\n",
    " - перебор гиперпараметров осуществляется в цикле\n",
    "</div>"
   ]
  },
  {
   "cell_type": "markdown",
   "metadata": {},
   "source": [
    "***Вывод:\n",
    "При максимальной глубине делева = 5 точность accuracy 0.7838 на валидационной (тестовой) выборке.***"
   ]
  },
  {
   "cell_type": "markdown",
   "metadata": {},
   "source": [
    "### RandomForestClassifier"
   ]
  },
  {
   "cell_type": "markdown",
   "metadata": {},
   "source": [
    "Эта модель - случайный лес.\n",
    "Алгоритм обучает большое количество независимых друг от друга деревьев, а потом принимает решение на основе голосования.\n",
    "Сделаем цикл, для того, чтобы выбрать наиболее эффективное количество деревьев в лесу"
   ]
  },
  {
   "cell_type": "code",
   "execution_count": 10,
   "metadata": {
    "scrolled": true
   },
   "outputs": [
    {
     "name": "stdout",
     "output_type": "stream",
     "text": [
      "Accuracy наилучшей модели на валидационной выборке: 0.7869362363919129 Деревьев в лесу: 19\n"
     ]
    }
   ],
   "source": [
    "# < сделаем цикл для max_depth от 1 до 5 >\n",
    "best_model = None\n",
    "best_result = 0\n",
    "for est in range(1, 20):\n",
    "    model = RandomForestClassifier(random_state=12345, n_estimators=est) # обучаем модель с заданным количеством деревьев\n",
    "    model.fit(features_train, target_train) # обучаем модель на тренировочной выборке\n",
    "    result = model.score(features_valid, target_valid) # посчитаем качество модели на валидационной выборке\n",
    "    if result > best_result:\n",
    "        best_model = model # сохраняем наилучшую модель\n",
    "        best_result = result #сохраняем наилучшее значение метрики accuracy на валидационных данных\n",
    "\n",
    "print(\"Accuracy наилучшей модели на валидационной выборке:\", best_result, \"Деревьев в лесу:\", est)"
   ]
  },
  {
   "cell_type": "markdown",
   "metadata": {},
   "source": [
    "<img src=\"https://emojigraph.org/media/apple/check-mark-button_2705.png\" align=left width=33, heigth=33>\n",
    "<div class=\"alert alert-success\">\n",
    "Случайный лес исследован корректно:\n",
    "    \n",
    " - исследовано 19 значений гиперпараметров\n",
    " - модель обучена на обучающем наборе\n",
    " - получена оценка качества на валидационном наборе\n",
    " - перебор гиперпараметров осуществляется в цикле\n",
    "</div>"
   ]
  },
  {
   "cell_type": "markdown",
   "metadata": {},
   "source": [
    "***Вывод:\n",
    "Лучший результат для леса = 0.78915 при 19 деревьях на валидационной выборке.***"
   ]
  },
  {
   "cell_type": "markdown",
   "metadata": {},
   "source": [
    "### LogisticRegression "
   ]
  },
  {
   "cell_type": "code",
   "execution_count": 11,
   "metadata": {},
   "outputs": [
    {
     "name": "stdout",
     "output_type": "stream",
     "text": [
      "Score: 0.6842923794712286\n"
     ]
    }
   ],
   "source": [
    "model = LogisticRegression(random_state=12345, solver='lbfgs', max_iter=1000) \n",
    "model.fit(features_train, target_train) # обучим модель на обучающей выборке\n",
    "result = model.score(features_valid, target_valid) # посчитаем качество модели на валидационной выборке\n",
    "\n",
    "print(\"Score:\", result)"
   ]
  },
  {
   "cell_type": "markdown",
   "metadata": {},
   "source": [
    "<img src=\"https://emojigraph.org/media/apple/check-mark-button_2705.png\" align=left width=33, heigth=33>\n",
    "<div class=\"alert alert-success\">\n",
    "Логистическая регрессия исследована корректно.\n",
    "</div>\n"
   ]
  },
  {
   "cell_type": "markdown",
   "metadata": {},
   "source": [
    "***Вывод:\n",
    "При применении регрессии результат не очень хороший = 0.68 на валидационной (тестовой) выборке.***"
   ]
  },
  {
   "cell_type": "markdown",
   "metadata": {},
   "source": [
    "<img src=\"https://upload.wikimedia.org/wikipedia/commons/thumb/8/81/Stop_sign.png/240px-Stop_sign.png\" align=left width=35, heigth=35>\n",
    "<div class=\"alert alert-danger\">\n",
    "Ты закончил важный этап: исследовал три модели, нашел оптимальные гиперпараметры для каждой. Нужно зафиксировать результат: выбрать лучшую модель (включая гиперпараметры)  и описать свое решение в выводах.</div>"
   ]
  },
  {
   "cell_type": "markdown",
   "metadata": {},
   "source": [
    "***Общий вывдод:***\n",
    "<div class=\"alert alert-info\">\n",
    "Мы исследовали 3 разные модели. Лучше всех показал себя лес при кол-ве 19 деревьев.\n",
    "Регрессия работает быстро, но очень не точно.\n",
    "Результаты дерева решений схожи с лесом, можно использовать и эту модель.\n",
    "</div>"
   ]
  },
  {
   "cell_type": "markdown",
   "metadata": {},
   "source": [
    "<img src=\"https://emojigraph.org/media/apple/check-mark-button_2705.png\" align=left width=33, heigth=33>\n",
    "<div class=\"alert alert-success\">\n",
    "<b>v2</b> 👍 </div>"
   ]
  },
  {
   "cell_type": "markdown",
   "metadata": {},
   "source": [
    "## Проверьте модель на тестовой выборке"
   ]
  },
  {
   "cell_type": "code",
   "execution_count": 12,
   "metadata": {},
   "outputs": [
    {
     "data": {
      "text/plain": "0.7791601866251944"
     },
     "execution_count": 12,
     "metadata": {},
     "output_type": "execute_result"
    }
   ],
   "source": [
    "features_full = pd.concat([features_train, features_valid])\n",
    "target_full = pd.concat([target_train, target_valid])\n",
    "model = RandomForestClassifier(random_state=12345, n_estimators=19) # обучаем модель с заданным количеством деревьев\n",
    "model.fit(features_full, target_full) # обучаем модель на тренировочной выборке\n",
    "result = model.score(features_test, target_test) # качество модели на тестовой выборке\n",
    "result"
   ]
  },
  {
   "cell_type": "markdown",
   "metadata": {},
   "source": [
    "***Вывод:\n",
    "0.779 на тестовой подтверждает наш правильный выбор***"
   ]
  },
  {
   "cell_type": "markdown",
   "metadata": {},
   "source": [
    "<div class=\"alert alert-info\">\n",
    "Да, так и было, но потом я поправил код разделения и забыл вернуть))\n",
    "Объединил выборки!\n",
    "</div>"
   ]
  },
  {
   "cell_type": "markdown",
   "metadata": {},
   "source": [
    "<img src=\"https://emojigraph.org/media/apple/check-mark-button_2705.png\" align=left width=33, heigth=33>\n",
    "<div class=\"alert alert-success\">\n",
    "<b>v2</b> сейчас все ОК </div>"
   ]
  },
  {
   "cell_type": "markdown",
   "metadata": {},
   "source": [
    "<img src=\"https://upload.wikimedia.org/wikipedia/commons/thumb/8/81/Stop_sign.png/240px-Stop_sign.png\" align=left width=35, heigth=35>\n",
    "<div class=\"alert alert-danger\">\n",
    "Совет - если видишь слишком хорошую метрику - проверяй код на наличие утечек. Как правило, слишком хорошая точность говорит о том, что данные из тестовой выборки попали в обучающую или иным образом информация из тестовой выборки была использована моделью. Но в нашем случае всё очевидно - сейчас тестовая выборка в точности равна обучающей, поэтому и такая высокая метрика accuracy\n",
    "\n",
    "\n",
    "</div>"
   ]
  },
  {
   "cell_type": "markdown",
   "metadata": {},
   "source": [
    "<img src=\"https://emojigraph.org/media/apple/check-mark-button_2705.png\" align=left width=33, heigth=33>\n",
    "<div class=\"alert alert-success\">\n",
    "Совет:  Сейчас, когда гиперпараметры подобраны и валидационная выборка нам не нужна, мы можем обучить модель на большой выборке (обучающая + валидационная), а тестирование новой модели произвести уже на тестовой выборке.\n",
    "    \n",
    "Объединить выборки можно с помощью pd.concat\n",
    "</div>"
   ]
  },
  {
   "cell_type": "markdown",
   "metadata": {},
   "source": [
    "## (бонус) Проверьте модели на адекватность"
   ]
  },
  {
   "cell_type": "code",
   "execution_count": 13,
   "metadata": {},
   "outputs": [
    {
     "data": {
      "text/plain": "0.7060653188180405"
     },
     "execution_count": 13,
     "metadata": {},
     "output_type": "execute_result"
    }
   ],
   "source": [
    "model = DummyClassifier(strategy=\"most_frequent\")\n",
    "model.fit(features_train, target_train)\n",
    "result = model.score(features_test, target_test) # качество модели на тестовой выборке\n",
    "result"
   ]
  },
  {
   "cell_type": "markdown",
   "metadata": {},
   "source": [
    "<img src=\"https://emojigraph.org/media/apple/check-mark-button_2705.png\" align=left width=33, heigth=33>\n",
    "<div class=\"alert alert-success\">\n",
    " 👍 Молодец, верно применен Dummy Classifier для оценки стратегии предсказания самого частого ответа.</div>"
   ]
  },
  {
   "cell_type": "markdown",
   "metadata": {},
   "source": [
    "***Вывод:\n",
    "<div class=\"alert alert-danger\">\n",
    "ПОЖАЛУЙСТА, ПРИ ПРИЕМЕ ПРОЕКТА ОТВЕТЬТЕ НА ВОПРОСЫ ИЗ ЭТОГО БЛОКА))\n",
    "    \n",
    "    \n",
    "Применили модель подброса монетки со стратегией наиболее часто встречающегося значения. Не могу сделать вывод об адекватности. Не могли бы разьяснить мне? Мои мысли, что при такой модели аккураси должна быть около 50% исходя из теории вероятности. Правильно ли я мыслю? По моей логике значение 0,70 означает что модель не вполне адекватна.***"
   ]
  },
  {
   "cell_type": "markdown",
   "metadata": {},
   "source": [
    "<img src=\"https://emojigraph.org/media/apple/check-mark-button_2705.png\" align=left width=33, heigth=33>\n",
    "<div class=\"alert alert-success\">\n",
    "<b>v2</b> \n",
    "\n",
    "Наша модель должна побить все возможные  примитивные эвристики (бейзлайны, решения основанные на простых правилах), иначе зачем нам вообще городить МЛ.\n",
    "    \n",
    "Т.к. мы решаем задачу бинарной классификации, то всегда есть стратегия подброса монетки и она дает accuracy 50%. Поэтому если модель дает accuracy меньше, то модель хуже бейзлайна и проверку на адекватность не прошла.\n",
    "    \n",
    "Но для данных, в которых имеется сильный дисбаланс есть гораздо более сильный бейзлайн - всегда предсказывать самый популярный класс. И вот этот бейзлайн уже имеет accuracy 0.7, что гораздо лучше, чем у решения, подбрасывающего монетку.\n",
    "    \n",
    "Поэтому мы и сравниваем с более сильным бейзлайном, а про монетку забываем.    \n",
    "\n",
    "\n",
    "</div>"
   ]
  },
  {
   "cell_type": "markdown",
   "metadata": {},
   "source": [
    "## Чек-лист готовности проекта"
   ]
  },
  {
   "cell_type": "markdown",
   "metadata": {},
   "source": [
    "Поставьте 'x' в выполненных пунктах. Далее нажмите Shift+Enter."
   ]
  },
  {
   "cell_type": "markdown",
   "metadata": {},
   "source": [
    "- [x] Jupyter Notebook открыт\n",
    "- [x] Весь код исполняется без ошибок\n",
    "- [x] Ячейки с кодом расположены в порядке исполнения\n",
    "- [x] Выполнено задание 1: данные загружены и изучены\n",
    "- [x] Выполнено задание 2: данные разбиты на три выборки\n",
    "- [x] Выполнено задание 3: проведено исследование моделей\n",
    "    - [x] Рассмотрено больше одной модели\n",
    "    - [x] Рассмотрено хотя бы 3 значения гипепараметров для какой-нибудь модели\n",
    "    - [x] Написаны выводы по результатам исследования\n",
    "- [x] Выполнено задание 3: Проведено тестирование\n",
    "- [x] Удалось достичь accuracy не меньше 0.75\n"
   ]
  },
  {
   "cell_type": "markdown",
   "metadata": {},
   "source": [
    "<img src=\"http://s3.amazonaws.com/pix.iemoji.com/images/emoji/apple/ios-12/256/waving-hand.png\" align=left width=44, heigth=44>\n",
    "<div class=\"alert alert-info\">\n",
    "<b> Заключительный комментарий</b>\n",
    "\n",
    "В целом мне все понравилось: твоя работа выполнена на хорошем уровне с минимальными помарками.\n",
    "Также работа выглядит аккуратной и хорошо оформленной.\n",
    "Вижу, что тебе дается python, и инструментарий машинного обучения.\n",
    " \n",
    "Единственое критичное замечание - связано с неправильным разделением датасета на выборки. Тестовая оказалась в точности равна обучающей.\n",
    "    \n",
    "Желтые комментарии на твое усмотрение.\n",
    "    \n",
    "    \n",
    "Жду твой проект на финальное ревью :)\n",
    "</div>"
   ]
  },
  {
   "cell_type": "markdown",
   "metadata": {},
   "source": [
    "<img src=\"http://s3.amazonaws.com/pix.iemoji.com/images/emoji/apple/ios-12/256/waving-hand.png\" align=left width=44, heigth=44>\n",
    "<div class=\"alert alert-info\">\n",
    "<b> Заключительный комментарий v2</b>\n",
    "\n",
    "Проект принят. Поздравляю и желаю дальнейших успехов!</div>"
   ]
  },
  {
   "cell_type": "code",
   "execution_count": 13,
   "metadata": {},
   "outputs": [],
   "source": []
  }
 ],
 "metadata": {
  "ExecuteTimeLog": [
   {
    "duration": 516,
    "start_time": "2022-12-06T20:04:39.111Z"
   },
   {
    "duration": 44,
    "start_time": "2022-12-06T20:04:42.814Z"
   },
   {
    "duration": 37,
    "start_time": "2022-12-06T20:05:01.052Z"
   },
   {
    "duration": 44,
    "start_time": "2022-12-06T20:05:55.841Z"
   },
   {
    "duration": 41,
    "start_time": "2022-12-06T20:06:05.281Z"
   },
   {
    "duration": 1144,
    "start_time": "2022-12-08T09:39:34.705Z"
   },
   {
    "duration": 104,
    "start_time": "2022-12-08T09:39:36.159Z"
   },
   {
    "duration": 5,
    "start_time": "2022-12-08T09:42:28.146Z"
   },
   {
    "duration": 109,
    "start_time": "2022-12-08T09:48:30.819Z"
   },
   {
    "duration": 132,
    "start_time": "2022-12-08T09:49:00.730Z"
   },
   {
    "duration": 12,
    "start_time": "2022-12-08T09:49:39.533Z"
   },
   {
    "duration": 6,
    "start_time": "2022-12-08T09:49:55.180Z"
   },
   {
    "duration": 14,
    "start_time": "2022-12-08T09:49:57.737Z"
   },
   {
    "duration": 13,
    "start_time": "2022-12-08T09:50:10.988Z"
   },
   {
    "duration": 3,
    "start_time": "2022-12-08T09:50:33.430Z"
   },
   {
    "duration": 42,
    "start_time": "2022-12-08T09:50:34.158Z"
   },
   {
    "duration": 5,
    "start_time": "2022-12-08T09:50:36.182Z"
   },
   {
    "duration": 14,
    "start_time": "2022-12-08T09:50:37.045Z"
   },
   {
    "duration": 10,
    "start_time": "2022-12-08T09:50:56.833Z"
   },
   {
    "duration": 36,
    "start_time": "2022-12-08T09:51:25.722Z"
   },
   {
    "duration": 42,
    "start_time": "2022-12-08T09:51:26.625Z"
   },
   {
    "duration": 5,
    "start_time": "2022-12-08T09:51:29.072Z"
   },
   {
    "duration": 35,
    "start_time": "2022-12-08T09:51:29.665Z"
   },
   {
    "duration": 33,
    "start_time": "2022-12-08T09:59:57.060Z"
   },
   {
    "duration": 17,
    "start_time": "2022-12-08T10:04:50.251Z"
   },
   {
    "duration": 2,
    "start_time": "2022-12-08T10:04:55.090Z"
   },
   {
    "duration": 10,
    "start_time": "2022-12-08T10:05:05.414Z"
   },
   {
    "duration": 280,
    "start_time": "2022-12-08T10:05:10.872Z"
   },
   {
    "duration": 896,
    "start_time": "2022-12-08T10:05:23.017Z"
   },
   {
    "duration": 2086,
    "start_time": "2022-12-08T10:05:35.044Z"
   },
   {
    "duration": 920,
    "start_time": "2022-12-08T10:05:45.514Z"
   },
   {
    "duration": 834,
    "start_time": "2022-12-08T10:05:53.302Z"
   },
   {
    "duration": 247,
    "start_time": "2022-12-08T10:05:58.063Z"
   },
   {
    "duration": 460,
    "start_time": "2022-12-08T10:06:03.916Z"
   },
   {
    "duration": 407,
    "start_time": "2022-12-08T10:06:11.132Z"
   },
   {
    "duration": 418,
    "start_time": "2022-12-08T10:07:25.325Z"
   },
   {
    "duration": 3,
    "start_time": "2022-12-08T10:11:30.839Z"
   },
   {
    "duration": 1776,
    "start_time": "2022-12-08T10:14:15.367Z"
   },
   {
    "duration": 2161,
    "start_time": "2022-12-08T10:14:45.964Z"
   },
   {
    "duration": 2871,
    "start_time": "2022-12-08T10:15:05.255Z"
   },
   {
    "duration": 5,
    "start_time": "2022-12-08T10:16:06.261Z"
   },
   {
    "duration": 412,
    "start_time": "2022-12-08T10:17:13.254Z"
   },
   {
    "duration": 2214,
    "start_time": "2022-12-08T10:17:16.313Z"
   },
   {
    "duration": 6,
    "start_time": "2022-12-08T10:21:03.576Z"
   },
   {
    "duration": 22,
    "start_time": "2022-12-08T10:21:50.860Z"
   },
   {
    "duration": 6,
    "start_time": "2022-12-08T10:22:05.694Z"
   },
   {
    "duration": 25,
    "start_time": "2022-12-08T10:22:07.227Z"
   },
   {
    "duration": 39,
    "start_time": "2022-12-08T10:23:19.854Z"
   },
   {
    "duration": 5,
    "start_time": "2022-12-08T10:25:50.917Z"
   },
   {
    "duration": 11,
    "start_time": "2022-12-08T10:26:15.128Z"
   },
   {
    "duration": 10,
    "start_time": "2022-12-08T10:27:32.708Z"
   },
   {
    "duration": 5,
    "start_time": "2022-12-08T10:27:42.570Z"
   },
   {
    "duration": 36,
    "start_time": "2022-12-08T10:27:43.053Z"
   },
   {
    "duration": 464,
    "start_time": "2022-12-08T10:27:48.718Z"
   },
   {
    "duration": 935,
    "start_time": "2022-12-08T10:27:52.010Z"
   },
   {
    "duration": 1975,
    "start_time": "2022-12-08T10:28:40.576Z"
   },
   {
    "duration": 667,
    "start_time": "2022-12-08T10:29:02.877Z"
   },
   {
    "duration": 227,
    "start_time": "2022-12-08T10:29:36.220Z"
   },
   {
    "duration": 6,
    "start_time": "2022-12-08T10:38:16.410Z"
   },
   {
    "duration": 34,
    "start_time": "2022-12-08T10:38:20.786Z"
   },
   {
    "duration": 370,
    "start_time": "2022-12-08T10:38:45.323Z"
   },
   {
    "duration": 743,
    "start_time": "2022-12-08T10:38:56.068Z"
   },
   {
    "duration": 792,
    "start_time": "2022-12-08T10:39:18.718Z"
   },
   {
    "duration": 143,
    "start_time": "2022-12-08T10:39:56.558Z"
   },
   {
    "duration": 756,
    "start_time": "2022-12-08T10:40:13.371Z"
   },
   {
    "duration": 111,
    "start_time": "2022-12-08T10:40:22.929Z"
   },
   {
    "duration": 105,
    "start_time": "2022-12-08T10:40:26.841Z"
   },
   {
    "duration": 120,
    "start_time": "2022-12-08T10:40:30.762Z"
   },
   {
    "duration": 762,
    "start_time": "2022-12-08T10:40:37.324Z"
   },
   {
    "duration": 746,
    "start_time": "2022-12-08T10:40:48.133Z"
   },
   {
    "duration": 772,
    "start_time": "2022-12-08T10:41:01.130Z"
   },
   {
    "duration": 25,
    "start_time": "2022-12-08T10:41:57.016Z"
   },
   {
    "duration": 30,
    "start_time": "2022-12-08T10:43:58.411Z"
   },
   {
    "duration": 38,
    "start_time": "2022-12-08T10:44:15.789Z"
   },
   {
    "duration": 40,
    "start_time": "2022-12-08T10:44:35.234Z"
   },
   {
    "duration": 35,
    "start_time": "2022-12-08T10:44:46.299Z"
   },
   {
    "duration": 37,
    "start_time": "2022-12-08T10:45:02.681Z"
   },
   {
    "duration": 72,
    "start_time": "2022-12-08T10:45:38.671Z"
   },
   {
    "duration": 80,
    "start_time": "2022-12-08T10:45:44.968Z"
   },
   {
    "duration": 3,
    "start_time": "2022-12-08T10:54:24.974Z"
   },
   {
    "duration": 8,
    "start_time": "2022-12-08T10:56:57.893Z"
   },
   {
    "duration": 39,
    "start_time": "2022-12-08T10:57:11.234Z"
   },
   {
    "duration": 34,
    "start_time": "2022-12-08T10:57:14.795Z"
   },
   {
    "duration": 730,
    "start_time": "2022-12-08T10:57:37.839Z"
   },
   {
    "duration": 790,
    "start_time": "2022-12-08T10:57:46.375Z"
   },
   {
    "duration": 26,
    "start_time": "2022-12-08T10:57:59.080Z"
   },
   {
    "duration": 1094,
    "start_time": "2022-12-08T10:58:14.341Z"
   },
   {
    "duration": 69,
    "start_time": "2022-12-08T10:58:15.437Z"
   },
   {
    "duration": 10,
    "start_time": "2022-12-08T10:58:15.508Z"
   },
   {
    "duration": 60,
    "start_time": "2022-12-08T10:58:15.520Z"
   },
   {
    "duration": 130,
    "start_time": "2022-12-08T10:58:15.583Z"
   },
   {
    "duration": 0,
    "start_time": "2022-12-08T10:58:15.715Z"
   },
   {
    "duration": 0,
    "start_time": "2022-12-08T10:58:15.719Z"
   },
   {
    "duration": 3,
    "start_time": "2022-12-08T10:58:29.344Z"
   },
   {
    "duration": 56,
    "start_time": "2022-12-08T10:58:29.349Z"
   },
   {
    "duration": 9,
    "start_time": "2022-12-08T10:58:29.407Z"
   },
   {
    "duration": 37,
    "start_time": "2022-12-08T10:58:29.418Z"
   },
   {
    "duration": 10,
    "start_time": "2022-12-08T10:58:29.457Z"
   },
   {
    "duration": 0,
    "start_time": "2022-12-08T10:58:29.469Z"
   },
   {
    "duration": 0,
    "start_time": "2022-12-08T10:58:29.471Z"
   },
   {
    "duration": 804,
    "start_time": "2022-12-08T10:58:56.239Z"
   },
   {
    "duration": 34,
    "start_time": "2022-12-08T10:59:16.044Z"
   },
   {
    "duration": 90,
    "start_time": "2022-12-08T10:59:25.888Z"
   },
   {
    "duration": 1111,
    "start_time": "2022-12-08T10:59:59.432Z"
   },
   {
    "duration": 52,
    "start_time": "2022-12-08T11:00:00.546Z"
   },
   {
    "duration": 8,
    "start_time": "2022-12-08T11:00:00.600Z"
   },
   {
    "duration": 59,
    "start_time": "2022-12-08T11:00:00.610Z"
   },
   {
    "duration": 806,
    "start_time": "2022-12-08T11:00:00.671Z"
   },
   {
    "duration": 26,
    "start_time": "2022-12-08T11:00:01.479Z"
   },
   {
    "duration": 135,
    "start_time": "2022-12-08T11:00:01.507Z"
   },
   {
    "duration": 79,
    "start_time": "2022-12-08T11:01:40.216Z"
   },
   {
    "duration": 74,
    "start_time": "2022-12-08T11:02:21.059Z"
   },
   {
    "duration": 58,
    "start_time": "2022-12-08T11:02:30.275Z"
   },
   {
    "duration": 39,
    "start_time": "2022-12-08T11:02:38.792Z"
   },
   {
    "duration": 82,
    "start_time": "2022-12-08T11:02:44.866Z"
   },
   {
    "duration": 3,
    "start_time": "2022-12-08T11:05:22.333Z"
   },
   {
    "duration": 6,
    "start_time": "2022-12-08T11:07:31.228Z"
   },
   {
    "duration": 2452,
    "start_time": "2022-12-08T11:22:31.285Z"
   },
   {
    "duration": 116,
    "start_time": "2022-12-08T11:22:33.739Z"
   },
   {
    "duration": 9,
    "start_time": "2022-12-08T11:22:33.857Z"
   },
   {
    "duration": 41,
    "start_time": "2022-12-08T11:22:33.868Z"
   },
   {
    "duration": 995,
    "start_time": "2022-12-08T11:22:33.911Z"
   },
   {
    "duration": 43,
    "start_time": "2022-12-08T11:22:34.908Z"
   },
   {
    "duration": 128,
    "start_time": "2022-12-08T11:22:34.953Z"
   },
   {
    "duration": 7,
    "start_time": "2022-12-08T11:22:35.083Z"
   },
   {
    "duration": 1188,
    "start_time": "2022-12-08T14:52:49.323Z"
   },
   {
    "duration": 96,
    "start_time": "2022-12-08T14:52:50.514Z"
   },
   {
    "duration": 8,
    "start_time": "2022-12-08T14:52:50.612Z"
   },
   {
    "duration": 38,
    "start_time": "2022-12-08T14:52:50.622Z"
   },
   {
    "duration": 867,
    "start_time": "2022-12-08T14:52:50.662Z"
   },
   {
    "duration": 29,
    "start_time": "2022-12-08T14:52:51.531Z"
   },
   {
    "duration": 104,
    "start_time": "2022-12-08T14:52:51.562Z"
   },
   {
    "duration": 6,
    "start_time": "2022-12-08T14:52:51.667Z"
   },
   {
    "duration": 44,
    "start_time": "2022-12-08T14:54:59.276Z"
   },
   {
    "duration": 935,
    "start_time": "2022-12-08T14:55:18.468Z"
   },
   {
    "duration": 26,
    "start_time": "2022-12-08T14:55:28.621Z"
   },
   {
    "duration": 31,
    "start_time": "2022-12-08T14:55:34.168Z"
   },
   {
    "duration": 94,
    "start_time": "2022-12-08T14:59:27.866Z"
   },
   {
    "duration": 120,
    "start_time": "2022-12-08T15:04:13.078Z"
   },
   {
    "duration": 100,
    "start_time": "2022-12-08T15:05:47.771Z"
   },
   {
    "duration": 112,
    "start_time": "2022-12-08T15:06:12.189Z"
   },
   {
    "duration": 123,
    "start_time": "2022-12-08T15:06:18.314Z"
   }
  ],
  "kernelspec": {
   "display_name": "Python 3 (ipykernel)",
   "language": "python",
   "name": "python3"
  },
  "language_info": {
   "codemirror_mode": {
    "name": "ipython",
    "version": 3
   },
   "file_extension": ".py",
   "mimetype": "text/x-python",
   "name": "python",
   "nbconvert_exporter": "python",
   "pygments_lexer": "ipython3",
   "version": "3.9.5"
  },
  "toc": {
   "base_numbering": 1,
   "nav_menu": {},
   "number_sections": true,
   "sideBar": true,
   "skip_h1_title": true,
   "title_cell": "Table of Contents",
   "title_sidebar": "Contents",
   "toc_cell": false,
   "toc_position": {},
   "toc_section_display": true,
   "toc_window_display": false
  }
 },
 "nbformat": 4,
 "nbformat_minor": 2
}
