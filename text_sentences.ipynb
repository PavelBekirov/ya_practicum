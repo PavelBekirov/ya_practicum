{
 "cells": [
  {
   "cell_type": "code",
   "execution_count": 1,
   "metadata": {
    "collapsed": true
   },
   "outputs": [],
   "source": [
    "import pandas as pd\n",
    "import nltk\n",
    "from nltk.corpus import stopwords as nltk_stopwords\n",
    "from sklearn.feature_extraction.text import TfidfVectorizer\n",
    "from sklearn.linear_model import LogisticRegression\n",
    "from sklearn.linear_model import LinearRegression\n"
   ]
  },
  {
   "cell_type": "code",
   "execution_count": 2,
   "outputs": [
    {
     "name": "stdout",
     "output_type": "stream",
     "text": [
      "датасет загружен локально\n"
     ]
    }
   ],
   "source": [
    "try:\n",
    "    test = pd.read_csv('tweets_lemm_test.csv')\n",
    "    train = pd.read_csv('tweets_lemm_train.csv')\n",
    "    print('датасет загружен локально')\n",
    "except:\n",
    "    test = pd.read_csv('/datasets/tweets_lemm_test.csv')\n",
    "    train = pd.read_csv('/datasets/tweets_lemm_train.csv')\n",
    "    print('датасет загружен с сервера')"
   ],
   "metadata": {
    "collapsed": false
   }
  },
  {
   "cell_type": "code",
   "execution_count": 3,
   "outputs": [
    {
     "data": {
      "text/plain": "(5000, 3)"
     },
     "execution_count": 3,
     "metadata": {},
     "output_type": "execute_result"
    }
   ],
   "source": [
    "train.shape"
   ],
   "metadata": {
    "collapsed": false
   }
  },
  {
   "cell_type": "code",
   "execution_count": 4,
   "outputs": [
    {
     "data": {
      "text/plain": "(5000, 9834)"
     },
     "execution_count": 4,
     "metadata": {},
     "output_type": "execute_result"
    }
   ],
   "source": [
    "corpus = train['lemm_text']\n",
    "\n",
    "#nltk.download('stopwords')\n",
    "#stopwords = set(nltk_stopwords.words('russian'))\n",
    "\n",
    "count_tf_idf = TfidfVectorizer()\n",
    "tf_idf = count_tf_idf.fit_transform(corpus)\n",
    "\n",
    "tf_idf.shape"
   ],
   "metadata": {
    "collapsed": false
   }
  },
  {
   "cell_type": "code",
   "execution_count": 5,
   "outputs": [
    {
     "data": {
      "text/plain": "array([1, 1, 1, ..., 0, 0, 0])"
     },
     "execution_count": 5,
     "metadata": {},
     "output_type": "execute_result"
    }
   ],
   "source": [
    "features = tf_idf\n",
    "target = train['positive']\n",
    "model = LogisticRegression()\n",
    "model = model.fit(features, target)\n",
    "probs = model.predict(features)\n",
    "probs"
   ],
   "metadata": {
    "collapsed": false
   }
  },
  {
   "cell_type": "code",
   "execution_count": 6,
   "outputs": [
    {
     "data": {
      "text/plain": "(3000, 9834)"
     },
     "execution_count": 6,
     "metadata": {},
     "output_type": "execute_result"
    }
   ],
   "source": [
    "corpus_test = test['lemm_text']\n",
    "tf_idf_test = count_tf_idf.transform(corpus_test)\n",
    "tf_idf_test.shape"
   ],
   "metadata": {
    "collapsed": false
   }
  },
  {
   "cell_type": "code",
   "execution_count": 28,
   "outputs": [
    {
     "name": "stdout",
     "output_type": "stream",
     "text": [
      "0      (0, 8778)\\t0.33556986342167433\\n  (0, 8363)\\...\n"
     ]
    }
   ],
   "source": [
    "features_test = tf_idf_test\n"
   ],
   "metadata": {
    "collapsed": false
   }
  },
  {
   "cell_type": "code",
   "execution_count": 10,
   "outputs": [
    {
     "data": {
      "text/plain": "                                                   text  \\\n0     RT @tiredfennel: если криса так интересуют дет...   \n1     @xsealord по 200 руб. в месяц можно разместить...   \n2     @haosANDlaw @Etishkindyx учитывая, что сейчас ...   \n3     Товарищ    :) Но я никак не могу отдельно не о...   \n4     RT @BodyaNick: Квн был отличный !) Оооочень по...   \n...                                                 ...   \n2995  жуйк, ачивки в контре — зло! мой младший брат ...   \n2996    Не хочу идти на танцы :( http://t.co/5OdPjbYXOC   \n2997  На улице пусто!ни людей,ни машин,наверно холод...   \n2998  По-моему мы и ходили за водкой в три часа за э...   \n2999  Р.В сказал,что с утра будет самостоятельная,ну...   \n\n                                              lemm_text  positive  \n0     если крис так интересовать ребёнок то либо они...         1  \n1     по рубль в месяц можно разместить ссылка на те...         1  \n2     учитывать что сейчас преобладать один половина...         0  \n3     товарищ но я никак не мочь отдельно не отметит...         0  \n4     квн быть отличный оооочень понравиться женский...         1  \n...                                                 ...       ...  \n2995  жуйк ачивка в контра зло мой младший брат втян...         0  \n2996                           не хотеть идти на танец          0  \n2997  на улица пусто ни человек ни машина наверно хо...         0  \n2998  по мой мы и ходить за водка в три час за это ч...         1  \n2999  р в сказать что с утро быть самостоятельный ну...         1  \n\n[3000 rows x 3 columns]",
      "text/html": "<div>\n<style scoped>\n    .dataframe tbody tr th:only-of-type {\n        vertical-align: middle;\n    }\n\n    .dataframe tbody tr th {\n        vertical-align: top;\n    }\n\n    .dataframe thead th {\n        text-align: right;\n    }\n</style>\n<table border=\"1\" class=\"dataframe\">\n  <thead>\n    <tr style=\"text-align: right;\">\n      <th></th>\n      <th>text</th>\n      <th>lemm_text</th>\n      <th>positive</th>\n    </tr>\n  </thead>\n  <tbody>\n    <tr>\n      <th>0</th>\n      <td>RT @tiredfennel: если криса так интересуют дет...</td>\n      <td>если крис так интересовать ребёнок то либо они...</td>\n      <td>1</td>\n    </tr>\n    <tr>\n      <th>1</th>\n      <td>@xsealord по 200 руб. в месяц можно разместить...</td>\n      <td>по рубль в месяц можно разместить ссылка на те...</td>\n      <td>1</td>\n    </tr>\n    <tr>\n      <th>2</th>\n      <td>@haosANDlaw @Etishkindyx учитывая, что сейчас ...</td>\n      <td>учитывать что сейчас преобладать один половина...</td>\n      <td>0</td>\n    </tr>\n    <tr>\n      <th>3</th>\n      <td>Товарищ    :) Но я никак не могу отдельно не о...</td>\n      <td>товарищ но я никак не мочь отдельно не отметит...</td>\n      <td>0</td>\n    </tr>\n    <tr>\n      <th>4</th>\n      <td>RT @BodyaNick: Квн был отличный !) Оооочень по...</td>\n      <td>квн быть отличный оооочень понравиться женский...</td>\n      <td>1</td>\n    </tr>\n    <tr>\n      <th>...</th>\n      <td>...</td>\n      <td>...</td>\n      <td>...</td>\n    </tr>\n    <tr>\n      <th>2995</th>\n      <td>жуйк, ачивки в контре — зло! мой младший брат ...</td>\n      <td>жуйк ачивка в контра зло мой младший брат втян...</td>\n      <td>0</td>\n    </tr>\n    <tr>\n      <th>2996</th>\n      <td>Не хочу идти на танцы :( http://t.co/5OdPjbYXOC</td>\n      <td>не хотеть идти на танец</td>\n      <td>0</td>\n    </tr>\n    <tr>\n      <th>2997</th>\n      <td>На улице пусто!ни людей,ни машин,наверно холод...</td>\n      <td>на улица пусто ни человек ни машина наверно хо...</td>\n      <td>0</td>\n    </tr>\n    <tr>\n      <th>2998</th>\n      <td>По-моему мы и ходили за водкой в три часа за э...</td>\n      <td>по мой мы и ходить за водка в три час за это ч...</td>\n      <td>1</td>\n    </tr>\n    <tr>\n      <th>2999</th>\n      <td>Р.В сказал,что с утра будет самостоятельная,ну...</td>\n      <td>р в сказать что с утро быть самостоятельный ну...</td>\n      <td>1</td>\n    </tr>\n  </tbody>\n</table>\n<p>3000 rows × 3 columns</p>\n</div>"
     },
     "execution_count": 10,
     "metadata": {},
     "output_type": "execute_result"
    }
   ],
   "source": [
    "test['positive'] = probs\n",
    "test"
   ],
   "metadata": {
    "collapsed": false
   }
  },
  {
   "cell_type": "code",
   "execution_count": 8,
   "outputs": [],
   "source": [],
   "metadata": {
    "collapsed": false
   }
  }
 ],
 "metadata": {
  "kernelspec": {
   "display_name": "Python 3",
   "language": "python",
   "name": "python3"
  },
  "language_info": {
   "codemirror_mode": {
    "name": "ipython",
    "version": 2
   },
   "file_extension": ".py",
   "mimetype": "text/x-python",
   "name": "python",
   "nbconvert_exporter": "python",
   "pygments_lexer": "ipython2",
   "version": "2.7.6"
  }
 },
 "nbformat": 4,
 "nbformat_minor": 0
}
