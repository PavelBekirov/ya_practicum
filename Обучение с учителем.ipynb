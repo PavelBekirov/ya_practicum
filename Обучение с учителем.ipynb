{
 "cells": [
  {
   "cell_type": "markdown",
   "metadata": {
    "toc": true
   },
   "source": [
    "<h1>Содержание<span class=\"tocSkip\"></span></h1>\n",
    "<div class=\"toc\"><ul class=\"toc-item\"><li><ul class=\"toc-item\"><li><span><a href=\"#Загружаем-библиотеки:\" data-toc-modified-id=\"Загружаем-библиотеки:-0.1\"><span class=\"toc-item-num\">0.1&nbsp;&nbsp;</span>Загружаем библиотеки:</a></span></li></ul></li><li><span><a href=\"#Подготовка-данных\" data-toc-modified-id=\"Подготовка-данных-1\"><span class=\"toc-item-num\">1&nbsp;&nbsp;</span>Подготовка данных</a></span><ul class=\"toc-item\"><li><span><a href=\"#Проверим-и-заменим-пропуски\" data-toc-modified-id=\"Проверим-и-заменим-пропуски-1.1\"><span class=\"toc-item-num\">1.1&nbsp;&nbsp;</span>Проверим и заменим пропуски</a></span></li><li><span><a href=\"#Разделим-выборку-на-обучающую,-валидационную-и-тестовую.\" data-toc-modified-id=\"Разделим-выборку-на-обучающую,-валидационную-и-тестовую.-1.2\"><span class=\"toc-item-num\">1.2&nbsp;&nbsp;</span>Разделим выборку на обучающую, валидационную и тестовую.</a></span></li><li><span><a href=\"#Применим-метод-OHE-и-масштабирование\" data-toc-modified-id=\"Применим-метод-OHE-и-масштабирование-1.3\"><span class=\"toc-item-num\">1.3&nbsp;&nbsp;</span>Применим метод OHE и масштабирование</a></span></li><li><span><a href=\"#ВЫВОД\" data-toc-modified-id=\"ВЫВОД-1.4\"><span class=\"toc-item-num\">1.4&nbsp;&nbsp;</span><strong><em>ВЫВОД</em></strong></a></span></li></ul></li><li><span><a href=\"#Исследование-задачи\" data-toc-modified-id=\"Исследование-задачи-2\"><span class=\"toc-item-num\">2&nbsp;&nbsp;</span>Исследование задачи</a></span><ul class=\"toc-item\"><li><span><a href=\"#Исследуем-модели\" data-toc-modified-id=\"Исследуем-модели-2.1\"><span class=\"toc-item-num\">2.1&nbsp;&nbsp;</span>Исследуем модели</a></span><ul class=\"toc-item\"><li><span><a href=\"#Обучим-деревянную-модель-дерева-решений\" data-toc-modified-id=\"Обучим-деревянную-модель-дерева-решений-2.1.1\"><span class=\"toc-item-num\">2.1.1&nbsp;&nbsp;</span>Обучим деревянную модель дерева решений</a></span></li></ul></li><li><span><a href=\"#ВЫВОД\" data-toc-modified-id=\"ВЫВОД-2.2\"><span class=\"toc-item-num\">2.2&nbsp;&nbsp;</span><strong><em>ВЫВОД</em></strong></a></span></li></ul></li><li><span><a href=\"#Борьба-с-дисбалансом\" data-toc-modified-id=\"Борьба-с-дисбалансом-3\"><span class=\"toc-item-num\">3&nbsp;&nbsp;</span>Борьба с дисбалансом</a></span><ul class=\"toc-item\"><li><span><a href=\"#Частоты-классов\" data-toc-modified-id=\"Частоты-классов-3.1\"><span class=\"toc-item-num\">3.1&nbsp;&nbsp;</span>Частоты классов</a></span></li><li><span><a href=\"#Посмотрим-матрицу-ошибок\" data-toc-modified-id=\"Посмотрим-матрицу-ошибок-3.2\"><span class=\"toc-item-num\">3.2&nbsp;&nbsp;</span>Посмотрим матрицу ошибок</a></span></li><li><span><a href=\"#Увеличение-и-уменьшение-выборки\" data-toc-modified-id=\"Увеличение-и-уменьшение-выборки-3.3\"><span class=\"toc-item-num\">3.3&nbsp;&nbsp;</span>Увеличение и уменьшение выборки</a></span></li><li><span><a href=\"#Поиск-параметров-для-баланса\" data-toc-modified-id=\"Поиск-параметров-для-баланса-3.4\"><span class=\"toc-item-num\">3.4&nbsp;&nbsp;</span>Поиск параметров для баланса</a></span></li><li><span><a href=\"#ВЫВОД\" data-toc-modified-id=\"ВЫВОД-3.5\"><span class=\"toc-item-num\">3.5&nbsp;&nbsp;</span><strong><em>ВЫВОД</em></strong></a></span></li></ul></li><li><span><a href=\"#Тестирование-модели\" data-toc-modified-id=\"Тестирование-модели-4\"><span class=\"toc-item-num\">4&nbsp;&nbsp;</span>Тестирование модели</a></span><ul class=\"toc-item\"><li><span><a href=\"#Тесты-тесты-тесты-тесты-тесты-...\" data-toc-modified-id=\"Тесты-тесты-тесты-тесты-тесты-...-4.1\"><span class=\"toc-item-num\">4.1&nbsp;&nbsp;</span>Тесты тесты тесты тесты тесты ...</a></span></li><li><span><a href=\"#Auc-Roc\" data-toc-modified-id=\"Auc-Roc-4.2\"><span class=\"toc-item-num\">4.2&nbsp;&nbsp;</span>Auc Roc</a></span></li><li><span><a href=\"#ВЫВОД\" data-toc-modified-id=\"ВЫВОД-4.3\"><span class=\"toc-item-num\">4.3&nbsp;&nbsp;</span><strong><em>ВЫВОД</em></strong></a></span></li></ul></li><li><span><a href=\"#ОБЩИЙ-ВЫВОД\" data-toc-modified-id=\"ОБЩИЙ-ВЫВОД-5\"><span class=\"toc-item-num\">5&nbsp;&nbsp;</span><strong><em>ОБЩИЙ ВЫВОД</em></strong></a></span></li><li><span><a href=\"#Чек-лист-готовности-проекта\" data-toc-modified-id=\"Чек-лист-готовности-проекта-6\"><span class=\"toc-item-num\">6&nbsp;&nbsp;</span>Чек-лист готовности проекта</a></span></li></ul></div>"
   ]
  },
  {
   "cell_type": "markdown",
   "metadata": {},
   "source": [
    "# Отток клиентов"
   ]
  },
  {
   "cell_type": "markdown",
   "metadata": {},
   "source": [
    "Из «Бета-Банка» стали уходить клиенты. Каждый месяц. Немного, но заметно. Банковские маркетологи посчитали: сохранять текущих клиентов дешевле, чем привлекать новых.\n",
    "\n",
    "Нужно спрогнозировать, уйдёт клиент из банка в ближайшее время или нет. Вам предоставлены исторические данные о поведении клиентов и расторжении договоров с банком. \n",
    "\n",
    "Постройте модель с предельно большим значением *F1*-меры. Чтобы сдать проект успешно, нужно довести метрику до 0.59. Проверьте *F1*-меру на тестовой выборке самостоятельно.\n",
    "\n",
    "Дополнительно измеряйте *AUC-ROC*, сравнивайте её значение с *F1*-мерой.\n",
    "\n",
    "Источник данных: [https://www.kaggle.com/barelydedicated/bank-customer-churn-modeling](https://www.kaggle.com/barelydedicated/bank-customer-churn-modeling)"
   ]
  },
  {
   "cell_type": "markdown",
   "metadata": {},
   "source": [
    "### Загружаем библиотеки:"
   ]
  },
  {
   "cell_type": "code",
   "execution_count": 3,
   "metadata": {},
   "outputs": [],
   "source": [
    "import pandas as pd\n",
    "from sklearn.model_selection import train_test_split\n",
    "import seaborn as sns\n",
    "import warnings\n",
    "warnings.filterwarnings('ignore')\n",
    "import matplotlib as plt\n",
    "%matplotlib inline\n",
    "from sklearn.model_selection import train_test_split \n",
    "from sklearn.tree import DecisionTreeClassifier\n",
    "from sklearn.ensemble import RandomForestClassifier\n",
    "from sklearn.linear_model import LogisticRegression\n",
    "from sklearn.metrics import accuracy_score\n",
    "from sklearn.preprocessing import OneHotEncoder\n",
    "from sklearn.preprocessing import StandardScaler\n",
    "pd.options.mode.chained_assignment = None\n",
    "from sklearn.metrics import f1_score\n",
    "from sklearn.metrics import recall_score\n",
    "from sklearn.metrics import precision_score\n",
    "from sklearn.metrics import confusion_matrix\n",
    "from sklearn.model_selection import train_test_split\n",
    "from sklearn.utils import shuffle\n",
    "from sklearn.model_selection import GridSearchCV\n",
    "import numpy as np\n",
    "from sklearn.metrics import roc_auc_score\n",
    "from sklearn.metrics import roc_curve\n",
    "import matplotlib.pyplot as plt"
   ]
  },
  {
   "cell_type": "markdown",
   "source": [
    "<div class=\"alert alert-warning\">\n",
    "<b>Комментарий от ревьюера v1</b>\n",
    "\n",
    "⚠️ Молодец, что вынес все импорты в начало работы, но старайся оставлять только те библиотеки, которые используются в проекте.\n",
    "</div>\n"
   ],
   "metadata": {
    "collapsed": false
   }
  },
  {
   "cell_type": "markdown",
   "metadata": {},
   "source": [
    "## Подготовка данных"
   ]
  },
  {
   "cell_type": "markdown",
   "metadata": {},
   "source": [
    "### Проверим и заменим пропуски"
   ]
  },
  {
   "cell_type": "markdown",
   "metadata": {},
   "source": [
    "Загрузим данные и сразу посмотрим на типы и пропуски"
   ]
  },
  {
   "cell_type": "code",
   "execution_count": 4,
   "metadata": {},
   "outputs": [
    {
     "name": "stdout",
     "output_type": "stream",
     "text": [
      "датасет загружен локально\n",
      "<class 'pandas.core.frame.DataFrame'>\n",
      "RangeIndex: 10000 entries, 0 to 9999\n",
      "Data columns (total 14 columns):\n",
      " #   Column           Non-Null Count  Dtype  \n",
      "---  ------           --------------  -----  \n",
      " 0   RowNumber        10000 non-null  int64  \n",
      " 1   CustomerId       10000 non-null  int64  \n",
      " 2   Surname          10000 non-null  object \n",
      " 3   CreditScore      10000 non-null  int64  \n",
      " 4   Geography        10000 non-null  object \n",
      " 5   Gender           10000 non-null  object \n",
      " 6   Age              10000 non-null  int64  \n",
      " 7   Tenure           9091 non-null   float64\n",
      " 8   Balance          10000 non-null  float64\n",
      " 9   NumOfProducts    10000 non-null  int64  \n",
      " 10  HasCrCard        10000 non-null  int64  \n",
      " 11  IsActiveMember   10000 non-null  int64  \n",
      " 12  EstimatedSalary  10000 non-null  float64\n",
      " 13  Exited           10000 non-null  int64  \n",
      "dtypes: float64(3), int64(8), object(3)\n",
      "memory usage: 1.1+ MB\n"
     ]
    }
   ],
   "source": [
    "pth1 = 'Churn.csv'\n",
    "pth2 = '/datasets/Churn.csv'\n",
    "try:\n",
    "    data = pd.read_csv(pth1)\n",
    "    print('датасет загружен локально')\n",
    "except:\n",
    "    data = pd.read_csv(pth2)\n",
    "    print('датасет загружен с сервера')\n",
    "data.info()"
   ]
  },
  {
   "cell_type": "markdown",
   "metadata": {},
   "source": [
    "<div class=\"alert alert-block alert-success\">\n",
    "<b>Комментарий от ревьюера v1</b>\n",
    "\n",
    "✔️ Хороший вариант загрузки, позволяет избежать ошибки при загрузке.\n",
    "</div>\n"
   ]
  },
  {
   "cell_type": "markdown",
   "metadata": {},
   "source": [
    "В признаке ``Tenure`` 909 пропущенных значений. Их можно заменить, но надо понять чем. Посмотрим гистограмму и выбросы."
   ]
  },
  {
   "cell_type": "code",
   "execution_count": 5,
   "metadata": {},
   "outputs": [
    {
     "data": {
      "text/plain": "[]"
     },
     "execution_count": 5,
     "metadata": {},
     "output_type": "execute_result"
    },
    {
     "data": {
      "text/plain": "<Figure size 640x480 with 1 Axes>",
      "image/png": "[encoded data removed]"
     },
     "metadata": {},
     "output_type": "display_data"
    }
   ],
   "source": [
    "sns.histplot(data.Tenure).plot()"
   ]
  },
  {
   "cell_type": "markdown",
   "metadata": {},
   "source": [
    "Выбросов нет, стандартное отклонение минимальное. Можно заменять средним."
   ]
  },
  {
   "cell_type": "code",
   "execution_count": 7,
   "metadata": {},
   "outputs": [
    {
     "data": {
      "text/plain": "0"
     },
     "execution_count": 7,
     "metadata": {},
     "output_type": "execute_result"
    }
   ],
   "source": [
    "data.Tenure = data.Tenure.fillna(data.Tenure.median()) # заполним пропуски средним\n",
    "data.Tenure.isna().sum() # убедимся что пропусков не осталось"
   ]
  },
  {
   "cell_type": "markdown",
   "source": [
    "<div class=\"alert alert-block alert-info\">\n",
    "<b>Поправил на медиану!</b>\n",
    "</div>"
   ],
   "metadata": {
    "collapsed": false
   }
  },
  {
   "cell_type": "code",
   "execution_count": 8,
   "metadata": {
    "scrolled": true
   },
   "outputs": [
    {
     "data": {
      "text/plain": "         RowNumber    CustomerId   CreditScore           Age       Tenure  \\\ncount  10000.00000  1.000000e+04  10000.000000  10000.000000  10000.00000   \nmean    5000.50000  1.569094e+07    650.528800     38.921800      4.99790   \nstd     2886.89568  7.193619e+04     96.653299     10.487806      2.76001   \nmin        1.00000  1.556570e+07    350.000000     18.000000      0.00000   \n25%     2500.75000  1.562853e+07    584.000000     32.000000      3.00000   \n50%     5000.50000  1.569074e+07    652.000000     37.000000      5.00000   \n75%     7500.25000  1.575323e+07    718.000000     44.000000      7.00000   \nmax    10000.00000  1.581569e+07    850.000000     92.000000     10.00000   \n\n             Balance  NumOfProducts    HasCrCard  IsActiveMember  \\\ncount   10000.000000   10000.000000  10000.00000    10000.000000   \nmean    76485.889288       1.530200      0.70550        0.515100   \nstd     62397.405202       0.581654      0.45584        0.499797   \nmin         0.000000       1.000000      0.00000        0.000000   \n25%         0.000000       1.000000      0.00000        0.000000   \n50%     97198.540000       1.000000      1.00000        1.000000   \n75%    127644.240000       2.000000      1.00000        1.000000   \nmax    250898.090000       4.000000      1.00000        1.000000   \n\n       EstimatedSalary        Exited  \ncount     10000.000000  10000.000000  \nmean     100090.239881      0.203700  \nstd       57510.492818      0.402769  \nmin          11.580000      0.000000  \n25%       51002.110000      0.000000  \n50%      100193.915000      0.000000  \n75%      149388.247500      0.000000  \nmax      199992.480000      1.000000  ",
      "text/html": "<div>\n<style scoped>\n    .dataframe tbody tr th:only-of-type {\n        vertical-align: middle;\n    }\n\n    .dataframe tbody tr th {\n        vertical-align: top;\n    }\n\n    .dataframe thead th {\n        text-align: right;\n    }\n</style>\n<table border=\"1\" class=\"dataframe\">\n  <thead>\n    <tr style=\"text-align: right;\">\n      <th></th>\n      <th>RowNumber</th>\n      <th>CustomerId</th>\n      <th>CreditScore</th>\n      <th>Age</th>\n      <th>Tenure</th>\n      <th>Balance</th>\n      <th>NumOfProducts</th>\n      <th>HasCrCard</th>\n      <th>IsActiveMember</th>\n      <th>EstimatedSalary</th>\n      <th>Exited</th>\n    </tr>\n  </thead>\n  <tbody>\n    <tr>\n      <th>count</th>\n      <td>10000.00000</td>\n      <td>1.000000e+04</td>\n      <td>10000.000000</td>\n      <td>10000.000000</td>\n      <td>10000.00000</td>\n      <td>10000.000000</td>\n      <td>10000.000000</td>\n      <td>10000.00000</td>\n      <td>10000.000000</td>\n      <td>10000.000000</td>\n      <td>10000.000000</td>\n    </tr>\n    <tr>\n      <th>mean</th>\n      <td>5000.50000</td>\n      <td>1.569094e+07</td>\n      <td>650.528800</td>\n      <td>38.921800</td>\n      <td>4.99790</td>\n      <td>76485.889288</td>\n      <td>1.530200</td>\n      <td>0.70550</td>\n      <td>0.515100</td>\n      <td>100090.239881</td>\n      <td>0.203700</td>\n    </tr>\n    <tr>\n      <th>std</th>\n      <td>2886.89568</td>\n      <td>7.193619e+04</td>\n      <td>96.653299</td>\n      <td>10.487806</td>\n      <td>2.76001</td>\n      <td>62397.405202</td>\n      <td>0.581654</td>\n      <td>0.45584</td>\n      <td>0.499797</td>\n      <td>57510.492818</td>\n      <td>0.402769</td>\n    </tr>\n    <tr>\n      <th>min</th>\n      <td>1.00000</td>\n      <td>1.556570e+07</td>\n      <td>350.000000</td>\n      <td>18.000000</td>\n      <td>0.00000</td>\n      <td>0.000000</td>\n      <td>1.000000</td>\n      <td>0.00000</td>\n      <td>0.000000</td>\n      <td>11.580000</td>\n      <td>0.000000</td>\n    </tr>\n    <tr>\n      <th>25%</th>\n      <td>2500.75000</td>\n      <td>1.562853e+07</td>\n      <td>584.000000</td>\n      <td>32.000000</td>\n      <td>3.00000</td>\n      <td>0.000000</td>\n      <td>1.000000</td>\n      <td>0.00000</td>\n      <td>0.000000</td>\n      <td>51002.110000</td>\n      <td>0.000000</td>\n    </tr>\n    <tr>\n      <th>50%</th>\n      <td>5000.50000</td>\n      <td>1.569074e+07</td>\n      <td>652.000000</td>\n      <td>37.000000</td>\n      <td>5.00000</td>\n      <td>97198.540000</td>\n      <td>1.000000</td>\n      <td>1.00000</td>\n      <td>1.000000</td>\n      <td>100193.915000</td>\n      <td>0.000000</td>\n    </tr>\n    <tr>\n      <th>75%</th>\n      <td>7500.25000</td>\n      <td>1.575323e+07</td>\n      <td>718.000000</td>\n      <td>44.000000</td>\n      <td>7.00000</td>\n      <td>127644.240000</td>\n      <td>2.000000</td>\n      <td>1.00000</td>\n      <td>1.000000</td>\n      <td>149388.247500</td>\n      <td>0.000000</td>\n    </tr>\n    <tr>\n      <th>max</th>\n      <td>10000.00000</td>\n      <td>1.581569e+07</td>\n      <td>850.000000</td>\n      <td>92.000000</td>\n      <td>10.00000</td>\n      <td>250898.090000</td>\n      <td>4.000000</td>\n      <td>1.00000</td>\n      <td>1.000000</td>\n      <td>199992.480000</td>\n      <td>1.000000</td>\n    </tr>\n  </tbody>\n</table>\n</div>"
     },
     "execution_count": 8,
     "metadata": {},
     "output_type": "execute_result"
    }
   ],
   "source": [
    "data.describe()"
   ]
  },
  {
   "cell_type": "markdown",
   "metadata": {},
   "source": [
    "<div class=\"alert alert-block alert-info\">\n",
    "Еще раз посмотрим на наши данные, ну, чтобы ничего точно не упустить"
   ]
  },
  {
   "cell_type": "markdown",
   "source": [
    "<div class=\"alert alert-block alert-success\">\n",
    "<b>Комментарий от ревьюера v2</b>\n",
    "\n",
    "✔️ Все отлично, но не забывай и про обычный .head(). После загрузки данных бывает полезно посмотреть на то, что ты загрузил. Некоторые признаки могут загрузиться криво, либо быть лишние столбцы, лучше такие вещи отсеивать на начальном этапе работы с данными.\n",
    "</div>\n"
   ],
   "metadata": {
    "collapsed": false
   }
  },
  {
   "cell_type": "markdown",
   "metadata": {},
   "source": [
    "Все в порядке, теперь можем делить выборку!"
   ]
  },
  {
   "cell_type": "markdown",
   "source": [
    "\n",
    "<div class=\"alert alert-danger\">\n",
    "<b>Комментарий от ревьюера v1</b>\n",
    "\n",
    "❌ Признак Tenure представлен целочисленным числом, а пропуски заполняются на 4.99, это не совсем верно. Чтобы избежать таких ошибок, лучше брать не среднее, а медиану.\n",
    "\n",
    "Расширь, пожалуйста, анализ данных. Выведи несколько строк таблицы, с помощью метода .describe() можешь посмотреть на статистику признаков.\n",
    "</div>\n"
   ],
   "metadata": {
    "collapsed": false
   }
  },
  {
   "cell_type": "markdown",
   "metadata": {},
   "source": [
    "### Разделим выборку на обучающую, валидационную и тестовую."
   ]
  },
  {
   "cell_type": "markdown",
   "metadata": {},
   "source": [
    "<div class=\"alert alert-block alert-info\">\n",
    "Удалим те признаки, которые имеют уникальные значения: RowNumber, CustomerId, Surname - так как это помешает обучению, а точнее оно станет невозможным."
   ]
  },
  {
   "cell_type": "code",
   "execution_count": 9,
   "metadata": {},
   "outputs": [
    {
     "name": "stdout",
     "output_type": "stream",
     "text": [
      "(6000, 10)\n",
      "(2000, 10)\n",
      "(2000, 10)\n",
      "(6000,)\n",
      "(2000,)\n",
      "(2000,)\n"
     ]
    }
   ],
   "source": [
    "features = data.drop(['RowNumber', 'CustomerId', 'Surname', 'Exited'], axis=1)\n",
    "target = data['Exited']\n",
    "\n",
    "features_train, features_testvalid, target_train, target_testvalid = \\\n",
    "train_test_split(features, target, test_size=0.4, random_state=12345, stratify=target)\n",
    "\n",
    "features_test, features_valid, target_test, target_valid = \\\n",
    "train_test_split(features_testvalid, target_testvalid, test_size=0.5, random_state=12345,)\n",
    "print(features_train.shape)\n",
    "print(features_valid.shape)\n",
    "print(features_test.shape)\n",
    "print(target_train.shape)\n",
    "print(target_valid.shape)\n",
    "print(target_test.shape)"
   ]
  },
  {
   "cell_type": "markdown",
   "source": [
    "<div class=\"alert alert-block alert-success\">\n",
    "<b>Комментарий от ревьюера v1</b>\n",
    "\n",
    "✔️ Разбиение выборок выполнено верно, но можно сделать ещё лучше) Смотри, у нас в таргете есть небольшой дисбаланс, поэтому нам важно, чтобы в получившихся выборках было распределение схожее с исходной таблицей, поэтому лучше добавить атрибу stratify=target, так мы будем делить выборки в соответсвии с распределением таргета.\n",
    "</div>\n",
    "\n",
    "<div class=\"alert alert-warning\">\n",
    "\n",
    "⚠️ На этом этапе работы ты удалил 3 признака из набора данных, такие серьезные шаги лучше пояснять в комментариях.\n",
    "</div>\n"
   ],
   "metadata": {
    "collapsed": false
   }
  },
  {
   "cell_type": "markdown",
   "metadata": {},
   "source": [
    "### Применим метод OHE и масштабирование"
   ]
  },
  {
   "cell_type": "markdown",
   "metadata": {},
   "source": [
    "Это будет необходимо для линейных моделей"
   ]
  },
  {
   "cell_type": "markdown",
   "metadata": {},
   "source": [
    "Применим функцию OneHotEncoder с параметром удаления первого столбца, чтобы не создать обратную корреляцию."
   ]
  },
  {
   "cell_type": "markdown",
   "metadata": {},
   "source": [
    "<div class=\"alert alert-block alert-info\">\n",
    "В функции ниже уже заложен scale- линг. Возможно, вы в прошлый раз не обратили внимание, но и я не \"подсветил\" это))"
   ]
  },
  {
   "cell_type": "markdown",
   "source": [
    "<div class=\"alert alert-block alert-success\">\n",
    "<b>Комментарий от ревьюера v2</b>\n",
    "\n",
    "✔️Да, прости, я проглядел этот момент.\n",
    "</div>\n"
   ],
   "metadata": {
    "collapsed": false
   }
  },
  {
   "cell_type": "code",
   "execution_count": 10,
   "metadata": {
    "scrolled": false
   },
   "outputs": [],
   "source": [
    "# обучим OHE на тренировочной выборке\n",
    "encoder = OneHotEncoder(handle_unknown='error', drop='first')\n",
    "encoder.fit(features_train[['Geography', 'Gender']])\n",
    "scaler = StandardScaler() # сразу проскейлим выборку\n",
    "numeric = [\n",
    "    'CreditScore', 'Age', 'Tenure', 'Balance', 'NumOfProducts', 'HasCrCard', 'IsActiveMember', 'EstimatedSalary']\n",
    "scaler.fit(features_train[numeric])\n",
    "# напишем функцию трансформации для выборок\n",
    "def onehot(dt):\n",
    "    dt = dt.reset_index(drop=True)\n",
    "    encoder_data = pd.DataFrame(encoder.transform(dt[['Geography', 'Gender']]).toarray())\n",
    "    column_names = encoder.get_feature_names(['Geography', 'Gender'])\n",
    "    encoder_data.columns = column_names\n",
    "    dt_ohe = dt.join(encoder_data)\n",
    "    dt_ohe = dt_ohe.drop(['Geography', 'Gender'], axis=1)\n",
    "    dt_ohe[numeric] = scaler.transform(dt_ohe[numeric])\n",
    "    return dt_ohe"
   ]
  },
  {
   "cell_type": "markdown",
   "metadata": {},
   "source": [
    "<div class=\"alert alert-block alert-info\">\n",
    "Вынес обучение скейлинга за пределы функции"
   ]
  },
  {
   "cell_type": "markdown",
   "source": [
    "\n",
    "<div class=\"alert alert-danger\">\n",
    "<b>Комментарий от ревьюера v2</b>\n",
    "\n",
    "❌ Смотри, я в прошлый раз не писал об этом(думал, что у тебя нет масштабирования), но StandardScaler тоже необходимо обучать только на тренировочной выборке, иначе у нас произойдет утечка информации из тестовой и валидационной выборки, что приведет к завышению оценки модели на тесте. Вот тут довольно подробно это описано https://scikit-learn.ru/10-2-data-leakage/ . Нужно запомнить это правило, все трансформеры мы обучаем только на тренировочных выборках)\n",
    "</div>\n"
   ],
   "metadata": {
    "collapsed": false
   }
  },
  {
   "cell_type": "markdown",
   "metadata": {},
   "source": [
    "<div class=\"alert alert-block alert-success\">\n",
    "<b>Комментарий от ревьюера v3</b>\n",
    "\n",
    "✔️ Отлично, теперь все верно.\n",
    "</div>\n"
   ]
  },
  {
   "cell_type": "code",
   "execution_count": 11,
   "metadata": {
    "scrolled": false
   },
   "outputs": [
    {
     "data": {
      "text/plain": "((6000, 11), (2000, 11), (2000, 11))"
     },
     "execution_count": 11,
     "metadata": {},
     "output_type": "execute_result"
    }
   ],
   "source": [
    "features_train = onehot(features_train)\n",
    "features_valid = onehot(features_valid)\n",
    "features_test = onehot(features_test)\n",
    "features_train.shape, features_valid.shape, features_test.shape"
   ]
  },
  {
   "cell_type": "code",
   "execution_count": 12,
   "metadata": {},
   "outputs": [
    {
     "data": {
      "text/plain": "      CreditScore       Age    Tenure   Balance  NumOfProducts  HasCrCard  \\\n0       -0.751852 -0.857830  1.087371  0.257705       0.820981  -1.525709   \n1       -0.586949 -0.953153 -1.092943  1.212991      -0.914708   0.655433   \n2       -0.257141  0.095403 -0.002786  1.037286      -0.914708  -1.525709   \n3        0.948716  0.476696  1.087371  0.504604      -0.914708  -1.525709   \n4       -0.494190  0.286049  1.814142 -1.219673       0.820981  -1.525709   \n...           ...       ...       ...       ...            ...        ...   \n1995     0.082972 -0.381213  1.450756 -0.072094      -0.914708   0.655433   \n1996     0.495231  1.715897  1.450756  0.559460       0.820981   0.655433   \n1997     1.072394 -1.906385  1.450756 -1.219673      -0.914708   0.655433   \n1998    -1.246563 -0.953153 -0.366172  0.949283      -0.914708  -1.525709   \n1999    -0.741546  0.095403  0.723985 -1.219673       0.820981  -1.525709   \n\n      IsActiveMember  EstimatedSalary  Geography_Germany  Geography_Spain  \\\n0           0.969466         0.452454                0.0              0.0   \n1          -1.031496        -1.154131                0.0              0.0   \n2           0.969466         1.338271                0.0              0.0   \n3           0.969466        -1.443173                1.0              0.0   \n4          -1.031496         1.208320                0.0              0.0   \n...              ...              ...                ...              ...   \n1995        0.969466        -0.560767                0.0              1.0   \n1996       -1.031496         0.092314                0.0              0.0   \n1997       -1.031496         1.551085                0.0              1.0   \n1998       -1.031496         0.215702                1.0              0.0   \n1999       -1.031496         0.031804                0.0              0.0   \n\n      Gender_Male  \n0             0.0  \n1             0.0  \n2             0.0  \n3             0.0  \n4             0.0  \n...           ...  \n1995          1.0  \n1996          0.0  \n1997          0.0  \n1998          1.0  \n1999          0.0  \n\n[2000 rows x 11 columns]",
      "text/html": "<div>\n<style scoped>\n    .dataframe tbody tr th:only-of-type {\n        vertical-align: middle;\n    }\n\n    .dataframe tbody tr th {\n        vertical-align: top;\n    }\n\n    .dataframe thead th {\n        text-align: right;\n    }\n</style>\n<table border=\"1\" class=\"dataframe\">\n  <thead>\n    <tr style=\"text-align: right;\">\n      <th></th>\n      <th>CreditScore</th>\n      <th>Age</th>\n      <th>Tenure</th>\n      <th>Balance</th>\n      <th>NumOfProducts</th>\n      <th>HasCrCard</th>\n      <th>IsActiveMember</th>\n      <th>EstimatedSalary</th>\n      <th>Geography_Germany</th>\n      <th>Geography_Spain</th>\n      <th>Gender_Male</th>\n    </tr>\n  </thead>\n  <tbody>\n    <tr>\n      <th>0</th>\n      <td>-0.751852</td>\n      <td>-0.857830</td>\n      <td>1.087371</td>\n      <td>0.257705</td>\n      <td>0.820981</td>\n      <td>-1.525709</td>\n      <td>0.969466</td>\n      <td>0.452454</td>\n      <td>0.0</td>\n      <td>0.0</td>\n      <td>0.0</td>\n    </tr>\n    <tr>\n      <th>1</th>\n      <td>-0.586949</td>\n      <td>-0.953153</td>\n      <td>-1.092943</td>\n      <td>1.212991</td>\n      <td>-0.914708</td>\n      <td>0.655433</td>\n      <td>-1.031496</td>\n      <td>-1.154131</td>\n      <td>0.0</td>\n      <td>0.0</td>\n      <td>0.0</td>\n    </tr>\n    <tr>\n      <th>2</th>\n      <td>-0.257141</td>\n      <td>0.095403</td>\n      <td>-0.002786</td>\n      <td>1.037286</td>\n      <td>-0.914708</td>\n      <td>-1.525709</td>\n      <td>0.969466</td>\n      <td>1.338271</td>\n      <td>0.0</td>\n      <td>0.0</td>\n      <td>0.0</td>\n    </tr>\n    <tr>\n      <th>3</th>\n      <td>0.948716</td>\n      <td>0.476696</td>\n      <td>1.087371</td>\n      <td>0.504604</td>\n      <td>-0.914708</td>\n      <td>-1.525709</td>\n      <td>0.969466</td>\n      <td>-1.443173</td>\n      <td>1.0</td>\n      <td>0.0</td>\n      <td>0.0</td>\n    </tr>\n    <tr>\n      <th>4</th>\n      <td>-0.494190</td>\n      <td>0.286049</td>\n      <td>1.814142</td>\n      <td>-1.219673</td>\n      <td>0.820981</td>\n      <td>-1.525709</td>\n      <td>-1.031496</td>\n      <td>1.208320</td>\n      <td>0.0</td>\n      <td>0.0</td>\n      <td>0.0</td>\n    </tr>\n    <tr>\n      <th>...</th>\n      <td>...</td>\n      <td>...</td>\n      <td>...</td>\n      <td>...</td>\n      <td>...</td>\n      <td>...</td>\n      <td>...</td>\n      <td>...</td>\n      <td>...</td>\n      <td>...</td>\n      <td>...</td>\n    </tr>\n    <tr>\n      <th>1995</th>\n      <td>0.082972</td>\n      <td>-0.381213</td>\n      <td>1.450756</td>\n      <td>-0.072094</td>\n      <td>-0.914708</td>\n      <td>0.655433</td>\n      <td>0.969466</td>\n      <td>-0.560767</td>\n      <td>0.0</td>\n      <td>1.0</td>\n      <td>1.0</td>\n    </tr>\n    <tr>\n      <th>1996</th>\n      <td>0.495231</td>\n      <td>1.715897</td>\n      <td>1.450756</td>\n      <td>0.559460</td>\n      <td>0.820981</td>\n      <td>0.655433</td>\n      <td>-1.031496</td>\n      <td>0.092314</td>\n      <td>0.0</td>\n      <td>0.0</td>\n      <td>0.0</td>\n    </tr>\n    <tr>\n      <th>1997</th>\n      <td>1.072394</td>\n      <td>-1.906385</td>\n      <td>1.450756</td>\n      <td>-1.219673</td>\n      <td>-0.914708</td>\n      <td>0.655433</td>\n      <td>-1.031496</td>\n      <td>1.551085</td>\n      <td>0.0</td>\n      <td>1.0</td>\n      <td>0.0</td>\n    </tr>\n    <tr>\n      <th>1998</th>\n      <td>-1.246563</td>\n      <td>-0.953153</td>\n      <td>-0.366172</td>\n      <td>0.949283</td>\n      <td>-0.914708</td>\n      <td>-1.525709</td>\n      <td>-1.031496</td>\n      <td>0.215702</td>\n      <td>1.0</td>\n      <td>0.0</td>\n      <td>1.0</td>\n    </tr>\n    <tr>\n      <th>1999</th>\n      <td>-0.741546</td>\n      <td>0.095403</td>\n      <td>0.723985</td>\n      <td>-1.219673</td>\n      <td>0.820981</td>\n      <td>-1.525709</td>\n      <td>-1.031496</td>\n      <td>0.031804</td>\n      <td>0.0</td>\n      <td>0.0</td>\n      <td>0.0</td>\n    </tr>\n  </tbody>\n</table>\n<p>2000 rows × 11 columns</p>\n</div>"
     },
     "execution_count": 12,
     "metadata": {},
     "output_type": "execute_result"
    }
   ],
   "source": [
    "features_valid"
   ]
  },
  {
   "cell_type": "code",
   "execution_count": null,
   "outputs": [],
   "source": [],
   "metadata": {
    "collapsed": false
   }
  },
  {
   "cell_type": "markdown",
   "metadata": {},
   "source": [
    "<div class=\"alert alert-block alert-info\">\n",
    "Поправил, вынес обучение за пределы функции"
   ]
  },
  {
   "cell_type": "markdown",
   "source": [
    "\n",
    "<div class=\"alert alert-danger\">\n",
    "<b>Комментарий от ревьюера v1</b>\n",
    "\n",
    "❌ Молодец, что сам освоил метод OHE, но у тебя получается, что для каждой выборки трансформер переобучается, это не совсем верно. Представь ситуацию, когда у тебя будет разное количество уникальных значений в признаке, тогда такое преобразование приведет к тому, что у тебя будет разное количество столбцов в выборках. Поэтому нужно обучить трансформер на тренировочной выборке(fit()) и применять(transform) ко всем остальным.\n",
    "\n",
    "</div>\n"
   ],
   "metadata": {
    "collapsed": false
   }
  },
  {
   "cell_type": "markdown",
   "metadata": {},
   "source": [
    "Мы подготовили кодировков признаки для разных моделей, в дальнейшем просто будем брать ту выбору, которая нам необходима"
   ]
  },
  {
   "cell_type": "markdown",
   "metadata": {},
   "source": [
    "### ***ВЫВОД***\n",
    "\n",
    "Данные подготовлены, выборки разделены, приведены к числовому виду и масштабированы"
   ]
  },
  {
   "cell_type": "markdown",
   "metadata": {},
   "source": [
    "## Исследование задачи"
   ]
  },
  {
   "cell_type": "markdown",
   "metadata": {},
   "source": [
    "### Исследуем модели"
   ]
  },
  {
   "cell_type": "markdown",
   "metadata": {},
   "source": [
    "#### Обучим деревянную модель дерева решений"
   ]
  },
  {
   "cell_type": "code",
   "execution_count": 13,
   "metadata": {
    "scrolled": false
   },
   "outputs": [
    {
     "name": "stdout",
     "output_type": "stream",
     "text": [
      "auc_roc = 0.6751867637199501 ||| max_depth = 1 :  ||| f1_score = 0.0\n",
      "auc_roc = 0.7322911179484723 ||| max_depth = 2 :  ||| f1_score = 0.48920863309352525\n",
      "auc_roc = 0.7967882027583565 ||| max_depth = 3 :  ||| f1_score = 0.5135520684736091\n",
      "auc_roc = 0.8188332056316443 ||| max_depth = 4 :  ||| f1_score = 0.48833592534992226\n",
      "auc_roc = 0.8402279774446892 ||| max_depth = 5 :  ||| f1_score = 0.5133020344287951\n",
      "auc_roc = 0.8497861495546403 ||| max_depth = 6 :  ||| f1_score = 0.5580029368575623\n",
      "auc_roc = 0.8462955535868211 ||| max_depth = 7 :  ||| f1_score = 0.5846153846153846\n",
      "auc_roc = 0.8322538549947321 ||| max_depth = 8 :  ||| f1_score = 0.5478645066273932\n",
      "auc_roc = 0.8210974164352074 ||| max_depth = 9 :  ||| f1_score = 0.5657142857142857\n",
      "auc_roc = 0.7884713808543243 ||| max_depth = 10 :  ||| f1_score = 0.5695187165775402\n",
      "auc_roc = 0.7751891581266162 ||| max_depth = 11 :  ||| f1_score = 0.5442359249329759\n",
      "auc_roc = 0.7656871049229002 ||| max_depth = 12 :  ||| f1_score = 0.5584415584415585\n",
      "auc_roc = 0.7456773477157361 ||| max_depth = 13 :  ||| f1_score = 0.554002541296061\n",
      "auc_roc = 0.7138646621492195 ||| max_depth = 14 :  ||| f1_score = 0.5323383084577115\n",
      "auc_roc = 0.7224942534240015 ||| max_depth = 15 :  ||| f1_score = 0.5660847880299252\n",
      "auc_roc = 0.7051415393640457 ||| max_depth = 16 :  ||| f1_score = 0.5408653846153846\n",
      "auc_roc = 0.7110849056603774 ||| max_depth = 17 :  ||| f1_score = 0.547878787878788\n",
      "auc_roc = 0.7111754441624365 ||| max_depth = 18 :  ||| f1_score = 0.545670225385528\n",
      "auc_roc = 0.7022158737189925 ||| max_depth = 19 :  ||| f1_score = 0.5286549707602339\n"
     ]
    }
   ],
   "source": [
    "best_model = None\n",
    "best_result = 0\n",
    "for depth in range(1,20):\n",
    "    model = DecisionTreeClassifier(random_state=12345, max_depth=depth) # обучим модель с заданным кол-вом depth\n",
    "    model.fit(features_train, target_train) # обучим модель на обучающей выборке\n",
    "    predictions_valid = model.predict(features_valid) # предскажем на валидационной выборке\n",
    "    probabilities_valid = model.predict_proba(features_valid)\n",
    "    probabilities_one_test = probabilities_valid[:, 1]\n",
    "    print(\"auc_roc =\", roc_auc_score(target_valid, probabilities_one_test), end = ' ||| ')\n",
    "    print(\"max_depth =\", depth, \": \", end=' ||| ')\n",
    "    print(\"f1_score =\", f1_score(target_valid, predictions_valid))"
   ]
  },
  {
   "cell_type": "markdown",
   "metadata": {},
   "source": [
    "Результат f1 0,58, auc-roc 0.84 - честно говоря, не впечатлил."
   ]
  },
  {
   "cell_type": "markdown",
   "source": [
    "<div class=\"alert alert-block alert-success\">\n",
    "<b>Комментарий от ревьюера v1</b>\n",
    "\n",
    "✔️ Согласен, дерево показало себя не самым лучшим образом)\n",
    "</div>\n",
    "\n"
   ],
   "metadata": {
    "collapsed": false
   }
  },
  {
   "cell_type": "markdown",
   "metadata": {},
   "source": [
    "Дольше, но лучше! Я бы поработал с этой моделью!"
   ]
  },
  {
   "cell_type": "code",
   "execution_count": 15,
   "metadata": {},
   "outputs": [
    {
     "data": {
      "text/plain": "(0.29304029304029305, 0.7683800641700985)"
     },
     "execution_count": 15,
     "metadata": {},
     "output_type": "execute_result"
    }
   ],
   "source": [
    "model = LogisticRegression(random_state=12345, solver='lbfgs', max_iter=1000) \n",
    "model.fit(features_train, target_train)\n",
    "predictions_valid = model.predict(features_valid)\n",
    "probabilities_valid = model.predict_proba(features_valid)\n",
    "probabilities_one_test = probabilities_valid[:, 1]\n",
    "result = f1_score(target_valid, predictions_valid)\n",
    "auc_roc = roc_auc_score(target_valid, probabilities_one_test)\n",
    "result, auc_roc"
   ]
  },
  {
   "cell_type": "markdown",
   "metadata": {},
   "source": [
    "Я так надеялся! Да уж) Регрессия тут не подойдет. Ожидаемо!"
   ]
  },
  {
   "cell_type": "code",
   "execution_count": 14,
   "outputs": [
    {
     "name": "stdout",
     "output_type": "stream",
     "text": [
      "CPU times: user 17.3 s, sys: 169 ms, total: 17.4 s\n",
      "Wall time: 17.5 s\n"
     ]
    },
    {
     "data": {
      "text/plain": "(0.6046511627906975, 21, 18, 0.8640912328799922)"
     },
     "execution_count": 14,
     "metadata": {},
     "output_type": "execute_result"
    }
   ],
   "source": [
    "%%time\n",
    "best_model = None\n",
    "best_result = 0\n",
    "best_depth = 0\n",
    "best_est = 0\n",
    "for est in range(1, 100, 10):\n",
    "    for depth in range(2,20,2):\n",
    "        model = RandomForestClassifier(random_state=12345, n_estimators=est, max_depth=depth)\n",
    "        model.fit(features_train, target_train)\n",
    "        predictions_valid = model.predict(features_valid)\n",
    "        probabilities_valid = model.predict_proba(features_valid)\n",
    "        probabilities_one_test = probabilities_valid[:, 1]\n",
    "        result = f1_score(target_valid, predictions_valid)\n",
    "        auc_roc = roc_auc_score(target_valid, probabilities_one_test)\n",
    "        if result > best_result:\n",
    "            best_model = model\n",
    "            best_result = result\n",
    "            best_depth = depth\n",
    "            best_est = est\n",
    "best_result, best_est, best_depth, auc_roc"
   ],
   "metadata": {
    "collapsed": false
   }
  },
  {
   "cell_type": "markdown",
   "metadata": {},
   "source": [
    "<div class=\"alert alert-block alert-info\">\n",
    "В функции ниже уже заложен scale- линг. Возможно, вы в прошлый раз не обратили внимание, но и я не \"подсветил\" это))\n",
    "    \n",
    "Добавил подсчет auc roc для всех моделей"
   ]
  },
  {
   "cell_type": "markdown",
   "metadata": {},
   "source": [
    "<div class=\"alert alert-block alert-success\">\n",
    "<b>Комментарий от ревьюера v2</b>\n",
    "\n",
    "✔️ Моя вина) \n",
    "</div>\n",
    "\n"
   ]
  },
  {
   "cell_type": "markdown",
   "metadata": {},
   "source": [
    "\n",
    "<div class=\"alert alert-danger\">\n",
    "<b>Комментарий от ревьюера v1</b>\n",
    "    \n",
    "❌ Линейные модели очень требовательны к данным, им необходимо, чтобы все признаки были примерно одного масштаба, поэтому перед использованием линейных моделей необходимо сделать масштабирование численных признаков(StandartScaler, MinMaxScaler- любой на выбор).\n",
    "</div>\n"
   ]
  },
  {
   "cell_type": "markdown",
   "metadata": {},
   "source": [
    "### ***ВЫВОД***\n",
    "\n",
    "Лес рук за лес! Дальше с ним)\n",
    "\n",
    "Мы протестировали 3 модели. Очевидно лучшей оказался лес. В принципе ничего нового, в большинстве случаев для задач классификации он подходит лучше."
   ]
  },
  {
   "cell_type": "markdown",
   "metadata": {},
   "source": [
    "<div class=\"alert alert-block alert-success\">\n",
    "<b>Комментарий от ревьюера v1</b>\n",
    "\n",
    "✔️ Хорошая работа, ты исследовал три модели и получил неплохой результат для случайного леса. Немного защищу логистическую регрессию, так как есть целые классы задач, где она показывает себя лучше, чем деревья, например те, где у нас огромное количество признаков(например текст).\n",
    "</div>\n",
    "\n",
    "<div class=\"alert alert-danger\">\n",
    "\n",
    "    \n",
    "❌ Помимо f1-score нам ещё необходимо рассчитать ROC-AUC, добавь, пожалуйста его в расчет для всех моделей.\n",
    "</div>\n",
    "\n"
   ]
  },
  {
   "cell_type": "markdown",
   "metadata": {},
   "source": [
    "## Борьба с дисбалансом"
   ]
  },
  {
   "cell_type": "markdown",
   "metadata": {},
   "source": [
    "### Частоты классов"
   ]
  },
  {
   "cell_type": "code",
   "execution_count": 16,
   "metadata": {
    "scrolled": true
   },
   "outputs": [
    {
     "name": "stdout",
     "output_type": "stream",
     "text": [
      "0    0.7963\n",
      "1    0.2037\n",
      "Name: Exited, dtype: float64\n"
     ]
    },
    {
     "data": {
      "text/plain": "<AxesSubplot: >"
     },
     "execution_count": 16,
     "metadata": {},
     "output_type": "execute_result"
    },
    {
     "data": {
      "text/plain": "<Figure size 640x480 with 1 Axes>",
      "image/png": "[encoded data removed]"
     },
     "metadata": {},
     "output_type": "display_data"
    }
   ],
   "source": [
    "class_frequency = data['Exited'].value_counts(normalize=True)\n",
    "print(class_frequency)\n",
    "class_frequency.plot(kind='bar')"
   ]
  },
  {
   "cell_type": "markdown",
   "metadata": {},
   "source": [
    "Видим, что дисбаланс классов в целом присутствует в нашей выборке"
   ]
  },
  {
   "cell_type": "code",
   "execution_count": 17,
   "metadata": {
    "scrolled": false
   },
   "outputs": [
    {
     "name": "stdout",
     "output_type": "stream",
     "text": [
      "0    0.939\n",
      "1    0.061\n",
      "dtype: float64\n"
     ]
    },
    {
     "data": {
      "text/plain": "<AxesSubplot: >"
     },
     "execution_count": 17,
     "metadata": {},
     "output_type": "execute_result"
    },
    {
     "data": {
      "text/plain": "<Figure size 640x480 with 1 Axes>",
      "image/png": "[encoded data removed]"
     },
     "metadata": {},
     "output_type": "display_data"
    }
   ],
   "source": [
    "# Проверим частотность классов на выборке\n",
    "predicted_valid = pd.Series(model.predict(features_valid))\n",
    "class_frequency = predicted_valid.value_counts(normalize=True)\n",
    "print(class_frequency)\n",
    "class_frequency.plot(kind='bar')"
   ]
  },
  {
   "cell_type": "markdown",
   "metadata": {},
   "source": [
    "<div class=\"alert alert-block alert-success\">\n",
    "<b>Комментарий от ревьюера v1</b>\n",
    "\n",
    "✔️ Судя по изменившемуся соотношению классов, можно сделать предположение, что модели хуже предсказывают 1-й класс.\n",
    "    \n",
    "</div>\n",
    "\n",
    "\n",
    "\n"
   ]
  },
  {
   "cell_type": "markdown",
   "metadata": {},
   "source": [
    "И на выборке дисбаланс очевиден"
   ]
  },
  {
   "cell_type": "markdown",
   "metadata": {},
   "source": [
    "### Посмотрим матрицу ошибок"
   ]
  },
  {
   "cell_type": "code",
   "execution_count": 18,
   "metadata": {},
   "outputs": [
    {
     "data": {
      "text/plain": "array([[1534,   42],\n       [ 344,   80]])"
     },
     "execution_count": 18,
     "metadata": {},
     "output_type": "execute_result"
    }
   ],
   "source": [
    "confusion_matrix(target_valid, predicted_valid)"
   ]
  },
  {
   "cell_type": "markdown",
   "metadata": {},
   "source": [
    "235 ложноположительных ответов. Модель часто ошибается, принимая отрицательный ответ за положительный."
   ]
  },
  {
   "cell_type": "markdown",
   "metadata": {},
   "source": [
    "### Увеличение и уменьшение выборки"
   ]
  },
  {
   "cell_type": "markdown",
   "metadata": {},
   "source": [
    "Напишем пару функий для увеличения и уменьшение класса"
   ]
  },
  {
   "cell_type": "code",
   "execution_count": 19,
   "metadata": {
    "scrolled": true
   },
   "outputs": [],
   "source": [
    "target_train = target_train.reset_index(drop=True)\n",
    "target_valid = target_valid.reset_index(drop=True)\n",
    "target_test = target_test.reset_index(drop=True)\n",
    "\n",
    "def upsample(features, target, repeat):\n",
    "    features_zeros = features[target == 0]\n",
    "    features_ones = features[target == 1]\n",
    "    target_zeros = target[target == 0]\n",
    "    target_ones = target[target == 1]\n",
    "    features_upsampled = pd.concat([features_zeros] + [features_ones] * repeat)\n",
    "    target_upsampled = pd.concat([target_zeros] + [target_ones] * repeat)\n",
    "    features_upsampled, target_upsampled = shuffle(\n",
    "        features_upsampled, target_upsampled, random_state=12345)\n",
    "    return features_upsampled, target_upsampled\n",
    "\n",
    "def downsample(features, target, fraction):\n",
    "    features_zeros = features[target == 0]\n",
    "    features_ones = features[target == 1]\n",
    "    target_zeros = target[target == 0]\n",
    "    target_ones = target[target == 1]\n",
    "    features_downsampled = pd.concat(\n",
    "        [features_zeros.sample(frac=fraction, random_state=12345)] + [features_ones])\n",
    "    target_downsampled = pd.concat(\n",
    "        [target_zeros.sample(frac=fraction, random_state=12345)] + [target_ones])\n",
    "    features_downsampled, target_downsampled = shuffle(\n",
    "        features_downsampled, target_downsampled, random_state=12345)\n",
    "    return features_downsampled, target_downsampled\n"
   ]
  },
  {
   "cell_type": "markdown",
   "metadata": {},
   "source": [
    "<div class=\"alert alert-block alert-success\">\n",
    "<b>Комментарий от ревьюера v1</b>\n",
    "\n",
    "✔️ Методы написаны верно, сейчас уже никто не будет использовать самописные функции, вместо них можно использовать <a href=\"https://imbalanced-learn.org/stable/references/generated/imblearn.over_sampling.SMOTE.html\">SMOTE</a> для увеличения выборки и <a href=\"https://imbalanced-learn.org/stable/references/generated/imblearn.under_sampling.RandomUnderSampler.html\">RandomUnderSampler</a> .\n",
    "</div>\n",
    "\n",
    "\n",
    "\n"
   ]
  },
  {
   "cell_type": "markdown",
   "metadata": {},
   "source": [
    "### Поиск параметров для баланса"
   ]
  },
  {
   "cell_type": "markdown",
   "metadata": {},
   "source": [
    "Подберем наиболее эффектиную модель, меняя параметры деревьев и глубины, откручивая на разное увеличение и уменьшение выборки.\n",
    "\n",
    "Создадим функцию, которая будет принимать в себя все необходимые диапазоны, а также работать в разных режимах балансировки."
   ]
  },
  {
   "cell_type": "markdown",
   "metadata": {},
   "source": [
    "<div class=\"alert alert-block alert-info\">\n",
    "Да, изначально так и планировал. В следующий раз так и сделаю)) Сейчас что то не хочу переписывать, лучше в следующих проектах сделаю по-другому и заодно вспомню что тут к чему)"
   ]
  },
  {
   "cell_type": "code",
   "execution_count": 20,
   "outputs": [],
   "source": [
    "def best_practice(est_a, est_b, depth_a, depth_b, repeat_a=2, repeat_b=10, frac_a=0.1, frac_b=0.5, balance=1):\n",
    "    best_result = 0\n",
    "    best_repeat = 0\n",
    "    best_frac = 0\n",
    "    best_depth = 0\n",
    "    best_est = 0\n",
    "    if balance == 1:\n",
    "        for est in range(est_a,est_b,10):\n",
    "            for depth in range(depth_a,depth_b,2):\n",
    "                model = RandomForestClassifier(\n",
    "                    random_state=12345, n_estimators=est, max_depth=depth, class_weight='balanced')\n",
    "                model.fit(features_train, target_train)\n",
    "                predictions_valid = model.predict(features_valid)\n",
    "                probabilities_valid = model.predict_proba(features_valid)\n",
    "                probabilities_one_test = probabilities_valid[:, 1]\n",
    "                result = f1_score(target_valid, predictions_valid)\n",
    "                if result > best_result:\n",
    "                    best_result = result\n",
    "                    best_est = est\n",
    "                    best_depth = depth\n",
    "                    auc_roc = roc_auc_score(target_valid, probabilities_one_test)\n",
    "        return print('f1 = ', best_result, 'auc roc = ', auc_roc, 'est = ', best_est, 'depth = ', best_depth)\n",
    "    elif balance == 'up':\n",
    "        for est in range(est_a,est_b,10):\n",
    "            for depth in range(depth_a,depth_b,2):\n",
    "                for repeat in range(repeat_a,repeat_b,2):\n",
    "                    model = RandomForestClassifier(random_state=12345, n_estimators=est, max_depth=depth)\n",
    "                    features_upsampled, target_upsampled = upsample(features_train, target_train, repeat)\n",
    "                    model.fit(features_upsampled, target_upsampled)\n",
    "                    predictions_valid = model.predict(features_valid)\n",
    "                    probabilities_valid = model.predict_proba(features_valid)\n",
    "                    probabilities_one_test = probabilities_valid[:, 1]\n",
    "                    result = f1_score(target_valid, predictions_valid)\n",
    "                    if result > best_result:\n",
    "                        best_result = result\n",
    "                        best_est = est\n",
    "                        best_depth = depth\n",
    "                        best_repeat = repeat\n",
    "                        auc_roc = roc_auc_score(target_valid, probabilities_one_test)\n",
    "        return print('f1 = ', best_result, 'auc roc = ', auc_roc, 'est = ', best_est, 'depth = ', best_depth,\\\n",
    "                    'repeat', best_repeat)\n",
    "    elif balance == 'down':\n",
    "        for est in range(est_a,est_b,10):\n",
    "            for depth in range(depth_a,depth_b,2):\n",
    "                for frac in np.arange(frac_a, frac_b,0.1):\n",
    "                    model = RandomForestClassifier(random_state=12345, n_estimators=est, max_depth=depth)\n",
    "                    features_downsampled, target_downsampled = downsample(features_train, target_train, frac)\n",
    "                    model.fit(features_downsampled, target_downsampled)\n",
    "                    predictions_valid = model.predict(features_valid)\n",
    "                    probabilities_valid = model.predict_proba(features_valid)\n",
    "                    probabilities_one_test = probabilities_valid[:, 1]\n",
    "                    result = f1_score(target_valid, predictions_valid)\n",
    "                    if result > best_result:\n",
    "                        best_result = result\n",
    "                        best_est = est\n",
    "                        best_depth = depth\n",
    "                        best_frac = frac\n",
    "                        auc_roc = roc_auc_score(target_valid, probabilities_one_test)\n",
    "        return print('f1 = ', best_result, 'auc roc = ', auc_roc, 'est = ', best_est, 'depth = ', best_depth,\\\n",
    "                    'frac', best_frac)"
   ],
   "metadata": {
    "collapsed": false
   }
  },
  {
   "cell_type": "markdown",
   "metadata": {},
   "source": [
    "<div class=\"alert alert-block alert-success\">\n",
    "<b>Комментарий от ревьюера v2</b>\n",
    "\n",
    "✔️ Хорошо, принимается)\n",
    "</div>\n",
    "\n"
   ]
  },
  {
   "cell_type": "markdown",
   "metadata": {},
   "source": [
    "<div class=\"alert alert-warning\">\n",
    "<b>Комментарий от ревьюера v1</b>\n",
    "    \n",
    "⚠️ Ого, мощная функция, она всеобъемлющая, но это и недостаток, так как её тяжело читать и поддерживать. Лучше написать одну маленькую функцию, которая будет производить обучение модели и выдачу результатов, максимум добавить туда поиск оптимальных гиперпараметров и поделить это на 3 вызова с передачей разных выборок.\n",
    "    \n",
    "</div>\n"
   ]
  },
  {
   "cell_type": "code",
   "execution_count": 21,
   "metadata": {},
   "outputs": [
    {
     "name": "stdout",
     "output_type": "stream",
     "text": [
      "f1 =  0.6558139534883721 auc roc =  0.8700091586054975 est =  70 depth =  10\n",
      "CPU times: user 16.9 s, sys: 183 ms, total: 17.1 s\n",
      "Wall time: 17.2 s\n"
     ]
    }
   ],
   "source": [
    "%%time\n",
    "#Параметры для максимального f1 для сбалансированной выборки\n",
    "best_practice(10,100,2,20,2,10,0.1,0.5,1)"
   ]
  },
  {
   "cell_type": "code",
   "execution_count": 22,
   "metadata": {},
   "outputs": [
    {
     "name": "stdout",
     "output_type": "stream",
     "text": [
      "f1 =  0.6518046709129512 auc roc =  0.870151326501293 est =  50 depth =  10 repeat 4\n",
      "CPU times: user 1min 38s, sys: 893 ms, total: 1min 39s\n",
      "Wall time: 1min 40s\n"
     ]
    }
   ],
   "source": [
    "%%time\n",
    "#Параметры для максимального f1 для увеличенной выборки\n",
    "best_practice(10,100,2,20,2,10,0.1,0.5,'up')"
   ]
  },
  {
   "cell_type": "code",
   "execution_count": 23,
   "metadata": {
    "scrolled": true
   },
   "outputs": [
    {
     "name": "stdout",
     "output_type": "stream",
     "text": [
      "f1 =  0.6535141800246609 auc roc =  0.8708322358969447 est =  90 depth =  10 frac 0.5\n",
      "CPU times: user 1min 51s, sys: 1.06 s, total: 1min 52s\n",
      "Wall time: 1min 53s\n"
     ]
    }
   ],
   "source": [
    "%%time\n",
    "#Параметры для максимального f1 для урезанной выборки\n",
    "best_practice(10,100,2,20,2,20,0.1,1.0,'down')"
   ]
  },
  {
   "cell_type": "markdown",
   "metadata": {},
   "source": [
    "### ***ВЫВОД***\n",
    "\n",
    "Балансная модель - F1 = 0.6499 - затраченное время меньшее из всех - 24.1 секунды.\n",
    "\n",
    "В урезанной выборке F1 немного больше, но затраты на время не оправданные.\n",
    "\n",
    "Итоговые гиперпараметры:\n",
    "Деревьев - 90, глубина - 8, балансировка с помощью class_weight='balanced'"
   ]
  },
  {
   "cell_type": "markdown",
   "metadata": {},
   "source": [
    "<div class=\"alert alert-block alert-success\">\n",
    "<b>Комментарий от ревьюера v1</b>\n",
    "\n",
    "✔️ У тебя получились хорошие результаты, даже если сделать прикидку на переобучение, то такой результат практически гарантирует нам получение требуемого показателя метрики, если, конечно, валидация выполнена верно.\n",
    "</div>\n",
    "\n",
    "\n",
    "\n"
   ]
  },
  {
   "cell_type": "markdown",
   "metadata": {},
   "source": [
    "## Тестирование модели"
   ]
  },
  {
   "cell_type": "markdown",
   "metadata": {},
   "source": [
    "### Тесты тесты тесты тесты тесты ..."
   ]
  },
  {
   "cell_type": "code",
   "execution_count": 24,
   "metadata": {},
   "outputs": [
    {
     "data": {
      "text/plain": "0.593103448275862"
     },
     "execution_count": 24,
     "metadata": {},
     "output_type": "execute_result"
    }
   ],
   "source": [
    "model = RandomForestClassifier(random_state=12345, n_estimators=70, max_depth=8, class_weight='balanced')\n",
    "model.fit(features_train, target_train)\n",
    "predictions_test = model.predict(features_test)\n",
    "f1_score(target_test, predictions_test)"
   ]
  },
  {
   "cell_type": "markdown",
   "metadata": {},
   "source": [
    "<div class=\"alert alert-block alert-success\">\n",
    "<b>Комментарий от ревьюера v1</b>\n",
    "\n",
    "✔️ Приятно видеть корректное тестирование модели и такой хороший результат. \n",
    "</div>\n",
    "\n",
    "\n",
    "\n"
   ]
  },
  {
   "cell_type": "markdown",
   "metadata": {},
   "source": [
    "На тестовой даже лучше! Цедевой показатель достигнут!"
   ]
  },
  {
   "cell_type": "markdown",
   "metadata": {},
   "source": [
    "### Auc Roc"
   ]
  },
  {
   "cell_type": "code",
   "execution_count": 25,
   "metadata": {},
   "outputs": [
    {
     "data": {
      "text/plain": "<Figure size 640x480 with 1 Axes>",
      "image/png": "[encoded data removed]"
     },
     "metadata": {},
     "output_type": "display_data"
    },
    {
     "data": {
      "text/plain": "0.8528418311956879"
     },
     "execution_count": 25,
     "metadata": {},
     "output_type": "execute_result"
    }
   ],
   "source": [
    "probabilities_valid = model.predict_proba(features_test)\n",
    "probabilities_one_test = probabilities_valid[:, 1]\n",
    "fpr, tpr, thresholds = roc_curve(target_test, probabilities_one_test)\n",
    "plt.figure()\n",
    "plt.plot(fpr, tpr)\n",
    "# ROC-кривая случайной модели (выглядит как прямая)\n",
    "plt.plot([0, 1], [0, 1], linestyle='--')\n",
    "plt.xlim([0.0, 1.0])\n",
    "plt.ylim([0.0, 1.0])\n",
    "plt.xlabel('False Positive Rate')\n",
    "plt.ylabel('True Positive Rate')\n",
    "plt.title('ROC-кривая')\n",
    "plt.show()\n",
    "roc_auc_score(target_test, probabilities_one_test)"
   ]
  },
  {
   "cell_type": "markdown",
   "metadata": {},
   "source": [
    "### ***ВЫВОД***\n",
    "\n",
    "Ура! Значение Auc Roc лучше случайной модели! А значит мы справились с задачей!)\n",
    "Всем спасибо, все свободны!))"
   ]
  },
  {
   "cell_type": "markdown",
   "metadata": {},
   "source": [
    "## ***ОБЩИЙ ВЫВОД***\n",
    "\n",
    "Проект оказался не самым простым! Пришлось перечитать весь курс и снова вникнуть в тему))\n",
    "\n",
    "Мы достигли F1 на уровне 0,62. А значит наша цель выполнена. При этом обучение не занимает более 15 секунд. Это хорошо.\n",
    "Кривая ROC подтвердила наш успех, как и показатель AUC-ROC.\n"
   ]
  },
  {
   "cell_type": "markdown",
   "metadata": {},
   "source": [
    "<div class=\"alert alert-block alert-success\">\n",
    "<b>Комментарий от ревьюера v1</b>\n",
    "    \n",
    "# Общий вывод\n",
    "    \n",
    "Спасибо за работу, ты хорошо пользуешься изученным материалом и знаешь даже чуть больше, чем вы уже прошли.<br> Молодец, что используешь OHE, есть небольшая проблема, которую нужно исправить, а в остальном - это хороший шаг. \n",
    "    \n",
    "Из того, что тебе может пригодиться в будущем:\n",
    "   \n",
    "- Чтобы исследовать статистические характеристики признаков можно использовать метод describe();\n",
    "- Лучше создать таблицу оценки моделей и заполнять её по мере исследования, так тебе будет легче выбрать оптимальную;\n",
    "- Старайся делать функции более атомарными, одна функция реализовывает один функционал, так тебе проще будет поддерживать свой код и сделает его более гибким;\n",
    "- Не забывай про анализ данных, кроме пропусков необходимо исследовать все признаки(в следующих работах), посмотреть на выбросы и оценить взаимосвязь столбцов.\n",
    "    \n",
    "</div>\n",
    "<div class=\"alert alert-danger\">\n",
    "    \n",
    "❌ Необходимо исправить:\n",
    "\n",
    "- Расширь немного анализ данных, как минимум, выведи несколько строк таблицы, чтобы убедиться, что загрузка прошла успешно;\n",
    "- Поправь обработку пропусков, есть разные варианты, как заполнить их, но лучше не вставлять в признак с целыми значениями, число с плавающей запятой, лучше взять медиану;\n",
    "- Поправь преобразование OHE и добавь масштабирование численных признаков для линейной модели. Мы обучаем трансформер на тренировочной выборке и применяем на всех;\n",
    "- Добавь расчет ROC-AUC на всех этапах изучения моделей;\n",
    "</div>\n",
    "\n",
    "Буду ждать доработанный проект, удачи! Если есть вопросы, то задавай)"
   ]
  },
  {
   "cell_type": "code",
   "execution_count": 6,
   "outputs": [
    {
     "data": {
      "text/plain": "count    9091.000000\nmean        4.997690\nstd         2.894723\nmin         0.000000\n25%         2.000000\n50%         5.000000\n75%         7.000000\nmax        10.000000\nName: Tenure, dtype: float64"
     },
     "execution_count": 6,
     "metadata": {},
     "output_type": "execute_result"
    },
    {
     "data": {
      "text/plain": "<Figure size 640x480 with 1 Axes>",
      "image/png": "[encoded data removed]"
     },
     "metadata": {},
     "output_type": "display_data"
    }
   ],
   "source": [
    "sns.boxplot(data.Tenure)\n",
    "data.Tenure.describe()"
   ],
   "metadata": {
    "collapsed": false
   }
  },
  {
   "cell_type": "markdown",
   "metadata": {},
   "source": [
    "<div class=\"alert alert-block alert-info\">\n",
    "    \n",
    "-Добавил describe, а на начальном этапе еще подключал profile_report для оценки датасета, но потом удалил, дабы не перегружать отчет))\n",
    "    \n",
    "- Сделал медианой\n",
    "    \n",
    "- Масштабирование уже было, тренировку и трансформацию разделил, спасибо за замечание!\n",
    "    \n",
    "- Добавил"
   ]
  },
  {
   "cell_type": "markdown",
   "metadata": {},
   "source": [
    "<div class=\"alert alert-block alert-info\">\n",
    "    \n",
    "V2 Исправил!"
   ]
  },
  {
   "cell_type": "markdown",
   "metadata": {},
   "source": [
    "<div class=\"alert alert-block alert-success\">\n",
    "<b>Комментарий от ревьюера v2</b>\n",
    "    \n",
    "# Общий вывод\n",
    "    \n",
    "Спасибо за доработки, ты исправил все крассные комментарии, но из-за того, что я не заметил масштабирование, осталась одна ошибка, которую надо поправить)\n",
    "</div>\n",
    "<div class=\"alert alert-danger\">\n",
    "    \n",
    "❌ Необходимо исправить:\n",
    "\n",
    "- Обучи масштабирование только на тренировочной выборке, я скинул перевод статьи из sklearn, там довольно хорошо все объясняют, если останутся вопросы, то пиши)</div>\n",
    "\n"
   ]
  },
  {
   "cell_type": "markdown",
   "metadata": {},
   "source": [
    "<div class=\"alert alert-block alert-success\">\n",
    "<b>Комментарий от ревьюера v3</b>\n",
    "    \n",
    "# Общий вывод\n",
    "    \n",
    "Спасибо за работу, успехов в дальнейшем обучении!)\n",
    "</div>\n"
   ]
  },
  {
   "cell_type": "markdown",
   "metadata": {},
   "source": [
    "## Чек-лист готовности проекта"
   ]
  },
  {
   "cell_type": "markdown",
   "metadata": {},
   "source": [
    "Поставьте 'x' в выполненных пунктах. Далее нажмите Shift+Enter."
   ]
  },
  {
   "cell_type": "markdown",
   "metadata": {},
   "source": [
    "- [x]  Jupyter Notebook открыт\n",
    "- [x]  Весь код выполняется без ошибок\n",
    "- [x]  Ячейки с кодом расположены в порядке исполнения\n",
    "- [x]  Выполнен шаг 1: данные подготовлены\n",
    "- [x]  Выполнен шаг 2: задача исследована\n",
    "    - [x]  Исследован баланс классов\n",
    "    - [x]  Изучены модели без учёта дисбаланса\n",
    "    - [x]  Написаны выводы по результатам исследования\n",
    "- [x]  Выполнен шаг 3: учтён дисбаланс\n",
    "    - [x]  Применено несколько способов борьбы с дисбалансом\n",
    "    - [x]  Написаны выводы по результатам исследования\n",
    "- [x]  Выполнен шаг 4: проведено тестирование\n",
    "- [x]  Удалось достичь *F1*-меры не менее 0.59\n",
    "- [x]  Исследована метрика *AUC-ROC*"
   ]
  }
 ],
 "metadata": {
  "ExecuteTimeLog": [
   {
    "duration": 1000,
    "start_time": "2022-12-20T11:39:44.296Z"
   },
   {
    "duration": 84,
    "start_time": "2022-12-20T11:39:45.766Z"
   },
   {
    "duration": 144,
    "start_time": "2022-12-20T11:39:54.252Z"
   },
   {
    "duration": 46,
    "start_time": "2022-12-20T11:40:29.739Z"
   },
   {
    "duration": 8,
    "start_time": "2022-12-20T11:42:40.618Z"
   },
   {
    "duration": 69,
    "start_time": "2022-12-20T11:43:05.913Z"
   },
   {
    "duration": 13676,
    "start_time": "2022-12-20T11:43:23.998Z"
   },
   {
    "duration": 1230,
    "start_time": "2022-12-20T11:43:55.884Z"
   },
   {
    "duration": 18431,
    "start_time": "2022-12-20T11:44:47.737Z"
   },
   {
    "duration": 2096,
    "start_time": "2022-12-20T11:45:25.341Z"
   },
   {
    "duration": 18088,
    "start_time": "2022-12-20T11:45:27.439Z"
   },
   {
    "duration": 18406,
    "start_time": "2022-12-20T11:46:09.161Z"
   },
   {
    "duration": 12,
    "start_time": "2022-12-20T11:56:44.225Z"
   },
   {
    "duration": 8981,
    "start_time": "2022-12-20T12:26:37.096Z"
   },
   {
    "duration": 8409,
    "start_time": "2022-12-20T12:27:35.919Z"
   },
   {
    "duration": 8459,
    "start_time": "2022-12-20T12:27:49.042Z"
   },
   {
    "duration": 8510,
    "start_time": "2022-12-20T13:15:26.575Z"
   },
   {
    "duration": 8720,
    "start_time": "2022-12-20T13:15:57.504Z"
   },
   {
    "duration": 177,
    "start_time": "2022-12-20T13:17:50.177Z"
   },
   {
    "duration": 3,
    "start_time": "2022-12-20T13:17:55.130Z"
   },
   {
    "duration": 8364,
    "start_time": "2022-12-20T13:17:58.680Z"
   },
   {
    "duration": 1889,
    "start_time": "2022-12-20T13:18:38.171Z"
   },
   {
    "duration": 20162,
    "start_time": "2022-12-20T13:18:40.062Z"
   },
   {
    "duration": 36,
    "start_time": "2022-12-20T13:19:00.226Z"
   },
   {
    "duration": 19406,
    "start_time": "2022-12-20T13:19:00.265Z"
   },
   {
    "duration": 21,
    "start_time": "2022-12-20T13:22:11.414Z"
   },
   {
    "duration": 1133,
    "start_time": "2022-12-20T15:15:07.733Z"
   },
   {
    "duration": 89,
    "start_time": "2022-12-20T15:15:11.303Z"
   },
   {
    "duration": 40,
    "start_time": "2022-12-20T15:15:27.713Z"
   },
   {
    "duration": 49,
    "start_time": "2022-12-20T15:15:33.430Z"
   },
   {
    "duration": 9,
    "start_time": "2022-12-20T15:17:31.177Z"
   },
   {
    "duration": 446,
    "start_time": "2022-12-20T15:17:34.701Z"
   },
   {
    "duration": 24,
    "start_time": "2022-12-20T15:18:40.969Z"
   },
   {
    "duration": 21,
    "start_time": "2022-12-20T15:20:11.039Z"
   },
   {
    "duration": 9,
    "start_time": "2022-12-20T15:20:19.929Z"
   },
   {
    "duration": 9,
    "start_time": "2022-12-20T15:20:45.884Z"
   },
   {
    "duration": 3,
    "start_time": "2022-12-20T15:20:52.419Z"
   },
   {
    "duration": 8,
    "start_time": "2022-12-20T15:20:57.864Z"
   },
   {
    "duration": 185,
    "start_time": "2022-12-20T15:21:19.981Z"
   },
   {
    "duration": 152,
    "start_time": "2022-12-20T15:22:41.076Z"
   },
   {
    "duration": 126,
    "start_time": "2022-12-20T15:23:16.221Z"
   },
   {
    "duration": 79,
    "start_time": "2022-12-20T15:23:22.986Z"
   },
   {
    "duration": 11,
    "start_time": "2022-12-20T15:25:11.944Z"
   },
   {
    "duration": 14,
    "start_time": "2022-12-20T15:25:21.397Z"
   },
   {
    "duration": 3,
    "start_time": "2022-12-20T15:25:35.109Z"
   },
   {
    "duration": 155,
    "start_time": "2022-12-20T15:25:39.110Z"
   },
   {
    "duration": 105,
    "start_time": "2022-12-20T15:26:03.910Z"
   },
   {
    "duration": 2,
    "start_time": "2022-12-20T15:26:28.117Z"
   },
   {
    "duration": 112,
    "start_time": "2022-12-20T15:26:33.537Z"
   },
   {
    "duration": 4,
    "start_time": "2022-12-20T15:29:40.116Z"
   },
   {
    "duration": 90,
    "start_time": "2022-12-20T15:29:44.066Z"
   },
   {
    "duration": 82,
    "start_time": "2022-12-20T15:29:48.334Z"
   },
   {
    "duration": 85,
    "start_time": "2022-12-20T15:30:50.374Z"
   },
   {
    "duration": 73,
    "start_time": "2022-12-20T15:30:56.710Z"
   },
   {
    "duration": 90,
    "start_time": "2022-12-20T15:31:02.277Z"
   },
   {
    "duration": 89,
    "start_time": "2022-12-20T15:31:07.027Z"
   },
   {
    "duration": 97,
    "start_time": "2022-12-20T15:31:11.557Z"
   },
   {
    "duration": 92,
    "start_time": "2022-12-20T15:31:14.155Z"
   },
   {
    "duration": 90,
    "start_time": "2022-12-20T15:31:25.477Z"
   },
   {
    "duration": 93,
    "start_time": "2022-12-20T15:31:44.294Z"
   },
   {
    "duration": 4,
    "start_time": "2022-12-20T15:33:31.347Z"
   },
   {
    "duration": 6,
    "start_time": "2022-12-20T15:33:49.117Z"
   },
   {
    "duration": 7,
    "start_time": "2022-12-20T15:34:00.147Z"
   },
   {
    "duration": 6,
    "start_time": "2022-12-20T15:34:11.107Z"
   },
   {
    "duration": 62,
    "start_time": "2022-12-20T15:35:00.735Z"
   },
   {
    "duration": 6,
    "start_time": "2022-12-20T15:37:26.453Z"
   },
   {
    "duration": 21,
    "start_time": "2022-12-20T15:37:40.302Z"
   },
   {
    "duration": 13,
    "start_time": "2022-12-20T15:37:52.187Z"
   },
   {
    "duration": 7,
    "start_time": "2022-12-20T15:38:01.456Z"
   },
   {
    "duration": 119,
    "start_time": "2022-12-20T15:42:23.784Z"
   },
   {
    "duration": 9,
    "start_time": "2022-12-20T15:45:41.822Z"
   },
   {
    "duration": 10,
    "start_time": "2022-12-20T15:46:41.365Z"
   },
   {
    "duration": 12,
    "start_time": "2022-12-20T15:47:05.636Z"
   },
   {
    "duration": 10,
    "start_time": "2022-12-20T15:47:13.582Z"
   },
   {
    "duration": 10,
    "start_time": "2022-12-20T15:47:18.997Z"
   },
   {
    "duration": 9,
    "start_time": "2022-12-20T15:47:22.390Z"
   },
   {
    "duration": 10,
    "start_time": "2022-12-20T15:47:26.551Z"
   },
   {
    "duration": 10,
    "start_time": "2022-12-20T15:47:44.404Z"
   },
   {
    "duration": 12,
    "start_time": "2022-12-20T15:47:49.749Z"
   },
   {
    "duration": 11,
    "start_time": "2022-12-20T15:47:54.404Z"
   },
   {
    "duration": 5,
    "start_time": "2022-12-20T16:07:31.965Z"
   },
   {
    "duration": 4,
    "start_time": "2022-12-20T16:11:20.100Z"
   },
   {
    "duration": 3,
    "start_time": "2022-12-20T16:11:22.204Z"
   },
   {
    "duration": 9,
    "start_time": "2022-12-20T16:15:34.496Z"
   },
   {
    "duration": 21,
    "start_time": "2022-12-20T16:15:44.308Z"
   },
   {
    "duration": 17,
    "start_time": "2022-12-20T16:15:58.324Z"
   },
   {
    "duration": 11,
    "start_time": "2022-12-20T16:16:17.978Z"
   },
   {
    "duration": 23,
    "start_time": "2022-12-20T16:18:58.392Z"
   },
   {
    "duration": 11,
    "start_time": "2022-12-20T16:19:10.349Z"
   },
   {
    "duration": 19,
    "start_time": "2022-12-20T16:19:16.137Z"
   },
   {
    "duration": 35,
    "start_time": "2022-12-20T16:20:12.307Z"
   },
   {
    "duration": 13,
    "start_time": "2022-12-20T16:20:50.823Z"
   },
   {
    "duration": 33,
    "start_time": "2022-12-20T16:21:04.004Z"
   },
   {
    "duration": 23,
    "start_time": "2022-12-20T16:21:30.864Z"
   },
   {
    "duration": 22,
    "start_time": "2022-12-20T16:21:48.294Z"
   },
   {
    "duration": 38,
    "start_time": "2022-12-20T16:21:53.936Z"
   },
   {
    "duration": 28,
    "start_time": "2022-12-20T16:22:48.663Z"
   },
   {
    "duration": 36,
    "start_time": "2022-12-20T16:24:15.933Z"
   },
   {
    "duration": 19,
    "start_time": "2022-12-20T16:25:19.685Z"
   },
   {
    "duration": 15,
    "start_time": "2022-12-20T16:25:25.086Z"
   },
   {
    "duration": 23,
    "start_time": "2022-12-20T16:25:47.894Z"
   },
   {
    "duration": 14,
    "start_time": "2022-12-20T16:25:51.552Z"
   },
   {
    "duration": 26,
    "start_time": "2022-12-20T16:25:55.444Z"
   },
   {
    "duration": 21,
    "start_time": "2022-12-20T16:30:26.524Z"
   },
   {
    "duration": 24,
    "start_time": "2022-12-20T16:30:52.233Z"
   },
   {
    "duration": 16,
    "start_time": "2022-12-20T16:30:56.710Z"
   },
   {
    "duration": 18,
    "start_time": "2022-12-20T16:31:19.434Z"
   },
   {
    "duration": 24,
    "start_time": "2022-12-20T16:31:26.756Z"
   },
   {
    "duration": 16,
    "start_time": "2022-12-20T16:31:28.775Z"
   },
   {
    "duration": 12,
    "start_time": "2022-12-20T16:31:41.205Z"
   },
   {
    "duration": 16,
    "start_time": "2022-12-20T16:31:57.575Z"
   },
   {
    "duration": 10,
    "start_time": "2022-12-20T16:34:47.316Z"
   },
   {
    "duration": 9,
    "start_time": "2022-12-20T16:35:33.074Z"
   },
   {
    "duration": 12,
    "start_time": "2022-12-20T16:36:01.634Z"
   },
   {
    "duration": 16,
    "start_time": "2022-12-20T16:36:28.502Z"
   },
   {
    "duration": 17,
    "start_time": "2022-12-20T16:39:21.034Z"
   },
   {
    "duration": 9,
    "start_time": "2022-12-20T16:39:37.114Z"
   },
   {
    "duration": 16,
    "start_time": "2022-12-20T16:41:02.419Z"
   },
   {
    "duration": 13,
    "start_time": "2022-12-20T16:41:09.276Z"
   },
   {
    "duration": 11,
    "start_time": "2022-12-20T16:41:33.108Z"
   },
   {
    "duration": 12,
    "start_time": "2022-12-20T16:42:00.829Z"
   },
   {
    "duration": 26,
    "start_time": "2022-12-20T16:42:16.708Z"
   },
   {
    "duration": 32,
    "start_time": "2022-12-20T16:42:54.340Z"
   },
   {
    "duration": 1842,
    "start_time": "2022-12-20T19:04:42.504Z"
   },
   {
    "duration": 147,
    "start_time": "2022-12-20T19:04:44.349Z"
   },
   {
    "duration": 266,
    "start_time": "2022-12-20T19:04:44.499Z"
   },
   {
    "duration": 147,
    "start_time": "2022-12-20T19:04:44.774Z"
   },
   {
    "duration": 9,
    "start_time": "2022-12-20T19:04:44.923Z"
   },
   {
    "duration": 162,
    "start_time": "2022-12-20T19:04:44.934Z"
   },
   {
    "duration": 53,
    "start_time": "2022-12-20T19:04:45.098Z"
   },
   {
    "duration": 136,
    "start_time": "2022-12-20T19:05:20.607Z"
   },
   {
    "duration": 22,
    "start_time": "2022-12-20T19:05:24.298Z"
   },
   {
    "duration": 32,
    "start_time": "2022-12-20T19:05:38.711Z"
   },
   {
    "duration": 1723,
    "start_time": "2022-12-22T11:09:28.109Z"
   },
   {
    "duration": 202,
    "start_time": "2022-12-22T11:09:29.834Z"
   },
   {
    "duration": 346,
    "start_time": "2022-12-22T11:09:30.038Z"
   },
   {
    "duration": 197,
    "start_time": "2022-12-22T11:09:30.387Z"
   },
   {
    "duration": 6,
    "start_time": "2022-12-22T11:09:30.586Z"
   },
   {
    "duration": 66,
    "start_time": "2022-12-22T11:09:30.593Z"
   },
   {
    "duration": 121,
    "start_time": "2022-12-22T11:09:30.660Z"
   },
   {
    "duration": 294,
    "start_time": "2022-12-22T11:09:30.783Z"
   },
   {
    "duration": 0,
    "start_time": "2022-12-22T11:09:31.079Z"
   },
   {
    "duration": 0,
    "start_time": "2022-12-22T11:09:31.080Z"
   },
   {
    "duration": 0,
    "start_time": "2022-12-22T11:09:31.081Z"
   },
   {
    "duration": 0,
    "start_time": "2022-12-22T11:09:31.082Z"
   },
   {
    "duration": 0,
    "start_time": "2022-12-22T11:09:31.083Z"
   },
   {
    "duration": 0,
    "start_time": "2022-12-22T11:09:31.084Z"
   },
   {
    "duration": 0,
    "start_time": "2022-12-22T11:09:31.085Z"
   },
   {
    "duration": 0,
    "start_time": "2022-12-22T11:09:31.087Z"
   },
   {
    "duration": 0,
    "start_time": "2022-12-22T11:09:31.088Z"
   },
   {
    "duration": 0,
    "start_time": "2022-12-22T11:09:31.089Z"
   },
   {
    "duration": 0,
    "start_time": "2022-12-22T11:09:31.090Z"
   },
   {
    "duration": 0,
    "start_time": "2022-12-22T11:09:31.092Z"
   },
   {
    "duration": 0,
    "start_time": "2022-12-22T11:09:31.093Z"
   },
   {
    "duration": 4,
    "start_time": "2022-12-22T11:09:51.498Z"
   },
   {
    "duration": 52,
    "start_time": "2022-12-22T11:09:51.934Z"
   },
   {
    "duration": 415,
    "start_time": "2022-12-22T11:09:55.279Z"
   },
   {
    "duration": 22018,
    "start_time": "2022-12-22T11:09:55.697Z"
   },
   {
    "duration": 147,
    "start_time": "2022-12-22T11:10:17.717Z"
   },
   {
    "duration": 203,
    "start_time": "2022-12-22T11:10:17.953Z"
   },
   {
    "duration": 276,
    "start_time": "2022-12-22T11:10:18.158Z"
   },
   {
    "duration": 7,
    "start_time": "2022-12-22T11:10:18.452Z"
   },
   {
    "duration": 9,
    "start_time": "2022-12-22T11:10:18.460Z"
   },
   {
    "duration": 12,
    "start_time": "2022-12-22T11:10:18.472Z"
   },
   {
    "duration": 20521,
    "start_time": "2022-12-22T11:10:18.485Z"
   },
   {
    "duration": 117895,
    "start_time": "2022-12-22T11:10:39.008Z"
   },
   {
    "duration": 135944,
    "start_time": "2022-12-22T11:12:36.905Z"
   },
   {
    "duration": 348,
    "start_time": "2022-12-22T11:14:52.852Z"
   },
   {
    "duration": 152,
    "start_time": "2022-12-22T11:14:53.201Z"
   },
   {
    "duration": 4,
    "start_time": "2022-12-22T11:14:58.788Z"
   },
   {
    "duration": 69,
    "start_time": "2022-12-22T11:15:32.912Z"
   },
   {
    "duration": 5,
    "start_time": "2022-12-22T11:15:38.809Z"
   },
   {
    "duration": 4,
    "start_time": "2022-12-22T11:41:40.104Z"
   },
   {
    "duration": 17,
    "start_time": "2022-12-22T11:41:40.555Z"
   },
   {
    "duration": 7,
    "start_time": "2022-12-22T11:41:48.650Z"
   },
   {
    "duration": 179,
    "start_time": "2022-12-22T11:41:48.659Z"
   },
   {
    "duration": 139,
    "start_time": "2022-12-22T11:41:48.840Z"
   },
   {
    "duration": 102,
    "start_time": "2022-12-22T11:41:48.981Z"
   },
   {
    "duration": 7,
    "start_time": "2022-12-22T11:41:49.084Z"
   },
   {
    "duration": 46,
    "start_time": "2022-12-22T11:41:49.093Z"
   },
   {
    "duration": 66,
    "start_time": "2022-12-22T11:41:49.140Z"
   },
   {
    "duration": 73,
    "start_time": "2022-12-22T11:41:49.208Z"
   },
   {
    "duration": 4,
    "start_time": "2022-12-22T11:46:32.780Z"
   },
   {
    "duration": 48,
    "start_time": "2022-12-22T11:46:33.359Z"
   },
   {
    "duration": 18,
    "start_time": "2022-12-22T12:20:47.161Z"
   },
   {
    "duration": 5,
    "start_time": "2022-12-22T12:20:53.822Z"
   },
   {
    "duration": 9,
    "start_time": "2022-12-22T12:21:00.082Z"
   },
   {
    "duration": 6,
    "start_time": "2022-12-22T12:21:03.152Z"
   },
   {
    "duration": 28,
    "start_time": "2022-12-22T12:28:04.592Z"
   },
   {
    "duration": 25,
    "start_time": "2022-12-22T12:28:09.654Z"
   },
   {
    "duration": 1613,
    "start_time": "2022-12-23T13:17:43.808Z"
   },
   {
    "duration": 9,
    "start_time": "2022-12-23T13:18:17.642Z"
   },
   {
    "duration": 129,
    "start_time": "2022-12-23T13:18:20.940Z"
   },
   {
    "duration": 167,
    "start_time": "2022-12-23T13:18:27.952Z"
   },
   {
    "duration": 156,
    "start_time": "2022-12-23T13:18:33.142Z"
   },
   {
    "duration": 169,
    "start_time": "2022-12-23T13:18:39.798Z"
   },
   {
    "duration": 129,
    "start_time": "2022-12-23T13:19:19.502Z"
   },
   {
    "duration": 14,
    "start_time": "2022-12-23T13:19:42.215Z"
   },
   {
    "duration": 45,
    "start_time": "2022-12-23T13:22:54.106Z"
   },
   {
    "duration": 48,
    "start_time": "2022-12-23T13:23:42.319Z"
   },
   {
    "duration": 44,
    "start_time": "2022-12-23T13:23:49.244Z"
   },
   {
    "duration": 41,
    "start_time": "2022-12-23T13:23:52.643Z"
   },
   {
    "duration": 45,
    "start_time": "2022-12-23T13:24:10.707Z"
   },
   {
    "duration": 83,
    "start_time": "2022-12-23T13:25:04.450Z"
   },
   {
    "duration": 13,
    "start_time": "2022-12-23T13:25:21.718Z"
   },
   {
    "duration": 723,
    "start_time": "2022-12-23T13:31:58.438Z"
   },
   {
    "duration": 15,
    "start_time": "2022-12-23T13:32:23.193Z"
   },
   {
    "duration": 7,
    "start_time": "2022-12-23T13:33:22.665Z"
   },
   {
    "duration": 64,
    "start_time": "2022-12-23T13:33:25.432Z"
   },
   {
    "duration": 20,
    "start_time": "2022-12-23T13:33:38.100Z"
   },
   {
    "duration": 32,
    "start_time": "2022-12-23T13:34:08.091Z"
   },
   {
    "duration": 18,
    "start_time": "2022-12-23T13:34:12.324Z"
   },
   {
    "duration": 16,
    "start_time": "2022-12-23T13:34:14.027Z"
   },
   {
    "duration": 1388,
    "start_time": "2022-12-23T13:34:31.846Z"
   },
   {
    "duration": 79,
    "start_time": "2022-12-23T13:34:33.235Z"
   },
   {
    "duration": 180,
    "start_time": "2022-12-23T13:34:33.315Z"
   },
   {
    "duration": 101,
    "start_time": "2022-12-23T13:34:33.497Z"
   },
   {
    "duration": 17,
    "start_time": "2022-12-23T13:34:33.600Z"
   },
   {
    "duration": 45,
    "start_time": "2022-12-23T13:34:33.618Z"
   },
   {
    "duration": 14,
    "start_time": "2022-12-23T13:34:33.665Z"
   },
   {
    "duration": 7,
    "start_time": "2022-12-23T13:34:35.334Z"
   },
   {
    "duration": 59,
    "start_time": "2022-12-23T13:34:39.200Z"
   },
   {
    "duration": 20,
    "start_time": "2022-12-23T13:34:46.694Z"
   },
   {
    "duration": 120,
    "start_time": "2022-12-23T13:36:07.287Z"
   },
   {
    "duration": 1434,
    "start_time": "2022-12-23T13:36:17.968Z"
   },
   {
    "duration": 82,
    "start_time": "2022-12-23T13:36:19.404Z"
   },
   {
    "duration": 179,
    "start_time": "2022-12-23T13:36:19.488Z"
   },
   {
    "duration": 105,
    "start_time": "2022-12-23T13:36:19.669Z"
   },
   {
    "duration": 6,
    "start_time": "2022-12-23T13:36:19.776Z"
   },
   {
    "duration": 64,
    "start_time": "2022-12-23T13:36:19.783Z"
   },
   {
    "duration": 13,
    "start_time": "2022-12-23T13:36:19.849Z"
   },
   {
    "duration": 10,
    "start_time": "2022-12-23T13:36:19.864Z"
   },
   {
    "duration": 73,
    "start_time": "2022-12-23T13:36:19.876Z"
   },
   {
    "duration": 19,
    "start_time": "2022-12-23T13:36:19.951Z"
   },
   {
    "duration": 495,
    "start_time": "2022-12-23T13:36:19.972Z"
   },
   {
    "duration": 24254,
    "start_time": "2022-12-23T13:36:20.469Z"
   },
   {
    "duration": 196,
    "start_time": "2022-12-23T13:36:44.725Z"
   },
   {
    "duration": 266,
    "start_time": "2022-12-23T13:36:44.923Z"
   },
   {
    "duration": 254,
    "start_time": "2022-12-23T13:36:45.191Z"
   },
   {
    "duration": 7,
    "start_time": "2022-12-23T13:36:45.447Z"
   },
   {
    "duration": 16,
    "start_time": "2022-12-23T13:36:45.456Z"
   },
   {
    "duration": 14,
    "start_time": "2022-12-23T13:36:45.474Z"
   },
   {
    "duration": 22841,
    "start_time": "2022-12-23T13:36:45.490Z"
   },
   {
    "duration": 129794,
    "start_time": "2022-12-23T13:37:08.333Z"
   },
   {
    "duration": 153233,
    "start_time": "2022-12-23T13:39:18.129Z"
   },
   {
    "duration": 384,
    "start_time": "2022-12-23T13:41:51.364Z"
   },
   {
    "duration": 170,
    "start_time": "2022-12-23T13:41:51.750Z"
   },
   {
    "duration": 52,
    "start_time": "2022-12-23T13:43:46.496Z"
   },
   {
    "duration": 57,
    "start_time": "2022-12-23T13:44:56.786Z"
   },
   {
    "duration": 64,
    "start_time": "2022-12-23T13:45:33.834Z"
   },
   {
    "duration": 81,
    "start_time": "2022-12-23T13:45:52.820Z"
   },
   {
    "duration": 455,
    "start_time": "2022-12-23T13:45:59.100Z"
   },
   {
    "duration": 42,
    "start_time": "2022-12-23T13:46:08.449Z"
   },
   {
    "duration": 48,
    "start_time": "2022-12-23T13:46:11.096Z"
   },
   {
    "duration": 501,
    "start_time": "2022-12-23T13:46:18.338Z"
   },
   {
    "duration": 54,
    "start_time": "2022-12-23T13:46:30.408Z"
   },
   {
    "duration": 521,
    "start_time": "2022-12-23T13:46:43.762Z"
   },
   {
    "duration": 507,
    "start_time": "2022-12-23T13:47:10.558Z"
   },
   {
    "duration": 504,
    "start_time": "2022-12-23T13:48:12.591Z"
   },
   {
    "duration": 531,
    "start_time": "2022-12-23T13:48:25.125Z"
   },
   {
    "duration": 579,
    "start_time": "2022-12-23T13:48:36.089Z"
   },
   {
    "duration": 554,
    "start_time": "2022-12-23T13:48:41.309Z"
   },
   {
    "duration": 533,
    "start_time": "2022-12-23T13:48:55.255Z"
   },
   {
    "duration": 25952,
    "start_time": "2022-12-23T13:51:28.831Z"
   },
   {
    "duration": 245,
    "start_time": "2022-12-23T13:52:47.368Z"
   },
   {
    "duration": 57,
    "start_time": "2022-12-23T14:04:55.723Z"
   },
   {
    "duration": 53,
    "start_time": "2022-12-23T14:05:43.241Z"
   },
   {
    "duration": 60,
    "start_time": "2022-12-23T14:06:27.534Z"
   },
   {
    "duration": 62,
    "start_time": "2022-12-23T14:06:53.003Z"
   },
   {
    "duration": 56,
    "start_time": "2022-12-23T14:07:29.197Z"
   },
   {
    "duration": 65,
    "start_time": "2022-12-23T14:08:29.376Z"
   },
   {
    "duration": 50,
    "start_time": "2022-12-23T14:09:24.059Z"
   },
   {
    "duration": 49,
    "start_time": "2022-12-23T14:09:45.658Z"
   },
   {
    "duration": 64,
    "start_time": "2022-12-23T14:09:52.594Z"
   },
   {
    "duration": 60,
    "start_time": "2022-12-23T14:10:09.273Z"
   },
   {
    "duration": 60,
    "start_time": "2022-12-23T14:10:27.751Z"
   },
   {
    "duration": 47,
    "start_time": "2022-12-23T14:11:11.463Z"
   },
   {
    "duration": 56,
    "start_time": "2022-12-23T14:12:53.636Z"
   },
   {
    "duration": 11,
    "start_time": "2022-12-23T14:13:57.358Z"
   },
   {
    "duration": 25682,
    "start_time": "2022-12-23T14:14:02.397Z"
   },
   {
    "duration": 146891,
    "start_time": "2022-12-23T14:14:55.339Z"
   },
   {
    "duration": 169748,
    "start_time": "2022-12-23T14:19:06.940Z"
   },
   {
    "duration": 84,
    "start_time": "2022-12-23T20:59:13.459Z"
   },
   {
    "duration": 1726,
    "start_time": "2022-12-24T09:29:06.720Z"
   },
   {
    "duration": 140,
    "start_time": "2022-12-24T09:29:08.449Z"
   },
   {
    "duration": 180,
    "start_time": "2022-12-24T09:29:08.591Z"
   },
   {
    "duration": 108,
    "start_time": "2022-12-24T09:29:08.777Z"
   },
   {
    "duration": 7,
    "start_time": "2022-12-24T09:29:08.887Z"
   },
   {
    "duration": 134,
    "start_time": "2022-12-24T09:29:08.896Z"
   },
   {
    "duration": 13,
    "start_time": "2022-12-24T09:29:09.032Z"
   },
   {
    "duration": 42,
    "start_time": "2022-12-24T09:29:09.047Z"
   },
   {
    "duration": 59,
    "start_time": "2022-12-24T09:29:09.091Z"
   },
   {
    "duration": 22,
    "start_time": "2022-12-24T09:29:09.153Z"
   },
   {
    "duration": 529,
    "start_time": "2022-12-24T09:29:09.178Z"
   },
   {
    "duration": 25908,
    "start_time": "2022-12-24T09:29:09.710Z"
   },
   {
    "duration": 261,
    "start_time": "2022-12-24T09:29:35.620Z"
   },
   {
    "duration": 216,
    "start_time": "2022-12-24T09:29:35.883Z"
   },
   {
    "duration": 251,
    "start_time": "2022-12-24T09:29:36.101Z"
   },
   {
    "duration": 24,
    "start_time": "2022-12-24T09:29:36.354Z"
   },
   {
    "duration": 7,
    "start_time": "2022-12-24T09:29:36.380Z"
   },
   {
    "duration": 28,
    "start_time": "2022-12-24T09:29:36.389Z"
   },
   {
    "duration": 24154,
    "start_time": "2022-12-24T09:29:36.419Z"
   },
   {
    "duration": 141963,
    "start_time": "2022-12-24T09:30:00.578Z"
   },
   {
    "duration": 165638,
    "start_time": "2022-12-24T09:32:22.543Z"
   },
   {
    "duration": 170,
    "start_time": "2022-12-24T09:35:08.610Z"
   },
   {
    "duration": 495,
    "start_time": "2022-12-24T09:35:08.783Z"
   },
   {
    "duration": 527,
    "start_time": "2022-12-24T09:38:07.240Z"
   },
   {
    "duration": 434,
    "start_time": "2022-12-24T09:38:14.048Z"
   },
   {
    "duration": 324,
    "start_time": "2022-12-24T09:38:54.358Z"
   },
   {
    "duration": 434,
    "start_time": "2022-12-24T09:38:58.945Z"
   },
   {
    "duration": 285,
    "start_time": "2022-12-24T09:39:03.424Z"
   },
   {
    "duration": 350,
    "start_time": "2022-12-24T09:39:06.441Z"
   },
   {
    "duration": 584,
    "start_time": "2022-12-24T09:39:09.910Z"
   },
   {
    "duration": 438,
    "start_time": "2022-12-24T09:39:14.875Z"
   },
   {
    "duration": 170,
    "start_time": "2022-12-24T09:39:27.443Z"
   },
   {
    "duration": 801,
    "start_time": "2022-12-24T09:40:45.568Z"
   },
   {
    "duration": 829,
    "start_time": "2022-12-24T09:40:59.673Z"
   },
   {
    "duration": 453,
    "start_time": "2022-12-24T09:42:12.693Z"
   },
   {
    "duration": 498,
    "start_time": "2022-12-24T09:42:32.641Z"
   },
   {
    "duration": 394,
    "start_time": "2022-12-24T09:42:39.049Z"
   },
   {
    "duration": 53,
    "start_time": "2022-12-24T18:20:38.589Z"
   }
  ],
  "kernelspec": {
   "display_name": "Python 3 (ipykernel)",
   "language": "python",
   "name": "python3"
  },
  "language_info": {
   "codemirror_mode": {
    "name": "ipython",
    "version": 3
   },
   "file_extension": ".py",
   "mimetype": "text/x-python",
   "name": "python",
   "nbconvert_exporter": "python",
   "pygments_lexer": "ipython3",
   "version": "3.9.5"
  },
  "toc": {
   "base_numbering": 1,
   "nav_menu": {},
   "number_sections": true,
   "sideBar": true,
   "skip_h1_title": true,
   "title_cell": "Содержание",
   "title_sidebar": "Contents",
   "toc_cell": true,
   "toc_position": {
    "height": "657px",
    "left": "23px",
    "top": "185.125px",
    "width": "278.575px"
   },
   "toc_section_display": true,
   "toc_window_display": true
  }
 },
 "nbformat": 4,
 "nbformat_minor": 2
}
