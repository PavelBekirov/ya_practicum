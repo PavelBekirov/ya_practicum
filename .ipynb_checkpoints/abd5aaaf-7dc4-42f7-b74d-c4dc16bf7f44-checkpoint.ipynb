{
 "cells": [
  {
   "cell_type": "markdown",
   "metadata": {
    "toc": true
   },
   "source": [
    "<h1>Содержание<span class=\"tocSkip\"></span></h1>\n",
    "<div class=\"toc\"><ul class=\"toc-item\"><li><span><a href=\"#Подготовка-данных\" data-toc-modified-id=\"Подготовка-данных-1\"><span class=\"toc-item-num\">1&nbsp;&nbsp;</span>Подготовка данных</a></span><ul class=\"toc-item\"><li><span><a href=\"#Проверим-и-заменим-пропуски\" data-toc-modified-id=\"Проверим-и-заменим-пропуски-1.1\"><span class=\"toc-item-num\">1.1&nbsp;&nbsp;</span>Проверим и заменим пропуски</a></span></li><li><span><a href=\"#Разделим-выборку-на-обучающую,-валидационную-и-тестовую.\" data-toc-modified-id=\"Разделим-выборку-на-обучающую,-валидационную-и-тестовую.-1.2\"><span class=\"toc-item-num\">1.2&nbsp;&nbsp;</span>Разделим выборку на обучающую, валидационную и тестовую.</a></span></li></ul></li><li><span><a href=\"#Исследование-задачи\" data-toc-modified-id=\"Исследование-задачи-2\"><span class=\"toc-item-num\">2&nbsp;&nbsp;</span>Исследование задачи</a></span></li><li><span><a href=\"#Борьба-с-дисбалансом\" data-toc-modified-id=\"Борьба-с-дисбалансом-3\"><span class=\"toc-item-num\">3&nbsp;&nbsp;</span>Борьба с дисбалансом</a></span></li><li><span><a href=\"#Тестирование-модели\" data-toc-modified-id=\"Тестирование-модели-4\"><span class=\"toc-item-num\">4&nbsp;&nbsp;</span>Тестирование модели</a></span></li><li><span><a href=\"#Чек-лист-готовности-проекта\" data-toc-modified-id=\"Чек-лист-готовности-проекта-5\"><span class=\"toc-item-num\">5&nbsp;&nbsp;</span>Чек-лист готовности проекта</a></span></li></ul></div>"
   ]
  },
  {
   "cell_type": "markdown",
   "metadata": {},
   "source": [
    "# Отток клиентов"
   ]
  },
  {
   "cell_type": "markdown",
   "metadata": {},
   "source": [
    "Из «Бета-Банка» стали уходить клиенты. Каждый месяц. Немного, но заметно. Банковские маркетологи посчитали: сохранять текущих клиентов дешевле, чем привлекать новых.\n",
    "\n",
    "Нужно спрогнозировать, уйдёт клиент из банка в ближайшее время или нет. Вам предоставлены исторические данные о поведении клиентов и расторжении договоров с банком. \n",
    "\n",
    "Постройте модель с предельно большим значением *F1*-меры. Чтобы сдать проект успешно, нужно довести метрику до 0.59. Проверьте *F1*-меру на тестовой выборке самостоятельно.\n",
    "\n",
    "Дополнительно измеряйте *AUC-ROC*, сравнивайте её значение с *F1*-мерой.\n",
    "\n",
    "Источник данных: [https://www.kaggle.com/barelydedicated/bank-customer-churn-modeling](https://www.kaggle.com/barelydedicated/bank-customer-churn-modeling)"
   ]
  },
  {
   "cell_type": "markdown",
   "metadata": {},
   "source": [
    "Загружаем библиотеки:"
   ]
  },
  {
   "cell_type": "code",
   "execution_count": 1,
   "metadata": {},
   "outputs": [
    {
     "ename": "ModuleNotFoundError",
     "evalue": "No module named 'sklearn'",
     "output_type": "error",
     "traceback": [
      "\u001b[0;31m---------------------------------------------------------------------------\u001b[0m",
      "\u001b[0;31mModuleNotFoundError\u001b[0m                       Traceback (most recent call last)",
      "Cell \u001b[0;32mIn [1], line 2\u001b[0m\n\u001b[1;32m      1\u001b[0m \u001b[38;5;28;01mimport\u001b[39;00m \u001b[38;5;21;01mpandas\u001b[39;00m \u001b[38;5;28;01mas\u001b[39;00m \u001b[38;5;21;01mpd\u001b[39;00m\n\u001b[0;32m----> 2\u001b[0m \u001b[38;5;28;01mfrom\u001b[39;00m \u001b[38;5;21;01msklearn\u001b[39;00m\u001b[38;5;21;01m.\u001b[39;00m\u001b[38;5;21;01mmodel_selection\u001b[39;00m \u001b[38;5;28;01mimport\u001b[39;00m train_test_split\n\u001b[1;32m      3\u001b[0m \u001b[38;5;28;01mimport\u001b[39;00m \u001b[38;5;21;01mseaborn\u001b[39;00m \u001b[38;5;28;01mas\u001b[39;00m \u001b[38;5;21;01msns\u001b[39;00m\n\u001b[1;32m      4\u001b[0m \u001b[38;5;28;01mimport\u001b[39;00m \u001b[38;5;21;01mwarnings\u001b[39;00m\n",
      "\u001b[0;31mModuleNotFoundError\u001b[0m: No module named 'sklearn'"
     ]
    }
   ],
   "source": [
    "import pandas as pd\n",
    "from sklearn.model_selection import train_test_split\n",
    "import seaborn as sns\n",
    "import warnings\n",
    "warnings.filterwarnings('ignore')\n",
    "import matplotlib as plt\n",
    "%matplotlib inline\n",
    "from sklearn.model_selection import train_test_split \n",
    "from sklearn.tree import DecisionTreeClassifier\n",
    "from sklearn.ensemble import RandomForestClassifier\n",
    "from sklearn.linear_model import LogisticRegression\n",
    "from sklearn.dummy import DummyClassifier\n",
    "from sklearn.metrics import accuracy_score\n",
    "from sklearn.preprocessing import OneHotEncoder"
   ]
  },
  {
   "cell_type": "markdown",
   "metadata": {},
   "source": [
    "## Подготовка данных"
   ]
  },
  {
   "cell_type": "markdown",
   "metadata": {},
   "source": [
    "### Проверим и заменим пропуски"
   ]
  },
  {
   "cell_type": "markdown",
   "metadata": {},
   "source": [
    "Загрузим данные и сразу посмотрим на типы и пропуски"
   ]
  },
  {
   "cell_type": "code",
   "execution_count": null,
   "metadata": {},
   "outputs": [],
   "source": [
    "data = pd.read_csv('Churn.csv')\n",
    "data.info()"
   ]
  },
  {
   "cell_type": "code",
   "execution_count": 2,
   "metadata": {},
   "outputs": [
    {
     "name": "stdout",
     "output_type": "stream",
     "text": [
      "ERROR: unknown command \"sklearn\" - maybe you meant \"search\"\n",
      "Note: you may need to restart the kernel to use updated packages.\n"
     ]
    }
   ],
   "source": [
    "pip sklearn install"
   ]
  },
  {
   "cell_type": "markdown",
   "metadata": {},
   "source": [
    "В признаке ``Tenure`` 909 пропущенных значений. Их можно заменить, но надо понять чем. Посмотрим гистограмму и выбросы."
   ]
  },
  {
   "cell_type": "code",
   "execution_count": null,
   "metadata": {},
   "outputs": [],
   "source": [
    "sns.histplot(data.Tenure)"
   ]
  },
  {
   "cell_type": "code",
   "execution_count": null,
   "metadata": {},
   "outputs": [],
   "source": [
    "sns.boxplot(data.Tenure).plot()\n",
    "data.Tenure.describe()"
   ]
  },
  {
   "cell_type": "markdown",
   "metadata": {},
   "source": [
    "Выбросов нет, стандартное отклонение минимальное. Можно заменять средним."
   ]
  },
  {
   "cell_type": "code",
   "execution_count": null,
   "metadata": {},
   "outputs": [],
   "source": [
    "data.Tenure = data.Tenure.fillna(data.Tenure.mean()) # заполним пропуски средним\n",
    "data.Tenure.isna().sum() # убедимся что пропусков не осталось"
   ]
  },
  {
   "cell_type": "markdown",
   "metadata": {},
   "source": [
    "### Разделим выборку на обучающую, валидационную и тестовую. "
   ]
  },
  {
   "cell_type": "code",
   "execution_count": null,
   "metadata": {},
   "outputs": [],
   "source": [
    "features = data.drop(['RowNumber', 'CustomerId', 'Surname', 'Exited'], axis=1)\n",
    "target = data['Exited']\n",
    "\n",
    "features_train, features_testvalid, target_train, target_testvalid = \\\n",
    "train_test_split(features, target, test_size=0.4, random_state=12345)\n",
    "\n",
    "features_test, features_valid, target_test, target_valid = \\\n",
    "train_test_split(features_testvalid, target_testvalid, test_size=0.5, random_state=12345)\n",
    "print(features_train.shape)\n",
    "print(features_valid.shape) \n",
    "print(features_test.shape) \n",
    "features_train"
   ]
  },
  {
   "cell_type": "code",
   "execution_count": null,
   "metadata": {},
   "outputs": [],
   "source": [
    "encoder = OneHotEncoder(handle_unknown='ignore')\n",
    "encoder_data = pd.DataFrame(encoder.fit_transform(features_train[['Geography', 'Gender']]).toarray())\n",
    "column_names = encoder.get_feature_names(['Geography', 'Gender'])\n",
    "encoder_data.columns = column_names\n",
    "features_train = features_train.join(encoder_data)\n",
    "features_train"
   ]
  },
  {
   "cell_type": "markdown",
   "metadata": {},
   "source": [
    "## Исследование задачи"
   ]
  },
  {
   "cell_type": "markdown",
   "metadata": {},
   "source": [
    "## Борьба с дисбалансом"
   ]
  },
  {
   "cell_type": "code",
   "execution_count": null,
   "metadata": {},
   "outputs": [],
   "source": []
  },
  {
   "cell_type": "markdown",
   "metadata": {},
   "source": [
    "## Тестирование модели"
   ]
  },
  {
   "cell_type": "code",
   "execution_count": null,
   "metadata": {},
   "outputs": [],
   "source": []
  },
  {
   "cell_type": "markdown",
   "metadata": {},
   "source": [
    "## Чек-лист готовности проекта"
   ]
  },
  {
   "cell_type": "markdown",
   "metadata": {},
   "source": [
    "Поставьте 'x' в выполненных пунктах. Далее нажмите Shift+Enter."
   ]
  },
  {
   "cell_type": "markdown",
   "metadata": {},
   "source": [
    "- [x]  Jupyter Notebook открыт\n",
    "- [ ]  Весь код выполняется без ошибок\n",
    "- [ ]  Ячейки с кодом расположены в порядке исполнения\n",
    "- [ ]  Выполнен шаг 1: данные подготовлены\n",
    "- [ ]  Выполнен шаг 2: задача исследована\n",
    "    - [ ]  Исследован баланс классов\n",
    "    - [ ]  Изучены модели без учёта дисбаланса\n",
    "    - [ ]  Написаны выводы по результатам исследования\n",
    "- [ ]  Выполнен шаг 3: учтён дисбаланс\n",
    "    - [ ]  Применено несколько способов борьбы с дисбалансом\n",
    "    - [ ]  Написаны выводы по результатам исследования\n",
    "- [ ]  Выполнен шаг 4: проведено тестирование\n",
    "- [ ]  Удалось достичь *F1*-меры не менее 0.59\n",
    "- [ ]  Исследована метрика *AUC-ROC*"
   ]
  },
  {
   "cell_type": "code",
   "execution_count": null,
   "metadata": {},
   "outputs": [],
   "source": []
  }
 ],
 "metadata": {
  "ExecuteTimeLog": [
   {
    "duration": 1000,
    "start_time": "2022-12-20T11:39:44.296Z"
   },
   {
    "duration": 84,
    "start_time": "2022-12-20T11:39:45.766Z"
   },
   {
    "duration": 144,
    "start_time": "2022-12-20T11:39:54.252Z"
   },
   {
    "duration": 46,
    "start_time": "2022-12-20T11:40:29.739Z"
   },
   {
    "duration": 8,
    "start_time": "2022-12-20T11:42:40.618Z"
   },
   {
    "duration": 69,
    "start_time": "2022-12-20T11:43:05.913Z"
   },
   {
    "duration": 13676,
    "start_time": "2022-12-20T11:43:23.998Z"
   },
   {
    "duration": 1230,
    "start_time": "2022-12-20T11:43:55.884Z"
   },
   {
    "duration": 18431,
    "start_time": "2022-12-20T11:44:47.737Z"
   },
   {
    "duration": 2096,
    "start_time": "2022-12-20T11:45:25.341Z"
   },
   {
    "duration": 18088,
    "start_time": "2022-12-20T11:45:27.439Z"
   },
   {
    "duration": 18406,
    "start_time": "2022-12-20T11:46:09.161Z"
   },
   {
    "duration": 12,
    "start_time": "2022-12-20T11:56:44.225Z"
   },
   {
    "duration": 8981,
    "start_time": "2022-12-20T12:26:37.096Z"
   },
   {
    "duration": 8409,
    "start_time": "2022-12-20T12:27:35.919Z"
   },
   {
    "duration": 8459,
    "start_time": "2022-12-20T12:27:49.042Z"
   },
   {
    "duration": 8510,
    "start_time": "2022-12-20T13:15:26.575Z"
   },
   {
    "duration": 8720,
    "start_time": "2022-12-20T13:15:57.504Z"
   },
   {
    "duration": 177,
    "start_time": "2022-12-20T13:17:50.177Z"
   },
   {
    "duration": 3,
    "start_time": "2022-12-20T13:17:55.130Z"
   },
   {
    "duration": 8364,
    "start_time": "2022-12-20T13:17:58.680Z"
   },
   {
    "duration": 1889,
    "start_time": "2022-12-20T13:18:38.171Z"
   },
   {
    "duration": 20162,
    "start_time": "2022-12-20T13:18:40.062Z"
   },
   {
    "duration": 36,
    "start_time": "2022-12-20T13:19:00.226Z"
   },
   {
    "duration": 19406,
    "start_time": "2022-12-20T13:19:00.265Z"
   },
   {
    "duration": 21,
    "start_time": "2022-12-20T13:22:11.414Z"
   },
   {
    "duration": 1133,
    "start_time": "2022-12-20T15:15:07.733Z"
   },
   {
    "duration": 89,
    "start_time": "2022-12-20T15:15:11.303Z"
   },
   {
    "duration": 40,
    "start_time": "2022-12-20T15:15:27.713Z"
   },
   {
    "duration": 49,
    "start_time": "2022-12-20T15:15:33.430Z"
   },
   {
    "duration": 9,
    "start_time": "2022-12-20T15:17:31.177Z"
   },
   {
    "duration": 446,
    "start_time": "2022-12-20T15:17:34.701Z"
   },
   {
    "duration": 24,
    "start_time": "2022-12-20T15:18:40.969Z"
   },
   {
    "duration": 21,
    "start_time": "2022-12-20T15:20:11.039Z"
   },
   {
    "duration": 9,
    "start_time": "2022-12-20T15:20:19.929Z"
   },
   {
    "duration": 9,
    "start_time": "2022-12-20T15:20:45.884Z"
   },
   {
    "duration": 3,
    "start_time": "2022-12-20T15:20:52.419Z"
   },
   {
    "duration": 8,
    "start_time": "2022-12-20T15:20:57.864Z"
   },
   {
    "duration": 185,
    "start_time": "2022-12-20T15:21:19.981Z"
   },
   {
    "duration": 152,
    "start_time": "2022-12-20T15:22:41.076Z"
   },
   {
    "duration": 126,
    "start_time": "2022-12-20T15:23:16.221Z"
   },
   {
    "duration": 79,
    "start_time": "2022-12-20T15:23:22.986Z"
   },
   {
    "duration": 11,
    "start_time": "2022-12-20T15:25:11.944Z"
   },
   {
    "duration": 14,
    "start_time": "2022-12-20T15:25:21.397Z"
   },
   {
    "duration": 3,
    "start_time": "2022-12-20T15:25:35.109Z"
   },
   {
    "duration": 155,
    "start_time": "2022-12-20T15:25:39.110Z"
   },
   {
    "duration": 105,
    "start_time": "2022-12-20T15:26:03.910Z"
   },
   {
    "duration": 2,
    "start_time": "2022-12-20T15:26:28.117Z"
   },
   {
    "duration": 112,
    "start_time": "2022-12-20T15:26:33.537Z"
   },
   {
    "duration": 4,
    "start_time": "2022-12-20T15:29:40.116Z"
   },
   {
    "duration": 90,
    "start_time": "2022-12-20T15:29:44.066Z"
   },
   {
    "duration": 82,
    "start_time": "2022-12-20T15:29:48.334Z"
   },
   {
    "duration": 85,
    "start_time": "2022-12-20T15:30:50.374Z"
   },
   {
    "duration": 73,
    "start_time": "2022-12-20T15:30:56.710Z"
   },
   {
    "duration": 90,
    "start_time": "2022-12-20T15:31:02.277Z"
   },
   {
    "duration": 89,
    "start_time": "2022-12-20T15:31:07.027Z"
   },
   {
    "duration": 97,
    "start_time": "2022-12-20T15:31:11.557Z"
   },
   {
    "duration": 92,
    "start_time": "2022-12-20T15:31:14.155Z"
   },
   {
    "duration": 90,
    "start_time": "2022-12-20T15:31:25.477Z"
   },
   {
    "duration": 93,
    "start_time": "2022-12-20T15:31:44.294Z"
   },
   {
    "duration": 4,
    "start_time": "2022-12-20T15:33:31.347Z"
   },
   {
    "duration": 6,
    "start_time": "2022-12-20T15:33:49.117Z"
   },
   {
    "duration": 7,
    "start_time": "2022-12-20T15:34:00.147Z"
   },
   {
    "duration": 6,
    "start_time": "2022-12-20T15:34:11.107Z"
   },
   {
    "duration": 62,
    "start_time": "2022-12-20T15:35:00.735Z"
   },
   {
    "duration": 6,
    "start_time": "2022-12-20T15:37:26.453Z"
   },
   {
    "duration": 21,
    "start_time": "2022-12-20T15:37:40.302Z"
   },
   {
    "duration": 13,
    "start_time": "2022-12-20T15:37:52.187Z"
   },
   {
    "duration": 7,
    "start_time": "2022-12-20T15:38:01.456Z"
   },
   {
    "duration": 119,
    "start_time": "2022-12-20T15:42:23.784Z"
   },
   {
    "duration": 9,
    "start_time": "2022-12-20T15:45:41.822Z"
   },
   {
    "duration": 10,
    "start_time": "2022-12-20T15:46:41.365Z"
   },
   {
    "duration": 12,
    "start_time": "2022-12-20T15:47:05.636Z"
   },
   {
    "duration": 10,
    "start_time": "2022-12-20T15:47:13.582Z"
   },
   {
    "duration": 10,
    "start_time": "2022-12-20T15:47:18.997Z"
   },
   {
    "duration": 9,
    "start_time": "2022-12-20T15:47:22.390Z"
   },
   {
    "duration": 10,
    "start_time": "2022-12-20T15:47:26.551Z"
   },
   {
    "duration": 10,
    "start_time": "2022-12-20T15:47:44.404Z"
   },
   {
    "duration": 12,
    "start_time": "2022-12-20T15:47:49.749Z"
   },
   {
    "duration": 11,
    "start_time": "2022-12-20T15:47:54.404Z"
   },
   {
    "duration": 5,
    "start_time": "2022-12-20T16:07:31.965Z"
   },
   {
    "duration": 4,
    "start_time": "2022-12-20T16:11:20.100Z"
   },
   {
    "duration": 3,
    "start_time": "2022-12-20T16:11:22.204Z"
   },
   {
    "duration": 9,
    "start_time": "2022-12-20T16:15:34.496Z"
   },
   {
    "duration": 21,
    "start_time": "2022-12-20T16:15:44.308Z"
   },
   {
    "duration": 17,
    "start_time": "2022-12-20T16:15:58.324Z"
   },
   {
    "duration": 11,
    "start_time": "2022-12-20T16:16:17.978Z"
   },
   {
    "duration": 23,
    "start_time": "2022-12-20T16:18:58.392Z"
   },
   {
    "duration": 11,
    "start_time": "2022-12-20T16:19:10.349Z"
   },
   {
    "duration": 19,
    "start_time": "2022-12-20T16:19:16.137Z"
   },
   {
    "duration": 35,
    "start_time": "2022-12-20T16:20:12.307Z"
   },
   {
    "duration": 13,
    "start_time": "2022-12-20T16:20:50.823Z"
   },
   {
    "duration": 33,
    "start_time": "2022-12-20T16:21:04.004Z"
   },
   {
    "duration": 23,
    "start_time": "2022-12-20T16:21:30.864Z"
   },
   {
    "duration": 22,
    "start_time": "2022-12-20T16:21:48.294Z"
   },
   {
    "duration": 38,
    "start_time": "2022-12-20T16:21:53.936Z"
   },
   {
    "duration": 28,
    "start_time": "2022-12-20T16:22:48.663Z"
   },
   {
    "duration": 36,
    "start_time": "2022-12-20T16:24:15.933Z"
   },
   {
    "duration": 19,
    "start_time": "2022-12-20T16:25:19.685Z"
   },
   {
    "duration": 15,
    "start_time": "2022-12-20T16:25:25.086Z"
   },
   {
    "duration": 23,
    "start_time": "2022-12-20T16:25:47.894Z"
   },
   {
    "duration": 14,
    "start_time": "2022-12-20T16:25:51.552Z"
   },
   {
    "duration": 26,
    "start_time": "2022-12-20T16:25:55.444Z"
   },
   {
    "duration": 21,
    "start_time": "2022-12-20T16:30:26.524Z"
   },
   {
    "duration": 24,
    "start_time": "2022-12-20T16:30:52.233Z"
   },
   {
    "duration": 16,
    "start_time": "2022-12-20T16:30:56.710Z"
   },
   {
    "duration": 18,
    "start_time": "2022-12-20T16:31:19.434Z"
   },
   {
    "duration": 24,
    "start_time": "2022-12-20T16:31:26.756Z"
   },
   {
    "duration": 16,
    "start_time": "2022-12-20T16:31:28.775Z"
   },
   {
    "duration": 12,
    "start_time": "2022-12-20T16:31:41.205Z"
   },
   {
    "duration": 16,
    "start_time": "2022-12-20T16:31:57.575Z"
   },
   {
    "duration": 10,
    "start_time": "2022-12-20T16:34:47.316Z"
   },
   {
    "duration": 9,
    "start_time": "2022-12-20T16:35:33.074Z"
   },
   {
    "duration": 12,
    "start_time": "2022-12-20T16:36:01.634Z"
   },
   {
    "duration": 16,
    "start_time": "2022-12-20T16:36:28.502Z"
   },
   {
    "duration": 17,
    "start_time": "2022-12-20T16:39:21.034Z"
   },
   {
    "duration": 9,
    "start_time": "2022-12-20T16:39:37.114Z"
   },
   {
    "duration": 16,
    "start_time": "2022-12-20T16:41:02.419Z"
   },
   {
    "duration": 13,
    "start_time": "2022-12-20T16:41:09.276Z"
   },
   {
    "duration": 11,
    "start_time": "2022-12-20T16:41:33.108Z"
   },
   {
    "duration": 12,
    "start_time": "2022-12-20T16:42:00.829Z"
   },
   {
    "duration": 26,
    "start_time": "2022-12-20T16:42:16.708Z"
   },
   {
    "duration": 32,
    "start_time": "2022-12-20T16:42:54.340Z"
   },
   {
    "duration": 1842,
    "start_time": "2022-12-20T19:04:42.504Z"
   },
   {
    "duration": 147,
    "start_time": "2022-12-20T19:04:44.349Z"
   },
   {
    "duration": 266,
    "start_time": "2022-12-20T19:04:44.499Z"
   },
   {
    "duration": 147,
    "start_time": "2022-12-20T19:04:44.774Z"
   },
   {
    "duration": 9,
    "start_time": "2022-12-20T19:04:44.923Z"
   },
   {
    "duration": 162,
    "start_time": "2022-12-20T19:04:44.934Z"
   },
   {
    "duration": 53,
    "start_time": "2022-12-20T19:04:45.098Z"
   },
   {
    "duration": 136,
    "start_time": "2022-12-20T19:05:20.607Z"
   },
   {
    "duration": 22,
    "start_time": "2022-12-20T19:05:24.298Z"
   },
   {
    "duration": 32,
    "start_time": "2022-12-20T19:05:38.711Z"
   }
  ],
  "kernelspec": {
   "display_name": "Python 3 (ipykernel)",
   "language": "python",
   "name": "python3"
  },
  "language_info": {
   "codemirror_mode": {
    "name": "ipython",
    "version": 3
   },
   "file_extension": ".py",
   "mimetype": "text/x-python",
   "name": "python",
   "nbconvert_exporter": "python",
   "pygments_lexer": "ipython3",
   "version": "3.9.13"
  },
  "toc": {
   "base_numbering": 1,
   "nav_menu": {},
   "number_sections": true,
   "sideBar": true,
   "skip_h1_title": true,
   "title_cell": "Содержание",
   "title_sidebar": "Contents",
   "toc_cell": true,
   "toc_position": {
    "height": "calc(100% - 180px)",
    "left": "10px",
    "top": "150px",
    "width": "228.594px"
   },
   "toc_section_display": true,
   "toc_window_display": true
  }
 },
 "nbformat": 4,
 "nbformat_minor": 2
}
