{
 "cells": [
  {
   "cell_type": "code",
   "execution_count": 48,
   "outputs": [],
   "source": [
    "def generate_link(product_id, message, coupon, plan, period, price, campaign):\n",
    "    import http.client\n",
    "    conn = http.client.HTTPSConnection(\"vendors.paddle.com\")\n",
    "    payload = 'vendor_id=33294&vendor_auth_code=ec06637fa38168acbed609c54ed7a0eeee27bd0fcf31591062' \\\n",
    "              f'&product_id={product_id}' \\\n",
    "              f'&custom_message={message}' \\\n",
    "              f'&coupon_code={coupon}' \\\n",
    "              '&discountable=1'\n",
    "\n",
    "    headers = { 'Content-Type': \"application/x-www-form-urlencoded\" }\n",
    "\n",
    "    conn.request(\"POST\", \"/api/2.0/product/generate_pay_link\", payload, headers)\n",
    "\n",
    "    res = conn.getresponse()\n",
    "    data = res.read()\n",
    "\n",
    "    key = str(data.decode('utf-8'))[91:-3]\n",
    "    id = f'id_{product_id}'\n",
    "    plan = f'plan_{plan}'\n",
    "    period = f'period_{period}'\n",
    "    price = f'price_{price}'\n",
    "    utm = f'utm_source=newsletter&utm_medium=email&utm_campaign={campaign}'\n",
    "    return f'https://taketones.com/subscription/secret?{id}&{plan}&{period}&{price}&key_{key}&{utm}'"
   ],
   "metadata": {
    "collapsed": false
   }
  },
  {
   "cell_type": "code",
   "execution_count": 53,
   "outputs": [
    {
     "data": {
      "text/plain": "'https://taketones.com/subscription/secret?id_547685&plan_Creator&period_1-month&price_0&key_eyJ0IjoiQ3JlYXRvciAobW9udGhseSkiLCJpIjoiaHR0cHM6XC9cL3MzLmFtYXpvbmF3cy5jb21cL3BhZGRsZVwvdXNlclwvMzMyOTRcL2QzaWhadVlUUUtwOUd3VkxXaE9nX0NyZWF0b3IucG5nIiwiciI6bnVsbCwiY20iOiJTZWNyZXQgUGxhbiAtIEZyZWUgRmlyc3QgTW9udGgiLCJyZSI6MSwicCI6NTQ3Njg1LCJhbCI6MCwibyI6NTY2Njc4NywicSI6MCwiZCI6IjEiLCJhIjpbXSwidiI6IjMzMjk0IiwicyI6ImUwOGVkMTVmMWQ4ODRjODUyMWFjYTRhZmQ1YzY4YTVjZDBjNTdiMDAzODMxODRjNWI5MjNiOTE0OTRiYTEzNzYxNzBiZjQ5YWIyZDNiYWIxY2RkM2U4ZmUzZTE0NjI0ZWRiOGQxMjI3NjgzZmJkM2VjMTA1NGIwNDU5YTU2MzdkIn0=&utm_source=newsletter&utm_medium=email&utm_campaign=free_download_9'"
     },
     "execution_count": 53,
     "metadata": {},
     "output_type": "execute_result"
    }
   ],
   "source": [
    "# Бесплатный месяц, далее за 19 долларов -> промокод becreative\n",
    "generate_link(547685, 'Secret Plan - Free First Month', 'becreative', 'Creator', '1-month', '0', 'free_download_9')"
   ],
   "metadata": {
    "collapsed": false
   }
  },
  {
   "cell_type": "code",
   "execution_count": 54,
   "outputs": [
    {
     "data": {
      "text/plain": "'https://taketones.com/subscription/secret?id_547685&plan_Creator&period_monthly&price_9&key_eyJ0IjoiQ3JlYXRvciAobW9udGhseSkiLCJpIjoiaHR0cHM6XC9cL3MzLmFtYXpvbmF3cy5jb21cL3BhZGRsZVwvdXNlclwvMzMyOTRcL2QzaWhadVlUUUtwOUd3VkxXaE9nX0NyZWF0b3IucG5nIiwiciI6bnVsbCwiY20iOiJTZWNyZXQgUGxhbiAtIC01MyUgZGlzY291bnQiLCJyZSI6MSwicCI6NTQ3Njg1LCJhbCI6MCwibyI6NDE1MzI5NywicSI6MCwiZCI6IjEiLCJhIjpbXSwidiI6IjMzMjk0IiwicyI6Ijc0Zjk4MDkzMTkyNjNlZWJhNGZhZTQyMWUyYzhjMTJiZDBmZDY2YzlmODNmMDUxOTQwZjNjYTQyYmI5Yzk4ZjEwYmI1NmE3NmNhNzBjY2I4MzVmMThkMmExYzc3NDE3NzQ2YjdiMzYyNzRiYzA0NzgzNmIzZGU3Njk4MDc2YWZjIn0=&utm_source=newsletter&utm_medium=email&utm_campaign=popup_pr9'"
     },
     "execution_count": 54,
     "metadata": {},
     "output_type": "execute_result"
    }
   ],
   "source": [
    "# Скидка 53 процентов, рекуррентный промокод deletelimit\n",
    "generate_link(547685, 'Secret Plan - -53% discount', 'deletelimit', 'Creator', 'monthly', '9', 'popup_pr9')"
   ],
   "metadata": {
    "collapsed": false
   }
  },
  {
   "cell_type": "code",
   "execution_count": null,
   "outputs": [],
   "source": [],
   "metadata": {
    "collapsed": false
   }
  }
 ],
 "metadata": {
  "kernelspec": {
   "display_name": "Python 3",
   "language": "python",
   "name": "python3"
  },
  "language_info": {
   "codemirror_mode": {
    "name": "ipython",
    "version": 2
   },
   "file_extension": ".py",
   "mimetype": "text/x-python",
   "name": "python",
   "nbconvert_exporter": "python",
   "pygments_lexer": "ipython2",
   "version": "2.7.6"
  }
 },
 "nbformat": 4,
 "nbformat_minor": 0
}
